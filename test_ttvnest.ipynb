{
 "cells": [
  {
   "cell_type": "markdown",
   "metadata": {},
   "source": [
    "In this tutorial, we're going to attempt to estimate the mass of the planets in the Kepler-29 system from TTVs, comparing to the results of Jontof-Hutter et al. (2016). From Table 4, Test 3 of that paper (which also uses the Holczer catalog), we're looking for a dynamical masses of 3.3(+1.8)(-1.7) and 2.6(+1.4)(-1.3), respectively (where the error bars represent 1sigma credible intervals)."
   ]
  },
  {
   "cell_type": "markdown",
   "metadata": {},
   "source": [
    "First, we'll set everything up and import ttvnest:"
   ]
  },
  {
   "cell_type": "code",
   "execution_count": null,
   "metadata": {},
   "outputs": [],
   "source": [
    "%matplotlib inline\n",
    "import numpy as np\n",
    "import ttvnest\n",
    "import scipy"
   ]
  },
  {
   "cell_type": "markdown",
   "metadata": {},
   "source": [
    "Now, let's download the data for Kepler-29 (KOI-738) from the Holczer et al. (2016) catalog:"
   ]
  },
  {
   "cell_type": "code",
   "execution_count": null,
   "metadata": {},
   "outputs": [],
   "source": [
    "koi = 738\n",
    "nplanets = 2\n",
    "catfile = 'ttvnest/holczer2016.txt'\n",
    "data, errs = ttvnest.load_holczer.get_data(catfile, koi, nplanets)"
   ]
  },
  {
   "cell_type": "markdown",
   "metadata": {},
   "source": [
    "Next, we need to define the prior transform. Nested sampling methods typically sample on the unit cube (from 0 to 1 in all dimensions), so we need a way to map that into our preferred prior space. Eventually, I'll try to abstract the prior transform away from the user."
   ]
  },
  {
   "cell_type": "code",
   "execution_count": null,
   "metadata": {},
   "outputs": [],
   "source": [
    "#defining the prior transform\n",
    "\n",
    "def prior_transform(u):\n",
    "\tx = np.array(u) #copy u\n",
    "\t#planet 1\n",
    "\tx[0] = 10.*u[0] #uniform on [0, 10) earth masses\n",
    "\tx[1] = scipy.stats.norm.ppf(u[1], 10.33585, 0.01)  #gaussian around 10.33585 with a width of 0.01\n",
    "\tx[2] = scipy.stats.norm.ppf(u[2], 0, 0.1) #gaussian around 0 with a width of 0.1\n",
    "\tx[3] = scipy.stats.norm.ppf(u[3], 0, 0.1) #gaussian around 0 with a width of 0.1\n",
    "\tx[4] = (u[4] % 1.) * 360. #periodic on [0, 360) degrees\n",
    "\t#planet 2\n",
    "\tx[5] = 10.*u[5] #uniform on [0, 10) earth masses\n",
    "\tx[6] = scipy.stats.norm.ppf(u[6], 13.29292, 0.01) #gaussian around 13.29292 with a width of 0.01\n",
    "\tx[7] = scipy.stats.norm.ppf(u[7], 0, 0.1) #gaussian around 0 with a width of 0.1\n",
    "\tx[8] = scipy.stats.norm.ppf(u[8], 0, 0.1) #gaussian around 0 with a width of 0.1\n",
    "\tx[9] = (u[9] % 1.) * 360. #periodic on [0, 360) degrees\n",
    "\treturn x"
   ]
  },
  {
   "cell_type": "markdown",
   "metadata": {},
   "source": [
    "Finally, we sample the posteriors!"
   ]
  },
  {
   "cell_type": "code",
   "execution_count": null,
   "metadata": {},
   "outputs": [],
   "source": [
    "%time results = ttvnest.retrieval.retrieve(nplanets, prior_transform, data, errs)"
   ]
  },
  {
   "cell_type": "markdown",
   "metadata": {},
   "source": [
    "Let's now see a summary of our results:"
   ]
  },
  {
   "cell_type": "code",
   "execution_count": null,
   "metadata": {},
   "outputs": [],
   "source": [
    "ttvnest.retrieval.posterior_summary(results)"
   ]
  },
  {
   "cell_type": "markdown",
   "metadata": {},
   "source": [
    "And let's plot the result, as well as the corner plot, a summary of the run, and the dynesty trace plot."
   ]
  },
  {
   "cell_type": "code",
   "execution_count": null,
   "metadata": {},
   "outputs": [],
   "source": [
    "ttvnest.plot_utils.plot_results(results, data, errs)\n",
    "ttvnest.plot_utils.dynesty_plots(results, nplanets)"
   ]
  },
  {
   "cell_type": "markdown",
   "metadata": {},
   "source": [
    "Let's make sure to save our results! The results will be saved in a file called 'results.p' by default, but you can change that with the \"outname\" keyword for save_results."
   ]
  },
  {
   "cell_type": "code",
   "execution_count": null,
   "metadata": {},
   "outputs": [],
   "source": [
    "ttvnest.io_utils.save_results(results)"
   ]
  }
 ],
 "metadata": {
  "kernelspec": {
   "display_name": "Python 3",
   "language": "python",
   "name": "python3"
  },
  "language_info": {
   "codemirror_mode": {
    "name": "ipython",
    "version": 3
   },
   "file_extension": ".py",
   "mimetype": "text/x-python",
   "name": "python",
   "nbconvert_exporter": "python",
   "pygments_lexer": "ipython3",
   "version": "3.7.0"
  }
 },
 "nbformat": 4,
 "nbformat_minor": 2
}
