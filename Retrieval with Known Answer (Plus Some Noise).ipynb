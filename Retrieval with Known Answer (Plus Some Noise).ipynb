{
 "cells": [
  {
   "cell_type": "markdown",
   "metadata": {},
   "source": [
    "# Retrieval with Known Answer (Plus Some Noise)\n",
    "\n",
    "In this notebook (which is a near-copy of \"Retrieval with Known Answer\"), we will set up a simulated TTV system, where the answer is known. We will add some noise to this data, and sample it randomly. We will then run `ttvnest` on the final simulated data and verify that we recover a good solution. First, we import necessary packages:"
   ]
  },
  {
   "cell_type": "code",
   "execution_count": 1,
   "metadata": {},
   "outputs": [
    {
     "name": "stderr",
     "output_type": "stream",
     "text": [
      "WARNING: AstropyDeprecationWarning: astropy.extern.six will be removed in 4.0, use the six module directly if it is still needed [astropy.extern.six]\n"
     ]
    }
   ],
   "source": [
    "import ttvnest\n",
    "import numpy as np"
   ]
  },
  {
   "cell_type": "markdown",
   "metadata": {},
   "source": [
    "Now we set up our simulation by running a forward model on a dummy `ttvnest` simulation. This is a two planet system in which both planets transit. Planet one has $$M_1/M_\\star = 4\\ M_\\mathrm{Earth}/M_\\mathrm{Sun}, P_1 = 10.0\\ \\mathrm{days}, e_1\\cos\\omega_1 = 0.02, e_1\\sin\\omega_1 = 0.01, T_{0,1} = 2.0\\ \\mathrm{days}.$$ Planet two has $$M_2/M_\\star = 6\\ M_\\mathrm{Earth}/M_\\mathrm{Sun}, P_2 = 15.2\\ \\mathrm{days}, e_2\\cos\\omega_2 = 0.025, e_2\\sin\\omega_2 = 0.015, T_{0,2} = 5.0\\ \\mathrm{days}.$$ By default, the planets are set to be coplanar. Notice that the system is close to a 3:2 mean-motion resonance, so that we get a nice-looking TTV curve. Note also that, by default, the time system here is referenced to BJD - 2454900 (such that $T_{0,1}$ is at BJD = 2454902.0, for example). This can be changed by changing the `start_time` variable when initializing a `TTVSystem`. In this simple test, the data are homoskedastic with $\\sigma = 2\\times10^{-4}$ days = 0.288 min."
   ]
  },
  {
   "cell_type": "code",
   "execution_count": 2,
   "metadata": {},
   "outputs": [],
   "source": [
    "theta = [4., 10., 0.02, 0.01, 2., 6., 15.2, 0.025, 0.015, 5.]\n",
    "perturbation_scale = 2e-4\n",
    "\n",
    "planet_a = ttvnest.TTVPlanet([2.], [1.], [0]) #these are dummy arrays for the ttvs, errors, and observation epochs\n",
    "planet_b = ttvnest.TTVPlanet([5.], [1.], [0]) #these are dummy arrays for the ttvs, errors, and observation epochs\n",
    "system = ttvnest.TTVSystem(planet_a, planet_b)\n",
    "\n",
    "data = system.forward_model(theta) #runs for 1000 days by default\n",
    "perturbation = [np.random.normal(0., perturbation_scale, arr.shape) for arr in data]\n",
    "data += perturbation\n",
    "errs = [np.ones(arr.shape)*perturbation_scale for arr in data]\n",
    "epochs = [np.arange(len(arr)) for arr in data]\n",
    "\n",
    "#uneven sampling\n",
    "for i in range(49):\n",
    "    selection = np.random.randint(0, len(data[0]) - 1)\n",
    "    data[0] = np.delete(data[0], selection)\n",
    "    errs[0] = np.delete(errs[0], selection)\n",
    "    epochs[0] = np.delete(epochs[0], selection)\n",
    "    \n",
    "for i in range(29):\n",
    "    selection = np.random.randint(0, len(data[1]) - 1)\n",
    "    data[1] = np.delete(data[1], selection)\n",
    "    errs[1] = np.delete(errs[1], selection)\n",
    "    epochs[1] = np.delete(epochs[1], selection)\n",
    "\n",
    "system.data = data\n",
    "system.errs = errs\n",
    "system.epochs = epochs"
   ]
  },
  {
   "cell_type": "markdown",
   "metadata": {},
   "source": [
    "Let's visualize how these TTV data look (when the best-fit period is detrended):"
   ]
  },
  {
   "cell_type": "code",
   "execution_count": 3,
   "metadata": {},
   "outputs": [
    {
     "data": {
      "image/png": "[encoded data removed]",
      "text/plain": [
       "<Figure size 864x576 with 1 Axes>"
      ]
     },
     "metadata": {},
     "output_type": "display_data"
    },
    {
     "data": {
      "image/png": "[encoded data removed]",
      "text/plain": [
       "<Figure size 864x576 with 1 Axes>"
      ]
     },
     "metadata": {},
     "output_type": "display_data"
    }
   ],
   "source": [
    "ttvnest.plot_utils.plot_ttv_data(system)"
   ]
  },
  {
   "cell_type": "markdown",
   "metadata": {},
   "source": [
    "Looks more like real data. Still very visibly anticorrelated TTV signals as we would expect, with chopping thrown in for good measure (the synodic timescale here is $(P_1^{-1} - P_2^{-1})^{-1} = 29.2$ days, so we get chopping on about three epoch timescales for the first planet and about two epoch timescales for the second). Should be a good test case to run a retrieval on!\n",
    "\n",
    "For our retrieval, we set up two ``TTVPlanet`` objects, initialized with arrays of transit timing data, errors, and observation epochs (where the first transit should be epoch 0). This last array is important as it will account for gaps in observation baseline. We can also pretty reliably guess that the average periods are around 10 days and 15.2 days for the planets, so we update the period prior with that knowledge. Finally in this example (to make the run time a bit nicer), we're going to assume someone has done some first-order TTV theory and shown that the masses are probably small, so we'll use a uniform prior between 0 and 10 earth masses (relative to the stellar mass) for both planets. \n",
    "\n",
    "Finally, we put these planets into a ``TTVSystem``. We will let the simulation here run a bit longer than the default 1000 days to be safe (since there are probably transits near that 1000 day mark in the data above that we don't want to mess up). Be aware that increasing ``sim_length`` directly impacts the runtime, though. (The same is true for decreasing the ``TTVFast`` timestep ``dt`` when initializing a ``TTVSystem``; here I've chosen to stick with the default 0.1 day timestep. In general this should not be larger than 1/20 the smallest orbital period in consideration.)"
   ]
  },
  {
   "cell_type": "code",
   "execution_count": 4,
   "metadata": {},
   "outputs": [],
   "source": [
    "planet_a = ttvnest.TTVPlanet(data[0], errs[0], epochs[0], mass_prior = ('Uniform', 0, 10.), \n",
    "                     period_prior = ('Normal', 10., 0.01))\n",
    "planet_b = ttvnest.TTVPlanet(data[1], errs[1], epochs[1], mass_prior = ('Uniform', 0, 10.), \n",
    "                     period_prior = ('Normal', 15.2, 0.01))\n",
    "system = ttvnest.TTVSystem(planet_a, planet_b, sim_length = 1100)"
   ]
  },
  {
   "cell_type": "markdown",
   "metadata": {},
   "source": [
    "Before we run our retrieval, let's check what the theoretical maximum for the log-likelihood is using our known solution:"
   ]
  },
  {
   "cell_type": "code",
   "execution_count": 5,
   "metadata": {},
   "outputs": [
    {
     "data": {
      "text/plain": [
       "627.2462509320534"
      ]
     },
     "execution_count": 5,
     "metadata": {},
     "output_type": "execute_result"
    }
   ],
   "source": [
    "system.log_likelihood(theta, data, errs, epochs)"
   ]
  },
  {
   "cell_type": "markdown",
   "metadata": {},
   "source": [
    "Finally, let's run our retrieval! The ``retrieve`` function takes an argument ``retriever``. The default sampler I've chosen is the ``DynamicNestedSampler`` from ``dynesty``. I support the ``NestedSampler`` from that package as well, but have found the ``DynamicNestedSampler`` to do a better job at estimating the posterior for TTV retrieval problems (as it's designed to do with the right weight and stopping functions). If you pass in any supported keyword arguments for either of the supported nested samplers, the function will pass it on to ``dynesty`` (other non-recognized keyword arguments will be ignored)."
   ]
  },
  {
   "cell_type": "code",
   "execution_count": null,
   "metadata": {},
   "outputs": [
    {
     "name": "stderr",
     "output_type": "stream",
     "text": [
      "833it [00:16, 64.84it/s, batch: 0 | bound: 0 | nc: 1 | ncall: 1240 | eff(%): 37.188 | loglstar:   -inf <   -inf <    inf | logz:   -inf +/- 613.198 | dlogz:    inf >  0.010]"
     ]
    }
   ],
   "source": [
    "results = system.retrieve()"
   ]
  },
  {
   "cell_type": "markdown",
   "metadata": {},
   "source": [
    "We finished with a best log-likelihood of 1261.032, which is pretty close to the theoretical maximum! Let's get a summary of our results in $\\LaTeX$-friendly format:"
   ]
  },
  {
   "cell_type": "code",
   "execution_count": null,
   "metadata": {},
   "outputs": [],
   "source": [
    "system.posterior_summary()"
   ]
  },
  {
   "cell_type": "markdown",
   "metadata": {},
   "source": [
    "The solution above is within the middle 95% of our retrieved posterior. Let's see how the best-fit solution and uncertainty look, for good measure:"
   ]
  },
  {
   "cell_type": "code",
   "execution_count": null,
   "metadata": {},
   "outputs": [],
   "source": [
    "ttvnest.plot_utils.plot_results(system, uncertainty_curves = 100, sim_length = 2000)"
   ]
  },
  {
   "cell_type": "markdown",
   "metadata": {},
   "source": [
    "With a hundred random draws from the posterior, it looks like we have a really solid constraint on the timing curve (even if the best solution we got isn't *exactly* the known answer). \n",
    "\n",
    "Finally, let's look at the corner plots (for viewing the marginalized posteriors) and trace plot (showing the evolution of all parameters over the run) from ``dynesty``:"
   ]
  },
  {
   "cell_type": "code",
   "execution_count": null,
   "metadata": {},
   "outputs": [],
   "source": [
    "ttvnest.plot_utils.dynesty_plots(system, truthvals = theta)"
   ]
  },
  {
   "cell_type": "markdown",
   "metadata": {},
   "source": [
    "Looks like our expected solution really does fall inside our posterior!"
   ]
  }
 ],
 "metadata": {
  "kernelspec": {
   "display_name": "Python 3",
   "language": "python",
   "name": "python3"
  },
  "language_info": {
   "codemirror_mode": {
    "name": "ipython",
    "version": 3
   },
   "file_extension": ".py",
   "mimetype": "text/x-python",
   "name": "python",
   "nbconvert_exporter": "python",
   "pygments_lexer": "ipython3",
   "version": "3.7.0"
  }
 },
 "nbformat": 4,
 "nbformat_minor": 2
}
