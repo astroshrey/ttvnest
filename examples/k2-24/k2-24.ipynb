{
 "cells": [
  {
   "cell_type": "markdown",
   "metadata": {},
   "source": [
    "# TTV Retrieval for K2-24 (a sparsely sampled TTV system from *K2*)\n",
    "\n",
    "In this notebook, we will perform a dynamical retrieval for K2-24. This system is fairly representative of those observed by *K2* (and subsequent follow-up) in that the TTV phase coverage is relatively non-uniform compared to that of the *Kepler* TTV planets. But, as shown by Petigura et al. (2019), we can still place constraints on the masses! First, let's import packages and download data:"
   ]
  },
  {
   "cell_type": "code",
   "execution_count": 1,
   "metadata": {},
   "outputs": [],
   "source": [
    "%matplotlib inline\n",
    "import ttvnest\n",
    "import numpy as np\n",
    "import pandas as pd\n",
    "\n",
    "data = []\n",
    "errs = []\n",
    "epochs = []\n",
    "\n",
    "#reading in from Erik Petigura's paper data\n",
    "fname = 'petigura_times.txt'\n",
    "df = pd.read_csv(fname, sep = '\\t', skiprows = 5, skipfooter = 1, engine = 'python')\n",
    "arr = np.array(df)\n",
    "for planet in ['b', 'c']:\n",
    "    subarr = arr[np.where(arr[:,1] == planet)]\n",
    "    data.append(np.array(subarr[:,3], dtype = 'float'))\n",
    "    errs.append(np.array(subarr[:,4], dtype = 'float'))\n",
    "    epochs.append(np.array(subarr[:,2], dtype = 'int'))"
   ]
  },
  {
   "cell_type": "markdown",
   "metadata": {},
   "source": [
    "Now, let's set up the ttvnest system. I note that Petigura et al. (2016) analyzed the RVs for the system and got masses well below 100 Earth masses, so we'll set the prior limits there. For the prior on orbital period, I'll use the light curve constraints on the period from that earlier paper as well, extending out to $\\pm100\\sigma$:"
   ]
  },
  {
   "cell_type": "code",
   "execution_count": 2,
   "metadata": {},
   "outputs": [
    {
     "name": "stdout",
     "output_type": "stream",
     "text": [
      "Simulation start/reference time:  2070.0\n",
      "ttvnest timestep:  0.8342040000000001\n",
      "Simulation length:  653.0\n",
      "Simulation end time:  2723.0\n"
     ]
    }
   ],
   "source": [
    "k2_24_b = ttvnest.TTVPlanet(data[0], errs[0], epochs[0], mass_prior = ('Normal', 48./3, 9./3), \n",
    "                               period_prior = ('Uniform', 20.8851 - 100*0.0003, 20.8851 + 100*0.0003),\n",
    "                               h_prime_prior = ('Normal', 0., np.sqrt(0.15)),\n",
    "                               k_prime_prior = ('Normal', 0., np.sqrt(0.15))\n",
    "                              )\n",
    "\n",
    "k2_24_c = ttvnest.TTVPlanet(data[1], errs[1], epochs[1], mass_prior = ('Normal', 53./3, 11./3), \n",
    "                               period_prior = ('Uniform', 42.3633 - 100*0.0006, 42.3633 + 100*0.0006),\n",
    "                               h_prime_prior = ('Normal', 0., np.sqrt(0.15)),\n",
    "                               k_prime_prior = ('Normal', 0., np.sqrt(0.15))\n",
    "                           )\n",
    "\n",
    "k2_24 = ttvnest.TTVSystem(k2_24_b, k2_24_c)"
   ]
  },
  {
   "cell_type": "markdown",
   "metadata": {},
   "source": [
    "Before retrieval, let's plot the data alone to see what they look like: "
   ]
  },
  {
   "cell_type": "code",
   "execution_count": 3,
   "metadata": {},
   "outputs": [
    {
     "data": {
      "image/png": "[encoded data removed]",
      "text/plain": [
       "<Figure size 864x576 with 1 Axes>"
      ]
     },
     "metadata": {},
     "output_type": "display_data"
    },
    {
     "data": {
      "image/png": "[encoded data removed]",
      "text/plain": [
       "<Figure size 864x576 with 1 Axes>"
      ]
     },
     "metadata": {},
     "output_type": "display_data"
    }
   ],
   "source": [
    "ttvnest.plot_utils.plot_ttv_data(k2_24)"
   ]
  },
  {
   "cell_type": "markdown",
   "metadata": {},
   "source": [
    "Let's retrieve:"
   ]
  },
  {
   "cell_type": "code",
   "execution_count": 4,
   "metadata": {},
   "outputs": [
    {
     "name": "stderr",
     "output_type": "stream",
     "text": [
      "203725it [11:04:34,  3.29it/s, batch: 0 | bound: 164 | nc: 100 | ncall: 17063528 | eff(%):  1.193 | loglstar:   -inf < -88.269 <    inf | logz: -112.418 +/-    nan | dlogz: 140.564 >  0.010]    /usr/local/lib/python3.7/site-packages/dynesty/sampling.py:238: UserWarning: Random walk proposals appear to be extremely inefficient. Adjusting the scale-factor accordingly.\n",
      "  warnings.warn(\"Random walk proposals appear to be \"\n",
      "211674it [11:36:45,  1.13it/s, batch: 0 | bound: 172 | nc: 1253 | ncall: 17881289 | eff(%):  1.183 | loglstar:   -inf < -57.224 <    inf | logz: -81.972 +/-    nan | dlogz: 111.546 >  0.010] /usr/local/lib/python3.7/site-packages/dynesty/sampling.py:238: UserWarning: Random walk proposals appear to be extremely inefficient. Adjusting the scale-factor accordingly.\n",
      "  warnings.warn(\"Random walk proposals appear to be \"\n",
      "213718it [11:45:23,  1.21it/s, batch: 0 | bound: 174 | nc: 548 | ncall: 18101379 | eff(%):  1.180 | loglstar:   -inf < -50.335 <    inf | logz: -75.215 +/-    nan | dlogz: 104.585 >  0.010]  /usr/local/lib/python3.7/site-packages/dynesty/sampling.py:238: UserWarning: Random walk proposals appear to be extremely inefficient. Adjusting the scale-factor accordingly.\n",
      "  warnings.warn(\"Random walk proposals appear to be \"\n",
      "219867it [12:11:21,  2.03s/it, batch: 0 | bound: 180 | nc: 2755 | ncall: 18762908 | eff(%):  1.171 | loglstar:   -inf < -32.217 <    inf | logz: -57.467 +/-    nan | dlogz: 87.192 >  0.010]  /usr/local/lib/python3.7/site-packages/dynesty/sampling.py:238: UserWarning: Random walk proposals appear to be extremely inefficient. Adjusting the scale-factor accordingly.\n",
      "  warnings.warn(\"Random walk proposals appear to be \"\n",
      "221928it [12:19:58,  2.41it/s, batch: 0 | bound: 182 | nc: 350 | ncall: 18981822 | eff(%):  1.169 | loglstar:   -inf < -26.621 <    inf | logz: -52.053 +/-    nan | dlogz: 81.852 >  0.010] /usr/local/lib/python3.7/site-packages/dynesty/sampling.py:238: UserWarning: Random walk proposals appear to be extremely inefficient. Adjusting the scale-factor accordingly.\n",
      "  warnings.warn(\"Random walk proposals appear to be \"\n",
      "224144it [12:29:16,  3.05s/it, batch: 0 | bound: 184 | nc: 4056 | ncall: 19216624 | eff(%):  1.166 | loglstar:   -inf < -21.273 <    inf | logz: -46.788 +/-    nan | dlogz: 76.365 >  0.010]/usr/local/lib/python3.7/site-packages/dynesty/sampling.py:238: UserWarning: Random walk proposals appear to be extremely inefficient. Adjusting the scale-factor accordingly.\n",
      "  warnings.warn(\"Random walk proposals appear to be \"\n",
      "229934it [12:54:03,  4.16it/s, batch: 0 | bound: 189 | nc: 100 | ncall: 19844097 | eff(%):  1.158 | loglstar:   -inf < -8.264 <    inf | logz: -34.232 +/-    nan | dlogz: 64.192 >  0.010]   /usr/local/lib/python3.7/site-packages/dynesty/sampling.py:238: UserWarning: Random walk proposals appear to be extremely inefficient. Adjusting the scale-factor accordingly.\n",
      "  warnings.warn(\"Random walk proposals appear to be \"\n",
      "231702it [13:02:16,  1.10it/s, batch: 0 | bound: 192 | nc: 694 | ncall: 20054057 | eff(%):  1.155 | loglstar:   -inf < -4.768 <    inf | logz: -30.862 +/-    nan | dlogz: 60.644 >  0.010]  /usr/local/lib/python3.7/site-packages/dynesty/sampling.py:238: UserWarning: Random walk proposals appear to be extremely inefficient. Adjusting the scale-factor accordingly.\n",
      "  warnings.warn(\"Random walk proposals appear to be \"\n",
      "233465it [13:10:00,  4.20it/s, batch: 0 | bound: 193 | nc: 100 | ncall: 20250428 | eff(%):  1.152 | loglstar:   -inf < -1.577 <    inf | logz: -27.751 +/-    nan | dlogz: 58.414 >  0.010] /usr/local/lib/python3.7/site-packages/dynesty/sampling.py:238: UserWarning: Random walk proposals appear to be extremely inefficient. Adjusting the scale-factor accordingly.\n",
      "  warnings.warn(\"Random walk proposals appear to be \"\n",
      "235153it [13:17:44,  1.89s/it, batch: 0 | bound: 196 | nc: 1203 | ncall: 20444557 | eff(%):  1.150 | loglstar:   -inf <  1.463 <    inf | logz: -24.887 +/-    nan | dlogz: 55.382 >  0.010] /usr/local/lib/python3.7/site-packages/dynesty/sampling.py:238: UserWarning: Random walk proposals appear to be extremely inefficient. Adjusting the scale-factor accordingly.\n",
      "  warnings.warn(\"Random walk proposals appear to be \"\n",
      "237536it [13:28:15,  2.14it/s, batch: 0 | bound: 198 | nc: 179 | ncall: 20715150 | eff(%):  1.146 | loglstar:   -inf <  5.448 <    inf | logz: -21.055 +/-    nan | dlogz: 51.312 >  0.010]  /usr/local/lib/python3.7/site-packages/dynesty/sampling.py:238: UserWarning: Random walk proposals appear to be extremely inefficient. Adjusting the scale-factor accordingly.\n",
      "  warnings.warn(\"Random walk proposals appear to be \"\n",
      "239239it [13:35:30,  1.72s/it, batch: 0 | bound: 200 | nc: 1998 | ncall: 20898066 | eff(%):  1.144 | loglstar:   -inf <  8.137 <    inf | logz: -18.499 +/-    nan | dlogz: 48.585 >  0.010]/usr/local/lib/python3.7/site-packages/dynesty/sampling.py:238: UserWarning: Random walk proposals appear to be extremely inefficient. Adjusting the scale-factor accordingly.\n",
      "  warnings.warn(\"Random walk proposals appear to be \"\n",
      "241452it [13:45:09,  1.91s/it, batch: 0 | bound: 202 | nc: 100 | ncall: 21137854 | eff(%):  1.142 | loglstar:   -inf < 11.464 <    inf | logz: -15.336 +/-    nan | dlogz: 45.495 >  0.010]  /usr/local/lib/python3.7/site-packages/dynesty/sampling.py:238: UserWarning: Random walk proposals appear to be extremely inefficient. Adjusting the scale-factor accordingly.\n",
      "  warnings.warn(\"Random walk proposals appear to be \"\n",
      "243065it [13:53:02,  4.03it/s, batch: 0 | bound: 203 | nc: 100 | ncall: 21320519 | eff(%):  1.140 | loglstar:   -inf < 13.650 <    inf | logz: -13.217 +/-    nan | dlogz: 43.857 >  0.010] /usr/local/lib/python3.7/site-packages/dynesty/sampling.py:238: UserWarning: Random walk proposals appear to be extremely inefficient. Adjusting the scale-factor accordingly.\n",
      "  warnings.warn(\"Random walk proposals appear to be \"\n",
      "245284it [14:04:27,  3.45s/it, batch: 0 | bound: 206 | nc: 100 | ncall: 21579276 | eff(%):  1.136 | loglstar:   -inf < 16.567 <    inf | logz: -10.436 +/-    nan | dlogz: 41.927 >  0.010]  /usr/local/lib/python3.7/site-packages/dynesty/sampling.py:238: UserWarning: Random walk proposals appear to be extremely inefficient. Adjusting the scale-factor accordingly.\n",
      "  warnings.warn(\"Random walk proposals appear to be \"\n",
      "247435it [14:14:22,  2.92s/it, batch: 0 | bound: 208 | nc: 2778 | ncall: 21804113 | eff(%):  1.134 | loglstar:   -inf < 19.150 <    inf | logz: -7.991 +/-    nan | dlogz: 39.266 >  0.010] /usr/local/lib/python3.7/site-packages/dynesty/sampling.py:238: UserWarning: Random walk proposals appear to be extremely inefficient. Adjusting the scale-factor accordingly.\n",
      "  warnings.warn(\"Random walk proposals appear to be \"\n",
      "249369it [14:23:34,  2.61s/it, batch: 0 | bound: 210 | nc: 116 | ncall: 22036087 | eff(%):  1.131 | loglstar:   -inf < 21.295 <    inf | logz: -5.976 +/-    nan | dlogz: 37.058 >  0.010]  /usr/local/lib/python3.7/site-packages/dynesty/sampling.py:238: UserWarning: Random walk proposals appear to be extremely inefficient. Adjusting the scale-factor accordingly.\n",
      "  warnings.warn(\"Random walk proposals appear to be \"\n",
      "251000it [14:33:29,  5.40s/it, batch: 0 | bound: 212 | nc: 1370 | ncall: 22271619 | eff(%):  1.126 | loglstar:   -inf < 23.128 <    inf | logz: -4.294 +/-    nan | dlogz: 35.213 >  0.010] /usr/local/lib/python3.7/site-packages/dynesty/sampling.py:238: UserWarning: Random walk proposals appear to be extremely inefficient. Adjusting the scale-factor accordingly.\n",
      "  warnings.warn(\"Random walk proposals appear to be \"\n",
      "251001it [14:33:54, 11.39s/it, batch: 0 | bound: 212 | nc: 10102 | ncall: 22281721 | eff(%):  1.126 | loglstar:   -inf < 23.130 <    inf | logz: -4.293 +/-    nan | dlogz: 35.212 >  0.010]/usr/local/lib/python3.7/site-packages/dynesty/sampling.py:216: UserWarning: Random number generation appears to be extremely inefficient. Adjusting the scale-factor accordingly.\n",
      "  warnings.warn(\"Random number generation appears to be \"\n",
      "252365it [14:43:20,  1.53s/it, batch: 0 | bound: 214 | nc: 923 | ncall: 22469463 | eff(%):  1.123 | loglstar:   -inf < 24.580 <    inf | logz: -2.920 +/-    nan | dlogz: 33.963 >  0.010]  /usr/local/lib/python3.7/site-packages/dynesty/sampling.py:238: UserWarning: Random walk proposals appear to be extremely inefficient. Adjusting the scale-factor accordingly.\n",
      "  warnings.warn(\"Random walk proposals appear to be \"\n"
     ]
    },
    {
     "name": "stderr",
     "output_type": "stream",
     "text": [
      "254014it [14:52:42,  2.83s/it, batch: 0 | bound: 216 | nc: 3206 | ncall: 22654924 | eff(%):  1.121 | loglstar:   -inf < 26.129 <    inf | logz: -1.419 +/-    nan | dlogz: 32.297 >  0.010]/usr/local/lib/python3.7/site-packages/dynesty/sampling.py:238: UserWarning: Random walk proposals appear to be extremely inefficient. Adjusting the scale-factor accordingly.\n",
      "  warnings.warn(\"Random walk proposals appear to be \"\n",
      "254027it [14:54:00,  1.16s/it, batch: 0 | bound: 216 | nc: 142 | ncall: 22683068 | eff(%):  1.119 | loglstar:   -inf < 26.138 <    inf | logz: -1.408 +/-    nan | dlogz: 32.284 >  0.010]  /usr/local/lib/python3.7/site-packages/dynesty/sampling.py:216: UserWarning: Random number generation appears to be extremely inefficient. Adjusting the scale-factor accordingly.\n",
      "  warnings.warn(\"Random number generation appears to be \"\n",
      "256923it [15:09:40,  3.94it/s, batch: 0 | bound: 218 | nc: 100 | ncall: 23001658 | eff(%):  1.116 | loglstar:   -inf < 28.793 <    inf | logz:  1.017 +/-    nan | dlogz: 29.749 >  0.010]  /usr/local/lib/python3.7/site-packages/dynesty/sampling.py:238: UserWarning: Random walk proposals appear to be extremely inefficient. Adjusting the scale-factor accordingly.\n",
      "  warnings.warn(\"Random walk proposals appear to be \"\n",
      "258860it [15:40:35,  3.85it/s, batch: 0 | bound: 220 | nc: 100 | ncall: 23218183 | eff(%):  1.114 | loglstar:   -inf < 30.435 <    inf | logz:  2.534 +/-    nan | dlogz: 28.038 >  0.010]  /usr/local/lib/python3.7/site-packages/dynesty/sampling.py:238: UserWarning: Random walk proposals appear to be extremely inefficient. Adjusting the scale-factor accordingly.\n",
      "  warnings.warn(\"Random walk proposals appear to be \"\n",
      "260758it [15:50:44,  4.02it/s, batch: 0 | bound: 222 | nc: 100 | ncall: 23451362 | eff(%):  1.111 | loglstar:   -inf < 32.053 <    inf | logz:  3.958 +/-    nan | dlogz: 26.566 >  0.010]  /usr/local/lib/python3.7/site-packages/dynesty/sampling.py:238: UserWarning: Random walk proposals appear to be extremely inefficient. Adjusting the scale-factor accordingly.\n",
      "  warnings.warn(\"Random walk proposals appear to be \"\n",
      "/usr/local/lib/python3.7/site-packages/dynesty/sampling.py:216: UserWarning: Random number generation appears to be extremely inefficient. Adjusting the scale-factor accordingly.\n",
      "  warnings.warn(\"Random number generation appears to be \"\n",
      "262169it [16:00:00,  2.80s/it, batch: 0 | bound: 225 | nc: 2649 | ncall: 23668024 | eff(%):  1.107 | loglstar:   -inf < 33.145 <    inf | logz:  4.989 +/-    nan | dlogz: 25.393 >  0.010] /usr/local/lib/python3.7/site-packages/dynesty/sampling.py:238: UserWarning: Random walk proposals appear to be extremely inefficient. Adjusting the scale-factor accordingly.\n",
      "  warnings.warn(\"Random walk proposals appear to be \"\n",
      "263657it [16:08:28,  3.98it/s, batch: 0 | bound: 226 | nc: 100 | ncall: 23869651 | eff(%):  1.104 | loglstar:   -inf < 34.230 <    inf | logz:  5.989 +/-    nan | dlogz: 24.287 >  0.010]  /usr/local/lib/python3.7/site-packages/dynesty/sampling.py:238: UserWarning: Random walk proposals appear to be extremely inefficient. Adjusting the scale-factor accordingly.\n",
      "  warnings.warn(\"Random walk proposals appear to be \"\n",
      "/usr/local/lib/python3.7/site-packages/dynesty/sampling.py:216: UserWarning: Random number generation appears to be extremely inefficient. Adjusting the scale-factor accordingly.\n",
      "  warnings.warn(\"Random number generation appears to be \"\n",
      "264758it [16:15:23,  3.79it/s, batch: 0 | bound: 228 | nc: 100 | ncall: 24032303 | eff(%):  1.101 | loglstar:   -inf < 35.003 <    inf | logz:  6.694 +/-    nan | dlogz: 23.473 >  0.010]  /usr/local/lib/python3.7/site-packages/dynesty/sampling.py:238: UserWarning: Random walk proposals appear to be extremely inefficient. Adjusting the scale-factor accordingly.\n",
      "  warnings.warn(\"Random walk proposals appear to be \"\n",
      "266086it [16:22:24,  3.99it/s, batch: 0 | bound: 230 | nc: 100 | ncall: 24200458 | eff(%):  1.099 | loglstar:   -inf < 35.899 <    inf | logz:  7.504 +/-    nan | dlogz: 22.529 >  0.010]  /usr/local/lib/python3.7/site-packages/dynesty/sampling.py:238: UserWarning: Random walk proposals appear to be extremely inefficient. Adjusting the scale-factor accordingly.\n",
      "  warnings.warn(\"Random walk proposals appear to be \"\n",
      "267288it [16:30:35,  3.82it/s, batch: 0 | bound: 232 | nc: 100 | ncall: 24406019 | eff(%):  1.095 | loglstar:   -inf < 36.710 <    inf | logz:  8.217 +/-    nan | dlogz: 21.696 >  0.010]  /usr/local/lib/python3.7/site-packages/dynesty/sampling.py:238: UserWarning: Random walk proposals appear to be extremely inefficient. Adjusting the scale-factor accordingly.\n",
      "  warnings.warn(\"Random walk proposals appear to be \"\n",
      "268888it [16:39:41,  2.29s/it, batch: 0 | bound: 235 | nc: 1387 | ncall: 24621482 | eff(%):  1.092 | loglstar:   -inf < 37.674 <    inf | logz:  9.119 +/-    nan | dlogz: 20.634 >  0.010] /usr/local/lib/python3.7/site-packages/dynesty/sampling.py:238: UserWarning: Random walk proposals appear to be extremely inefficient. Adjusting the scale-factor accordingly.\n",
      "  warnings.warn(\"Random walk proposals appear to be \"\n",
      "270777it [16:48:50,  2.05s/it, batch: 0 | bound: 237 | nc: 2546 | ncall: 24838443 | eff(%):  1.090 | loglstar:   -inf < 38.824 <    inf | logz: 10.102 +/-    nan | dlogz: 19.462 >  0.010] /usr/local/lib/python3.7/site-packages/dynesty/sampling.py:238: UserWarning: Random walk proposals appear to be extremely inefficient. Adjusting the scale-factor accordingly.\n",
      "  warnings.warn(\"Random walk proposals appear to be \"\n",
      "272588it [16:59:02,  3.98it/s, batch: 0 | bound: 238 | nc: 100 | ncall: 25075078 | eff(%):  1.087 | loglstar:   -inf < 39.860 <    inf | logz: 11.016 +/-    nan | dlogz: 18.367 >  0.010]  /usr/local/lib/python3.7/site-packages/dynesty/sampling.py:238: UserWarning: Random walk proposals appear to be extremely inefficient. Adjusting the scale-factor accordingly.\n",
      "  warnings.warn(\"Random walk proposals appear to be \"\n",
      "274107it [17:06:59,  4.02it/s, batch: 0 | bound: 240 | nc: 100 | ncall: 25265365 | eff(%):  1.084 | loglstar:   -inf < 40.673 <    inf | logz: 11.734 +/-    nan | dlogz: 19.007 >  0.010]  /usr/local/lib/python3.7/site-packages/dynesty/sampling.py:238: UserWarning: Random walk proposals appear to be extremely inefficient. Adjusting the scale-factor accordingly.\n",
      "  warnings.warn(\"Random walk proposals appear to be \"\n",
      "275963it [17:16:48,  3.89it/s, batch: 0 | bound: 242 | nc: 100 | ncall: 25500068 | eff(%):  1.082 | loglstar:   -inf < 41.583 <    inf | logz: 12.557 +/-    nan | dlogz: 17.998 >  0.010]  /usr/local/lib/python3.7/site-packages/dynesty/sampling.py:238: UserWarning: Random walk proposals appear to be extremely inefficient. Adjusting the scale-factor accordingly.\n",
      "  warnings.warn(\"Random walk proposals appear to be \"\n",
      "277434it [17:25:42,  2.75s/it, batch: 0 | bound: 245 | nc: 3727 | ncall: 25709052 | eff(%):  1.079 | loglstar:   -inf < 42.295 <    inf | logz: 13.161 +/-    nan | dlogz: 17.247 >  0.010] /usr/local/lib/python3.7/site-packages/dynesty/sampling.py:238: UserWarning: Random walk proposals appear to be extremely inefficient. Adjusting the scale-factor accordingly.\n",
      "  warnings.warn(\"Random walk proposals appear to be \"\n",
      "279254it [17:35:15,  4.22it/s, batch: 0 | bound: 246 | nc: 100 | ncall: 25937753 | eff(%):  1.076 | loglstar:   -inf < 43.145 <    inf | logz: 13.880 +/-    nan | dlogz: 16.347 >  0.010]  /usr/local/lib/python3.7/site-packages/dynesty/sampling.py:238: UserWarning: Random walk proposals appear to be extremely inefficient. Adjusting the scale-factor accordingly.\n",
      "  warnings.warn(\"Random walk proposals appear to be \"\n",
      "280715it [17:43:49,  2.81it/s, batch: 0 | bound: 248 | nc: 100 | ncall: 26146803 | eff(%):  1.073 | loglstar:   -inf < 43.801 <    inf | logz: 14.427 +/-    nan | dlogz: 15.654 >  0.010]  /usr/local/lib/python3.7/site-packages/dynesty/sampling.py:238: UserWarning: Random walk proposals appear to be extremely inefficient. Adjusting the scale-factor accordingly.\n",
      "  warnings.warn(\"Random walk proposals appear to be \"\n",
      "/usr/local/lib/python3.7/site-packages/dynesty/sampling.py:216: UserWarning: Random number generation appears to be extremely inefficient. Adjusting the scale-factor accordingly.\n",
      "  warnings.warn(\"Random number generation appears to be \"\n"
     ]
    },
    {
     "name": "stderr",
     "output_type": "stream",
     "text": [
      "282025it [17:52:50,  4.31it/s, batch: 0 | bound: 250 | nc: 100 | ncall: 26370733 | eff(%):  1.069 | loglstar:   -inf < 44.379 <    inf | logz: 14.901 +/-    nan | dlogz: 15.049 >  0.010]  /usr/local/lib/python3.7/site-packages/dynesty/sampling.py:238: UserWarning: Random walk proposals appear to be extremely inefficient. Adjusting the scale-factor accordingly.\n",
      "  warnings.warn(\"Random walk proposals appear to be \"\n",
      "283447it [18:00:43,  4.27it/s, batch: 0 | bound: 252 | nc: 100 | ncall: 26575935 | eff(%):  1.066 | loglstar:   -inf < 44.966 <    inf | logz: 15.398 +/-    nan | dlogz: 14.410 >  0.010]  /usr/local/lib/python3.7/site-packages/dynesty/sampling.py:238: UserWarning: Random walk proposals appear to be extremely inefficient. Adjusting the scale-factor accordingly.\n",
      "  warnings.warn(\"Random walk proposals appear to be \"\n",
      "285491it [18:11:45,  2.91s/it, batch: 0 | bound: 255 | nc: 2991 | ncall: 26837029 | eff(%):  1.063 | loglstar:   -inf < 45.754 <    inf | logz: 16.062 +/-    nan | dlogz: 13.541 >  0.010] /usr/local/lib/python3.7/site-packages/dynesty/sampling.py:238: UserWarning: Random walk proposals appear to be extremely inefficient. Adjusting the scale-factor accordingly.\n",
      "  warnings.warn(\"Random walk proposals appear to be \"\n",
      "286651it [18:19:32,  3.76it/s, batch: 0 | bound: 256 | nc: 100 | ncall: 27002179 | eff(%):  1.061 | loglstar:   -inf < 46.172 <    inf | logz: 16.417 +/-    nan | dlogz: 13.071 >  0.010]  /usr/local/lib/python3.7/site-packages/dynesty/sampling.py:238: UserWarning: Random walk proposals appear to be extremely inefficient. Adjusting the scale-factor accordingly.\n",
      "  warnings.warn(\"Random walk proposals appear to be \"\n",
      "288374it [18:31:24,  3.81it/s, batch: 0 | bound: 258 | nc: 100 | ncall: 27258736 | eff(%):  1.058 | loglstar:   -inf < 46.814 <    inf | logz: 16.922 +/-    nan | dlogz: 12.393 >  0.010]  /usr/local/lib/python3.7/site-packages/dynesty/sampling.py:238: UserWarning: Random walk proposals appear to be extremely inefficient. Adjusting the scale-factor accordingly.\n",
      "  warnings.warn(\"Random walk proposals appear to be \"\n",
      "289679it [18:39:47,  4.00it/s, batch: 0 | bound: 260 | nc: 100 | ncall: 27442394 | eff(%):  1.055 | loglstar:   -inf < 47.277 <    inf | logz: 17.290 +/-    nan | dlogz: 11.895 >  0.010]  /usr/local/lib/python3.7/site-packages/dynesty/sampling.py:238: UserWarning: Random walk proposals appear to be extremely inefficient. Adjusting the scale-factor accordingly.\n",
      "  warnings.warn(\"Random walk proposals appear to be \"\n",
      "291610it [18:49:43,  3.88it/s, batch: 0 | bound: 262 | nc: 100 | ncall: 27672291 | eff(%):  1.053 | loglstar:   -inf < 47.900 <    inf | logz: 17.801 +/-    nan | dlogz: 11.190 >  0.010]  /usr/local/lib/python3.7/site-packages/dynesty/sampling.py:238: UserWarning: Random walk proposals appear to be extremely inefficient. Adjusting the scale-factor accordingly.\n",
      "  warnings.warn(\"Random walk proposals appear to be \"\n",
      "293296it [18:59:31,  4.11it/s, batch: 0 | bound: 264 | nc: 100 | ncall: 27897584 | eff(%):  1.051 | loglstar:   -inf < 48.417 <    inf | logz: 18.219 +/-    nan | dlogz: 10.604 >  0.010]  /usr/local/lib/python3.7/site-packages/dynesty/sampling.py:238: UserWarning: Random walk proposals appear to be extremely inefficient. Adjusting the scale-factor accordingly.\n",
      "  warnings.warn(\"Random walk proposals appear to be \"\n",
      "294672it [19:08:17,  2.71it/s, batch: 0 | bound: 266 | nc: 100 | ncall: 28106439 | eff(%):  1.048 | loglstar:   -inf < 48.814 <    inf | logz: 18.538 +/-    nan | dlogz: 10.147 >  0.010]  /usr/local/lib/python3.7/site-packages/dynesty/sampling.py:238: UserWarning: Random walk proposals appear to be extremely inefficient. Adjusting the scale-factor accordingly.\n",
      "  warnings.warn(\"Random walk proposals appear to be \"\n",
      "296030it [19:16:48,  3.20it/s, batch: 0 | bound: 268 | nc: 100 | ncall: 28281612 | eff(%):  1.046 | loglstar:   -inf < 49.185 <    inf | logz: 18.835 +/-    nan | dlogz:  9.714 >  0.010]  /usr/local/lib/python3.7/site-packages/dynesty/sampling.py:238: UserWarning: Random walk proposals appear to be extremely inefficient. Adjusting the scale-factor accordingly.\n",
      "  warnings.warn(\"Random walk proposals appear to be \"\n",
      "297481it [19:27:48,  3.33it/s, batch: 0 | bound: 270 | nc: 100 | ncall: 28491563 | eff(%):  1.044 | loglstar:   -inf < 49.580 <    inf | logz: 19.135 +/-    nan | dlogz:  9.269 >  0.010]  /usr/local/lib/python3.7/site-packages/dynesty/sampling.py:238: UserWarning: Random walk proposals appear to be extremely inefficient. Adjusting the scale-factor accordingly.\n",
      "  warnings.warn(\"Random walk proposals appear to be \"\n",
      "298781it [19:39:23,  2.43it/s, batch: 0 | bound: 272 | nc: 100 | ncall: 28701425 | eff(%):  1.041 | loglstar:   -inf < 49.906 <    inf | logz: 19.389 +/-    nan | dlogz:  8.885 >  0.010]  /usr/local/lib/python3.7/site-packages/dynesty/sampling.py:238: UserWarning: Random walk proposals appear to be extremely inefficient. Adjusting the scale-factor accordingly.\n",
      "  warnings.warn(\"Random walk proposals appear to be \"\n",
      "300105it [19:50:20,  1.08s/it, batch: 0 | bound: 275 | nc: 701 | ncall: 28899018 | eff(%):  1.038 | loglstar:   -inf < 50.230 <    inf | logz: 19.634 +/-    nan | dlogz:  8.508 >  0.010]  /usr/local/lib/python3.7/site-packages/dynesty/sampling.py:238: UserWarning: Random walk proposals appear to be extremely inefficient. Adjusting the scale-factor accordingly.\n",
      "  warnings.warn(\"Random walk proposals appear to be \"\n",
      "301983it [20:03:19,  3.44it/s, batch: 0 | bound: 276 | nc: 100 | ncall: 29159433 | eff(%):  1.035 | loglstar:   -inf < 50.659 <    inf | logz: 19.958 +/-    nan | dlogz:  7.996 >  0.010]  /usr/local/lib/python3.7/site-packages/dynesty/sampling.py:238: UserWarning: Random walk proposals appear to be extremely inefficient. Adjusting the scale-factor accordingly.\n",
      "  warnings.warn(\"Random walk proposals appear to be \"\n",
      "303413it [20:14:14,  3.65it/s, batch: 0 | bound: 278 | nc: 100 | ncall: 29365465 | eff(%):  1.033 | loglstar:   -inf < 50.980 <    inf | logz: 20.189 +/-    nan | dlogz:  7.622 >  0.010]  /usr/local/lib/python3.7/site-packages/dynesty/sampling.py:238: UserWarning: Random walk proposals appear to be extremely inefficient. Adjusting the scale-factor accordingly.\n",
      "  warnings.warn(\"Random walk proposals appear to be \"\n",
      "304732it [20:23:10,  4.19it/s, batch: 0 | bound: 280 | nc: 100 | ncall: 29592046 | eff(%):  1.029 | loglstar:   -inf < 51.257 <    inf | logz: 20.390 +/-    nan | dlogz:  7.289 >  0.010]  /usr/local/lib/python3.7/site-packages/dynesty/sampling.py:238: UserWarning: Random walk proposals appear to be extremely inefficient. Adjusting the scale-factor accordingly.\n",
      "  warnings.warn(\"Random walk proposals appear to be \"\n",
      "/usr/local/lib/python3.7/site-packages/dynesty/sampling.py:216: UserWarning: Random number generation appears to be extremely inefficient. Adjusting the scale-factor accordingly.\n",
      "  warnings.warn(\"Random number generation appears to be \"\n",
      "305953it [20:32:26,  3.53it/s, batch: 0 | bound: 282 | nc: 100 | ncall: 29789506 | eff(%):  1.027 | loglstar:   -inf < 51.518 <    inf | logz: 20.568 +/-    nan | dlogz:  6.990 >  0.010]  /usr/local/lib/python3.7/site-packages/dynesty/sampling.py:238: UserWarning: Random walk proposals appear to be extremely inefficient. Adjusting the scale-factor accordingly.\n",
      "  warnings.warn(\"Random walk proposals appear to be \"\n",
      "307348it [20:42:06,  3.79it/s, batch: 0 | bound: 284 | nc: 100 | ncall: 30007125 | eff(%):  1.024 | loglstar:   -inf < 51.804 <    inf | logz: 20.763 +/-    nan | dlogz:  6.656 >  0.010]  /usr/local/lib/python3.7/site-packages/dynesty/sampling.py:238: UserWarning: Random walk proposals appear to be extremely inefficient. Adjusting the scale-factor accordingly.\n",
      "  warnings.warn(\"Random walk proposals appear to be \"\n",
      "/usr/local/lib/python3.7/site-packages/dynesty/sampling.py:216: UserWarning: Random number generation appears to be extremely inefficient. Adjusting the scale-factor accordingly.\n",
      "  warnings.warn(\"Random number generation appears to be \"\n",
      "308598it [20:50:51,  4.21it/s, batch: 0 | bound: 286 | nc: 100 | ncall: 30205600 | eff(%):  1.021 | loglstar:   -inf < 52.050 <    inf | logz: 20.929 +/-    nan | dlogz:  6.365 >  0.010]  /usr/local/lib/python3.7/site-packages/dynesty/sampling.py:238: UserWarning: Random walk proposals appear to be extremely inefficient. Adjusting the scale-factor accordingly.\n",
      "  warnings.warn(\"Random walk proposals appear to be \"\n"
     ]
    },
    {
     "name": "stderr",
     "output_type": "stream",
     "text": [
      "308599it [20:51:10,  5.87s/it, batch: 0 | bound: 287 | nc: 8272 | ncall: 30213872 | eff(%):  1.021 | loglstar:   -inf < 52.050 <    inf | logz: 20.929 +/-    nan | dlogz:  6.365 >  0.010]/usr/local/lib/python3.7/site-packages/dynesty/sampling.py:216: UserWarning: Random number generation appears to be extremely inefficient. Adjusting the scale-factor accordingly.\n",
      "  warnings.warn(\"Random number generation appears to be \"\n",
      "309734it [20:59:09,  4.08it/s, batch: 0 | bound: 288 | nc: 100 | ncall: 30405510 | eff(%):  1.018 | loglstar:   -inf < 52.265 <    inf | logz: 21.074 +/-    nan | dlogz:  6.107 >  0.010]  /usr/local/lib/python3.7/site-packages/dynesty/sampling.py:238: UserWarning: Random walk proposals appear to be extremely inefficient. Adjusting the scale-factor accordingly.\n",
      "  warnings.warn(\"Random walk proposals appear to be \"\n",
      "311207it [21:12:06,  3.65it/s, batch: 0 | bound: 290 | nc: 100 | ncall: 30687994 | eff(%):  1.014 | loglstar:   -inf < 52.535 <    inf | logz: 21.252 +/-    nan | dlogz:  5.783 >  0.010]    /usr/local/lib/python3.7/site-packages/dynesty/sampling.py:238: UserWarning: Random walk proposals appear to be extremely inefficient. Adjusting the scale-factor accordingly.\n",
      "  warnings.warn(\"Random walk proposals appear to be \"\n",
      "312570it [21:22:47,  3.84it/s, batch: 0 | bound: 292 | nc: 100 | ncall: 30923372 | eff(%):  1.010 | loglstar:   -inf < 52.764 <    inf | logz: 21.408 +/-    nan | dlogz:  5.492 >  0.010]  /usr/local/lib/python3.7/site-packages/dynesty/sampling.py:238: UserWarning: Random walk proposals appear to be extremely inefficient. Adjusting the scale-factor accordingly.\n",
      "  warnings.warn(\"Random walk proposals appear to be \"\n",
      "314293it [21:35:06,  4.10it/s, batch: 0 | bound: 294 | nc: 100 | ncall: 31173749 | eff(%):  1.008 | loglstar:   -inf < 53.038 <    inf | logz: 21.590 +/-    nan | dlogz:  5.138 >  0.010]  /usr/local/lib/python3.7/site-packages/dynesty/sampling.py:238: UserWarning: Random walk proposals appear to be extremely inefficient. Adjusting the scale-factor accordingly.\n",
      "  warnings.warn(\"Random walk proposals appear to be \"\n",
      "/usr/local/lib/python3.7/site-packages/dynesty/sampling.py:216: UserWarning: Random number generation appears to be extremely inefficient. Adjusting the scale-factor accordingly.\n",
      "  warnings.warn(\"Random number generation appears to be \"\n",
      "316068it [21:47:10,  3.61it/s, batch: 0 | bound: 296 | nc: 100 | ncall: 31440199 | eff(%):  1.005 | loglstar:   -inf < 53.317 <    inf | logz: 21.765 +/-    nan | dlogz:  4.789 >  0.010]  /usr/local/lib/python3.7/site-packages/dynesty/sampling.py:238: UserWarning: Random walk proposals appear to be extremely inefficient. Adjusting the scale-factor accordingly.\n",
      "  warnings.warn(\"Random walk proposals appear to be \"\n",
      "/usr/local/lib/python3.7/site-packages/dynesty/sampling.py:216: UserWarning: Random number generation appears to be extremely inefficient. Adjusting the scale-factor accordingly.\n",
      "  warnings.warn(\"Random number generation appears to be \"\n",
      "317526it [21:58:33,  2.98it/s, batch: 0 | bound: 298 | nc: 100 | ncall: 31688936 | eff(%):  1.002 | loglstar:   -inf < 53.531 <    inf | logz: 21.899 +/-    nan | dlogz:  4.641 >  0.010]  /usr/local/lib/python3.7/site-packages/dynesty/sampling.py:238: UserWarning: Random walk proposals appear to be extremely inefficient. Adjusting the scale-factor accordingly.\n",
      "  warnings.warn(\"Random walk proposals appear to be \"\n",
      "318981it [22:08:20,  4.17it/s, batch: 0 | bound: 300 | nc: 100 | ncall: 31903617 | eff(%):  1.000 | loglstar:   -inf < 53.744 <    inf | logz: 22.024 +/-    nan | dlogz:  4.374 >  0.010]  /usr/local/lib/python3.7/site-packages/dynesty/sampling.py:238: UserWarning: Random walk proposals appear to be extremely inefficient. Adjusting the scale-factor accordingly.\n",
      "  warnings.warn(\"Random walk proposals appear to be \"\n",
      "320233it [22:18:04,  4.19it/s, batch: 0 | bound: 302 | nc: 100 | ncall: 32140645 | eff(%):  0.996 | loglstar:   -inf < 53.917 <    inf | logz: 22.126 +/-    nan | dlogz:  4.149 >  0.010]   /usr/local/lib/python3.7/site-packages/dynesty/sampling.py:238: UserWarning: Random walk proposals appear to be extremely inefficient. Adjusting the scale-factor accordingly.\n",
      "  warnings.warn(\"Random walk proposals appear to be \"\n",
      "321760it [22:27:07,  4.27it/s, batch: 0 | bound: 304 | nc: 100 | ncall: 32373042 | eff(%):  0.994 | loglstar:   -inf < 54.118 <    inf | logz: 22.244 +/-    nan | dlogz:  4.023 >  0.010]  /usr/local/lib/python3.7/site-packages/dynesty/sampling.py:238: UserWarning: Random walk proposals appear to be extremely inefficient. Adjusting the scale-factor accordingly.\n",
      "  warnings.warn(\"Random walk proposals appear to be \"\n",
      "323724it [22:37:52,  3.84it/s, batch: 0 | bound: 306 | nc: 100 | ncall: 32648844 | eff(%):  0.991 | loglstar:   -inf < 54.369 <    inf | logz: 22.383 +/-    nan | dlogz:  3.798 >  0.010]  /usr/local/lib/python3.7/site-packages/dynesty/sampling.py:238: UserWarning: Random walk proposals appear to be extremely inefficient. Adjusting the scale-factor accordingly.\n",
      "  warnings.warn(\"Random walk proposals appear to be \"\n",
      "324986it [22:46:35,  4.26it/s, batch: 0 | bound: 308 | nc: 100 | ncall: 32874474 | eff(%):  0.988 | loglstar:   -inf < 54.522 <    inf | logz: 22.466 +/-    nan | dlogz:  3.594 >  0.010]  /usr/local/lib/python3.7/site-packages/dynesty/sampling.py:238: UserWarning: Random walk proposals appear to be extremely inefficient. Adjusting the scale-factor accordingly.\n",
      "  warnings.warn(\"Random walk proposals appear to be \"\n",
      "326174it [22:54:00,  3.86it/s, batch: 0 | bound: 310 | nc: 100 | ncall: 33065733 | eff(%):  0.986 | loglstar:   -inf < 54.663 <    inf | logz: 22.540 +/-    nan | dlogz:  3.407 >  0.010]  /usr/local/lib/python3.7/site-packages/dynesty/sampling.py:238: UserWarning: Random walk proposals appear to be extremely inefficient. Adjusting the scale-factor accordingly.\n",
      "  warnings.warn(\"Random walk proposals appear to be \"\n",
      "/usr/local/lib/python3.7/site-packages/dynesty/sampling.py:216: UserWarning: Random number generation appears to be extremely inefficient. Adjusting the scale-factor accordingly.\n",
      "  warnings.warn(\"Random number generation appears to be \"\n",
      "327979it [23:04:50,  4.28it/s, batch: 0 | bound: 312 | nc: 100 | ncall: 33345967 | eff(%):  0.983 | loglstar:   -inf < 54.866 <    inf | logz: 22.646 +/-    nan | dlogz:  3.131 >  0.010]  /usr/local/lib/python3.7/site-packages/dynesty/sampling.py:238: UserWarning: Random walk proposals appear to be extremely inefficient. Adjusting the scale-factor accordingly.\n",
      "  warnings.warn(\"Random walk proposals appear to be \"\n",
      "/usr/local/lib/python3.7/site-packages/dynesty/sampling.py:216: UserWarning: Random number generation appears to be extremely inefficient. Adjusting the scale-factor accordingly.\n",
      "  warnings.warn(\"Random number generation appears to be \"\n",
      "328785it [23:11:39,  4.30it/s, batch: 0 | bound: 314 | nc: 100 | ncall: 33522343 | eff(%):  0.981 | loglstar:   -inf < 54.951 <    inf | logz: 22.690 +/-    nan | dlogz:  3.012 >  0.010]  /usr/local/lib/python3.7/site-packages/dynesty/sampling.py:238: UserWarning: Random walk proposals appear to be extremely inefficient. Adjusting the scale-factor accordingly.\n",
      "  warnings.warn(\"Random walk proposals appear to be \"\n",
      "/usr/local/lib/python3.7/site-packages/dynesty/sampling.py:216: UserWarning: Random number generation appears to be extremely inefficient. Adjusting the scale-factor accordingly.\n",
      "  warnings.warn(\"Random number generation appears to be \"\n",
      "329690it [23:18:52,  4.28it/s, batch: 0 | bound: 316 | nc: 100 | ncall: 33709919 | eff(%):  0.978 | loglstar:   -inf < 55.050 <    inf | logz: 22.738 +/-    nan | dlogz:  2.881 >  0.010]  /usr/local/lib/python3.7/site-packages/dynesty/sampling.py:238: UserWarning: Random walk proposals appear to be extremely inefficient. Adjusting the scale-factor accordingly.\n",
      "  warnings.warn(\"Random walk proposals appear to be \"\n",
      "331231it [23:28:31,  4.24it/s, batch: 0 | bound: 318 | nc: 100 | ncall: 33958997 | eff(%):  0.975 | loglstar:   -inf < 55.207 <    inf | logz: 22.815 +/-    nan | dlogz:  2.664 >  0.010]  /usr/local/lib/python3.7/site-packages/dynesty/sampling.py:238: UserWarning: Random walk proposals appear to be extremely inefficient. Adjusting the scale-factor accordingly.\n",
      "  warnings.warn(\"Random walk proposals appear to be \"\n"
     ]
    },
    {
     "name": "stderr",
     "output_type": "stream",
     "text": [
      "/usr/local/lib/python3.7/site-packages/dynesty/sampling.py:216: UserWarning: Random number generation appears to be extremely inefficient. Adjusting the scale-factor accordingly.\n",
      "  warnings.warn(\"Random number generation appears to be \"\n",
      "332502it [23:36:56,  4.30it/s, batch: 0 | bound: 320 | nc: 100 | ncall: 34177702 | eff(%):  0.973 | loglstar:   -inf < 55.327 <    inf | logz: 22.875 +/-    nan | dlogz:  2.492 >  0.010]  /usr/local/lib/python3.7/site-packages/dynesty/sampling.py:238: UserWarning: Random walk proposals appear to be extremely inefficient. Adjusting the scale-factor accordingly.\n",
      "  warnings.warn(\"Random walk proposals appear to be \"\n",
      "333738it [23:45:55,  4.29it/s, batch: 0 | bound: 322 | nc: 100 | ncall: 34411194 | eff(%):  0.970 | loglstar:   -inf < 55.442 <    inf | logz: 22.929 +/-    nan | dlogz:  2.331 >  0.010]  /usr/local/lib/python3.7/site-packages/dynesty/sampling.py:238: UserWarning: Random walk proposals appear to be extremely inefficient. Adjusting the scale-factor accordingly.\n",
      "  warnings.warn(\"Random walk proposals appear to be \"\n",
      "/usr/local/lib/python3.7/site-packages/dynesty/sampling.py:216: UserWarning: Random number generation appears to be extremely inefficient. Adjusting the scale-factor accordingly.\n",
      "  warnings.warn(\"Random number generation appears to be \"\n",
      "334908it [23:54:02,  4.29it/s, batch: 0 | bound: 324 | nc: 100 | ncall: 34621409 | eff(%):  0.967 | loglstar:   -inf < 55.548 <    inf | logz: 22.977 +/-    nan | dlogz:  2.183 >  0.010]  /usr/local/lib/python3.7/site-packages/dynesty/sampling.py:238: UserWarning: Random walk proposals appear to be extremely inefficient. Adjusting the scale-factor accordingly.\n",
      "  warnings.warn(\"Random walk proposals appear to be \"\n",
      "335232it [23:55:52,  4.33it/s, batch: 0 | bound: 324 | nc: 100 | ncall: 34668728 | eff(%):  0.967 | loglstar:   -inf < 55.578 <    inf | logz: 22.990 +/-    nan | dlogz:  2.143 >  0.010]  /usr/local/lib/python3.7/site-packages/dynesty/sampling.py:238: UserWarning: Random walk proposals appear to be extremely inefficient. Adjusting the scale-factor accordingly.\n",
      "  warnings.warn(\"Random walk proposals appear to be \"\n",
      "336119it [24:02:36,  4.18it/s, batch: 0 | bound: 326 | nc: 100 | ncall: 34843956 | eff(%):  0.964 | loglstar:   -inf < 55.652 <    inf | logz: 23.024 +/-    nan | dlogz:  2.035 >  0.010]  /usr/local/lib/python3.7/site-packages/dynesty/sampling.py:238: UserWarning: Random walk proposals appear to be extremely inefficient. Adjusting the scale-factor accordingly.\n",
      "  warnings.warn(\"Random walk proposals appear to be \"\n",
      "337828it [24:13:04,  4.30it/s, batch: 0 | bound: 328 | nc: 100 | ncall: 35114534 | eff(%):  0.962 | loglstar:   -inf < 55.798 <    inf | logz: 23.085 +/-    nan | dlogz:  1.836 >  0.010]  /usr/local/lib/python3.7/site-packages/dynesty/sampling.py:238: UserWarning: Random walk proposals appear to be extremely inefficient. Adjusting the scale-factor accordingly.\n",
      "  warnings.warn(\"Random walk proposals appear to be \"\n",
      "/usr/local/lib/python3.7/site-packages/dynesty/sampling.py:216: UserWarning: Random number generation appears to be extremely inefficient. Adjusting the scale-factor accordingly.\n",
      "  warnings.warn(\"Random number generation appears to be \"\n",
      "338619it [24:19:53,  4.30it/s, batch: 0 | bound: 330 | nc: 100 | ncall: 35292239 | eff(%):  0.959 | loglstar:   -inf < 55.859 <    inf | logz: 23.112 +/-    nan | dlogz:  1.748 >  0.010]  /usr/local/lib/python3.7/site-packages/dynesty/sampling.py:238: UserWarning: Random walk proposals appear to be extremely inefficient. Adjusting the scale-factor accordingly.\n",
      "  warnings.warn(\"Random walk proposals appear to be \"\n",
      "339448it [24:23:36,  4.25it/s, batch: 0 | bound: 330 | nc: 100 | ncall: 35386670 | eff(%):  0.959 | loglstar:   -inf < 55.924 <    inf | logz: 23.138 +/-    nan | dlogz:  1.659 >  0.010] /usr/local/lib/python3.7/site-packages/dynesty/sampling.py:238: UserWarning: Random walk proposals appear to be extremely inefficient. Adjusting the scale-factor accordingly.\n",
      "  warnings.warn(\"Random walk proposals appear to be \"\n",
      "340564it [24:31:53,  4.12it/s, batch: 0 | bound: 332 | nc: 100 | ncall: 35602237 | eff(%):  0.956 | loglstar:   -inf < 56.009 <    inf | logz: 23.172 +/-    nan | dlogz:  1.543 >  0.010]   /usr/local/lib/python3.7/site-packages/dynesty/sampling.py:238: UserWarning: Random walk proposals appear to be extremely inefficient. Adjusting the scale-factor accordingly.\n",
      "  warnings.warn(\"Random walk proposals appear to be \"\n",
      "/usr/local/lib/python3.7/site-packages/dynesty/sampling.py:216: UserWarning: Random number generation appears to be extremely inefficient. Adjusting the scale-factor accordingly.\n",
      "  warnings.warn(\"Random number generation appears to be \"\n",
      "341596it [24:40:22,  3.73it/s, batch: 0 | bound: 334 | nc: 100 | ncall: 35805800 | eff(%):  0.954 | loglstar:   -inf < 56.083 <    inf | logz: 23.202 +/-    nan | dlogz:  1.440 >  0.010]  /usr/local/lib/python3.7/site-packages/dynesty/sampling.py:238: UserWarning: Random walk proposals appear to be extremely inefficient. Adjusting the scale-factor accordingly.\n",
      "  warnings.warn(\"Random walk proposals appear to be \"\n",
      "341804it [24:41:58,  3.89it/s, batch: 0 | bound: 334 | nc: 100 | ncall: 35840359 | eff(%):  0.953 | loglstar:   -inf < 56.098 <    inf | logz: 23.208 +/-    nan | dlogz:  1.419 >  0.010]  /usr/local/lib/python3.7/site-packages/dynesty/sampling.py:238: UserWarning: Random walk proposals appear to be extremely inefficient. Adjusting the scale-factor accordingly.\n",
      "  warnings.warn(\"Random walk proposals appear to be \"\n",
      "/usr/local/lib/python3.7/site-packages/dynesty/sampling.py:216: UserWarning: Random number generation appears to be extremely inefficient. Adjusting the scale-factor accordingly.\n",
      "  warnings.warn(\"Random number generation appears to be \"\n",
      "342610it [24:50:05,  3.90it/s, batch: 0 | bound: 336 | nc: 100 | ncall: 36030122 | eff(%):  0.951 | loglstar:   -inf < 56.157 <    inf | logz: 23.230 +/-    nan | dlogz:  1.343 >  0.010]  /usr/local/lib/python3.7/site-packages/dynesty/sampling.py:238: UserWarning: Random walk proposals appear to be extremely inefficient. Adjusting the scale-factor accordingly.\n",
      "  warnings.warn(\"Random walk proposals appear to be \"\n",
      "343254it [24:53:25,  3.60it/s, batch: 0 | bound: 336 | nc: 100 | ncall: 36101044 | eff(%):  0.951 | loglstar:   -inf < 56.201 <    inf | logz: 23.246 +/-    nan | dlogz:  1.284 >  0.010] /usr/local/lib/python3.7/site-packages/dynesty/sampling.py:238: UserWarning: Random walk proposals appear to be extremely inefficient. Adjusting the scale-factor accordingly.\n",
      "  warnings.warn(\"Random walk proposals appear to be \"\n",
      "344619it [25:03:51,  3.97it/s, batch: 0 | bound: 338 | nc: 100 | ncall: 36337995 | eff(%):  0.948 | loglstar:   -inf < 56.287 <    inf | logz: 23.280 +/-    nan | dlogz:  1.164 >  0.010]  /usr/local/lib/python3.7/site-packages/dynesty/sampling.py:238: UserWarning: Random walk proposals appear to be extremely inefficient. Adjusting the scale-factor accordingly.\n",
      "  warnings.warn(\"Random walk proposals appear to be \"\n",
      "346632it [25:17:28,  4.04it/s, batch: 0 | bound: 340 | nc: 100 | ncall: 36637879 | eff(%):  0.946 | loglstar:   -inf < 56.412 <    inf | logz: 23.324 +/-    nan | dlogz:  1.001 >  0.010]  /usr/local/lib/python3.7/site-packages/dynesty/sampling.py:238: UserWarning: Random walk proposals appear to be extremely inefficient. Adjusting the scale-factor accordingly.\n",
      "  warnings.warn(\"Random walk proposals appear to be \"\n",
      "347160it [25:20:17,  3.93it/s, batch: 0 | bound: 341 | nc: 100 | ncall: 36701111 | eff(%):  0.946 | loglstar:   -inf < 56.443 <    inf | logz: 23.335 +/-    nan | dlogz:  0.962 >  0.010] /usr/local/lib/python3.7/site-packages/dynesty/sampling.py:238: UserWarning: Random walk proposals appear to be extremely inefficient. Adjusting the scale-factor accordingly.\n",
      "  warnings.warn(\"Random walk proposals appear to be \"\n",
      "347749it [25:28:13,  3.78it/s, batch: 0 | bound: 343 | nc: 100 | ncall: 36868657 | eff(%):  0.943 | loglstar:   -inf < 56.477 <    inf | logz: 23.346 +/-    nan | dlogz:  0.932 >  0.010]  /usr/local/lib/python3.7/site-packages/dynesty/sampling.py:238: UserWarning: Random walk proposals appear to be extremely inefficient. Adjusting the scale-factor accordingly.\n",
      "  warnings.warn(\"Random walk proposals appear to be \"\n"
     ]
    },
    {
     "name": "stderr",
     "output_type": "stream",
     "text": [
      "348891it [25:39:46,  3.63it/s, batch: 0 | bound: 345 | nc: 100 | ncall: 37101019 | eff(%):  0.940 | loglstar:   -inf < 56.543 <    inf | logz: 23.368 +/-    nan | dlogz:  0.852 >  0.010]  /usr/local/lib/python3.7/site-packages/dynesty/sampling.py:238: UserWarning: Random walk proposals appear to be extremely inefficient. Adjusting the scale-factor accordingly.\n",
      "  warnings.warn(\"Random walk proposals appear to be \"\n",
      "349682it [25:45:04,  3.83it/s, batch: 0 | bound: 346 | nc: 100 | ncall: 37211494 | eff(%):  0.939 | loglstar:   -inf < 56.590 <    inf | logz: 23.382 +/-    nan | dlogz:  0.800 >  0.010]  /usr/local/lib/python3.7/site-packages/dynesty/sampling.py:238: UserWarning: Random walk proposals appear to be extremely inefficient. Adjusting the scale-factor accordingly.\n",
      "  warnings.warn(\"Random walk proposals appear to be \"\n",
      "350189it [25:47:49,  4.07it/s, batch: 0 | bound: 346 | nc: 100 | ncall: 37277164 | eff(%):  0.939 | loglstar:   -inf < 56.618 <    inf | logz: 23.390 +/-    nan | dlogz:  0.767 >  0.010]  /usr/local/lib/python3.7/site-packages/dynesty/sampling.py:238: UserWarning: Random walk proposals appear to be extremely inefficient. Adjusting the scale-factor accordingly.\n",
      "  warnings.warn(\"Random walk proposals appear to be \"\n",
      "351257it [25:56:14,  4.02it/s, batch: 0 | bound: 348 | nc: 100 | ncall: 37478534 | eff(%):  0.937 | loglstar:   -inf < 56.678 <    inf | logz: 23.408 +/-    nan | dlogz:  0.703 >  0.010]  /usr/local/lib/python3.7/site-packages/dynesty/sampling.py:238: UserWarning: Random walk proposals appear to be extremely inefficient. Adjusting the scale-factor accordingly.\n",
      "  warnings.warn(\"Random walk proposals appear to be \"\n",
      "352995it [26:07:51,  3.35it/s, batch: 0 | bound: 350 | nc: 100 | ncall: 37746175 | eff(%):  0.935 | loglstar:   -inf < 56.771 <    inf | logz: 23.433 +/-    nan | dlogz:  0.607 >  0.010]  /usr/local/lib/python3.7/site-packages/dynesty/sampling.py:238: UserWarning: Random walk proposals appear to be extremely inefficient. Adjusting the scale-factor accordingly.\n",
      "  warnings.warn(\"Random walk proposals appear to be \"\n",
      "/usr/local/lib/python3.7/site-packages/dynesty/sampling.py:216: UserWarning: Random number generation appears to be extremely inefficient. Adjusting the scale-factor accordingly.\n",
      "  warnings.warn(\"Random number generation appears to be \"\n",
      "355141it [26:19:55,  3.81it/s, batch: 0 | bound: 352 | nc: 100 | ncall: 38030782 | eff(%):  0.934 | loglstar:   -inf < 56.874 <    inf | logz: 23.462 +/-    nan | dlogz:  0.504 >  0.010]  /usr/local/lib/python3.7/site-packages/dynesty/sampling.py:238: UserWarning: Random walk proposals appear to be extremely inefficient. Adjusting the scale-factor accordingly.\n",
      "  warnings.warn(\"Random walk proposals appear to be \"\n",
      "355764it [26:26:31,  3.95it/s, batch: 0 | bound: 354 | nc: 100 | ncall: 38188222 | eff(%):  0.931 | loglstar:   -inf < 56.904 <    inf | logz: 23.469 +/-    nan | dlogz:  0.477 >  0.010]  /usr/local/lib/python3.7/site-packages/dynesty/sampling.py:238: UserWarning: Random walk proposals appear to be extremely inefficient. Adjusting the scale-factor accordingly.\n",
      "  warnings.warn(\"Random walk proposals appear to be \"\n",
      "356209it [26:28:46,  3.99it/s, batch: 0 | bound: 354 | nc: 100 | ncall: 38241753 | eff(%):  0.931 | loglstar:   -inf < 56.925 <    inf | logz: 23.474 +/-    nan | dlogz:  0.458 >  0.010] /usr/local/lib/python3.7/site-packages/dynesty/sampling.py:238: UserWarning: Random walk proposals appear to be extremely inefficient. Adjusting the scale-factor accordingly.\n",
      "  warnings.warn(\"Random walk proposals appear to be \"\n",
      "357158it [26:38:53,  3.79it/s, batch: 0 | bound: 356 | nc: 100 | ncall: 38486305 | eff(%):  0.928 | loglstar:   -inf < 56.971 <    inf | logz: 23.485 +/-    nan | dlogz:  0.421 >  0.010]  /usr/local/lib/python3.7/site-packages/dynesty/sampling.py:238: UserWarning: Random walk proposals appear to be extremely inefficient. Adjusting the scale-factor accordingly.\n",
      "  warnings.warn(\"Random walk proposals appear to be \"\n",
      "359053it [26:51:54,  3.89it/s, batch: 0 | bound: 359 | nc: 100 | ncall: 38796852 | eff(%):  0.925 | loglstar:   -inf < 57.054 <    inf | logz: 23.504 +/-    nan | dlogz:  0.354 >  0.010]   /usr/local/lib/python3.7/site-packages/dynesty/sampling.py:238: UserWarning: Random walk proposals appear to be extremely inefficient. Adjusting the scale-factor accordingly.\n",
      "  warnings.warn(\"Random walk proposals appear to be \"\n",
      "360842it [27:04:07,  3.98it/s, batch: 0 | bound: 361 | nc: 100 | ncall: 39088778 | eff(%):  0.923 | loglstar:   -inf < 57.129 <    inf | logz: 23.520 +/-    nan | dlogz:  0.300 >  0.010]  /usr/local/lib/python3.7/site-packages/dynesty/sampling.py:238: UserWarning: Random walk proposals appear to be extremely inefficient. Adjusting the scale-factor accordingly.\n",
      "  warnings.warn(\"Random walk proposals appear to be \"\n",
      "361412it [27:11:15,  1.97it/s, batch: 0 | bound: 363 | nc: 100 | ncall: 39260072 | eff(%):  0.920 | loglstar:   -inf < 57.152 <    inf | logz: 23.525 +/-    nan | dlogz:  0.284 >  0.010]  /usr/local/lib/python3.7/site-packages/dynesty/sampling.py:238: UserWarning: Random walk proposals appear to be extremely inefficient. Adjusting the scale-factor accordingly.\n",
      "  warnings.warn(\"Random walk proposals appear to be \"\n",
      "/usr/local/lib/python3.7/site-packages/dynesty/sampling.py:216: UserWarning: Random number generation appears to be extremely inefficient. Adjusting the scale-factor accordingly.\n",
      "  warnings.warn(\"Random number generation appears to be \"\n",
      "362923it [27:22:12,  3.91it/s, batch: 0 | bound: 365 | nc: 100 | ncall: 39521641 | eff(%):  0.918 | loglstar:   -inf < 57.216 <    inf | logz: 23.536 +/-    nan | dlogz:  0.246 >  0.010]  /usr/local/lib/python3.7/site-packages/dynesty/sampling.py:238: UserWarning: Random walk proposals appear to be extremely inefficient. Adjusting the scale-factor accordingly.\n",
      "  warnings.warn(\"Random walk proposals appear to be \"\n",
      "363281it [27:24:46,  1.75it/s, batch: 0 | bound: 366 | nc: 100 | ncall: 39582503 | eff(%):  0.918 | loglstar:   -inf < 57.230 <    inf | logz: 23.539 +/-    nan | dlogz:  0.238 >  0.010] /usr/local/lib/python3.7/site-packages/dynesty/sampling.py:238: UserWarning: Random walk proposals appear to be extremely inefficient. Adjusting the scale-factor accordingly.\n",
      "  warnings.warn(\"Random walk proposals appear to be \"\n",
      "363754it [27:30:36,  3.84it/s, batch: 0 | bound: 367 | nc: 100 | ncall: 39722300 | eff(%):  0.916 | loglstar:   -inf < 57.249 <    inf | logz: 23.542 +/-    nan | dlogz:  0.227 >  0.010]  /usr/local/lib/python3.7/site-packages/dynesty/sampling.py:238: UserWarning: Random walk proposals appear to be extremely inefficient. Adjusting the scale-factor accordingly.\n",
      "  warnings.warn(\"Random walk proposals appear to be \"\n",
      "364756it [27:35:53,  3.88it/s, batch: 0 | bound: 367 | nc: 100 | ncall: 39849126 | eff(%):  0.915 | loglstar:   -inf < 57.287 <    inf | logz: 23.549 +/-    nan | dlogz:  0.207 >  0.010] /usr/local/lib/python3.7/site-packages/dynesty/sampling.py:238: UserWarning: Random walk proposals appear to be extremely inefficient. Adjusting the scale-factor accordingly.\n",
      "  warnings.warn(\"Random walk proposals appear to be \"\n",
      "366135it [27:46:31,  4.07it/s, batch: 0 | bound: 369 | nc: 100 | ncall: 40104048 | eff(%):  0.913 | loglstar:   -inf < 57.336 <    inf | logz: 23.558 +/-    nan | dlogz:  0.181 >  0.010]  /usr/local/lib/python3.7/site-packages/dynesty/sampling.py:238: UserWarning: Random walk proposals appear to be extremely inefficient. Adjusting the scale-factor accordingly.\n",
      "  warnings.warn(\"Random walk proposals appear to be \"\n",
      "369703it [28:06:56,  4.05it/s, batch: 0 | bound: 373 | nc: 100 | ncall: 40591123 | eff(%):  0.911 | loglstar:   -inf < 57.457 <    inf | logz: 23.576 +/-    nan | dlogz:  0.128 >  0.010]  /usr/local/lib/python3.7/site-packages/dynesty/sampling.py:238: UserWarning: Random walk proposals appear to be extremely inefficient. Adjusting the scale-factor accordingly.\n",
      "  warnings.warn(\"Random walk proposals appear to be \"\n",
      "370814it [28:16:02,  4.00it/s, batch: 0 | bound: 375 | nc: 100 | ncall: 40809864 | eff(%):  0.908 | loglstar:   -inf < 57.495 <    inf | logz: 23.581 +/-    nan | dlogz:  0.114 >  0.010]  /usr/local/lib/python3.7/site-packages/dynesty/sampling.py:238: UserWarning: Random walk proposals appear to be extremely inefficient. Adjusting the scale-factor accordingly.\n",
      "  warnings.warn(\"Random walk proposals appear to be \"\n"
     ]
    },
    {
     "name": "stderr",
     "output_type": "stream",
     "text": [
      "372494it [28:27:35,  4.11it/s, batch: 0 | bound: 377 | nc: 100 | ncall: 41087871 | eff(%):  0.906 | loglstar:   -inf < 57.546 <    inf | logz: 23.588 +/-    nan | dlogz:  0.097 >  0.010]   /usr/local/lib/python3.7/site-packages/dynesty/sampling.py:238: UserWarning: Random walk proposals appear to be extremely inefficient. Adjusting the scale-factor accordingly.\n",
      "  warnings.warn(\"Random walk proposals appear to be \"\n",
      "373813it [28:38:20,  3.63it/s, batch: 0 | bound: 379 | nc: 100 | ncall: 41346498 | eff(%):  0.904 | loglstar:   -inf < 57.585 <    inf | logz: 23.592 +/-    nan | dlogz:  0.085 >  0.010]  /usr/local/lib/python3.7/site-packages/dynesty/sampling.py:238: UserWarning: Random walk proposals appear to be extremely inefficient. Adjusting the scale-factor accordingly.\n",
      "  warnings.warn(\"Random walk proposals appear to be \"\n",
      "374550it [28:45:04,  4.02it/s, batch: 0 | bound: 381 | nc: 100 | ncall: 41510302 | eff(%):  0.902 | loglstar:   -inf < 57.605 <    inf | logz: 23.595 +/-    nan | dlogz:  0.079 >  0.010]  /usr/local/lib/python3.7/site-packages/dynesty/sampling.py:238: UserWarning: Random walk proposals appear to be extremely inefficient. Adjusting the scale-factor accordingly.\n",
      "  warnings.warn(\"Random walk proposals appear to be \"\n",
      "376045it [28:56:01,  4.01it/s, batch: 0 | bound: 383 | nc: 100 | ncall: 41773490 | eff(%):  0.900 | loglstar:   -inf < 57.649 <    inf | logz: 23.599 +/-    nan | dlogz:  0.068 >  0.010]  /usr/local/lib/python3.7/site-packages/dynesty/sampling.py:238: UserWarning: Random walk proposals appear to be extremely inefficient. Adjusting the scale-factor accordingly.\n",
      "  warnings.warn(\"Random walk proposals appear to be \"\n",
      "377226it [29:05:16,  4.04it/s, batch: 0 | bound: 385 | nc: 100 | ncall: 41996699 | eff(%):  0.898 | loglstar:   -inf < 57.681 <    inf | logz: 23.603 +/-    nan | dlogz:  0.061 >  0.010]  /usr/local/lib/python3.7/site-packages/dynesty/sampling.py:238: UserWarning: Random walk proposals appear to be extremely inefficient. Adjusting the scale-factor accordingly.\n",
      "  warnings.warn(\"Random walk proposals appear to be \"\n",
      "/usr/local/lib/python3.7/site-packages/dynesty/sampling.py:216: UserWarning: Random number generation appears to be extremely inefficient. Adjusting the scale-factor accordingly.\n",
      "  warnings.warn(\"Random number generation appears to be \"\n",
      "378471it [29:14:56,  4.01it/s, batch: 0 | bound: 387 | nc: 100 | ncall: 42228990 | eff(%):  0.896 | loglstar:   -inf < 57.713 <    inf | logz: 23.606 +/-    nan | dlogz:  0.054 >  0.010]  /usr/local/lib/python3.7/site-packages/dynesty/sampling.py:238: UserWarning: Random walk proposals appear to be extremely inefficient. Adjusting the scale-factor accordingly.\n",
      "  warnings.warn(\"Random walk proposals appear to be \"\n",
      "379677it [29:24:40,  4.02it/s, batch: 0 | bound: 389 | nc: 100 | ncall: 42463401 | eff(%):  0.894 | loglstar:   -inf < 57.743 <    inf | logz: 23.608 +/-    nan | dlogz:  0.048 >  0.010]  /usr/local/lib/python3.7/site-packages/dynesty/sampling.py:238: UserWarning: Random walk proposals appear to be extremely inefficient. Adjusting the scale-factor accordingly.\n",
      "  warnings.warn(\"Random walk proposals appear to be \"\n",
      "379826it [29:25:32,  4.04it/s, batch: 0 | bound: 389 | nc: 100 | ncall: 42484524 | eff(%):  0.894 | loglstar:   -inf < 57.747 <    inf | logz: 23.609 +/-    nan | dlogz:  0.047 >  0.010] /usr/local/lib/python3.7/site-packages/dynesty/sampling.py:238: UserWarning: Random walk proposals appear to be extremely inefficient. Adjusting the scale-factor accordingly.\n",
      "  warnings.warn(\"Random walk proposals appear to be \"\n",
      "382002it [29:40:25,  4.07it/s, batch: 0 | bound: 392 | nc: 100 | ncall: 42843575 | eff(%):  0.891 | loglstar:   -inf < 57.799 <    inf | logz: 23.613 +/-    nan | dlogz:  0.038 >  0.010]  /usr/local/lib/python3.7/site-packages/dynesty/sampling.py:238: UserWarning: Random walk proposals appear to be extremely inefficient. Adjusting the scale-factor accordingly.\n",
      "  warnings.warn(\"Random walk proposals appear to be \"\n",
      "382819it [29:44:30,  3.95it/s, batch: 0 | bound: 393 | nc: 100 | ncall: 42940513 | eff(%):  0.891 | loglstar:   -inf < 57.817 <    inf | logz: 23.614 +/-    nan | dlogz:  0.039 >  0.010]  /usr/local/lib/python3.7/site-packages/dynesty/sampling.py:238: UserWarning: Random walk proposals appear to be extremely inefficient. Adjusting the scale-factor accordingly.\n",
      "  warnings.warn(\"Random walk proposals appear to be \"\n",
      "/usr/local/lib/python3.7/site-packages/dynesty/sampling.py:216: UserWarning: Random number generation appears to be extremely inefficient. Adjusting the scale-factor accordingly.\n",
      "  warnings.warn(\"Random number generation appears to be \"\n",
      "383935it [29:54:22,  4.04it/s, batch: 0 | bound: 395 | nc: 100 | ncall: 43178227 | eff(%):  0.889 | loglstar:   -inf < 57.841 <    inf | logz: 23.616 +/-    nan | dlogz:  0.035 >  0.010]  /usr/local/lib/python3.7/site-packages/dynesty/sampling.py:238: UserWarning: Random walk proposals appear to be extremely inefficient. Adjusting the scale-factor accordingly.\n",
      "  warnings.warn(\"Random walk proposals appear to be \"\n",
      "/usr/local/lib/python3.7/site-packages/dynesty/sampling.py:216: UserWarning: Random number generation appears to be extremely inefficient. Adjusting the scale-factor accordingly.\n",
      "  warnings.warn(\"Random number generation appears to be \"\n",
      "385536it [30:05:44,  3.39it/s, batch: 0 | bound: 397 | nc: 100 | ncall: 43451838 | eff(%):  0.887 | loglstar:   -inf < 57.877 <    inf | logz: 23.619 +/-    nan | dlogz:  0.030 >  0.010]  /usr/local/lib/python3.7/site-packages/dynesty/sampling.py:238: UserWarning: Random walk proposals appear to be extremely inefficient. Adjusting the scale-factor accordingly.\n",
      "  warnings.warn(\"Random walk proposals appear to be \"\n",
      "/usr/local/lib/python3.7/site-packages/dynesty/sampling.py:216: UserWarning: Random number generation appears to be extremely inefficient. Adjusting the scale-factor accordingly.\n",
      "  warnings.warn(\"Random number generation appears to be \"\n",
      "386936it [30:15:46,  4.09it/s, batch: 0 | bound: 399 | nc: 100 | ncall: 43692190 | eff(%):  0.885 | loglstar:   -inf < 57.905 <    inf | logz: 23.620 +/-    nan | dlogz:  0.026 >  0.010]  /usr/local/lib/python3.7/site-packages/dynesty/sampling.py:238: UserWarning: Random walk proposals appear to be extremely inefficient. Adjusting the scale-factor accordingly.\n",
      "  warnings.warn(\"Random walk proposals appear to be \"\n",
      "/usr/local/lib/python3.7/site-packages/dynesty/sampling.py:216: UserWarning: Random number generation appears to be extremely inefficient. Adjusting the scale-factor accordingly.\n",
      "  warnings.warn(\"Random number generation appears to be \"\n",
      "388409it [30:26:12,  4.01it/s, batch: 0 | bound: 401 | nc: 100 | ncall: 43943026 | eff(%):  0.884 | loglstar:   -inf < 57.935 <    inf | logz: 23.622 +/-    nan | dlogz:  0.022 >  0.010]  /usr/local/lib/python3.7/site-packages/dynesty/sampling.py:238: UserWarning: Random walk proposals appear to be extremely inefficient. Adjusting the scale-factor accordingly.\n",
      "  warnings.warn(\"Random walk proposals appear to be \"\n",
      "/usr/local/lib/python3.7/site-packages/dynesty/sampling.py:216: UserWarning: Random number generation appears to be extremely inefficient. Adjusting the scale-factor accordingly.\n",
      "  warnings.warn(\"Random number generation appears to be \"\n",
      "389165it [30:35:18,  4.00it/s, batch: 0 | bound: 403 | nc: 100 | ncall: 44163004 | eff(%):  0.881 | loglstar:   -inf < 57.951 <    inf | logz: 23.623 +/-    nan | dlogz:  0.021 >  0.010]    /usr/local/lib/python3.7/site-packages/dynesty/sampling.py:238: UserWarning: Random walk proposals appear to be extremely inefficient. Adjusting the scale-factor accordingly.\n",
      "  warnings.warn(\"Random walk proposals appear to be \"\n",
      "/usr/local/lib/python3.7/site-packages/dynesty/sampling.py:216: UserWarning: Random number generation appears to be extremely inefficient. Adjusting the scale-factor accordingly.\n",
      "  warnings.warn(\"Random number generation appears to be \"\n",
      "390692it [30:46:31,  3.99it/s, batch: 0 | bound: 405 | nc: 100 | ncall: 44432911 | eff(%):  0.879 | loglstar:   -inf < 57.981 <    inf | logz: 23.624 +/-    nan | dlogz:  0.018 >  0.010]  /usr/local/lib/python3.7/site-packages/dynesty/sampling.py:238: UserWarning: Random walk proposals appear to be extremely inefficient. Adjusting the scale-factor accordingly.\n",
      "  warnings.warn(\"Random walk proposals appear to be \"\n"
     ]
    },
    {
     "name": "stderr",
     "output_type": "stream",
     "text": [
      "391355it [30:55:06,  3.93it/s, batch: 0 | bound: 407 | nc: 100 | ncall: 44640603 | eff(%):  0.876 | loglstar:   -inf < 57.994 <    inf | logz: 23.625 +/-    nan | dlogz:  0.017 >  0.010]  /usr/local/lib/python3.7/site-packages/dynesty/sampling.py:238: UserWarning: Random walk proposals appear to be extremely inefficient. Adjusting the scale-factor accordingly.\n",
      "  warnings.warn(\"Random walk proposals appear to be \"\n",
      "392760it [31:06:48,  4.09it/s, batch: 0 | bound: 409 | nc: 100 | ncall: 44923230 | eff(%):  0.874 | loglstar:   -inf < 58.019 <    inf | logz: 23.626 +/-    nan | dlogz:  0.014 >  0.010]  /usr/local/lib/python3.7/site-packages/dynesty/sampling.py:238: UserWarning: Random walk proposals appear to be extremely inefficient. Adjusting the scale-factor accordingly.\n",
      "  warnings.warn(\"Random walk proposals appear to be \"\n",
      "/usr/local/lib/python3.7/site-packages/dynesty/sampling.py:216: UserWarning: Random number generation appears to be extremely inefficient. Adjusting the scale-factor accordingly.\n",
      "  warnings.warn(\"Random number generation appears to be \"\n",
      "393525it [31:15:25,  3.96it/s, batch: 0 | bound: 411 | nc: 100 | ncall: 45133292 | eff(%):  0.872 | loglstar:   -inf < 58.032 <    inf | logz: 23.627 +/-    nan | dlogz:  0.013 >  0.010]   /usr/local/lib/python3.7/site-packages/dynesty/sampling.py:238: UserWarning: Random walk proposals appear to be extremely inefficient. Adjusting the scale-factor accordingly.\n",
      "  warnings.warn(\"Random walk proposals appear to be \"\n",
      "/usr/local/lib/python3.7/site-packages/dynesty/sampling.py:216: UserWarning: Random number generation appears to be extremely inefficient. Adjusting the scale-factor accordingly.\n",
      "  warnings.warn(\"Random number generation appears to be \"\n",
      "406427it [31:40:16,  3.56it/s, batch: 0 | bound: 414 | nc: 1 | ncall: 45570018 | eff(%):  0.892 | loglstar:   -inf < 58.669 <    inf | logz: 23.635 +/-    nan | dlogz:  0.000 >  0.010]    \n"
     ]
    }
   ],
   "source": [
    "results = k2_24.retrieve(walks = 100, bound = 'multi', nlive = 10000, wt_kwargs={'pfrac': 1.0})"
   ]
  },
  {
   "cell_type": "markdown",
   "metadata": {},
   "source": [
    "Let's check out our results. They won't be exactly the same as what Erik got in 2018 because that paper is a joint TTV+RV paper (where the TTVs are analytic). But, we should get somewhere reasonably close -- he got 53.3 and 43.4 ppm for the dynamical masses of planets b and c respectively. In our units (referenced to 3 ppm for Earth/Sun), we should expect something like 17.8 and 14.5.\n",
    "\n",
    "Let's see if we got there..."
   ]
  },
  {
   "cell_type": "code",
   "execution_count": 10,
   "metadata": {},
   "outputs": [
    {
     "name": "stdout",
     "output_type": "stream",
     "text": [
      "Summary (middle 95 percentile): \n",
      "$M_1/M_\\star/3\\times10^{-6}$: $18.300429^{+3.415101}_{-3.984473}$\n",
      "$P_1\\ [\\mathrm{days}]$: $20.882648^{+0.002237}_{-0.001645}$\n",
      "$\\sqrt{e}_1\\cos(\\omega_1)$: $0.206894^{+0.216221}_{-0.514025}$\n",
      "$\\sqrt{e}_1\\sin(\\omega_1)$: $-0.131415^{+0.308467}_{-0.32126}$\n",
      "$T_{0,1}\\ [\\mathrm{days}]$: $2.795165^{+0.001477}_{-0.001748}$\n",
      "$M_2/M_\\star/3\\times10^{-6}$: $14.433795^{+3.373654}_{-3.347795}$\n",
      "$P_2\\ [\\mathrm{days}]$: $42.374582^{+0.004299}_{-0.007406}$\n",
      "$\\sqrt{e}_2\\cos(\\omega_2)$: $0.153924^{+0.21311}_{-0.391581}$\n",
      "$\\sqrt{e}_2\\sin(\\omega_2)$: $0.055704^{+0.351523}_{-0.428196}$\n",
      "$T_{0,2}\\ [\\mathrm{days}]$: $12.625367^{+0.001184}_{-0.001152}$\n"
     ]
    }
   ],
   "source": [
    "k2_24.posterior_summary()\n",
    "ttvnest.plot_utils.plot_results(k2_24, uncertainty_curves = 100, \n",
    "                                sim_length = 365.25*100, outname = 'k2_24_rvprior_100yr')"
   ]
  },
  {
   "cell_type": "markdown",
   "metadata": {},
   "source": [
    "I'd say that's pretty solid! Let's make the dynesty plots for good measure:"
   ]
  },
  {
   "cell_type": "code",
   "execution_count": 6,
   "metadata": {},
   "outputs": [
    {
     "data": {
      "text/plain": [
       "['k2_24_rvprior_cornerplot.png',\n",
       " 'k2_24_rvprior_traceplot.png',\n",
       " 'k2_24_rvprior_runplot.png']"
      ]
     },
     "execution_count": 6,
     "metadata": {},
     "output_type": "execute_result"
    }
   ],
   "source": [
    "ttvnest.plot_utils.dynesty_plots(k2_24, outname = 'k2_24_rvprior')"
   ]
  },
  {
   "cell_type": "markdown",
   "metadata": {},
   "source": [
    "Great! Let's save our results for later:"
   ]
  },
  {
   "cell_type": "code",
   "execution_count": 7,
   "metadata": {},
   "outputs": [
    {
     "data": {
      "text/plain": [
       "'k2_24_rvprior.p'"
      ]
     },
     "execution_count": 7,
     "metadata": {},
     "output_type": "execute_result"
    }
   ],
   "source": [
    "ttvnest.io_utils.save_results(k2_24, 'k2_24_rvprior.p')"
   ]
  }
 ],
 "metadata": {
  "kernelspec": {
   "display_name": "Python 3",
   "language": "python",
   "name": "python3"
  },
  "language_info": {
   "codemirror_mode": {
    "name": "ipython",
    "version": 3
   },
   "file_extension": ".py",
   "mimetype": "text/x-python",
   "name": "python",
   "nbconvert_exporter": "python",
   "pygments_lexer": "ipython3",
   "version": "3.7.0"
  }
 },
 "nbformat": 4,
 "nbformat_minor": 2
}
