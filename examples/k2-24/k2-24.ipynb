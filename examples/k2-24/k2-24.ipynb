{
 "cells": [
  {
   "cell_type": "markdown",
   "metadata": {},
   "source": [
    "# TTV Retrieval for K2-24 (a sparsely sampled TTV system from *K2*)\n",
    "\n",
    "In this notebook, we will perform a dynamical retrieval for K2-24. This system is fairly representative of those observed by *K2* (and subsequent follow-up) in that the TTV phase coverage is relatively non-uniform compared to that of the *Kepler* TTV planets. But, as shown by Petigura et al. (2019), we can still place constraints on the masses! First, let's import packages and download data:"
   ]
  },
  {
   "cell_type": "code",
   "execution_count": 1,
   "metadata": {},
   "outputs": [],
   "source": [
    "%matplotlib inline\n",
    "import ttvnest\n",
    "import numpy as np\n",
    "import pandas as pd\n",
    "\n",
    "data = []\n",
    "errs = []\n",
    "epochs = []\n",
    "\n",
    "#reading in from Erik Petigura's paper data\n",
    "fname = 'petigura_times.txt'\n",
    "df = pd.read_csv(fname, sep = '\\t', skiprows = 5, skipfooter = 1, engine = 'python')\n",
    "arr = np.array(df)\n",
    "for planet in ['b', 'c']:\n",
    "    subarr = arr[np.where(arr[:,1] == planet)]\n",
    "    data.append(np.array(subarr[:,3], dtype = 'float'))\n",
    "    errs.append(np.array(subarr[:,4], dtype = 'float'))\n",
    "    epochs.append(np.array(subarr[:,2], dtype = 'int'))"
   ]
  },
  {
   "cell_type": "markdown",
   "metadata": {},
   "source": [
    "Now, let's set up the ttvnest system. I note that Petigura et al. (2016) analyzed the RVs for the system and got masses well below 100 Earth masses, so we'll set the prior limits there. For the prior on orbital period, I'll use the light curve constraints on the period from that earlier paper as well, extending out to $\\pm100\\sigma$:"
   ]
  },
  {
   "cell_type": "code",
   "execution_count": 2,
   "metadata": {},
   "outputs": [
    {
     "name": "stdout",
     "output_type": "stream",
     "text": [
      "Simulation start/reference time:  2070.0\n",
      "ttvnest timestep:  0.8342040000000001\n",
      "Simulation length:  653.0\n",
      "Simulation end time:  2723.0\n"
     ]
    }
   ],
   "source": [
    "k2_24_b = ttvnest.TTVPlanet(data[0], errs[0], epochs[0], mass_prior = ('Uniform', 0, 100.), \n",
    "                               period_prior = ('Uniform', 20.8851 - 100*0.0003, 20.8851 + 100*0.0003)\n",
    "                              )\n",
    "\n",
    "k2_24_c = ttvnest.TTVPlanet(data[1], errs[1], epochs[1], mass_prior = ('Uniform', 0, 100.), \n",
    "                               period_prior = ('Uniform', 42.3633 - 100*0.0006, 42.3633 + 100*0.0006)\n",
    "                              )\n",
    "\n",
    "k2_24 = ttvnest.TTVSystem(k2_24_b, k2_24_c)"
   ]
  },
  {
   "cell_type": "markdown",
   "metadata": {},
   "source": [
    "Before retrieval, let's plot the data alone to see what they look like: "
   ]
  },
  {
   "cell_type": "code",
   "execution_count": 3,
   "metadata": {},
   "outputs": [
    {
     "data": {
      "image/png": "[encoded data removed]",
      "text/plain": [
       "<Figure size 864x576 with 1 Axes>"
      ]
     },
     "metadata": {},
     "output_type": "display_data"
    },
    {
     "data": {
      "image/png": "[encoded data removed]",
      "text/plain": [
       "<Figure size 864x576 with 1 Axes>"
      ]
     },
     "metadata": {},
     "output_type": "display_data"
    }
   ],
   "source": [
    "ttvnest.plot_utils.plot_ttv_data(k2_24)"
   ]
  },
  {
   "cell_type": "markdown",
   "metadata": {},
   "source": [
    "Let's retrieve:"
   ]
  },
  {
   "cell_type": "code",
   "execution_count": 4,
   "metadata": {},
   "outputs": [
    {
     "name": "stderr",
     "output_type": "stream",
     "text": [
      "24784it [12:21, 23.08it/s, batch: 0 | bound: 116 | nc: 25 | ncall: 504165 | eff(%):  4.906 | loglstar:   -inf < -487.692 <    inf | logz: -517.179 +/-    nan | dlogz: 490.656 >  0.010]        /usr/local/lib/python3.7/site-packages/dynesty/sampling.py:238: UserWarning: Random walk proposals appear to be extremely inefficient. Adjusting the scale-factor accordingly.\n",
      "  warnings.warn(\"Random walk proposals appear to be \"\n",
      "25397it [13:10, 13.71it/s, batch: 0 | bound: 123 | nc: 149 | ncall: 528698 | eff(%):  4.795 | loglstar:   -inf < -403.429 <    inf | logz: -433.769 +/-    nan | dlogz: 406.657 >  0.010] /usr/local/lib/python3.7/site-packages/dynesty/sampling.py:238: UserWarning: Random walk proposals appear to be extremely inefficient. Adjusting the scale-factor accordingly.\n",
      "  warnings.warn(\"Random walk proposals appear to be \"\n",
      "25766it [13:35,  6.14it/s, batch: 0 | bound: 127 | nc: 186 | ncall: 541484 | eff(%):  4.750 | loglstar:   -inf < -359.752 <    inf | logz: -390.454 +/-    nan | dlogz: 362.963 >  0.010] /usr/local/lib/python3.7/site-packages/dynesty/sampling.py:238: UserWarning: Random walk proposals appear to be extremely inefficient. Adjusting the scale-factor accordingly.\n",
      "  warnings.warn(\"Random walk proposals appear to be \"\n",
      "27820it [15:22, 22.81it/s, batch: 0 | bound: 143 | nc: 25 | ncall: 600920 | eff(%):  4.622 | loglstar:   -inf < -171.401 <    inf | logz: -203.350 +/-    nan | dlogz: 193.680 >  0.010] /usr/local/lib/python3.7/site-packages/dynesty/sampling.py:238: UserWarning: Random walk proposals appear to be extremely inefficient. Adjusting the scale-factor accordingly.\n",
      "  warnings.warn(\"Random walk proposals appear to be \"\n",
      "28053it [15:48,  9.23it/s, batch: 0 | bound: 147 | nc: 509 | ncall: 616567 | eff(%):  4.543 | loglstar:   -inf < -155.558 <    inf | logz: -188.003 +/-    nan | dlogz: 178.114 >  0.010] /usr/local/lib/python3.7/site-packages/dynesty/sampling.py:238: UserWarning: Random walk proposals appear to be extremely inefficient. Adjusting the scale-factor accordingly.\n",
      "  warnings.warn(\"Random walk proposals appear to be \"\n",
      "28288it [16:06, 16.13it/s, batch: 0 | bound: 149 | nc: 25 | ncall: 626982 | eff(%):  4.505 | loglstar:   -inf < -140.464 <    inf | logz: -172.813 +/-    nan | dlogz: 162.670 >  0.010] /usr/local/lib/python3.7/site-packages/dynesty/sampling.py:238: UserWarning: Random walk proposals appear to be extremely inefficient. Adjusting the scale-factor accordingly.\n",
      "  warnings.warn(\"Random walk proposals appear to be \"\n",
      "28713it [16:30,  5.59it/s, batch: 0 | bound: 153 | nc: 443 | ncall: 641549 | eff(%):  4.469 | loglstar:   -inf < -115.725 <    inf | logz: -148.412 +/-    nan | dlogz: 140.818 >  0.010]/usr/local/lib/python3.7/site-packages/dynesty/sampling.py:238: UserWarning: Random walk proposals appear to be extremely inefficient. Adjusting the scale-factor accordingly.\n",
      "  warnings.warn(\"Random walk proposals appear to be \"\n",
      "29030it [16:57,  7.64it/s, batch: 0 | bound: 157 | nc: 530 | ncall: 657263 | eff(%):  4.410 | loglstar:   -inf < -100.034 <    inf | logz: -132.887 +/-    nan | dlogz: 145.689 >  0.010] /usr/local/lib/python3.7/site-packages/dynesty/sampling.py:238: UserWarning: Random walk proposals appear to be extremely inefficient. Adjusting the scale-factor accordingly.\n",
      "  warnings.warn(\"Random walk proposals appear to be \"\n",
      "30419it [18:04, 21.69it/s, batch: 0 | bound: 167 | nc: 25 | ncall: 697924 | eff(%):  4.352 | loglstar:   -inf < -43.519 <    inf | logz: -77.471 +/-    nan | dlogz: 90.388 >  0.010]    /usr/local/lib/python3.7/site-packages/dynesty/sampling.py:238: UserWarning: Random walk proposals appear to be extremely inefficient. Adjusting the scale-factor accordingly.\n",
      "  warnings.warn(\"Random walk proposals appear to be \"\n",
      "30711it [18:26, 23.98it/s, batch: 0 | bound: 170 | nc: 25 | ncall: 709524 | eff(%):  4.322 | loglstar:   -inf < -35.167 <    inf | logz: -69.065 +/-    nan | dlogz: 86.083 >  0.010] /usr/local/lib/python3.7/site-packages/dynesty/sampling.py:238: UserWarning: Random walk proposals appear to be extremely inefficient. Adjusting the scale-factor accordingly.\n",
      "  warnings.warn(\"Random walk proposals appear to be \"\n",
      "30783it [18:36, 24.52it/s, batch: 0 | bound: 172 | nc: 25 | ncall: 716105 | eff(%):  4.293 | loglstar:   -inf < -33.206 <    inf | logz: -67.220 +/-    nan | dlogz: 84.167 >  0.010]/usr/local/lib/python3.7/site-packages/dynesty/sampling.py:238: UserWarning: Random walk proposals appear to be extremely inefficient. Adjusting the scale-factor accordingly.\n",
      "  warnings.warn(\"Random walk proposals appear to be \"\n",
      "31040it [18:57, 19.93it/s, batch: 0 | bound: 175 | nc: 25 | ncall: 728949 | eff(%):  4.252 | loglstar:   -inf < -26.550 <    inf | logz: -60.814 +/-    nan | dlogz: 77.504 >  0.010]  /usr/local/lib/python3.7/site-packages/dynesty/sampling.py:238: UserWarning: Random walk proposals appear to be extremely inefficient. Adjusting the scale-factor accordingly.\n",
      "  warnings.warn(\"Random walk proposals appear to be \"\n",
      "31298it [19:18, 25.05it/s, batch: 0 | bound: 178 | nc: 25 | ncall: 741567 | eff(%):  4.215 | loglstar:   -inf < -19.887 <    inf | logz: -54.429 +/-    nan | dlogz: 70.862 >  0.010]/usr/local/lib/python3.7/site-packages/dynesty/sampling.py:238: UserWarning: Random walk proposals appear to be extremely inefficient. Adjusting the scale-factor accordingly.\n",
      "  warnings.warn(\"Random walk proposals appear to be \"\n",
      "31808it [19:50, 20.32it/s, batch: 0 | bound: 183 | nc: 25 | ncall: 759108 | eff(%):  4.185 | loglstar:   -inf < -8.694 <    inf | logz: -43.635 +/-    nan | dlogz: 61.874 >  0.010]   /usr/local/lib/python3.7/site-packages/dynesty/sampling.py:238: UserWarning: Random walk proposals appear to be extremely inefficient. Adjusting the scale-factor accordingly.\n",
      "  warnings.warn(\"Random walk proposals appear to be \"\n",
      "32172it [20:13, 16.29it/s, batch: 0 | bound: 187 | nc: 28 | ncall: 772450 | eff(%):  4.160 | loglstar:   -inf < -1.205 <    inf | logz: -36.287 +/-    nan | dlogz: 54.157 >  0.010] /usr/local/lib/python3.7/site-packages/dynesty/sampling.py:238: UserWarning: Random walk proposals appear to be extremely inefficient. Adjusting the scale-factor accordingly.\n",
      "  warnings.warn(\"Random walk proposals appear to be \"\n",
      "32456it [20:38, 21.38it/s, batch: 0 | bound: 190 | nc: 25 | ncall: 786560 | eff(%):  4.121 | loglstar:   -inf <  4.293 <    inf | logz: -31.082 +/-    nan | dlogz: 48.942 >  0.010]  /usr/local/lib/python3.7/site-packages/dynesty/sampling.py:238: UserWarning: Random walk proposals appear to be extremely inefficient. Adjusting the scale-factor accordingly.\n",
      "  warnings.warn(\"Random walk proposals appear to be \"\n",
      "32836it [21:06, 23.89it/s, batch: 0 | bound: 194 | nc: 25 | ncall: 800936 | eff(%):  4.095 | loglstar:   -inf <  9.928 <    inf | logz: -25.442 +/-    nan | dlogz: 48.482 >  0.010]/usr/local/lib/python3.7/site-packages/dynesty/sampling.py:238: UserWarning: Random walk proposals appear to be extremely inefficient. Adjusting the scale-factor accordingly.\n",
      "  warnings.warn(\"Random walk proposals appear to be \"\n",
      "33664it [21:57, 23.47it/s, batch: 0 | bound: 201 | nc: 25 | ncall: 830017 | eff(%):  4.051 | loglstar:   -inf < 20.617 <    inf | logz: -15.544 +/-    nan | dlogz: 37.756 >  0.010]/usr/local/lib/python3.7/site-packages/dynesty/sampling.py:238: UserWarning: Random walk proposals appear to be extremely inefficient. Adjusting the scale-factor accordingly.\n",
      "  warnings.warn(\"Random walk proposals appear to be \"\n",
      "33811it [22:19, 22.10it/s, batch: 0 | bound: 203 | nc: 25 | ncall: 842577 | eff(%):  4.008 | loglstar:   -inf < 22.227 <    inf | logz: -13.832 +/-    nan | dlogz: 35.894 >  0.010]  /usr/local/lib/python3.7/site-packages/dynesty/sampling.py:238: UserWarning: Random walk proposals appear to be extremely inefficient. Adjusting the scale-factor accordingly.\n",
      "  warnings.warn(\"Random walk proposals appear to be \"\n",
      "33915it [22:32, 21.83it/s, batch: 0 | bound: 205 | nc: 25 | ncall: 850766 | eff(%):  3.982 | loglstar:   -inf < 23.381 <    inf | logz: -12.806 +/-    nan | dlogz: 34.765 >  0.010]  /usr/local/lib/python3.7/site-packages/dynesty/sampling.py:238: UserWarning: Random walk proposals appear to be extremely inefficient. Adjusting the scale-factor accordingly.\n",
      "  warnings.warn(\"Random walk proposals appear to be \"\n"
     ]
    },
    {
     "name": "stderr",
     "output_type": "stream",
     "text": [
      "36462it [25:00, 22.45it/s, batch: 0 | bound: 224 | nc: 25 | ncall: 932262 | eff(%):  3.907 | loglstar:   -inf < 43.519 <    inf | logz:  5.654 +/-    nan | dlogz: 14.673 >  0.010]    /usr/local/lib/python3.7/site-packages/dynesty/sampling.py:238: UserWarning: Random walk proposals appear to be extremely inefficient. Adjusting the scale-factor accordingly.\n",
      "  warnings.warn(\"Random walk proposals appear to be \"\n",
      "36598it [25:21, 20.54it/s, batch: 0 | bound: 226 | nc: 25 | ncall: 943936 | eff(%):  3.873 | loglstar:   -inf < 44.281 <    inf | logz:  6.242 +/-    nan | dlogz: 13.949 >  0.010]  /usr/local/lib/python3.7/site-packages/dynesty/sampling.py:238: UserWarning: Random walk proposals appear to be extremely inefficient. Adjusting the scale-factor accordingly.\n",
      "  warnings.warn(\"Random walk proposals appear to be \"\n",
      "36818it [25:51, 22.73it/s, batch: 0 | bound: 229 | nc: 25 | ncall: 961151 | eff(%):  3.827 | loglstar:   -inf < 45.253 <    inf | logz:  7.114 +/-    nan | dlogz: 12.856 >  0.010]   /usr/local/lib/python3.7/site-packages/dynesty/sampling.py:238: UserWarning: Random walk proposals appear to be extremely inefficient. Adjusting the scale-factor accordingly.\n",
      "  warnings.warn(\"Random walk proposals appear to be \"\n",
      "41534it [30:04, 23.87it/s, batch: 0 | bound: 263 | nc: 25 | ncall: 1099822 | eff(%):  3.773 | loglstar:   -inf < 55.679 <    inf | logz: 14.977 +/-    nan | dlogz:  1.853 >  0.010]  /usr/local/lib/python3.7/site-packages/dynesty/sampling.py:238: UserWarning: Random walk proposals appear to be extremely inefficient. Adjusting the scale-factor accordingly.\n",
      "  warnings.warn(\"Random walk proposals appear to be \"\n",
      "58238it [50:07,  8.66it/s, batch: 5 | bound: 412 | nc: 25 | ncall: 1531766 | eff(%):  3.802 | loglstar: 51.905 < 58.534 < 56.707 | logz: 15.707 +/-    nan | stop:  0.988]             \n"
     ]
    }
   ],
   "source": [
    "results = k2_24.retrieve()"
   ]
  },
  {
   "cell_type": "markdown",
   "metadata": {},
   "source": [
    "Let's check out our results. They won't be exactly the same as what Erik got in 2018 because that paper is a joint TTV+RV paper (where the TTVs are analytic). But, we should get somewhere reasonably close -- he got 53.3 and 43.4 ppm for the dynamical masses of planets b and c respectively. In our units (referenced to 3 ppm for Earth/Sun), we should expect something like 17.8 and 14.5.\n",
    "\n",
    "Let's see if we got there..."
   ]
  },
  {
   "cell_type": "code",
   "execution_count": 5,
   "metadata": {},
   "outputs": [
    {
     "name": "stdout",
     "output_type": "stream",
     "text": [
      "Summary (middle 95 percentile): \n",
      "$M_1/M_\\star/3\\times10^{-6}$: $15.439034^{+9.644458}_{-8.565199}$\n",
      "$P_1\\ [\\mathrm{days}]$: $20.882954^{+0.001556}_{-0.001677}$\n",
      "$\\sqrt{e}_1\\cos(\\omega_1)$: $0.208061^{+0.177101}_{-0.227255}$\n",
      "$\\sqrt{e}_1\\sin(\\omega_1)$: $-0.252037^{+0.151371}_{-0.26323}$\n",
      "$T_{0,1}\\ [\\mathrm{days}]$: $2.794992^{+0.001444}_{-0.001263}$\n",
      "$M_2/M_\\star/3\\times10^{-6}$: $11.870861^{+9.014105}_{-6.836389}$\n",
      "$P_2\\ [\\mathrm{days}]$: $42.374087^{+0.004454}_{-0.004913}$\n",
      "$\\sqrt{e}_2\\cos(\\omega_2)$: $0.291722^{+0.139771}_{-0.258232}$\n",
      "$\\sqrt{e}_2\\sin(\\omega_2)$: $-0.020105^{+0.200132}_{-0.180981}$\n",
      "$T_{0,2}\\ [\\mathrm{days}]$: $12.625144^{+0.000992}_{-0.000995}$\n"
     ]
    }
   ],
   "source": [
    "k2_24.posterior_summary()\n",
    "ttvnest.plot_utils.plot_results(k2_24, uncertainty_curves = 100, \n",
    "                                sim_length = 365.25*10, outname = 'k2_24')"
   ]
  },
  {
   "cell_type": "markdown",
   "metadata": {},
   "source": [
    "I'd say that's pretty solid! Let's make the dynesty plots for good measure:"
   ]
  },
  {
   "cell_type": "code",
   "execution_count": 6,
   "metadata": {},
   "outputs": [
    {
     "name": "stdout",
     "output_type": "stream",
     "text": [
      "Axis limits error on runplot; internal to dynesty\n"
     ]
    },
    {
     "name": "stderr",
     "output_type": "stream",
     "text": [
      "/usr/local/lib/python3.7/site-packages/dynesty/plotting.py:203: RuntimeWarning: overflow encountered in exp\n",
      "  zspan = (0., 1.05 * np.exp(logz[-1] + 3. * logzerr[-1]))\n"
     ]
    }
   ],
   "source": [
    "ttvnest.plot_utils.dynesty_plots(k2_24, outname = 'k2_24')"
   ]
  },
  {
   "cell_type": "markdown",
   "metadata": {},
   "source": [
    "Great! Let's save our results for later:"
   ]
  },
  {
   "cell_type": "code",
   "execution_count": 7,
   "metadata": {},
   "outputs": [
    {
     "data": {
      "text/plain": [
       "'k2_24.p'"
      ]
     },
     "execution_count": 7,
     "metadata": {},
     "output_type": "execute_result"
    }
   ],
   "source": [
    "ttvnest.io_utils.save_results(k2_24, 'k2_24.p')"
   ]
  }
 ],
 "metadata": {
  "kernelspec": {
   "display_name": "Python 3",
   "language": "python",
   "name": "python3"
  },
  "language_info": {
   "codemirror_mode": {
    "name": "ipython",
    "version": 3
   },
   "file_extension": ".py",
   "mimetype": "text/x-python",
   "name": "python",
   "nbconvert_exporter": "python",
   "pygments_lexer": "ipython3",
   "version": "3.7.0"
  }
 },
 "nbformat": 4,
 "nbformat_minor": 2
}
