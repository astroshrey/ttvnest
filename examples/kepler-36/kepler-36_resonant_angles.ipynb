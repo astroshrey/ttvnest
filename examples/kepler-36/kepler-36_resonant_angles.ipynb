{
 "cells": [
  {
   "cell_type": "markdown",
   "metadata": {},
   "source": [
    "# Resonant Angle Analysis for Kepler-36\n",
    "\n",
    "In this example notebook, we'll integrate some posterior samples in rebound to investigate the behavior of various resonant arguments in the Kepler-36 system. First, we'll fetch the results of our retrieval:"
   ]
  },
  {
   "cell_type": "code",
   "execution_count": 1,
   "metadata": {},
   "outputs": [],
   "source": [
    "%matplotlib inline\n",
    "import ttvnest\n",
    "import numpy as np\n",
    "\n",
    "kepler36 = ttvnest.io_utils.load_results('kepler36.p')"
   ]
  },
  {
   "cell_type": "markdown",
   "metadata": {},
   "source": [
    "Now, let's plot an angle that we know circulates, so we can see what it looks like:"
   ]
  },
  {
   "cell_type": "code",
   "execution_count": 2,
   "metadata": {},
   "outputs": [],
   "source": [
    "resonance_ratio_string = '9:8'\n",
    "sim_length = 100 #yrs\n",
    "ttvnest.plot_utils.plot_resonant_angle(kepler36, resonance_ratio_string, sim_length, 'k36_9:8')"
   ]
  },
  {
   "cell_type": "markdown",
   "metadata": {},
   "source": [
    "Great, that's exactly how circulation should look. Now, we know the system is close to the 7:6 mean-motion resonance, so let's plot that resonant argument:"
   ]
  },
  {
   "cell_type": "code",
   "execution_count": 3,
   "metadata": {},
   "outputs": [],
   "source": [
    "resonance_ratio_string = '7:6'\n",
    "sim_length = 10000\n",
    "ttvnest.plot_utils.plot_resonant_angle(kepler36, resonance_ratio_string, sim_length,\n",
    "                                       downsample = 1000, outname = 'k36_7:6')"
   ]
  },
  {
   "cell_type": "markdown",
   "metadata": {},
   "source": [
    "Though there are some superimposed oscillations, the overall average behavior for the resonant angle here is circulation. The system is also near the 34:29 resonance. Let's see what's going on there:"
   ]
  },
  {
   "cell_type": "code",
   "execution_count": 4,
   "metadata": {},
   "outputs": [],
   "source": [
    "resonance_ratio_string = '34:29'\n",
    "sim_length = 10000\n",
    "ttvnest.plot_utils.plot_resonant_angle(kepler36, resonance_ratio_string, sim_length,\n",
    "                                       downsample = 1000, outname = 'k36_34:29')"
   ]
  },
  {
   "cell_type": "markdown",
   "metadata": {},
   "source": [
    "Whoah -- this angle behaves chaotically. Indeed, this behavior was documented by Deck et al. (2012)."
   ]
  },
  {
   "cell_type": "code",
   "execution_count": null,
   "metadata": {},
   "outputs": [],
   "source": []
  }
 ],
 "metadata": {
  "kernelspec": {
   "display_name": "Python 3",
   "language": "python",
   "name": "python3"
  },
  "language_info": {
   "codemirror_mode": {
    "name": "ipython",
    "version": 3
   },
   "file_extension": ".py",
   "mimetype": "text/x-python",
   "name": "python",
   "nbconvert_exporter": "python",
   "pygments_lexer": "ipython3",
   "version": "3.7.0"
  }
 },
 "nbformat": 4,
 "nbformat_minor": 2
}
