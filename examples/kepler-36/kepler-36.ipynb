{
 "cells": [
  {
   "cell_type": "markdown",
   "metadata": {},
   "source": [
    "# TTV Retrieval for Kepler-36 (a well-studied, dynamically-interacting system)\n",
    "\n",
    "In this notebook, we will perform a dynamical retrieval for Kepler-36 = KOI-277. With two neighboring planets of drastically different densities (the inner planet is rocky and the outer planet is gaseous; see [Carter et al. 2012](https://ui.adsabs.harvard.edu/abs/2012Sci...337..556C/abstract)), this is one of the more well-studied TTV systems in existence. First, let's import packages and download data from the Rowe et al. (2015) TTV catalog:"
   ]
  },
  {
   "cell_type": "code",
   "execution_count": 1,
   "metadata": {},
   "outputs": [
    {
     "name": "stdout",
     "output_type": "stream",
     "text": [
      "Downloading Rowe+15 data from Vizier...\n",
      "Data retrieved!\n"
     ]
    }
   ],
   "source": [
    "%matplotlib inline\n",
    "import ttvnest\n",
    "import numpy as np\n",
    "\n",
    "koi = 277\n",
    "nplanets = 2\n",
    "data, errs, epochs = ttvnest.load_data.get_data(koi, nplanets)"
   ]
  },
  {
   "cell_type": "markdown",
   "metadata": {},
   "source": [
    "Now, let's set up the ttvnest system:"
   ]
  },
  {
   "cell_type": "code",
   "execution_count": 2,
   "metadata": {},
   "outputs": [
    {
     "name": "stdout",
     "output_type": "stream",
     "text": [
      "Simulation start/reference time:  53.0\n",
      "ttvnest timestep:  0.5536\n",
      "Simulation length:  1451.0\n",
      "Simulation end time:  1504.0\n"
     ]
    }
   ],
   "source": [
    "kepler36_b = ttvnest.TTVPlanet(data[1], errs[1], epochs[1], mass_prior = ('Uniform', 0, 100.), \n",
    "                               period_prior = ('Normal', 13.84, 0.01)\n",
    "                              )\n",
    "\n",
    "kepler36_c = ttvnest.TTVPlanet(data[0], errs[0], epochs[0], mass_prior = ('Uniform', 0, 100.), \n",
    "                               period_prior = ('Normal', 16.23, 0.01)\n",
    "                              )\n",
    "\n",
    "kepler36 = ttvnest.TTVSystem(kepler36_b, kepler36_c)"
   ]
  },
  {
   "cell_type": "markdown",
   "metadata": {},
   "source": [
    "Before retrieval, let's plot the data alone to see what they look like: "
   ]
  },
  {
   "cell_type": "code",
   "execution_count": 3,
   "metadata": {},
   "outputs": [
    {
     "data": {
      "image/png": "[encoded data removed]",
      "text/plain": [
       "<Figure size 864x576 with 1 Axes>"
      ]
     },
     "metadata": {},
     "output_type": "display_data"
    },
    {
     "data": {
      "image/png": "[encoded data removed]",
      "text/plain": [
       "<Figure size 864x576 with 1 Axes>"
      ]
     },
     "metadata": {},
     "output_type": "display_data"
    }
   ],
   "source": [
    "ttvnest.plot_utils.plot_ttv_data(kepler36)"
   ]
  },
  {
   "cell_type": "markdown",
   "metadata": {},
   "source": [
    "Clear, anticorrelated signals! Let's retrieve:"
   ]
  },
  {
   "cell_type": "code",
   "execution_count": 4,
   "metadata": {},
   "outputs": [
    {
     "name": "stderr",
     "output_type": "stream",
     "text": [
      "50195it [11:52,  5.97it/s, batch: 0 | bound: 1 | nc: 25 | ncall: 502670 | eff(%):  9.966 | loglstar:   -inf <   -inf <    inf | logz:   -inf +/-    nan | dlogz:    inf >  0.010]  /usr/local/lib/python3.7/site-packages/dynesty/sampling.py:238: UserWarning: Random walk proposals appear to be extremely inefficient. Adjusting the scale-factor accordingly.\n",
      "  warnings.warn(\"Random walk proposals appear to be \"\n",
      "/usr/local/lib/python3.7/site-packages/dynesty/sampling.py:216: UserWarning: Random number generation appears to be extremely inefficient. Adjusting the scale-factor accordingly.\n",
      "  warnings.warn(\"Random number generation appears to be \"\n",
      "50552it [13:20,  1.19s/it, batch: 0 | bound: 6 | nc: 874 | ncall: 524994 | eff(%):  9.611 | loglstar:   -inf <   -inf <    inf | logz:   -inf +/-    nan | dlogz:    inf >  0.010]/usr/local/lib/python3.7/site-packages/dynesty/sampling.py:238: UserWarning: Random walk proposals appear to be extremely inefficient. Adjusting the scale-factor accordingly.\n",
      "  warnings.warn(\"Random walk proposals appear to be \"\n",
      "50563it [13:30,  1.99it/s, batch: 0 | bound: 7 | nc: 25 | ncall: 527326 | eff(%):  9.570 | loglstar:   -inf <   -inf <    inf | logz:   -inf +/-    nan | dlogz:    inf >  0.010]  /usr/local/lib/python3.7/site-packages/dynesty/sampling.py:238: UserWarning: Random walk proposals appear to be extremely inefficient. Adjusting the scale-factor accordingly.\n",
      "  warnings.warn(\"Random walk proposals appear to be \"\n",
      "51167it [15:24,  6.02it/s, batch: 0 | bound: 14 | nc: 25 | ncall: 553266 | eff(%):  9.231 | loglstar:   -inf <   -inf <    inf | logz:   -inf +/-    nan | dlogz:    inf >  0.010] /usr/local/lib/python3.7/site-packages/dynesty/sampling.py:238: UserWarning: Random walk proposals appear to be extremely inefficient. Adjusting the scale-factor accordingly.\n",
      "  warnings.warn(\"Random walk proposals appear to be \"\n",
      "51299it [15:58,  6.32it/s, batch: 0 | bound: 15 | nc: 25 | ncall: 561087 | eff(%):  9.127 | loglstar:   -inf <   -inf <    inf | logz:   -inf +/-    nan | dlogz:    inf >  0.010]  /usr/local/lib/python3.7/site-packages/dynesty/sampling.py:238: UserWarning: Random walk proposals appear to be extremely inefficient. Adjusting the scale-factor accordingly.\n",
      "  warnings.warn(\"Random walk proposals appear to be \"\n",
      "51546it [16:42,  7.96it/s, batch: 0 | bound: 18 | nc: 25 | ncall: 571130 | eff(%):  9.009 | loglstar:   -inf <   -inf <    inf | logz:   -inf +/-    nan | dlogz:    inf >  0.010]  /usr/local/lib/python3.7/site-packages/dynesty/sampling.py:238: UserWarning: Random walk proposals appear to be extremely inefficient. Adjusting the scale-factor accordingly.\n",
      "  warnings.warn(\"Random walk proposals appear to be \"\n",
      "51556it [17:20,  1.78it/s, batch: 0 | bound: 19 | nc: 25 | ncall: 580165 | eff(%):  8.871 | loglstar:   -inf <   -inf <    inf | logz:   -inf +/-    nan | dlogz:    inf >  0.010]  /usr/local/lib/python3.7/site-packages/dynesty/sampling.py:238: UserWarning: Random walk proposals appear to be extremely inefficient. Adjusting the scale-factor accordingly.\n",
      "  warnings.warn(\"Random walk proposals appear to be \"\n",
      "51659it [18:10,  8.00it/s, batch: 0 | bound: 21 | nc: 25 | ncall: 591661 | eff(%):  8.716 | loglstar:   -inf <   -inf <    inf | logz:   -inf +/-    nan | dlogz:    inf >  0.010]  /usr/local/lib/python3.7/site-packages/dynesty/sampling.py:238: UserWarning: Random walk proposals appear to be extremely inefficient. Adjusting the scale-factor accordingly.\n",
      "  warnings.warn(\"Random walk proposals appear to be \"\n",
      "51893it [18:54,  6.40it/s, batch: 0 | bound: 23 | nc: 25 | ncall: 601643 | eff(%):  8.611 | loglstar:   -inf <   -inf <    inf | logz:   -inf +/-    nan | dlogz:    inf >  0.010]  /usr/local/lib/python3.7/site-packages/dynesty/sampling.py:238: UserWarning: Random walk proposals appear to be extremely inefficient. Adjusting the scale-factor accordingly.\n",
      "  warnings.warn(\"Random walk proposals appear to be \"\n",
      "52012it [19:20,  7.45it/s, batch: 0 | bound: 25 | nc: 25 | ncall: 607683 | eff(%):  8.545 | loglstar:   -inf <   -inf <    inf | logz:   -inf +/-    nan | dlogz:    inf >  0.010]  /usr/local/lib/python3.7/site-packages/dynesty/sampling.py:238: UserWarning: Random walk proposals appear to be extremely inefficient. Adjusting the scale-factor accordingly.\n",
      "  warnings.warn(\"Random walk proposals appear to be \"\n",
      "52093it [19:44,  8.06it/s, batch: 0 | bound: 26 | nc: 25 | ncall: 613193 | eff(%):  8.482 | loglstar:   -inf <   -inf <    inf | logz:   -inf +/-    nan | dlogz:    inf >  0.010]  /usr/local/lib/python3.7/site-packages/dynesty/sampling.py:238: UserWarning: Random walk proposals appear to be extremely inefficient. Adjusting the scale-factor accordingly.\n",
      "  warnings.warn(\"Random walk proposals appear to be \"\n",
      "52187it [20:04,  2.11it/s, batch: 0 | bound: 27 | nc: 307 | ncall: 617557 | eff(%):  8.437 | loglstar:   -inf <   -inf <    inf | logz:   -inf +/-    nan | dlogz:    inf >  0.010] /usr/local/lib/python3.7/site-packages/dynesty/sampling.py:238: UserWarning: Random walk proposals appear to be extremely inefficient. Adjusting the scale-factor accordingly.\n",
      "  warnings.warn(\"Random walk proposals appear to be \"\n",
      "52408it [20:56,  5.12it/s, batch: 0 | bound: 30 | nc: 25 | ncall: 629290 | eff(%):  8.315 | loglstar:   -inf <   -inf <    inf | logz:   -inf +/-    nan | dlogz: 993352.777 >  0.010] /usr/local/lib/python3.7/site-packages/dynesty/sampling.py:238: UserWarning: Random walk proposals appear to be extremely inefficient. Adjusting the scale-factor accordingly.\n",
      "  warnings.warn(\"Random walk proposals appear to be \"\n",
      "52547it [21:39,  8.61it/s, batch: 0 | bound: 32 | nc: 25 | ncall: 639084 | eff(%):  8.209 | loglstar:   -inf < -906589.791 <    inf | logz: -906649.912 +/-    nan | dlogz: 872770.862 >  0.010]  /usr/local/lib/python3.7/site-packages/dynesty/sampling.py:238: UserWarning: Random walk proposals appear to be extremely inefficient. Adjusting the scale-factor accordingly.\n",
      "  warnings.warn(\"Random walk proposals appear to be \"\n",
      "52586it [21:50,  8.77it/s, batch: 0 | bound: 33 | nc: 25 | ncall: 641751 | eff(%):  8.181 | loglstar:   -inf < -884692.188 <    inf | logz: -884752.348 +/-    nan | dlogz: 850525.597 >  0.010]  /usr/local/lib/python3.7/site-packages/dynesty/sampling.py:238: UserWarning: Random walk proposals appear to be extremely inefficient. Adjusting the scale-factor accordingly.\n",
      "  warnings.warn(\"Random walk proposals appear to be \"\n",
      "52716it [22:23,  8.46it/s, batch: 0 | bound: 35 | nc: 25 | ncall: 649116 | eff(%):  8.109 | loglstar:   -inf < -813302.617 <    inf | logz: -813362.907 +/-    nan | dlogz: 778957.926 >  0.010]  /usr/local/lib/python3.7/site-packages/dynesty/sampling.py:238: UserWarning: Random walk proposals appear to be extremely inefficient. Adjusting the scale-factor accordingly.\n",
      "  warnings.warn(\"Random walk proposals appear to be \"\n",
      "52973it [23:14,  8.47it/s, batch: 0 | bound: 38 | nc: 25 | ncall: 660561 | eff(%):  8.007 | loglstar:   -inf < -675617.883 <    inf | logz: -675678.430 +/-    nan | dlogz: 642622.156 >  0.010]  /usr/local/lib/python3.7/site-packages/dynesty/sampling.py:238: UserWarning: Random walk proposals appear to be extremely inefficient. Adjusting the scale-factor accordingly.\n",
      "  warnings.warn(\"Random walk proposals appear to be \"\n",
      "53131it [23:51,  8.41it/s, batch: 0 | bound: 40 | nc: 25 | ncall: 668858 | eff(%):  7.932 | loglstar:   -inf < -599700.185 <    inf | logz: -599760.889 +/-    nan | dlogz: 565354.385 >  0.010]  /usr/local/lib/python3.7/site-packages/dynesty/sampling.py:238: UserWarning: Random walk proposals appear to be extremely inefficient. Adjusting the scale-factor accordingly.\n",
      "  warnings.warn(\"Random walk proposals appear to be \"\n",
      "53230it [24:13,  3.56it/s, batch: 0 | bound: 41 | nc: 25 | ncall: 673809 | eff(%):  7.888 | loglstar:   -inf < -560058.732 <    inf | logz: -560119.537 +/-    nan | dlogz: 525750.959 >  0.010]  /usr/local/lib/python3.7/site-packages/dynesty/sampling.py:238: UserWarning: Random walk proposals appear to be extremely inefficient. Adjusting the scale-factor accordingly.\n",
      "  warnings.warn(\"Random walk proposals appear to be \"\n"
     ]
    },
    {
     "name": "stderr",
     "output_type": "stream",
     "text": [
      "53238it [24:22,  2.30it/s, batch: 0 | bound: 42 | nc: 25 | ncall: 676050 | eff(%):  7.863 | loglstar:   -inf < -557474.665 <    inf | logz: -557535.478 +/-    nan | dlogz: 523786.784 >  0.010]  /usr/local/lib/python3.7/site-packages/dynesty/sampling.py:238: UserWarning: Random walk proposals appear to be extremely inefficient. Adjusting the scale-factor accordingly.\n",
      "  warnings.warn(\"Random walk proposals appear to be \"\n",
      "53310it [24:39,  7.70it/s, batch: 0 | bound: 43 | nc: 25 | ncall: 679788 | eff(%):  7.831 | loglstar:   -inf < -530960.872 <    inf | logz: -531021.757 +/-    nan | dlogz: 496839.233 >  0.010]  /usr/local/lib/python3.7/site-packages/dynesty/sampling.py:238: UserWarning: Random walk proposals appear to be extremely inefficient. Adjusting the scale-factor accordingly.\n",
      "  warnings.warn(\"Random walk proposals appear to be \"\n",
      "53410it [25:08,  8.91it/s, batch: 0 | bound: 44 | nc: 25 | ncall: 686643 | eff(%):  7.767 | loglstar:   -inf < -496225.478 <    inf | logz: -496286.463 +/-    nan | dlogz: 462007.781 >  0.010]  /usr/local/lib/python3.7/site-packages/dynesty/sampling.py:238: UserWarning: Random walk proposals appear to be extremely inefficient. Adjusting the scale-factor accordingly.\n",
      "  warnings.warn(\"Random walk proposals appear to be \"\n",
      "53473it [25:27,  8.95it/s, batch: 0 | bound: 45 | nc: 25 | ncall: 690937 | eff(%):  7.728 | loglstar:   -inf < -478572.539 <    inf | logz: -478633.586 +/-    nan | dlogz: 444881.815 >  0.010]  /usr/local/lib/python3.7/site-packages/dynesty/sampling.py:238: UserWarning: Random walk proposals appear to be extremely inefficient. Adjusting the scale-factor accordingly.\n",
      "  warnings.warn(\"Random walk proposals appear to be \"\n",
      "53488it [25:37,  7.64it/s, batch: 0 | bound: 46 | nc: 25 | ncall: 693255 | eff(%):  7.704 | loglstar:   -inf < -474489.422 <    inf | logz: -474550.484 +/-    nan | dlogz: 440710.407 >  0.010]  /usr/local/lib/python3.7/site-packages/dynesty/sampling.py:238: UserWarning: Random walk proposals appear to be extremely inefficient. Adjusting the scale-factor accordingly.\n",
      "  warnings.warn(\"Random walk proposals appear to be \"\n",
      "53741it [26:24,  7.44it/s, batch: 0 | bound: 48 | nc: 25 | ncall: 704190 | eff(%):  7.621 | loglstar:   -inf < -401259.878 <    inf | logz: -401321.193 +/-    nan | dlogz: 367260.347 >  0.010]  /usr/local/lib/python3.7/site-packages/dynesty/sampling.py:238: UserWarning: Random walk proposals appear to be extremely inefficient. Adjusting the scale-factor accordingly.\n",
      "  warnings.warn(\"Random walk proposals appear to be \"\n",
      "53803it [26:42,  6.58it/s, batch: 0 | bound: 49 | nc: 25 | ncall: 708278 | eff(%):  7.586 | loglstar:   -inf < -378419.556 <    inf | logz: -378480.933 +/-    nan | dlogz: 344318.793 >  0.010]  /usr/local/lib/python3.7/site-packages/dynesty/sampling.py:238: UserWarning: Random walk proposals appear to be extremely inefficient. Adjusting the scale-factor accordingly.\n",
      "  warnings.warn(\"Random walk proposals appear to be \"\n",
      "53888it [27:01,  8.85it/s, batch: 0 | bound: 50 | nc: 25 | ncall: 712878 | eff(%):  7.549 | loglstar:   -inf < -361157.174 <    inf | logz: -361218.636 +/-    nan | dlogz: 326882.277 >  0.010]  /usr/local/lib/python3.7/site-packages/dynesty/sampling.py:238: UserWarning: Random walk proposals appear to be extremely inefficient. Adjusting the scale-factor accordingly.\n",
      "  warnings.warn(\"Random walk proposals appear to be \"\n",
      "53898it [27:21,  2.83it/s, batch: 0 | bound: 51 | nc: 25 | ncall: 717468 | eff(%):  7.502 | loglstar:   -inf < -359416.264 <    inf | logz: -359477.736 +/-    nan | dlogz: 325080.128 >  0.010]  /usr/local/lib/python3.7/site-packages/dynesty/sampling.py:238: UserWarning: Random walk proposals appear to be extremely inefficient. Adjusting the scale-factor accordingly.\n",
      "  warnings.warn(\"Random walk proposals appear to be \"\n",
      "54009it [27:51,  5.04it/s, batch: 0 | bound: 52 | nc: 25 | ncall: 724583 | eff(%):  7.444 | loglstar:   -inf < -345244.858 <    inf | logz: -345306.441 +/-    nan | dlogz: 311084.668 >  0.010]  /usr/local/lib/python3.7/site-packages/dynesty/sampling.py:238: UserWarning: Random walk proposals appear to be extremely inefficient. Adjusting the scale-factor accordingly.\n",
      "  warnings.warn(\"Random walk proposals appear to be \"\n",
      "54034it [28:33,  8.75it/s, batch: 0 | bound: 53 | nc: 25 | ncall: 738926 | eff(%):  7.303 | loglstar:   -inf < -340506.389 <    inf | logz: -340567.997 +/-    nan | dlogz: 307239.308 >  0.010]   /usr/local/lib/python3.7/site-packages/dynesty/sampling.py:238: UserWarning: Random walk proposals appear to be extremely inefficient. Adjusting the scale-factor accordingly.\n",
      "  warnings.warn(\"Random walk proposals appear to be \"\n",
      "54125it [29:12,  9.05it/s, batch: 0 | bound: 54 | nc: 25 | ncall: 751181 | eff(%):  7.196 | loglstar:   -inf < -327749.573 <    inf | logz: -327811.272 +/-    nan | dlogz: 293620.927 >  0.010]  /usr/local/lib/python3.7/site-packages/dynesty/sampling.py:238: UserWarning: Random walk proposals appear to be extremely inefficient. Adjusting the scale-factor accordingly.\n",
      "  warnings.warn(\"Random walk proposals appear to be \"\n",
      "54148it [29:26,  6.30it/s, batch: 0 | bound: 55 | nc: 25 | ncall: 755890 | eff(%):  7.154 | loglstar:   -inf < -325106.321 <    inf | logz: -325168.043 +/-    nan | dlogz: 290997.149 >  0.010]  /usr/local/lib/python3.7/site-packages/dynesty/sampling.py:238: UserWarning: Random walk proposals appear to be extremely inefficient. Adjusting the scale-factor accordingly.\n",
      "  warnings.warn(\"Random walk proposals appear to be \"\n",
      "54207it [29:41,  8.17it/s, batch: 0 | bound: 56 | nc: 25 | ncall: 760423 | eff(%):  7.119 | loglstar:   -inf < -317812.823 <    inf | logz: -317874.604 +/-    nan | dlogz: 283602.028 >  0.010]  /usr/local/lib/python3.7/site-packages/dynesty/sampling.py:238: UserWarning: Random walk proposals appear to be extremely inefficient. Adjusting the scale-factor accordingly.\n",
      "  warnings.warn(\"Random walk proposals appear to be \"\n",
      "54405it [30:21,  6.01it/s, batch: 0 | bound: 59 | nc: 25 | ncall: 769844 | eff(%):  7.058 | loglstar:   -inf < -293524.792 <    inf | logz: -293586.771 +/-    nan | dlogz: 259249.730 >  0.010]  /usr/local/lib/python3.7/site-packages/dynesty/sampling.py:238: UserWarning: Random walk proposals appear to be extremely inefficient. Adjusting the scale-factor accordingly.\n",
      "  warnings.warn(\"Random walk proposals appear to be \"\n",
      "54756it [31:23,  6.45it/s, batch: 0 | bound: 63 | nc: 52 | ncall: 783964 | eff(%):  6.976 | loglstar:   -inf < -255814.310 <    inf | logz: -255876.640 +/-    nan | dlogz: 221507.626 >  0.010]  /usr/local/lib/python3.7/site-packages/dynesty/sampling.py:238: UserWarning: Random walk proposals appear to be extremely inefficient. Adjusting the scale-factor accordingly.\n",
      "  warnings.warn(\"Random walk proposals appear to be \"\n",
      "54831it [32:04,  9.34it/s, batch: 0 | bound: 64 | nc: 25 | ncall: 793309 | eff(%):  6.903 | loglstar:   -inf < -249433.140 <    inf | logz: -249495.394 +/-    nan | dlogz: 215082.030 >  0.010]  /usr/local/lib/python3.7/site-packages/dynesty/sampling.py:238: UserWarning: Random walk proposals appear to be extremely inefficient. Adjusting the scale-factor accordingly.\n",
      "  warnings.warn(\"Random walk proposals appear to be \"\n",
      "54845it [32:16,  4.51it/s, batch: 0 | bound: 65 | nc: 25 | ncall: 796341 | eff(%):  6.878 | loglstar:   -inf < -247720.868 <    inf | logz: -247783.287 +/-    nan | dlogz: 213390.542 >  0.010]  /usr/local/lib/python3.7/site-packages/dynesty/sampling.py:238: UserWarning: Random walk proposals appear to be extremely inefficient. Adjusting the scale-factor accordingly.\n",
      "  warnings.warn(\"Random walk proposals appear to be \"\n",
      "54875it [32:29,  7.56it/s, batch: 0 | bound: 66 | nc: 25 | ncall: 799714 | eff(%):  6.853 | loglstar:   -inf < -245358.285 <    inf | logz: -245420.734 +/-    nan | dlogz: 211022.106 >  0.010]  /usr/local/lib/python3.7/site-packages/dynesty/sampling.py:238: UserWarning: Random walk proposals appear to be extremely inefficient. Adjusting the scale-factor accordingly.\n",
      "  warnings.warn(\"Random walk proposals appear to be \"\n"
     ]
    },
    {
     "name": "stderr",
     "output_type": "stream",
     "text": [
      "55103it [33:43,  1.02s/it, batch: 0 | bound: 70 | nc: 25 | ncall: 817969 | eff(%):  6.728 | loglstar:   -inf < -224446.816 <    inf | logz: -224509.492 +/-    nan | dlogz: 197579.423 >  0.010]  /usr/local/lib/python3.7/site-packages/dynesty/sampling.py:238: UserWarning: Random walk proposals appear to be extremely inefficient. Adjusting the scale-factor accordingly.\n",
      "  warnings.warn(\"Random walk proposals appear to be \"\n",
      "55168it [34:55,  1.94it/s, batch: 0 | bound: 71 | nc: 25 | ncall: 833101 | eff(%):  6.614 | loglstar:   -inf < -218624.916 <    inf | logz: -218687.658 +/-    nan | dlogz: 191726.742 >  0.010]   /usr/local/lib/python3.7/site-packages/dynesty/sampling.py:238: UserWarning: Random walk proposals appear to be extremely inefficient. Adjusting the scale-factor accordingly.\n",
      "  warnings.warn(\"Random walk proposals appear to be \"\n",
      "55195it [35:05,  6.91it/s, batch: 0 | bound: 72 | nc: 25 | ncall: 835859 | eff(%):  6.595 | loglstar:   -inf < -215984.521 <    inf | logz: -216047.290 +/-    nan | dlogz: 189110.906 >  0.010]  /usr/local/lib/python3.7/site-packages/dynesty/sampling.py:238: UserWarning: Random walk proposals appear to be extremely inefficient. Adjusting the scale-factor accordingly.\n",
      "  warnings.warn(\"Random walk proposals appear to be \"\n",
      "55508it [36:18,  7.62it/s, batch: 0 | bound: 76 | nc: 25 | ncall: 850282 | eff(%):  6.521 | loglstar:   -inf < -191916.122 <    inf | logz: -191979.203 +/-    nan | dlogz: 165050.329 >  0.010]  /usr/local/lib/python3.7/site-packages/dynesty/sampling.py:238: UserWarning: Random walk proposals appear to be extremely inefficient. Adjusting the scale-factor accordingly.\n",
      "  warnings.warn(\"Random walk proposals appear to be \"\n",
      "55631it [36:55,  7.09it/s, batch: 0 | bound: 78 | nc: 25 | ncall: 857499 | eff(%):  6.480 | loglstar:   -inf < -184189.770 <    inf | logz: -184252.974 +/-    nan | dlogz: 157237.038 >  0.010]  /usr/local/lib/python3.7/site-packages/dynesty/sampling.py:238: UserWarning: Random walk proposals appear to be extremely inefficient. Adjusting the scale-factor accordingly.\n",
      "  warnings.warn(\"Random walk proposals appear to be \"\n",
      "55923it [38:22,  6.89it/s, batch: 0 | bound: 81 | nc: 25 | ncall: 875042 | eff(%):  6.384 | loglstar:   -inf < -164497.313 <    inf | logz: -164560.809 +/-    nan | dlogz: 137977.128 >  0.010]  /usr/local/lib/python3.7/site-packages/dynesty/sampling.py:238: UserWarning: Random walk proposals appear to be extremely inefficient. Adjusting the scale-factor accordingly.\n",
      "  warnings.warn(\"Random walk proposals appear to be \"\n",
      "56056it [38:56,  6.60it/s, batch: 0 | bound: 83 | nc: 25 | ncall: 883052 | eff(%):  6.341 | loglstar:   -inf < -155734.007 <    inf | logz: -155797.636 +/-    nan | dlogz: 136327.264 >  0.010]  /usr/local/lib/python3.7/site-packages/dynesty/sampling.py:238: UserWarning: Random walk proposals appear to be extremely inefficient. Adjusting the scale-factor accordingly.\n",
      "  warnings.warn(\"Random walk proposals appear to be \"\n",
      "56114it [39:22,  7.55it/s, batch: 0 | bound: 84 | nc: 25 | ncall: 888061 | eff(%):  6.312 | loglstar:   -inf < -151797.663 <    inf | logz: -151861.350 +/-    nan | dlogz: 132367.672 >  0.010]  /usr/local/lib/python3.7/site-packages/dynesty/sampling.py:238: UserWarning: Random walk proposals appear to be extremely inefficient. Adjusting the scale-factor accordingly.\n",
      "  warnings.warn(\"Random walk proposals appear to be \"\n",
      "56177it [39:50,  6.16it/s, batch: 0 | bound: 85 | nc: 25 | ncall: 893365 | eff(%):  6.281 | loglstar:   -inf < -148825.188 <    inf | logz: -148888.938 +/-    nan | dlogz: 129337.690 >  0.010]  /usr/local/lib/python3.7/site-packages/dynesty/sampling.py:238: UserWarning: Random walk proposals appear to be extremely inefficient. Adjusting the scale-factor accordingly.\n",
      "  warnings.warn(\"Random walk proposals appear to be \"\n",
      "56314it [40:44,  7.18it/s, batch: 0 | bound: 87 | nc: 25 | ncall: 903350 | eff(%):  6.227 | loglstar:   -inf < -140521.446 <    inf | logz: -140585.333 +/-    nan | dlogz: 121090.797 >  0.010]  /usr/local/lib/python3.7/site-packages/dynesty/sampling.py:238: UserWarning: Random walk proposals appear to be extremely inefficient. Adjusting the scale-factor accordingly.\n",
      "  warnings.warn(\"Random walk proposals appear to be \"\n",
      "56953it [42:50,  7.66it/s, batch: 0 | bound: 93 | nc: 25 | ncall: 927934 | eff(%):  6.131 | loglstar:   -inf < -108770.445 <    inf | logz: -108834.809 +/-    nan | dlogz: 89271.833 >  0.010]   /usr/local/lib/python3.7/site-packages/dynesty/sampling.py:238: UserWarning: Random walk proposals appear to be extremely inefficient. Adjusting the scale-factor accordingly.\n",
      "  warnings.warn(\"Random walk proposals appear to be \"\n",
      "57106it [43:25,  6.93it/s, batch: 0 | bound: 95 | nc: 25 | ncall: 934310 | eff(%):  6.106 | loglstar:   -inf < -102506.019 <    inf | logz: -102570.698 +/-    nan | dlogz: 83081.682 >  0.010]  /usr/local/lib/python3.7/site-packages/dynesty/sampling.py:238: UserWarning: Random walk proposals appear to be extremely inefficient. Adjusting the scale-factor accordingly.\n",
      "  warnings.warn(\"Random walk proposals appear to be \"\n",
      "57143it [43:57,  6.42it/s, batch: 0 | bound: 96 | nc: 25 | ncall: 940162 | eff(%):  6.072 | loglstar:   -inf < -100883.730 <    inf | logz: -100948.445 +/-    nan | dlogz: 81406.547 >  0.010]  /usr/local/lib/python3.7/site-packages/dynesty/sampling.py:238: UserWarning: Random walk proposals appear to be extremely inefficient. Adjusting the scale-factor accordingly.\n",
      "  warnings.warn(\"Random walk proposals appear to be \"\n",
      "57272it [46:46,  5.61it/s, batch: 0 | bound: 98 | nc: 25 | ncall: 972576 | eff(%):  5.883 | loglstar:   -inf < -96409.320 <    inf | logz: -96474.164 +/-    nan | dlogz: 77347.583 >  0.010]     /usr/local/lib/python3.7/site-packages/dynesty/sampling.py:238: UserWarning: Random walk proposals appear to be extremely inefficient. Adjusting the scale-factor accordingly.\n",
      "  warnings.warn(\"Random walk proposals appear to be \"\n",
      "57349it [47:08,  7.16it/s, batch: 0 | bound: 99 | nc: 25 | ncall: 976944 | eff(%):  5.864 | loglstar:   -inf < -93586.944 <    inf | logz: -93651.865 +/-    nan | dlogz: 74510.915 >  0.010]  /usr/local/lib/python3.7/site-packages/dynesty/sampling.py:238: UserWarning: Random walk proposals appear to be extremely inefficient. Adjusting the scale-factor accordingly.\n",
      "  warnings.warn(\"Random walk proposals appear to be \"\n",
      "57433it [47:41,  7.32it/s, batch: 0 | bound: 100 | nc: 25 | ncall: 983028 | eff(%):  5.837 | loglstar:   -inf < -90620.183 <    inf | logz: -90685.013 +/-    nan | dlogz: 71533.569 >  0.010] /usr/local/lib/python3.7/site-packages/dynesty/sampling.py:238: UserWarning: Random walk proposals appear to be extremely inefficient. Adjusting the scale-factor accordingly.\n",
      "  warnings.warn(\"Random walk proposals appear to be \"\n",
      "57454it [47:57,  6.48it/s, batch: 0 | bound: 101 | nc: 25 | ncall: 986049 | eff(%):  5.821 | loglstar:   -inf < -90134.910 <    inf | logz: -90199.936 +/-    nan | dlogz: 71089.573 >  0.010]  /usr/local/lib/python3.7/site-packages/dynesty/sampling.py:238: UserWarning: Random walk proposals appear to be extremely inefficient. Adjusting the scale-factor accordingly.\n",
      "  warnings.warn(\"Random walk proposals appear to be \"\n",
      "57516it [48:19,  7.25it/s, batch: 0 | bound: 102 | nc: 25 | ncall: 990677 | eff(%):  5.800 | loglstar:   -inf < -87882.893 <    inf | logz: -87947.981 +/-    nan | dlogz: 68857.136 >  0.010]  /usr/local/lib/python3.7/site-packages/dynesty/sampling.py:238: UserWarning: Random walk proposals appear to be extremely inefficient. Adjusting the scale-factor accordingly.\n",
      "  warnings.warn(\"Random walk proposals appear to be \"\n",
      "57614it [48:52,  6.96it/s, batch: 0 | bound: 103 | nc: 28 | ncall: 997143 | eff(%):  5.772 | loglstar:   -inf < -84651.565 <    inf | logz: -84716.744 +/-    nan | dlogz: 65568.302 >  0.010]  /usr/local/lib/python3.7/site-packages/dynesty/sampling.py:238: UserWarning: Random walk proposals appear to be extremely inefficient. Adjusting the scale-factor accordingly.\n",
      "  warnings.warn(\"Random walk proposals appear to be \"\n"
     ]
    },
    {
     "name": "stderr",
     "output_type": "stream",
     "text": [
      "57729it [49:29,  7.89it/s, batch: 0 | bound: 105 | nc: 25 | ncall: 1004661 | eff(%):  5.740 | loglstar:   -inf < -80005.954 <    inf | logz: -80071.255 +/-    nan | dlogz: 60934.938 >  0.010]  /usr/local/lib/python3.7/site-packages/dynesty/sampling.py:238: UserWarning: Random walk proposals appear to be extremely inefficient. Adjusting the scale-factor accordingly.\n",
      "  warnings.warn(\"Random walk proposals appear to be \"\n",
      "58264it [51:28,  3.79it/s, batch: 0 | bound: 110 | nc: 80 | ncall: 1028806 | eff(%):  5.658 | loglstar:   -inf < -64530.150 <    inf | logz: -64595.986 +/-    nan | dlogz: 46909.344 >  0.010]  /usr/local/lib/python3.7/site-packages/dynesty/sampling.py:238: UserWarning: Random walk proposals appear to be extremely inefficient. Adjusting the scale-factor accordingly.\n",
      "  warnings.warn(\"Random walk proposals appear to be \"\n",
      "59097it [54:06,  2.55it/s, batch: 0 | bound: 118 | nc: 218 | ncall: 1059083 | eff(%):  5.575 | loglstar:   -inf < -49092.908 <    inf | logz: -49159.348 +/-    nan | dlogz: 33354.519 >  0.010] /usr/local/lib/python3.7/site-packages/dynesty/sampling.py:238: UserWarning: Random walk proposals appear to be extremely inefficient. Adjusting the scale-factor accordingly.\n",
      "  warnings.warn(\"Random walk proposals appear to be \"\n",
      "59272it [54:37,  7.21it/s, batch: 0 | bound: 119 | nc: 25 | ncall: 1065845 | eff(%):  5.556 | loglstar:   -inf < -46656.303 <    inf | logz: -46723.036 +/-    nan | dlogz: 30918.704 >  0.010]  /usr/local/lib/python3.7/site-packages/dynesty/sampling.py:238: UserWarning: Random walk proposals appear to be extremely inefficient. Adjusting the scale-factor accordingly.\n",
      "  warnings.warn(\"Random walk proposals appear to be \"\n",
      "59277it [54:51,  1.11s/it, batch: 0 | bound: 120 | nc: 25 | ncall: 1069377 | eff(%):  5.538 | loglstar:   -inf < -46497.418 <    inf | logz: -46564.266 +/-    nan | dlogz: 30769.012 >  0.010]  /usr/local/lib/python3.7/site-packages/dynesty/sampling.py:238: UserWarning: Random walk proposals appear to be extremely inefficient. Adjusting the scale-factor accordingly.\n",
      "  warnings.warn(\"Random walk proposals appear to be \"\n",
      "59300it [54:59,  8.83it/s, batch: 0 | bound: 120 | nc: 25 | ncall: 1071562 | eff(%):  5.529 | loglstar:   -inf < -46212.296 <    inf | logz: -46278.610 +/-    nan | dlogz: 30472.842 >  0.010]  /usr/local/lib/python3.7/site-packages/dynesty/sampling.py:216: UserWarning: Random number generation appears to be extremely inefficient. Adjusting the scale-factor accordingly.\n",
      "  warnings.warn(\"Random number generation appears to be \"\n",
      "59507it [55:45,  8.40it/s, batch: 0 | bound: 122 | nc: 31 | ncall: 1081520 | eff(%):  5.497 | loglstar:   -inf < -43705.697 <    inf | logz: -43772.770 +/-    nan | dlogz: 27970.815 >  0.010]  /usr/local/lib/python3.7/site-packages/dynesty/sampling.py:238: UserWarning: Random walk proposals appear to be extremely inefficient. Adjusting the scale-factor accordingly.\n",
      "  warnings.warn(\"Random walk proposals appear to be \"\n",
      "60892it [59:15,  2.24it/s, batch: 0 | bound: 134 | nc: 101 | ncall: 1125201 | eff(%):  5.407 | loglstar:   -inf < -31926.126 <    inf | logz: -31993.865 +/-    nan | dlogz: 19976.248 >  0.010] /usr/local/lib/python3.7/site-packages/dynesty/sampling.py:238: UserWarning: Random walk proposals appear to be extremely inefficient. Adjusting the scale-factor accordingly.\n",
      "  warnings.warn(\"Random walk proposals appear to be \"\n",
      "60893it [59:22,  2.23s/it, batch: 0 | bound: 134 | nc: 1470 | ncall: 1126671 | eff(%):  5.400 | loglstar:   -inf < -31925.280 <    inf | logz: -31992.904 +/-    nan | dlogz: 19974.891 >  0.010]/usr/local/lib/python3.7/site-packages/dynesty/sampling.py:216: UserWarning: Random number generation appears to be extremely inefficient. Adjusting the scale-factor accordingly.\n",
      "  warnings.warn(\"Random number generation appears to be \"\n",
      "61336it [1:00:59,  7.27it/s, batch: 0 | bound: 138 | nc: 25 | ncall: 1146086 | eff(%):  5.347 | loglstar:   -inf < -28866.701 <    inf | logz: -28935.607 +/-    nan | dlogz: 18049.440 >  0.010] /usr/local/lib/python3.7/site-packages/dynesty/sampling.py:238: UserWarning: Random walk proposals appear to be extremely inefficient. Adjusting the scale-factor accordingly.\n",
      "  warnings.warn(\"Random walk proposals appear to be \"\n",
      "61779it [1:02:27,  7.20it/s, batch: 0 | bound: 142 | nc: 25 | ncall: 1163325 | eff(%):  5.306 | loglstar:   -inf < -26491.724 <    inf | logz: -26561.046 +/-    nan | dlogz: 15662.031 >  0.010]  /usr/local/lib/python3.7/site-packages/dynesty/sampling.py:238: UserWarning: Random walk proposals appear to be extremely inefficient. Adjusting the scale-factor accordingly.\n",
      "  warnings.warn(\"Random walk proposals appear to be \"\n",
      "62090it [1:03:36,  1.91it/s, batch: 0 | bound: 145 | nc: 25 | ncall: 1176722 | eff(%):  5.272 | loglstar:   -inf < -24956.737 <    inf | logz: -25026.343 +/-    nan | dlogz: 15247.527 >  0.010]  /usr/local/lib/python3.7/site-packages/dynesty/sampling.py:238: UserWarning: Random walk proposals appear to be extremely inefficient. Adjusting the scale-factor accordingly.\n",
      "  warnings.warn(\"Random walk proposals appear to be \"\n",
      "63459it [1:07:05,  4.20it/s, batch: 0 | bound: 156 | nc: 25 | ncall: 1216323 | eff(%):  5.213 | loglstar:   -inf < -19111.455 <    inf | logz: -19181.880 +/-    nan | dlogz: 10520.639 >  0.010]  /usr/local/lib/python3.7/site-packages/dynesty/sampling.py:238: UserWarning: Random walk proposals appear to be extremely inefficient. Adjusting the scale-factor accordingly.\n",
      "  warnings.warn(\"Random walk proposals appear to be \"\n",
      "64674it [1:10:31,  3.26it/s, batch: 0 | bound: 167 | nc: 72 | ncall: 1257646 | eff(%):  5.138 | loglstar:   -inf < -15649.254 <    inf | logz: -15721.454 +/-    nan | dlogz: 11181.796 >  0.010]  /usr/local/lib/python3.7/site-packages/dynesty/sampling.py:238: UserWarning: Random walk proposals appear to be extremely inefficient. Adjusting the scale-factor accordingly.\n",
      "  warnings.warn(\"Random walk proposals appear to be \"\n",
      "64878it [1:11:19,  1.30it/s, batch: 0 | bound: 170 | nc: 314 | ncall: 1268793 | eff(%):  5.109 | loglstar:   -inf < -15161.091 <    inf | logz: -15232.380 +/-    nan | dlogz: 10689.639 >  0.010] /usr/local/lib/python3.7/site-packages/dynesty/sampling.py:238: UserWarning: Random walk proposals appear to be extremely inefficient. Adjusting the scale-factor accordingly.\n",
      "  warnings.warn(\"Random walk proposals appear to be \"\n",
      "/usr/local/lib/python3.7/site-packages/dynesty/sampling.py:216: UserWarning: Random number generation appears to be extremely inefficient. Adjusting the scale-factor accordingly.\n",
      "  warnings.warn(\"Random number generation appears to be \"\n",
      "65398it [1:12:59,  1.20it/s, batch: 0 | bound: 175 | nc: 80 | ncall: 1288279 | eff(%):  5.072 | loglstar:   -inf < -14061.245 <    inf | logz: -14133.606 +/-    nan | dlogz: 9591.103 >  0.010]   /usr/local/lib/python3.7/site-packages/dynesty/sampling.py:238: UserWarning: Random walk proposals appear to be extremely inefficient. Adjusting the scale-factor accordingly.\n",
      "  warnings.warn(\"Random walk proposals appear to be \"\n",
      "65858it [1:14:15,  3.49it/s, batch: 0 | bound: 180 | nc: 25 | ncall: 1305468 | eff(%):  5.041 | loglstar:   -inf < -13287.191 <    inf | logz: -13359.840 +/-    nan | dlogz: 9426.486 >  0.010]  /usr/local/lib/python3.7/site-packages/dynesty/sampling.py:238: UserWarning: Random walk proposals appear to be extremely inefficient. Adjusting the scale-factor accordingly.\n",
      "  warnings.warn(\"Random walk proposals appear to be \"\n",
      "66946it [1:17:00,  8.73it/s, batch: 0 | bound: 189 | nc: 25 | ncall: 1339421 | eff(%):  4.994 | loglstar:   -inf < -11771.879 <    inf | logz: -11844.892 +/-    nan | dlogz: 7910.197 >  0.010]  /usr/local/lib/python3.7/site-packages/dynesty/sampling.py:238: UserWarning: Random walk proposals appear to be extremely inefficient. Adjusting the scale-factor accordingly.\n",
      "  warnings.warn(\"Random walk proposals appear to be \"\n",
      "/usr/local/lib/python3.7/site-packages/dynesty/sampling.py:216: UserWarning: Random number generation appears to be extremely inefficient. Adjusting the scale-factor accordingly.\n",
      "  warnings.warn(\"Random number generation appears to be \"\n"
     ]
    },
    {
     "name": "stderr",
     "output_type": "stream",
     "text": [
      "67409it [1:18:24,  9.64it/s, batch: 0 | bound: 194 | nc: 25 | ncall: 1358254 | eff(%):  4.959 | loglstar:   -inf < -11271.452 <    inf | logz: -11345.417 +/-    nan | dlogz: 7617.715 >  0.010]  /usr/local/lib/python3.7/site-packages/dynesty/sampling.py:238: UserWarning: Random walk proposals appear to be extremely inefficient. Adjusting the scale-factor accordingly.\n",
      "  warnings.warn(\"Random walk proposals appear to be \"\n",
      "67694it [1:19:24,  3.63it/s, batch: 0 | bound: 198 | nc: 25 | ncall: 1371238 | eff(%):  4.933 | loglstar:   -inf < -10943.283 <    inf | logz: -11017.139 +/-    nan | dlogz: 7288.654 >  0.010]  /usr/local/lib/python3.7/site-packages/dynesty/sampling.py:238: UserWarning: Random walk proposals appear to be extremely inefficient. Adjusting the scale-factor accordingly.\n",
      "  warnings.warn(\"Random walk proposals appear to be \"\n",
      "67725it [1:20:02,  8.88it/s, batch: 0 | bound: 199 | nc: 25 | ncall: 1379354 | eff(%):  4.906 | loglstar:   -inf < -10902.180 <    inf | logz: -10976.140 +/-    nan | dlogz: 7247.747 >  0.010]  /usr/local/lib/python3.7/site-packages/dynesty/sampling.py:238: UserWarning: Random walk proposals appear to be extremely inefficient. Adjusting the scale-factor accordingly.\n",
      "  warnings.warn(\"Random walk proposals appear to be \"\n",
      "67753it [1:21:11,  7.28it/s, batch: 0 | bound: 200 | nc: 25 | ncall: 1394933 | eff(%):  4.854 | loglstar:   -inf < -10866.036 <    inf | logz: -10939.867 +/-    nan | dlogz: 7211.241 >  0.010]   /usr/local/lib/python3.7/site-packages/dynesty/sampling.py:238: UserWarning: Random walk proposals appear to be extremely inefficient. Adjusting the scale-factor accordingly.\n",
      "  warnings.warn(\"Random walk proposals appear to be \"\n",
      "67881it [1:22:23,  8.99it/s, batch: 0 | bound: 202 | nc: 25 | ncall: 1409766 | eff(%):  4.812 | loglstar:   -inf < -10710.939 <    inf | logz: -10785.465 +/-    nan | dlogz: 7057.001 >  0.010]   /usr/local/lib/python3.7/site-packages/dynesty/sampling.py:238: UserWarning: Random walk proposals appear to be extremely inefficient. Adjusting the scale-factor accordingly.\n",
      "  warnings.warn(\"Random walk proposals appear to be \"\n",
      "67964it [1:23:12,  7.26it/s, batch: 0 | bound: 203 | nc: 25 | ncall: 1421805 | eff(%):  4.777 | loglstar:   -inf < -10612.668 <    inf | logz: -10687.184 +/-    nan | dlogz: 6958.843 >  0.010]  /usr/local/lib/python3.7/site-packages/dynesty/sampling.py:238: UserWarning: Random walk proposals appear to be extremely inefficient. Adjusting the scale-factor accordingly.\n",
      "  warnings.warn(\"Random walk proposals appear to be \"\n",
      "68001it [1:23:44,  7.33it/s, batch: 0 | bound: 204 | nc: 25 | ncall: 1427734 | eff(%):  4.760 | loglstar:   -inf < -10576.742 <    inf | logz: -10650.856 +/-    nan | dlogz: 6922.044 >  0.010]  /usr/local/lib/python3.7/site-packages/dynesty/sampling.py:238: UserWarning: Random walk proposals appear to be extremely inefficient. Adjusting the scale-factor accordingly.\n",
      "  warnings.warn(\"Random walk proposals appear to be \"\n",
      "68026it [1:24:40,  5.03it/s, batch: 0 | bound: 205 | nc: 25 | ncall: 1438541 | eff(%):  4.726 | loglstar:   -inf < -10536.649 <    inf | logz: -10612.195 +/-    nan | dlogz: 6886.186 >  0.010]  /usr/local/lib/python3.7/site-packages/dynesty/sampling.py:238: UserWarning: Random walk proposals appear to be extremely inefficient. Adjusting the scale-factor accordingly.\n",
      "  warnings.warn(\"Random walk proposals appear to be \"\n",
      "68074it [1:24:59,  7.15it/s, batch: 0 | bound: 206 | nc: 25 | ncall: 1442214 | eff(%):  4.717 | loglstar:   -inf < -10488.090 <    inf | logz: -10561.495 +/-    nan | dlogz: 6832.271 >  0.010]  /usr/local/lib/python3.7/site-packages/dynesty/sampling.py:238: UserWarning: Random walk proposals appear to be extremely inefficient. Adjusting the scale-factor accordingly.\n",
      "  warnings.warn(\"Random walk proposals appear to be \"\n",
      "68099it [1:25:32,  7.62it/s, batch: 0 | bound: 207 | nc: 25 | ncall: 1448408 | eff(%):  4.698 | loglstar:   -inf < -10467.762 <    inf | logz: -10542.283 +/-    nan | dlogz: 6813.486 >  0.010]  /usr/local/lib/python3.7/site-packages/dynesty/sampling.py:238: UserWarning: Random walk proposals appear to be extremely inefficient. Adjusting the scale-factor accordingly.\n",
      "  warnings.warn(\"Random walk proposals appear to be \"\n",
      "68192it [1:26:02,  8.29it/s, batch: 0 | bound: 208 | nc: 25 | ncall: 1454534 | eff(%):  4.685 | loglstar:   -inf < -10365.600 <    inf | logz: -10440.156 +/-    nan | dlogz: 7489.363 >  0.010]  /usr/local/lib/python3.7/site-packages/dynesty/sampling.py:238: UserWarning: Random walk proposals appear to be extremely inefficient. Adjusting the scale-factor accordingly.\n",
      "  warnings.warn(\"Random walk proposals appear to be \"\n",
      "68335it [1:26:30,  7.32it/s, batch: 0 | bound: 209 | nc: 25 | ncall: 1460400 | eff(%):  4.676 | loglstar:   -inf < -10208.249 <    inf | logz: -10283.094 +/-    nan | dlogz: 7460.057 >  0.010]  /usr/local/lib/python3.7/site-packages/dynesty/sampling.py:238: UserWarning: Random walk proposals appear to be extremely inefficient. Adjusting the scale-factor accordingly.\n",
      "  warnings.warn(\"Random walk proposals appear to be \"\n",
      "68422it [1:27:50,  7.20it/s, batch: 0 | bound: 210 | nc: 25 | ncall: 1476642 | eff(%):  4.630 | loglstar:   -inf < -10118.286 <    inf | logz: -10194.255 +/-    nan | dlogz: 7374.359 >  0.010]   /usr/local/lib/python3.7/site-packages/dynesty/sampling.py:238: UserWarning: Random walk proposals appear to be extremely inefficient. Adjusting the scale-factor accordingly.\n",
      "  warnings.warn(\"Random walk proposals appear to be \"\n",
      "68510it [1:28:25,  7.28it/s, batch: 0 | bound: 212 | nc: 25 | ncall: 1484493 | eff(%):  4.612 | loglstar:   -inf < -10008.608 <    inf | logz: -10083.072 +/-    nan | dlogz: 7259.277 >  0.010]  /usr/local/lib/python3.7/site-packages/dynesty/sampling.py:238: UserWarning: Random walk proposals appear to be extremely inefficient. Adjusting the scale-factor accordingly.\n",
      "  warnings.warn(\"Random walk proposals appear to be \"\n",
      "68716it [1:29:38, 10.25it/s, batch: 0 | bound: 214 | nc: 25 | ncall: 1501742 | eff(%):  4.573 | loglstar:   -inf < -9763.703 <    inf | logz: -9839.733 +/-    nan | dlogz: 7016.998 >  0.010]     /usr/local/lib/python3.7/site-packages/dynesty/sampling.py:238: UserWarning: Random walk proposals appear to be extremely inefficient. Adjusting the scale-factor accordingly.\n",
      "  warnings.warn(\"Random walk proposals appear to be \"\n",
      "69745it [1:32:06,  7.36it/s, batch: 0 | bound: 222 | nc: 25 | ncall: 1533403 | eff(%):  4.545 | loglstar:   -inf < -8377.473 <    inf | logz: -8453.138 +/-    nan | dlogz: 6226.451 >  0.010]  /usr/local/lib/python3.7/site-packages/dynesty/sampling.py:238: UserWarning: Random walk proposals appear to be extremely inefficient. Adjusting the scale-factor accordingly.\n",
      "  warnings.warn(\"Random walk proposals appear to be \"\n",
      "70687it [1:34:19,  7.12it/s, batch: 0 | bound: 230 | nc: 25 | ncall: 1561806 | eff(%):  4.523 | loglstar:   -inf < -6909.232 <    inf | logz: -6986.583 +/-    nan | dlogz: 6574.475 >  0.010]  /usr/local/lib/python3.7/site-packages/dynesty/sampling.py:238: UserWarning: Random walk proposals appear to be extremely inefficient. Adjusting the scale-factor accordingly.\n",
      "  warnings.warn(\"Random walk proposals appear to be \"\n",
      "73697it [1:41:06,  2.62it/s, batch: 0 | bound: 255 | nc: 32 | ncall: 1646686 | eff(%):  4.473 | loglstar:   -inf < -3310.606 <    inf | logz: -3390.419 +/-    nan | dlogz: 2977.416 >  0.010]  /usr/local/lib/python3.7/site-packages/dynesty/sampling.py:238: UserWarning: Random walk proposals appear to be extremely inefficient. Adjusting the scale-factor accordingly.\n",
      "  warnings.warn(\"Random walk proposals appear to be \"\n",
      "74547it [1:43:10,  7.20it/s, batch: 0 | bound: 263 | nc: 25 | ncall: 1671451 | eff(%):  4.457 | loglstar:   -inf < -2585.380 <    inf | logz: -2666.567 +/-    nan | dlogz: 2360.413 >  0.010]  /usr/local/lib/python3.7/site-packages/dynesty/sampling.py:238: UserWarning: Random walk proposals appear to be extremely inefficient. Adjusting the scale-factor accordingly.\n",
      "  warnings.warn(\"Random walk proposals appear to be \"\n"
     ]
    },
    {
     "name": "stderr",
     "output_type": "stream",
     "text": [
      "75375it [1:45:22,  7.83it/s, batch: 0 | bound: 270 | nc: 25 | ncall: 1696496 | eff(%):  4.440 | loglstar:   -inf < -2014.069 <    inf | logz: -2096.086 +/-    nan | dlogz: 1903.953 >  0.010]  /usr/local/lib/python3.7/site-packages/dynesty/sampling.py:238: UserWarning: Random walk proposals appear to be extremely inefficient. Adjusting the scale-factor accordingly.\n",
      "  warnings.warn(\"Random walk proposals appear to be \"\n",
      "75631it [1:46:20,  8.43it/s, batch: 0 | bound: 273 | nc: 25 | ncall: 1708053 | eff(%):  4.425 | loglstar:   -inf < -1863.571 <    inf | logz: -1944.930 +/-    nan | dlogz: 2017.153 >  0.010]  /usr/local/lib/python3.7/site-packages/dynesty/sampling.py:238: UserWarning: Random walk proposals appear to be extremely inefficient. Adjusting the scale-factor accordingly.\n",
      "  warnings.warn(\"Random walk proposals appear to be \"\n",
      "76276it [1:48:02, 10.06it/s, batch: 0 | bound: 279 | nc: 25 | ncall: 1730532 | eff(%):  4.405 | loglstar:   -inf < -1505.510 <    inf | logz: -1587.435 +/-    nan | dlogz: 1658.935 >  0.010]  /usr/local/lib/python3.7/site-packages/dynesty/sampling.py:238: UserWarning: Random walk proposals appear to be extremely inefficient. Adjusting the scale-factor accordingly.\n",
      "  warnings.warn(\"Random walk proposals appear to be \"\n",
      "76574it [1:49:06,  9.45it/s, batch: 0 | bound: 284 | nc: 25 | ncall: 1746376 | eff(%):  4.382 | loglstar:   -inf < -1361.231 <    inf | logz: -1444.327 +/-    nan | dlogz: 1609.461 >  0.010]  /usr/local/lib/python3.7/site-packages/dynesty/sampling.py:238: UserWarning: Random walk proposals appear to be extremely inefficient. Adjusting the scale-factor accordingly.\n",
      "  warnings.warn(\"Random walk proposals appear to be \"\n",
      "76858it [1:49:58,  8.41it/s, batch: 0 | bound: 287 | nc: 25 | ncall: 1757338 | eff(%):  4.371 | loglstar:   -inf < -1237.262 <    inf | logz: -1319.928 +/-    nan | dlogz: 1484.568 >  0.010]  /usr/local/lib/python3.7/site-packages/dynesty/sampling.py:238: UserWarning: Random walk proposals appear to be extremely inefficient. Adjusting the scale-factor accordingly.\n",
      "  warnings.warn(\"Random walk proposals appear to be \"\n",
      "77429it [1:51:24,  9.88it/s, batch: 0 | bound: 292 | nc: 25 | ncall: 1775844 | eff(%):  4.358 | loglstar:   -inf < -1005.573 <    inf | logz: -1088.461 +/-    nan | dlogz: 1252.412 >  0.010]  /usr/local/lib/python3.7/site-packages/dynesty/sampling.py:238: UserWarning: Random walk proposals appear to be extremely inefficient. Adjusting the scale-factor accordingly.\n",
      "  warnings.warn(\"Random walk proposals appear to be \"\n",
      "78022it [1:53:13,  1.54s/it, batch: 0 | bound: 298 | nc: 150 | ncall: 1797181 | eff(%):  4.339 | loglstar:   -inf < -794.223 <    inf | logz: -877.649 +/-    nan | dlogz: 1040.958 >  0.010]   /usr/local/lib/python3.7/site-packages/dynesty/sampling.py:238: UserWarning: Random walk proposals appear to be extremely inefficient. Adjusting the scale-factor accordingly.\n",
      "  warnings.warn(\"Random walk proposals appear to be \"\n",
      "79307it [1:56:14,  7.87it/s, batch: 0 | bound: 307 | nc: 25 | ncall: 1832484 | eff(%):  4.325 | loglstar:   -inf < -454.550 <    inf | logz: -538.882 +/-    nan | dlogz: 720.915 >  0.010]   /usr/local/lib/python3.7/site-packages/dynesty/sampling.py:238: UserWarning: Random walk proposals appear to be extremely inefficient. Adjusting the scale-factor accordingly.\n",
      "  warnings.warn(\"Random walk proposals appear to be \"\n",
      "79820it [1:57:49,  8.08it/s, batch: 0 | bound: 312 | nc: 25 | ncall: 1851129 | eff(%):  4.310 | loglstar:   -inf < -343.950 <    inf | logz: -429.002 +/-    nan | dlogz: 618.798 >  0.010]  /usr/local/lib/python3.7/site-packages/dynesty/sampling.py:238: UserWarning: Random walk proposals appear to be extremely inefficient. Adjusting the scale-factor accordingly.\n",
      "  warnings.warn(\"Random walk proposals appear to be \"\n",
      "79900it [1:58:16,  7.87it/s, batch: 0 | bound: 314 | nc: 25 | ncall: 1857008 | eff(%):  4.300 | loglstar:   -inf < -326.130 <    inf | logz: -411.374 +/-    nan | dlogz: 622.051 >  0.010]  /usr/local/lib/python3.7/site-packages/dynesty/sampling.py:238: UserWarning: Random walk proposals appear to be extremely inefficient. Adjusting the scale-factor accordingly.\n",
      "  warnings.warn(\"Random walk proposals appear to be \"\n",
      "80902it [2:00:40,  9.45it/s, batch: 0 | bound: 322 | nc: 25 | ncall: 1889575 | eff(%):  4.279 | loglstar:   -inf < -161.166 <    inf | logz: -247.010 +/-    nan | dlogz: 473.942 >  0.010]  /usr/local/lib/python3.7/site-packages/dynesty/sampling.py:238: UserWarning: Random walk proposals appear to be extremely inefficient. Adjusting the scale-factor accordingly.\n",
      "  warnings.warn(\"Random walk proposals appear to be \"\n",
      "81558it [2:02:45,  6.99it/s, batch: 0 | bound: 328 | nc: 25 | ncall: 1913916 | eff(%):  4.259 | loglstar:   -inf < -74.431 <    inf | logz: -160.653 +/-    nan | dlogz: 386.894 >  0.010]   /usr/local/lib/python3.7/site-packages/dynesty/sampling.py:238: UserWarning: Random walk proposals appear to be extremely inefficient. Adjusting the scale-factor accordingly.\n",
      "  warnings.warn(\"Random walk proposals appear to be \"\n",
      "81838it [2:04:37,  7.54it/s, batch: 0 | bound: 331 | nc: 25 | ncall: 1935973 | eff(%):  4.225 | loglstar:   -inf < -42.957 <    inf | logz: -129.703 +/-    nan | dlogz: 355.684 >  0.010]   /usr/local/lib/python3.7/site-packages/dynesty/sampling.py:238: UserWarning: Random walk proposals appear to be extremely inefficient. Adjusting the scale-factor accordingly.\n",
      "  warnings.warn(\"Random walk proposals appear to be \"\n",
      "81935it [2:05:40,  7.81it/s, batch: 0 | bound: 333 | nc: 25 | ncall: 1948671 | eff(%):  4.203 | loglstar:   -inf < -33.890 <    inf | logz: -120.228 +/-    nan | dlogz: 346.060 >  0.010]   /usr/local/lib/python3.7/site-packages/dynesty/sampling.py:238: UserWarning: Random walk proposals appear to be extremely inefficient. Adjusting the scale-factor accordingly.\n",
      "  warnings.warn(\"Random walk proposals appear to be \"\n",
      "82792it [2:08:09,  7.98it/s, batch: 0 | bound: 340 | nc: 25 | ncall: 1978627 | eff(%):  4.182 | loglstar:   -inf < 54.956 <    inf | logz: -32.397 +/-    nan | dlogz: 260.563 >  0.010]    /usr/local/lib/python3.7/site-packages/dynesty/sampling.py:238: UserWarning: Random walk proposals appear to be extremely inefficient. Adjusting the scale-factor accordingly.\n",
      "  warnings.warn(\"Random walk proposals appear to be \"\n",
      "83420it [2:10:08,  8.39it/s, batch: 0 | bound: 346 | nc: 25 | ncall: 2004185 | eff(%):  4.160 | loglstar:   -inf < 104.752 <    inf | logz: 17.152 +/-    nan | dlogz: 210.352 >  0.010]  /usr/local/lib/python3.7/site-packages/dynesty/sampling.py:238: UserWarning: Random walk proposals appear to be extremely inefficient. Adjusting the scale-factor accordingly.\n",
      "  warnings.warn(\"Random walk proposals appear to be \"\n",
      "83558it [2:11:34,  8.71it/s, batch: 0 | bound: 348 | nc: 25 | ncall: 2023799 | eff(%):  4.127 | loglstar:   -inf < 114.379 <    inf | logz: 26.536 +/-    nan | dlogz: 206.581 >  0.010]   /usr/local/lib/python3.7/site-packages/dynesty/sampling.py:238: UserWarning: Random walk proposals appear to be extremely inefficient. Adjusting the scale-factor accordingly.\n",
      "  warnings.warn(\"Random walk proposals appear to be \"\n",
      "83659it [2:13:04,  7.90it/s, batch: 0 | bound: 350 | nc: 25 | ncall: 2043504 | eff(%):  4.092 | loglstar:   -inf < 121.715 <    inf | logz: 33.737 +/-    nan | dlogz: 199.281 >  0.010]   /usr/local/lib/python3.7/site-packages/dynesty/sampling.py:238: UserWarning: Random walk proposals appear to be extremely inefficient. Adjusting the scale-factor accordingly.\n",
      "  warnings.warn(\"Random walk proposals appear to be \"\n",
      "84307it [2:15:14,  7.92it/s, batch: 0 | bound: 356 | nc: 25 | ncall: 2069607 | eff(%):  4.072 | loglstar:   -inf < 160.776 <    inf | logz: 72.737 +/-    nan | dlogz: 186.065 >  0.010]  /usr/local/lib/python3.7/site-packages/dynesty/sampling.py:238: UserWarning: Random walk proposals appear to be extremely inefficient. Adjusting the scale-factor accordingly.\n",
      "  warnings.warn(\"Random walk proposals appear to be \"\n",
      "84406it [2:16:01,  8.64it/s, batch: 0 | bound: 358 | nc: 25 | ncall: 2079472 | eff(%):  4.057 | loglstar:   -inf < 165.939 <    inf | logz: 77.669 +/-    nan | dlogz: 181.042 >  0.010]  /usr/local/lib/python3.7/site-packages/dynesty/sampling.py:238: UserWarning: Random walk proposals appear to be extremely inefficient. Adjusting the scale-factor accordingly.\n",
      "  warnings.warn(\"Random walk proposals appear to be \"\n"
     ]
    },
    {
     "name": "stderr",
     "output_type": "stream",
     "text": [
      "84523it [2:17:27,  9.87it/s, batch: 0 | bound: 360 | nc: 25 | ncall: 2100674 | eff(%):  4.022 | loglstar:   -inf < 172.509 <    inf | logz: 84.121 +/-    nan | dlogz: 174.472 >  0.010]   /usr/local/lib/python3.7/site-packages/dynesty/sampling.py:238: UserWarning: Random walk proposals appear to be extremely inefficient. Adjusting the scale-factor accordingly.\n",
      "  warnings.warn(\"Random walk proposals appear to be \"\n",
      "84638it [2:19:01,  8.84it/s, batch: 0 | bound: 362 | nc: 25 | ncall: 2124205 | eff(%):  3.983 | loglstar:   -inf < 178.932 <    inf | logz: 90.493 +/-    nan | dlogz: 167.983 >  0.010]   /usr/local/lib/python3.7/site-packages/dynesty/sampling.py:238: UserWarning: Random walk proposals appear to be extremely inefficient. Adjusting the scale-factor accordingly.\n",
      "  warnings.warn(\"Random walk proposals appear to be \"\n",
      "85045it [2:21:04,  8.62it/s, batch: 0 | bound: 366 | nc: 25 | ncall: 2151189 | eff(%):  3.952 | loglstar:   -inf < 199.854 <    inf | logz: 111.050 +/-    nan | dlogz: 171.149 >  0.010]  /usr/local/lib/python3.7/site-packages/dynesty/sampling.py:238: UserWarning: Random walk proposals appear to be extremely inefficient. Adjusting the scale-factor accordingly.\n",
      "  warnings.warn(\"Random walk proposals appear to be \"\n",
      "85096it [2:22:17,  7.07it/s, batch: 0 | bound: 368 | nc: 25 | ncall: 2166244 | eff(%):  3.926 | loglstar:   -inf < 202.408 <    inf | logz: 113.463 +/-    nan | dlogz: 168.691 >  0.010]   /usr/local/lib/python3.7/site-packages/dynesty/sampling.py:238: UserWarning: Random walk proposals appear to be extremely inefficient. Adjusting the scale-factor accordingly.\n",
      "  warnings.warn(\"Random walk proposals appear to be \"\n",
      "85636it [2:24:11,  7.23it/s, batch: 0 | bound: 373 | nc: 25 | ncall: 2186986 | eff(%):  3.914 | loglstar:   -inf < 225.156 <    inf | logz: 135.784 +/-    nan | dlogz: 145.825 >  0.010]  /usr/local/lib/python3.7/site-packages/dynesty/sampling.py:238: UserWarning: Random walk proposals appear to be extremely inefficient. Adjusting the scale-factor accordingly.\n",
      "  warnings.warn(\"Random walk proposals appear to be \"\n",
      "85783it [2:25:28,  7.41it/s, batch: 0 | bound: 375 | nc: 25 | ncall: 2202500 | eff(%):  3.893 | loglstar:   -inf < 231.693 <    inf | logz: 142.117 +/-    nan | dlogz: 139.347 >  0.010]   /usr/local/lib/python3.7/site-packages/dynesty/sampling.py:238: UserWarning: Random walk proposals appear to be extremely inefficient. Adjusting the scale-factor accordingly.\n",
      "  warnings.warn(\"Random walk proposals appear to be \"\n",
      "86949it [2:28:28,  7.32it/s, batch: 0 | bound: 384 | nc: 25 | ncall: 2238480 | eff(%):  3.883 | loglstar:   -inf < 270.649 <    inf | logz: 180.378 +/-    nan | dlogz: 100.206 >  0.010]  /usr/local/lib/python3.7/site-packages/dynesty/sampling.py:238: UserWarning: Random walk proposals appear to be extremely inefficient. Adjusting the scale-factor accordingly.\n",
      "  warnings.warn(\"Random walk proposals appear to be \"\n",
      "87233it [2:31:04,  7.52it/s, batch: 0 | bound: 387 | nc: 25 | ncall: 2269155 | eff(%):  3.843 | loglstar:   -inf < 279.318 <    inf | logz: 188.834 +/-    nan | dlogz: 97.969 >  0.010]    /usr/local/lib/python3.7/site-packages/dynesty/sampling.py:238: UserWarning: Random walk proposals appear to be extremely inefficient. Adjusting the scale-factor accordingly.\n",
      "  warnings.warn(\"Random walk proposals appear to be \"\n",
      "87501it [2:33:37,  7.46it/s, batch: 0 | bound: 390 | nc: 25 | ncall: 2299786 | eff(%):  3.803 | loglstar:   -inf < 285.650 <    inf | logz: 195.096 +/-    nan | dlogz: 91.433 >  0.010]   /usr/local/lib/python3.7/site-packages/dynesty/sampling.py:238: UserWarning: Random walk proposals appear to be extremely inefficient. Adjusting the scale-factor accordingly.\n",
      "  warnings.warn(\"Random walk proposals appear to be \"\n",
      "88174it [2:36:26,  7.92it/s, batch: 0 | bound: 396 | nc: 25 | ncall: 2333337 | eff(%):  3.777 | loglstar:   -inf < 300.645 <    inf | logz: 209.511 +/-    nan | dlogz: 94.585 >  0.010]   /usr/local/lib/python3.7/site-packages/dynesty/sampling.py:238: UserWarning: Random walk proposals appear to be extremely inefficient. Adjusting the scale-factor accordingly.\n",
      "  warnings.warn(\"Random walk proposals appear to be \"\n",
      "88268it [2:37:56,  7.80it/s, batch: 0 | bound: 398 | nc: 25 | ncall: 2351901 | eff(%):  3.751 | loglstar:   -inf < 302.444 <    inf | logz: 211.278 +/-    nan | dlogz: 92.723 >  0.010]   /usr/local/lib/python3.7/site-packages/dynesty/sampling.py:238: UserWarning: Random walk proposals appear to be extremely inefficient. Adjusting the scale-factor accordingly.\n",
      "  warnings.warn(\"Random walk proposals appear to be \"\n",
      "88390it [2:39:39,  7.29it/s, batch: 0 | bound: 400 | nc: 25 | ncall: 2372694 | eff(%):  3.724 | loglstar:   -inf < 304.757 <    inf | logz: 213.433 +/-    nan | dlogz: 90.447 >  0.010]   /usr/local/lib/python3.7/site-packages/dynesty/sampling.py:238: UserWarning: Random walk proposals appear to be extremely inefficient. Adjusting the scale-factor accordingly.\n",
      "  warnings.warn(\"Random walk proposals appear to be \"\n",
      "88483it [2:41:40,  8.59it/s, batch: 0 | bound: 402 | nc: 25 | ncall: 2396478 | eff(%):  3.691 | loglstar:   -inf < 306.570 <    inf | logz: 215.217 +/-    nan | dlogz: 88.569 >  0.010]   /usr/local/lib/python3.7/site-packages/dynesty/sampling.py:238: UserWarning: Random walk proposals appear to be extremely inefficient. Adjusting the scale-factor accordingly.\n",
      "  warnings.warn(\"Random walk proposals appear to be \"\n",
      "88585it [2:43:36,  7.50it/s, batch: 0 | bound: 404 | nc: 25 | ncall: 2421230 | eff(%):  3.657 | loglstar:   -inf < 308.604 <    inf | logz: 217.124 +/-    nan | dlogz: 86.561 >  0.010]   /usr/local/lib/python3.7/site-packages/dynesty/sampling.py:238: UserWarning: Random walk proposals appear to be extremely inefficient. Adjusting the scale-factor accordingly.\n",
      "  warnings.warn(\"Random walk proposals appear to be \"\n",
      "88802it [2:45:54,  8.00it/s, batch: 0 | bound: 407 | nc: 25 | ncall: 2449232 | eff(%):  3.624 | loglstar:   -inf < 312.522 <    inf | logz: 220.848 +/-    nan | dlogz: 83.005 >  0.010]   /usr/local/lib/python3.7/site-packages/dynesty/sampling.py:238: UserWarning: Random walk proposals appear to be extremely inefficient. Adjusting the scale-factor accordingly.\n",
      "  warnings.warn(\"Random walk proposals appear to be \"\n",
      "88881it [2:47:37,  7.59it/s, batch: 0 | bound: 409 | nc: 25 | ncall: 2471952 | eff(%):  3.594 | loglstar:   -inf < 313.940 <    inf | logz: 222.209 +/-    nan | dlogz: 81.565 >  0.010]   /usr/local/lib/python3.7/site-packages/dynesty/sampling.py:238: UserWarning: Random walk proposals appear to be extremely inefficient. Adjusting the scale-factor accordingly.\n",
      "  warnings.warn(\"Random walk proposals appear to be \"\n",
      "89423it [2:50:10,  6.84it/s, batch: 0 | bound: 414 | nc: 25 | ncall: 2503433 | eff(%):  3.571 | loglstar:   -inf < 322.965 <    inf | logz: 230.812 +/-    nan | dlogz: 72.418 >  0.010]   /usr/local/lib/python3.7/site-packages/dynesty/sampling.py:238: UserWarning: Random walk proposals appear to be extremely inefficient. Adjusting the scale-factor accordingly.\n",
      "  warnings.warn(\"Random walk proposals appear to be \"\n",
      "/usr/local/lib/python3.7/site-packages/dynesty/sampling.py:216: UserWarning: Random number generation appears to be extremely inefficient. Adjusting the scale-factor accordingly.\n",
      "  warnings.warn(\"Random number generation appears to be \"\n",
      "89493it [2:51:55,  8.10it/s, batch: 0 | bound: 416 | nc: 25 | ncall: 2528968 | eff(%):  3.537 | loglstar:   -inf < 324.105 <    inf | logz: 231.911 +/-    nan | dlogz: 71.249 >  0.010]   /usr/local/lib/python3.7/site-packages/dynesty/sampling.py:238: UserWarning: Random walk proposals appear to be extremely inefficient. Adjusting the scale-factor accordingly.\n",
      "  warnings.warn(\"Random walk proposals appear to be \"\n",
      "/usr/local/lib/python3.7/site-packages/dynesty/sampling.py:216: UserWarning: Random number generation appears to be extremely inefficient. Adjusting the scale-factor accordingly.\n",
      "  warnings.warn(\"Random number generation appears to be \"\n",
      "89570it [2:53:38,  7.84it/s, batch: 0 | bound: 418 | nc: 25 | ncall: 2552941 | eff(%):  3.507 | loglstar:   -inf < 325.480 <    inf | logz: 233.161 +/-    nan | dlogz: 69.923 >  0.010]   /usr/local/lib/python3.7/site-packages/dynesty/sampling.py:238: UserWarning: Random walk proposals appear to be extremely inefficient. Adjusting the scale-factor accordingly.\n",
      "  warnings.warn(\"Random walk proposals appear to be \"\n"
     ]
    },
    {
     "name": "stderr",
     "output_type": "stream",
     "text": [
      "/usr/local/lib/python3.7/site-packages/dynesty/sampling.py:216: UserWarning: Random number generation appears to be extremely inefficient. Adjusting the scale-factor accordingly.\n",
      "  warnings.warn(\"Random number generation appears to be \"\n",
      "89747it [2:56:05,  8.64it/s, batch: 0 | bound: 421 | nc: 25 | ncall: 2587800 | eff(%):  3.467 | loglstar:   -inf < 328.515 <    inf | logz: 235.990 +/-    nan | dlogz: 76.041 >  0.010]   /usr/local/lib/python3.7/site-packages/dynesty/sampling.py:238: UserWarning: Random walk proposals appear to be extremely inefficient. Adjusting the scale-factor accordingly.\n",
      "  warnings.warn(\"Random walk proposals appear to be \"\n",
      "/usr/local/lib/python3.7/site-packages/dynesty/sampling.py:216: UserWarning: Random number generation appears to be extremely inefficient. Adjusting the scale-factor accordingly.\n",
      "  warnings.warn(\"Random number generation appears to be \"\n",
      "90126it [2:58:42,  7.21it/s, batch: 0 | bound: 425 | nc: 25 | ncall: 2622799 | eff(%):  3.435 | loglstar:   -inf < 334.260 <    inf | logz: 241.456 +/-    nan | dlogz: 70.195 >  0.010]   /usr/local/lib/python3.7/site-packages/dynesty/sampling.py:238: UserWarning: Random walk proposals appear to be extremely inefficient. Adjusting the scale-factor accordingly.\n",
      "  warnings.warn(\"Random walk proposals appear to be \"\n",
      "90240it [3:00:27,  9.92it/s, batch: 0 | bound: 427 | nc: 25 | ncall: 2648531 | eff(%):  3.406 | loglstar:   -inf < 335.910 <    inf | logz: 243.105 +/-    nan | dlogz: 68.430 >  0.010]   /usr/local/lib/python3.7/site-packages/dynesty/sampling.py:238: UserWarning: Random walk proposals appear to be extremely inefficient. Adjusting the scale-factor accordingly.\n",
      "  warnings.warn(\"Random walk proposals appear to be \"\n",
      "/usr/local/lib/python3.7/site-packages/dynesty/sampling.py:216: UserWarning: Random number generation appears to be extremely inefficient. Adjusting the scale-factor accordingly.\n",
      "  warnings.warn(\"Random number generation appears to be \"\n",
      "90381it [3:02:39,  7.72it/s, batch: 0 | bound: 429 | nc: 25 | ncall: 2681301 | eff(%):  3.370 | loglstar:   -inf < 338.010 <    inf | logz: 245.100 +/-    nan | dlogz: 66.293 >  0.010]   /usr/local/lib/python3.7/site-packages/dynesty/sampling.py:238: UserWarning: Random walk proposals appear to be extremely inefficient. Adjusting the scale-factor accordingly.\n",
      "  warnings.warn(\"Random walk proposals appear to be \"\n",
      "/usr/local/lib/python3.7/site-packages/dynesty/sampling.py:216: UserWarning: Random number generation appears to be extremely inefficient. Adjusting the scale-factor accordingly.\n",
      "  warnings.warn(\"Random number generation appears to be \"\n",
      "90645it [3:05:05,  7.96it/s, batch: 0 | bound: 432 | nc: 25 | ncall: 2714172 | eff(%):  3.338 | loglstar:   -inf < 341.645 <    inf | logz: 248.440 +/-    nan | dlogz: 62.690 >  0.010]   /usr/local/lib/python3.7/site-packages/dynesty/sampling.py:238: UserWarning: Random walk proposals appear to be extremely inefficient. Adjusting the scale-factor accordingly.\n",
      "  warnings.warn(\"Random walk proposals appear to be \"\n",
      "/usr/local/lib/python3.7/site-packages/dynesty/sampling.py:216: UserWarning: Random number generation appears to be extremely inefficient. Adjusting the scale-factor accordingly.\n",
      "  warnings.warn(\"Random number generation appears to be \"\n",
      "90775it [3:07:14,  7.49it/s, batch: 0 | bound: 434 | nc: 25 | ncall: 2741795 | eff(%):  3.310 | loglstar:   -inf < 343.359 <    inf | logz: 250.051 +/-    nan | dlogz: 63.168 >  0.010]   /usr/local/lib/python3.7/site-packages/dynesty/sampling.py:238: UserWarning: Random walk proposals appear to be extremely inefficient. Adjusting the scale-factor accordingly.\n",
      "  warnings.warn(\"Random walk proposals appear to be \"\n",
      "/usr/local/lib/python3.7/site-packages/dynesty/sampling.py:216: UserWarning: Random number generation appears to be extremely inefficient. Adjusting the scale-factor accordingly.\n",
      "  warnings.warn(\"Random number generation appears to be \"\n",
      "90810it [3:09:33,  9.90it/s, batch: 0 | bound: 436 | nc: 25 | ncall: 2772193 | eff(%):  3.275 | loglstar:   -inf < 343.838 <    inf | logz: 250.488 +/-    nan | dlogz: 62.696 >  0.010]   /usr/local/lib/python3.7/site-packages/dynesty/sampling.py:238: UserWarning: Random walk proposals appear to be extremely inefficient. Adjusting the scale-factor accordingly.\n",
      "  warnings.warn(\"Random walk proposals appear to be \"\n",
      "91529it [3:12:37,  7.62it/s, batch: 0 | bound: 442 | nc: 25 | ncall: 2815046 | eff(%):  3.250 | loglstar:   -inf < 353.517 <    inf | logz: 259.647 +/-    nan | dlogz: 55.825 >  0.010]   /usr/local/lib/python3.7/site-packages/dynesty/sampling.py:238: UserWarning: Random walk proposals appear to be extremely inefficient. Adjusting the scale-factor accordingly.\n",
      "  warnings.warn(\"Random walk proposals appear to be \"\n",
      "91741it [3:14:48,  9.11it/s, batch: 0 | bound: 445 | nc: 25 | ncall: 2842984 | eff(%):  3.226 | loglstar:   -inf < 356.048 <    inf | logz: 261.952 +/-    nan | dlogz: 53.307 >  0.010]   /usr/local/lib/python3.7/site-packages/dynesty/sampling.py:238: UserWarning: Random walk proposals appear to be extremely inefficient. Adjusting the scale-factor accordingly.\n",
      "  warnings.warn(\"Random walk proposals appear to be \"\n",
      "/usr/local/lib/python3.7/site-packages/dynesty/sampling.py:216: UserWarning: Random number generation appears to be extremely inefficient. Adjusting the scale-factor accordingly.\n",
      "  warnings.warn(\"Random number generation appears to be \"\n",
      "91805it [3:17:07,  7.81it/s, batch: 0 | bound: 447 | nc: 25 | ncall: 2873205 | eff(%):  3.194 | loglstar:   -inf < 356.708 <    inf | logz: 262.654 +/-    nan | dlogz: 52.540 >  0.010]   /usr/local/lib/python3.7/site-packages/dynesty/sampling.py:238: UserWarning: Random walk proposals appear to be extremely inefficient. Adjusting the scale-factor accordingly.\n",
      "  warnings.warn(\"Random walk proposals appear to be \"\n",
      "92680it [3:21:05,  7.83it/s, batch: 0 | bound: 454 | nc: 25 | ncall: 2922028 | eff(%):  3.171 | loglstar:   -inf < 367.694 <    inf | logz: 272.719 +/-    nan | dlogz: 45.271 >  0.010]   /usr/local/lib/python3.7/site-packages/dynesty/sampling.py:238: UserWarning: Random walk proposals appear to be extremely inefficient. Adjusting the scale-factor accordingly.\n",
      "  warnings.warn(\"Random walk proposals appear to be \"\n",
      "/usr/local/lib/python3.7/site-packages/dynesty/sampling.py:216: UserWarning: Random number generation appears to be extremely inefficient. Adjusting the scale-factor accordingly.\n",
      "  warnings.warn(\"Random number generation appears to be \"\n",
      "92760it [3:23:14,  6.92it/s, batch: 0 | bound: 456 | nc: 25 | ncall: 2950647 | eff(%):  3.143 | loglstar:   -inf < 368.539 <    inf | logz: 273.515 +/-    nan | dlogz: 44.395 >  0.010]   /usr/local/lib/python3.7/site-packages/dynesty/sampling.py:238: UserWarning: Random walk proposals appear to be extremely inefficient. Adjusting the scale-factor accordingly.\n",
      "  warnings.warn(\"Random walk proposals appear to be \"\n",
      "93470it [3:26:36, 11.97it/s, batch: 0 | bound: 462 | nc: 25 | ncall: 2997981 | eff(%):  3.117 | loglstar:   -inf < 375.637 <    inf | logz: 279.969 +/-    nan | dlogz: 39.905 >  0.010]   /usr/local/lib/python3.7/site-packages/dynesty/sampling.py:238: UserWarning: Random walk proposals appear to be extremely inefficient. Adjusting the scale-factor accordingly.\n",
      "  warnings.warn(\"Random walk proposals appear to be \"\n",
      "93470it [3:26:49, 11.97it/s, batch: 0 | bound: 462 | nc: 25 | ncall: 2997981 | eff(%):  3.117 | loglstar:   -inf < 375.637 <    inf | logz: 279.969 +/-    nan | dlogz: 39.905 >  0.010]/usr/local/lib/python3.7/site-packages/dynesty/sampling.py:216: UserWarning: Random number generation appears to be extremely inefficient. Adjusting the scale-factor accordingly.\n",
      "  warnings.warn(\"Random number generation appears to be \"\n",
      "93696it [3:28:26, 12.29it/s, batch: 0 | bound: 465 | nc: 25 | ncall: 3031911 | eff(%):  3.089 | loglstar:   -inf < 378.226 <    inf | logz: 282.298 +/-    nan | dlogz: 37.350 >  0.010]   /usr/local/lib/python3.7/site-packages/dynesty/sampling.py:238: UserWarning: Random walk proposals appear to be extremely inefficient. Adjusting the scale-factor accordingly.\n",
      "  warnings.warn(\"Random walk proposals appear to be \"\n",
      "/usr/local/lib/python3.7/site-packages/dynesty/sampling.py:216: UserWarning: Random number generation appears to be extremely inefficient. Adjusting the scale-factor accordingly.\n",
      "  warnings.warn(\"Random number generation appears to be \"\n"
     ]
    },
    {
     "name": "stderr",
     "output_type": "stream",
     "text": [
      "93879it [3:30:00, 12.09it/s, batch: 0 | bound: 468 | nc: 25 | ncall: 3063170 | eff(%):  3.064 | loglstar:   -inf < 380.127 <    inf | logz: 284.062 +/-    nan | dlogz: 35.403 >  0.010]   /usr/local/lib/python3.7/site-packages/dynesty/sampling.py:238: UserWarning: Random walk proposals appear to be extremely inefficient. Adjusting the scale-factor accordingly.\n",
      "  warnings.warn(\"Random walk proposals appear to be \"\n",
      "93990it [3:31:33, 13.70it/s, batch: 0 | bound: 470 | nc: 25 | ncall: 3096960 | eff(%):  3.034 | loglstar:   -inf < 380.974 <    inf | logz: 285.016 +/-    nan | dlogz: 34.337 >  0.010]   /usr/local/lib/python3.7/site-packages/dynesty/sampling.py:238: UserWarning: Random walk proposals appear to be extremely inefficient. Adjusting the scale-factor accordingly.\n",
      "  warnings.warn(\"Random walk proposals appear to be \"\n",
      "94149it [3:32:58, 13.19it/s, batch: 0 | bound: 473 | nc: 25 | ncall: 3128374 | eff(%):  3.009 | loglstar:   -inf < 382.297 <    inf | logz: 286.190 +/-    nan | dlogz: 33.004 >  0.010]   /usr/local/lib/python3.7/site-packages/dynesty/sampling.py:238: UserWarning: Random walk proposals appear to be extremely inefficient. Adjusting the scale-factor accordingly.\n",
      "  warnings.warn(\"Random walk proposals appear to be \"\n",
      "/usr/local/lib/python3.7/site-packages/dynesty/sampling.py:216: UserWarning: Random number generation appears to be extremely inefficient. Adjusting the scale-factor accordingly.\n",
      "  warnings.warn(\"Random number generation appears to be \"\n",
      "94503it [3:34:41, 14.09it/s, batch: 0 | bound: 477 | nc: 25 | ncall: 3166061 | eff(%):  2.984 | loglstar:   -inf < 385.485 <    inf | logz: 289.049 +/-    nan | dlogz: 30.500 >  0.010]   /usr/local/lib/python3.7/site-packages/dynesty/sampling.py:238: UserWarning: Random walk proposals appear to be extremely inefficient. Adjusting the scale-factor accordingly.\n",
      "  warnings.warn(\"Random walk proposals appear to be \"\n",
      "94934it [3:36:31, 13.87it/s, batch: 0 | bound: 481 | nc: 25 | ncall: 3205466 | eff(%):  2.961 | loglstar:   -inf < 388.840 <    inf | logz: 292.010 +/-    nan | dlogz: 27.109 >  0.010]   /usr/local/lib/python3.7/site-packages/dynesty/sampling.py:238: UserWarning: Random walk proposals appear to be extremely inefficient. Adjusting the scale-factor accordingly.\n",
      "  warnings.warn(\"Random walk proposals appear to be \"\n",
      "96189it [3:39:28, 14.02it/s, batch: 0 | bound: 491 | nc: 25 | ncall: 3266937 | eff(%):  2.943 | loglstar:   -inf < 397.607 <    inf | logz: 299.771 +/-    nan | dlogz: 20.796 >  0.010]   /usr/local/lib/python3.7/site-packages/dynesty/sampling.py:238: UserWarning: Random walk proposals appear to be extremely inefficient. Adjusting the scale-factor accordingly.\n",
      "  warnings.warn(\"Random walk proposals appear to be \"\n",
      "/usr/local/lib/python3.7/site-packages/dynesty/sampling.py:216: UserWarning: Random number generation appears to be extremely inefficient. Adjusting the scale-factor accordingly.\n",
      "  warnings.warn(\"Random number generation appears to be \"\n",
      "96272it [3:41:12, 13.95it/s, batch: 0 | bound: 493 | nc: 25 | ncall: 3304607 | eff(%):  2.912 | loglstar:   -inf < 398.170 <    inf | logz: 300.243 +/-    nan | dlogz: 20.241 >  0.010]   /usr/local/lib/python3.7/site-packages/dynesty/sampling.py:238: UserWarning: Random walk proposals appear to be extremely inefficient. Adjusting the scale-factor accordingly.\n",
      "  warnings.warn(\"Random walk proposals appear to be \"\n",
      "/usr/local/lib/python3.7/site-packages/dynesty/sampling.py:216: UserWarning: Random number generation appears to be extremely inefficient. Adjusting the scale-factor accordingly.\n",
      "  warnings.warn(\"Random number generation appears to be \"\n",
      "96571it [3:43:07, 13.34it/s, batch: 0 | bound: 496 | nc: 25 | ncall: 3346134 | eff(%):  2.885 | loglstar:   -inf < 400.209 <    inf | logz: 301.946 +/-    nan | dlogz: 20.334 >  0.010]   /usr/local/lib/python3.7/site-packages/dynesty/sampling.py:238: UserWarning: Random walk proposals appear to be extremely inefficient. Adjusting the scale-factor accordingly.\n",
      "  warnings.warn(\"Random walk proposals appear to be \"\n",
      "96827it [3:44:57, 13.89it/s, batch: 0 | bound: 499 | nc: 25 | ncall: 3384687 | eff(%):  2.860 | loglstar:   -inf < 401.679 <    inf | logz: 303.308 +/-    nan | dlogz: 18.715 >  0.010]   /usr/local/lib/python3.7/site-packages/dynesty/sampling.py:238: UserWarning: Random walk proposals appear to be extremely inefficient. Adjusting the scale-factor accordingly.\n",
      "  warnings.warn(\"Random walk proposals appear to be \"\n",
      "97219it [3:47:29, 13.78it/s, batch: 0 | bound: 503 | nc: 25 | ncall: 3438709 | eff(%):  2.826 | loglstar:   -inf < 403.653 <    inf | logz: 305.079 +/-    nan | dlogz: 16.551 >  0.010]   /usr/local/lib/python3.7/site-packages/dynesty/sampling.py:238: UserWarning: Random walk proposals appear to be extremely inefficient. Adjusting the scale-factor accordingly.\n",
      "  warnings.warn(\"Random walk proposals appear to be \"\n",
      "97295it [3:49:07, 13.62it/s, batch: 0 | bound: 505 | nc: 25 | ncall: 3473930 | eff(%):  2.800 | loglstar:   -inf < 404.091 <    inf | logz: 305.399 +/-    nan | dlogz: 16.156 >  0.010]   /usr/local/lib/python3.7/site-packages/dynesty/sampling.py:238: UserWarning: Random walk proposals appear to be extremely inefficient. Adjusting the scale-factor accordingly.\n",
      "  warnings.warn(\"Random walk proposals appear to be \"\n",
      "97410it [3:50:43, 14.02it/s, batch: 0 | bound: 507 | nc: 25 | ncall: 3508249 | eff(%):  2.776 | loglstar:   -inf < 404.590 <    inf | logz: 305.865 +/-    nan | dlogz: 15.574 >  0.010]   /usr/local/lib/python3.7/site-packages/dynesty/sampling.py:238: UserWarning: Random walk proposals appear to be extremely inefficient. Adjusting the scale-factor accordingly.\n",
      "  warnings.warn(\"Random walk proposals appear to be \"\n",
      "97540it [3:52:29, 13.46it/s, batch: 0 | bound: 509 | nc: 25 | ncall: 3546553 | eff(%):  2.750 | loglstar:   -inf < 405.215 <    inf | logz: 306.366 +/-    nan | dlogz: 14.944 >  0.010]   /usr/local/lib/python3.7/site-packages/dynesty/sampling.py:238: UserWarning: Random walk proposals appear to be extremely inefficient. Adjusting the scale-factor accordingly.\n",
      "  warnings.warn(\"Random walk proposals appear to be \"\n",
      "97673it [3:53:49, 13.87it/s, batch: 0 | bound: 511 | nc: 25 | ncall: 3575094 | eff(%):  2.731 | loglstar:   -inf < 405.788 <    inf | logz: 306.876 +/-    nan | dlogz: 14.301 >  0.010]   /usr/local/lib/python3.7/site-packages/dynesty/sampling.py:238: UserWarning: Random walk proposals appear to be extremely inefficient. Adjusting the scale-factor accordingly.\n",
      "  warnings.warn(\"Random walk proposals appear to be \"\n",
      "97757it [3:55:25, 13.88it/s, batch: 0 | bound: 513 | nc: 25 | ncall: 3609401 | eff(%):  2.708 | loglstar:   -inf < 406.104 <    inf | logz: 307.173 +/-    nan | dlogz: 13.919 >  0.010]   /usr/local/lib/python3.7/site-packages/dynesty/sampling.py:238: UserWarning: Random walk proposals appear to be extremely inefficient. Adjusting the scale-factor accordingly.\n",
      "  warnings.warn(\"Random walk proposals appear to be \"\n",
      "/usr/local/lib/python3.7/site-packages/dynesty/sampling.py:216: UserWarning: Random number generation appears to be extremely inefficient. Adjusting the scale-factor accordingly.\n",
      "  warnings.warn(\"Random number generation appears to be \"\n",
      "97837it [3:57:11, 14.13it/s, batch: 0 | bound: 515 | nc: 25 | ncall: 3647741 | eff(%):  2.681 | loglstar:   -inf < 406.416 <    inf | logz: 307.436 +/-    nan | dlogz: 13.577 >  0.010]   /usr/local/lib/python3.7/site-packages/dynesty/sampling.py:238: UserWarning: Random walk proposals appear to be extremely inefficient. Adjusting the scale-factor accordingly.\n",
      "  warnings.warn(\"Random walk proposals appear to be \"\n",
      "98038it [3:58:46, 13.84it/s, batch: 0 | bound: 518 | nc: 25 | ncall: 3681243 | eff(%):  2.662 | loglstar:   -inf < 407.301 <    inf | logz: 308.099 +/-    nan | dlogz: 12.712 >  0.010]   /usr/local/lib/python3.7/site-packages/dynesty/sampling.py:238: UserWarning: Random walk proposals appear to be extremely inefficient. Adjusting the scale-factor accordingly.\n",
      "  warnings.warn(\"Random walk proposals appear to be \"\n",
      "/usr/local/lib/python3.7/site-packages/dynesty/sampling.py:216: UserWarning: Random number generation appears to be extremely inefficient. Adjusting the scale-factor accordingly.\n",
      "  warnings.warn(\"Random number generation appears to be \"\n"
     ]
    },
    {
     "name": "stderr",
     "output_type": "stream",
     "text": [
      "98115it [4:00:33, 13.49it/s, batch: 0 | bound: 520 | nc: 25 | ncall: 3720315 | eff(%):  2.637 | loglstar:   -inf < 407.630 <    inf | logz: 308.353 +/-    nan | dlogz: 12.381 >  0.010]   /usr/local/lib/python3.7/site-packages/dynesty/sampling.py:238: UserWarning: Random walk proposals appear to be extremely inefficient. Adjusting the scale-factor accordingly.\n",
      "  warnings.warn(\"Random walk proposals appear to be \"\n",
      "98408it [4:02:27, 13.53it/s, batch: 0 | bound: 523 | nc: 25 | ncall: 3760180 | eff(%):  2.616 | loglstar:   -inf < 408.657 <    inf | logz: 309.257 +/-    nan | dlogz: 12.083 >  0.010]   /usr/local/lib/python3.7/site-packages/dynesty/sampling.py:238: UserWarning: Random walk proposals appear to be extremely inefficient. Adjusting the scale-factor accordingly.\n",
      "  warnings.warn(\"Random walk proposals appear to be \"\n",
      "/usr/local/lib/python3.7/site-packages/dynesty/sampling.py:216: UserWarning: Random number generation appears to be extremely inefficient. Adjusting the scale-factor accordingly.\n",
      "  warnings.warn(\"Random number generation appears to be \"\n",
      "98748it [4:04:31, 13.78it/s, batch: 0 | bound: 527 | nc: 25 | ncall: 3804918 | eff(%):  2.595 | loglstar:   -inf < 409.813 <    inf | logz: 310.200 +/-    nan | dlogz: 11.537 >  0.010]   /usr/local/lib/python3.7/site-packages/dynesty/sampling.py:238: UserWarning: Random walk proposals appear to be extremely inefficient. Adjusting the scale-factor accordingly.\n",
      "  warnings.warn(\"Random walk proposals appear to be \"\n",
      "98749it [4:04:42, 13.78it/s, batch: 0 | bound: 527 | nc: 25 | ncall: 3804943 | eff(%):  2.595 | loglstar:   -inf < 409.815 <    inf | logz: 310.202 +/-    nan | dlogz: 11.534 >  0.010]/usr/local/lib/python3.7/site-packages/dynesty/sampling.py:216: UserWarning: Random number generation appears to be extremely inefficient. Adjusting the scale-factor accordingly.\n",
      "  warnings.warn(\"Random number generation appears to be \"\n",
      "98845it [4:06:05, 14.01it/s, batch: 0 | bound: 529 | nc: 25 | ncall: 3838796 | eff(%):  2.574 | loglstar:   -inf < 410.149 <    inf | logz: 310.445 +/-    nan | dlogz: 11.195 >  0.010]   /usr/local/lib/python3.7/site-packages/dynesty/sampling.py:238: UserWarning: Random walk proposals appear to be extremely inefficient. Adjusting the scale-factor accordingly.\n",
      "  warnings.warn(\"Random walk proposals appear to be \"\n",
      "99225it [4:08:08, 13.87it/s, batch: 0 | bound: 533 | nc: 25 | ncall: 3882456 | eff(%):  2.555 | loglstar:   -inf < 411.302 <    inf | logz: 311.325 +/-    nan | dlogz: 11.215 >  0.010]   /usr/local/lib/python3.7/site-packages/dynesty/sampling.py:238: UserWarning: Random walk proposals appear to be extremely inefficient. Adjusting the scale-factor accordingly.\n",
      "  warnings.warn(\"Random walk proposals appear to be \"\n",
      "/usr/local/lib/python3.7/site-packages/dynesty/sampling.py:216: UserWarning: Random number generation appears to be extremely inefficient. Adjusting the scale-factor accordingly.\n",
      "  warnings.warn(\"Random number generation appears to be \"\n",
      "99370it [4:10:10, 13.98it/s, batch: 0 | bound: 535 | nc: 25 | ncall: 3926346 | eff(%):  2.530 | loglstar:   -inf < 411.665 <    inf | logz: 311.631 +/-    nan | dlogz: 10.764 >  0.010]   /usr/local/lib/python3.7/site-packages/dynesty/sampling.py:238: UserWarning: Random walk proposals appear to be extremely inefficient. Adjusting the scale-factor accordingly.\n",
      "  warnings.warn(\"Random walk proposals appear to be \"\n",
      "99656it [4:12:12, 12.91it/s, batch: 0 | bound: 538 | nc: 25 | ncall: 3969899 | eff(%):  2.510 | loglstar:   -inf < 412.436 <    inf | logz: 312.191 +/-    nan | dlogz:  9.918 >  0.010]   /usr/local/lib/python3.7/site-packages/dynesty/sampling.py:238: UserWarning: Random walk proposals appear to be extremely inefficient. Adjusting the scale-factor accordingly.\n",
      "  warnings.warn(\"Random walk proposals appear to be \"\n",
      "99656it [4:12:23, 12.91it/s, batch: 0 | bound: 538 | nc: 25 | ncall: 3969899 | eff(%):  2.510 | loglstar:   -inf < 412.436 <    inf | logz: 312.191 +/-    nan | dlogz:  9.918 >  0.010]/usr/local/lib/python3.7/site-packages/dynesty/sampling.py:216: UserWarning: Random number generation appears to be extremely inefficient. Adjusting the scale-factor accordingly.\n",
      "  warnings.warn(\"Random number generation appears to be \"\n",
      "99792it [4:14:03, 13.68it/s, batch: 0 | bound: 540 | nc: 25 | ncall: 4009153 | eff(%):  2.488 | loglstar:   -inf < 412.783 <    inf | logz: 312.447 +/-    nan | dlogz:  9.526 >  0.010]   /usr/local/lib/python3.7/site-packages/dynesty/sampling.py:238: UserWarning: Random walk proposals appear to be extremely inefficient. Adjusting the scale-factor accordingly.\n",
      "  warnings.warn(\"Random walk proposals appear to be \"\n",
      "99921it [4:16:01, 11.81it/s, batch: 0 | bound: 542 | nc: 25 | ncall: 4049250 | eff(%):  2.467 | loglstar:   -inf < 413.128 <    inf | logz: 312.680 +/-    nan | dlogz:  9.238 >  0.010]   /usr/local/lib/python3.7/site-packages/dynesty/sampling.py:238: UserWarning: Random walk proposals appear to be extremely inefficient. Adjusting the scale-factor accordingly.\n",
      "  warnings.warn(\"Random walk proposals appear to be \"\n",
      "100257it [4:18:02, 14.68it/s, batch: 0 | bound: 546 | nc: 25 | ncall: 4095507 | eff(%):  2.447 | loglstar:   -inf < 413.844 <    inf | logz: 313.229 +/-    nan | dlogz:  8.353 >  0.010]  /usr/local/lib/python3.7/site-packages/dynesty/sampling.py:238: UserWarning: Random walk proposals appear to be extremely inefficient. Adjusting the scale-factor accordingly.\n",
      "  warnings.warn(\"Random walk proposals appear to be \"\n",
      "/usr/local/lib/python3.7/site-packages/dynesty/sampling.py:216: UserWarning: Random number generation appears to be extremely inefficient. Adjusting the scale-factor accordingly.\n",
      "  warnings.warn(\"Random number generation appears to be \"\n",
      "100395it [4:19:41, 13.70it/s, batch: 0 | bound: 548 | nc: 25 | ncall: 4134742 | eff(%):  2.427 | loglstar:   -inf < 414.158 <    inf | logz: 313.432 +/-    nan | dlogz:  8.013 >  0.010]   /usr/local/lib/python3.7/site-packages/dynesty/sampling.py:238: UserWarning: Random walk proposals appear to be extremely inefficient. Adjusting the scale-factor accordingly.\n",
      "  warnings.warn(\"Random walk proposals appear to be \"\n",
      "/usr/local/lib/python3.7/site-packages/dynesty/sampling.py:216: UserWarning: Random number generation appears to be extremely inefficient. Adjusting the scale-factor accordingly.\n",
      "  warnings.warn(\"Random number generation appears to be \"\n",
      "100896it [4:21:51, 14.64it/s, batch: 0 | bound: 553 | nc: 25 | ncall: 4185186 | eff(%):  2.410 | loglstar:   -inf < 415.165 <    inf | logz: 314.108 +/-    nan | dlogz:  6.837 >  0.010]   /usr/local/lib/python3.7/site-packages/dynesty/sampling.py:238: UserWarning: Random walk proposals appear to be extremely inefficient. Adjusting the scale-factor accordingly.\n",
      "  warnings.warn(\"Random walk proposals appear to be \"\n",
      "/usr/local/lib/python3.7/site-packages/dynesty/sampling.py:216: UserWarning: Random number generation appears to be extremely inefficient. Adjusting the scale-factor accordingly.\n",
      "  warnings.warn(\"Random number generation appears to be \"\n",
      "100999it [4:23:26, 14.86it/s, batch: 0 | bound: 555 | nc: 25 | ncall: 4223065 | eff(%):  2.391 | loglstar:   -inf < 415.364 <    inf | logz: 314.233 +/-    nan | dlogz:  6.608 >  0.010]   /usr/local/lib/python3.7/site-packages/dynesty/sampling.py:238: UserWarning: Random walk proposals appear to be extremely inefficient. Adjusting the scale-factor accordingly.\n",
      "  warnings.warn(\"Random walk proposals appear to be \"\n",
      "/usr/local/lib/python3.7/site-packages/dynesty/sampling.py:216: UserWarning: Random number generation appears to be extremely inefficient. Adjusting the scale-factor accordingly.\n",
      "  warnings.warn(\"Random number generation appears to be \"\n",
      "101687it [4:25:51, 12.77it/s, batch: 0 | bound: 561 | nc: 25 | ncall: 4279118 | eff(%):  2.376 | loglstar:   -inf < 416.602 <    inf | logz: 314.985 +/-    nan | dlogz:  5.173 >  0.010]   /usr/local/lib/python3.7/site-packages/dynesty/sampling.py:238: UserWarning: Random walk proposals appear to be extremely inefficient. Adjusting the scale-factor accordingly.\n",
      "  warnings.warn(\"Random walk proposals appear to be \"\n",
      "/usr/local/lib/python3.7/site-packages/dynesty/sampling.py:216: UserWarning: Random number generation appears to be extremely inefficient. Adjusting the scale-factor accordingly.\n",
      "  warnings.warn(\"Random number generation appears to be \"\n"
     ]
    },
    {
     "name": "stderr",
     "output_type": "stream",
     "text": [
      "102062it [4:27:57, 14.72it/s, batch: 0 | bound: 565 | nc: 25 | ncall: 4328592 | eff(%):  2.357 | loglstar:   -inf < 417.240 <    inf | logz: 315.335 +/-    nan | dlogz:  4.454 >  0.010]   /usr/local/lib/python3.7/site-packages/dynesty/sampling.py:238: UserWarning: Random walk proposals appear to be extremely inefficient. Adjusting the scale-factor accordingly.\n",
      "  warnings.warn(\"Random walk proposals appear to be \"\n",
      "102205it [4:29:34, 14.66it/s, batch: 0 | bound: 567 | nc: 25 | ncall: 4366374 | eff(%):  2.340 | loglstar:   -inf < 417.465 <    inf | logz: 315.460 +/-    nan | dlogz:  4.190 >  0.010]   /usr/local/lib/python3.7/site-packages/dynesty/sampling.py:238: UserWarning: Random walk proposals appear to be extremely inefficient. Adjusting the scale-factor accordingly.\n",
      "  warnings.warn(\"Random walk proposals appear to be \"\n",
      "/usr/local/lib/python3.7/site-packages/dynesty/sampling.py:216: UserWarning: Random number generation appears to be extremely inefficient. Adjusting the scale-factor accordingly.\n",
      "  warnings.warn(\"Random number generation appears to be \"\n",
      "102470it [4:31:31, 14.76it/s, batch: 0 | bound: 570 | nc: 25 | ncall: 4413040 | eff(%):  2.321 | loglstar:   -inf < 417.823 <    inf | logz: 315.675 +/-    nan | dlogz:  3.719 >  0.010]   /usr/local/lib/python3.7/site-packages/dynesty/sampling.py:238: UserWarning: Random walk proposals appear to be extremely inefficient. Adjusting the scale-factor accordingly.\n",
      "  warnings.warn(\"Random walk proposals appear to be \"\n",
      "/usr/local/lib/python3.7/site-packages/dynesty/sampling.py:216: UserWarning: Random number generation appears to be extremely inefficient. Adjusting the scale-factor accordingly.\n",
      "  warnings.warn(\"Random number generation appears to be \"\n",
      "102708it [4:33:26, 14.68it/s, batch: 0 | bound: 573 | nc: 25 | ncall: 4458336 | eff(%):  2.303 | loglstar:   -inf < 418.101 <    inf | logz: 315.846 +/-    nan | dlogz:  3.533 >  0.010]   /usr/local/lib/python3.7/site-packages/dynesty/sampling.py:238: UserWarning: Random walk proposals appear to be extremely inefficient. Adjusting the scale-factor accordingly.\n",
      "  warnings.warn(\"Random walk proposals appear to be \"\n",
      "/usr/local/lib/python3.7/site-packages/dynesty/sampling.py:216: UserWarning: Random number generation appears to be extremely inefficient. Adjusting the scale-factor accordingly.\n",
      "  warnings.warn(\"Random number generation appears to be \"\n",
      "102923it [4:35:15, 14.29it/s, batch: 0 | bound: 576 | nc: 25 | ncall: 4502047 | eff(%):  2.286 | loglstar:   -inf < 418.372 <    inf | logz: 315.983 +/-    nan | dlogz:  3.193 >  0.010]   /usr/local/lib/python3.7/site-packages/dynesty/sampling.py:238: UserWarning: Random walk proposals appear to be extremely inefficient. Adjusting the scale-factor accordingly.\n",
      "  warnings.warn(\"Random walk proposals appear to be \"\n",
      "/usr/local/lib/python3.7/site-packages/dynesty/sampling.py:216: UserWarning: Random number generation appears to be extremely inefficient. Adjusting the scale-factor accordingly.\n",
      "  warnings.warn(\"Random number generation appears to be \"\n",
      "103660it [4:37:35, 14.57it/s, batch: 0 | bound: 582 | nc: 25 | ncall: 4556532 | eff(%):  2.274 | loglstar:   -inf < 419.189 <    inf | logz: 316.378 +/-    nan | dlogz:  2.313 >  0.010]   /usr/local/lib/python3.7/site-packages/dynesty/sampling.py:238: UserWarning: Random walk proposals appear to be extremely inefficient. Adjusting the scale-factor accordingly.\n",
      "  warnings.warn(\"Random walk proposals appear to be \"\n",
      "/usr/local/lib/python3.7/site-packages/dynesty/sampling.py:216: UserWarning: Random number generation appears to be extremely inefficient. Adjusting the scale-factor accordingly.\n",
      "  warnings.warn(\"Random number generation appears to be \"\n",
      "103743it [4:39:14, 14.84it/s, batch: 0 | bound: 584 | nc: 25 | ncall: 4595634 | eff(%):  2.257 | loglstar:   -inf < 419.275 <    inf | logz: 316.415 +/-    nan | dlogz:  2.206 >  0.010]   /usr/local/lib/python3.7/site-packages/dynesty/sampling.py:238: UserWarning: Random walk proposals appear to be extremely inefficient. Adjusting the scale-factor accordingly.\n",
      "  warnings.warn(\"Random walk proposals appear to be \"\n",
      "/usr/local/lib/python3.7/site-packages/dynesty/sampling.py:216: UserWarning: Random number generation appears to be extremely inefficient. Adjusting the scale-factor accordingly.\n",
      "  warnings.warn(\"Random number generation appears to be \"\n",
      "104009it [4:41:18, 14.76it/s, batch: 0 | bound: 587 | nc: 25 | ncall: 4645135 | eff(%):  2.239 | loglstar:   -inf < 419.545 <    inf | logz: 316.526 +/-    nan | dlogz:  1.879 >  0.010]   /usr/local/lib/python3.7/site-packages/dynesty/sampling.py:238: UserWarning: Random walk proposals appear to be extremely inefficient. Adjusting the scale-factor accordingly.\n",
      "  warnings.warn(\"Random walk proposals appear to be \"\n",
      "104159it [4:42:58, 14.69it/s, batch: 0 | bound: 589 | nc: 25 | ncall: 4685287 | eff(%):  2.223 | loglstar:   -inf < 419.669 <    inf | logz: 316.582 +/-    nan | dlogz:  1.707 >  0.010]   /usr/local/lib/python3.7/site-packages/dynesty/sampling.py:238: UserWarning: Random walk proposals appear to be extremely inefficient. Adjusting the scale-factor accordingly.\n",
      "  warnings.warn(\"Random walk proposals appear to be \"\n",
      "/usr/local/lib/python3.7/site-packages/dynesty/sampling.py:216: UserWarning: Random number generation appears to be extremely inefficient. Adjusting the scale-factor accordingly.\n",
      "  warnings.warn(\"Random number generation appears to be \"\n",
      "104435it [4:44:55, 14.76it/s, batch: 0 | bound: 592 | nc: 25 | ncall: 4731655 | eff(%):  2.207 | loglstar:   -inf < 419.910 <    inf | logz: 316.676 +/-    nan | dlogz:  1.415 >  0.010]   /usr/local/lib/python3.7/site-packages/dynesty/sampling.py:238: UserWarning: Random walk proposals appear to be extremely inefficient. Adjusting the scale-factor accordingly.\n",
      "  warnings.warn(\"Random walk proposals appear to be \"\n",
      "/usr/local/lib/python3.7/site-packages/dynesty/sampling.py:216: UserWarning: Random number generation appears to be extremely inefficient. Adjusting the scale-factor accordingly.\n",
      "  warnings.warn(\"Random number generation appears to be \"\n",
      "104548it [4:46:44, 14.68it/s, batch: 0 | bound: 594 | nc: 25 | ncall: 4776154 | eff(%):  2.188 | loglstar:   -inf < 419.990 <    inf | logz: 316.711 +/-    nan | dlogz:  1.305 >  0.010]   /usr/local/lib/python3.7/site-packages/dynesty/sampling.py:238: UserWarning: Random walk proposals appear to be extremely inefficient. Adjusting the scale-factor accordingly.\n",
      "  warnings.warn(\"Random walk proposals appear to be \"\n",
      "/usr/local/lib/python3.7/site-packages/dynesty/sampling.py:216: UserWarning: Random number generation appears to be extremely inefficient. Adjusting the scale-factor accordingly.\n",
      "  warnings.warn(\"Random number generation appears to be \"\n",
      "104827it [4:48:52, 14.76it/s, batch: 0 | bound: 597 | nc: 25 | ncall: 4826669 | eff(%):  2.171 | loglstar:   -inf < 420.203 <    inf | logz: 316.788 +/-    nan | dlogz:  1.182 >  0.010]   /usr/local/lib/python3.7/site-packages/dynesty/sampling.py:238: UserWarning: Random walk proposals appear to be extremely inefficient. Adjusting the scale-factor accordingly.\n",
      "  warnings.warn(\"Random walk proposals appear to be \"\n",
      "/usr/local/lib/python3.7/site-packages/dynesty/sampling.py:216: UserWarning: Random number generation appears to be extremely inefficient. Adjusting the scale-factor accordingly.\n",
      "  warnings.warn(\"Random number generation appears to be \"\n",
      "105095it [4:50:48, 14.60it/s, batch: 0 | bound: 600 | nc: 25 | ncall: 4872920 | eff(%):  2.156 | loglstar:   -inf < 420.373 <    inf | logz: 316.851 +/-    nan | dlogz:  0.964 >  0.010]   /usr/local/lib/python3.7/site-packages/dynesty/sampling.py:238: UserWarning: Random walk proposals appear to be extremely inefficient. Adjusting the scale-factor accordingly.\n",
      "  warnings.warn(\"Random walk proposals appear to be \"\n",
      "/usr/local/lib/python3.7/site-packages/dynesty/sampling.py:216: UserWarning: Random number generation appears to be extremely inefficient. Adjusting the scale-factor accordingly.\n",
      "  warnings.warn(\"Random number generation appears to be \"\n"
     ]
    },
    {
     "name": "stderr",
     "output_type": "stream",
     "text": [
      "105161it [4:52:36, 14.71it/s, batch: 0 | bound: 602 | nc: 25 | ncall: 4916457 | eff(%):  2.139 | loglstar:   -inf < 420.413 <    inf | logz: 316.865 +/-    nan | dlogz:  0.916 >  0.010]   /usr/local/lib/python3.7/site-packages/dynesty/sampling.py:238: UserWarning: Random walk proposals appear to be extremely inefficient. Adjusting the scale-factor accordingly.\n",
      "  warnings.warn(\"Random walk proposals appear to be \"\n",
      "105736it [4:55:00, 14.67it/s, batch: 0 | bound: 607 | nc: 25 | ncall: 4972469 | eff(%):  2.126 | loglstar:   -inf < 420.772 <    inf | logz: 316.969 +/-    nan | dlogz:  0.632 >  0.010]   /usr/local/lib/python3.7/site-packages/dynesty/sampling.py:238: UserWarning: Random walk proposals appear to be extremely inefficient. Adjusting the scale-factor accordingly.\n",
      "  warnings.warn(\"Random walk proposals appear to be \"\n",
      "/usr/local/lib/python3.7/site-packages/dynesty/sampling.py:216: UserWarning: Random number generation appears to be extremely inefficient. Adjusting the scale-factor accordingly.\n",
      "  warnings.warn(\"Random number generation appears to be \"\n",
      "106007it [4:57:02, 14.86it/s, batch: 0 | bound: 610 | nc: 25 | ncall: 5020994 | eff(%):  2.111 | loglstar:   -inf < 420.909 <    inf | logz: 317.007 +/-    nan | dlogz:  0.542 >  0.010]   /usr/local/lib/python3.7/site-packages/dynesty/sampling.py:238: UserWarning: Random walk proposals appear to be extremely inefficient. Adjusting the scale-factor accordingly.\n",
      "  warnings.warn(\"Random walk proposals appear to be \"\n",
      "/usr/local/lib/python3.7/site-packages/dynesty/sampling.py:216: UserWarning: Random number generation appears to be extremely inefficient. Adjusting the scale-factor accordingly.\n",
      "  warnings.warn(\"Random number generation appears to be \"\n",
      "106224it [4:59:05, 14.25it/s, batch: 0 | bound: 613 | nc: 25 | ncall: 5070479 | eff(%):  2.095 | loglstar:   -inf < 421.034 <    inf | logz: 317.034 +/-    nan | dlogz:  0.447 >  0.010]   /usr/local/lib/python3.7/site-packages/dynesty/sampling.py:238: UserWarning: Random walk proposals appear to be extremely inefficient. Adjusting the scale-factor accordingly.\n",
      "  warnings.warn(\"Random walk proposals appear to be \"\n",
      "/usr/local/lib/python3.7/site-packages/dynesty/sampling.py:216: UserWarning: Random number generation appears to be extremely inefficient. Adjusting the scale-factor accordingly.\n",
      "  warnings.warn(\"Random number generation appears to be \"\n",
      "106371it [5:01:04, 14.78it/s, batch: 0 | bound: 615 | nc: 25 | ncall: 5118485 | eff(%):  2.078 | loglstar:   -inf < 421.109 <    inf | logz: 317.050 +/-    nan | dlogz:  0.391 >  0.010]   /usr/local/lib/python3.7/site-packages/dynesty/sampling.py:238: UserWarning: Random walk proposals appear to be extremely inefficient. Adjusting the scale-factor accordingly.\n",
      "  warnings.warn(\"Random walk proposals appear to be \"\n",
      "106839it [5:03:24, 14.60it/s, batch: 0 | bound: 620 | nc: 25 | ncall: 5173346 | eff(%):  2.065 | loglstar:   -inf < 421.317 <    inf | logz: 317.092 +/-    nan | dlogz:  0.276 >  0.010]   /usr/local/lib/python3.7/site-packages/dynesty/sampling.py:238: UserWarning: Random walk proposals appear to be extremely inefficient. Adjusting the scale-factor accordingly.\n",
      "  warnings.warn(\"Random walk proposals appear to be \"\n",
      "/usr/local/lib/python3.7/site-packages/dynesty/sampling.py:216: UserWarning: Random number generation appears to be extremely inefficient. Adjusting the scale-factor accordingly.\n",
      "  warnings.warn(\"Random number generation appears to be \"\n",
      "107390it [5:05:47, 14.60it/s, batch: 0 | bound: 625 | nc: 25 | ncall: 5228762 | eff(%):  2.053 | loglstar:   -inf < 421.530 <    inf | logz: 317.127 +/-    nan | dlogz:  0.178 >  0.010]   /usr/local/lib/python3.7/site-packages/dynesty/sampling.py:238: UserWarning: Random walk proposals appear to be extremely inefficient. Adjusting the scale-factor accordingly.\n",
      "  warnings.warn(\"Random walk proposals appear to be \"\n",
      "/usr/local/lib/python3.7/site-packages/dynesty/sampling.py:216: UserWarning: Random number generation appears to be extremely inefficient. Adjusting the scale-factor accordingly.\n",
      "  warnings.warn(\"Random number generation appears to be \"\n",
      "107766it [5:08:03, 14.57it/s, batch: 0 | bound: 629 | nc: 25 | ncall: 5283315 | eff(%):  2.039 | loglstar:   -inf < 421.663 <    inf | logz: 317.145 +/-    nan | dlogz:  0.125 >  0.010]   /usr/local/lib/python3.7/site-packages/dynesty/sampling.py:216: UserWarning: Random number generation appears to be extremely inefficient. Adjusting the scale-factor accordingly.\n",
      "  warnings.warn(\"Random number generation appears to be \"\n",
      "/usr/local/lib/python3.7/site-packages/dynesty/sampling.py:238: UserWarning: Random walk proposals appear to be extremely inefficient. Adjusting the scale-factor accordingly.\n",
      "  warnings.warn(\"Random walk proposals appear to be \"\n",
      "108039it [5:10:16, 14.57it/s, batch: 0 | bound: 632 | nc: 25 | ncall: 5337298 | eff(%):  2.024 | loglstar:   -inf < 421.751 <    inf | logz: 317.155 +/-    nan | dlogz:  0.095 >  0.010]   /usr/local/lib/python3.7/site-packages/dynesty/sampling.py:216: UserWarning: Random number generation appears to be extremely inefficient. Adjusting the scale-factor accordingly.\n",
      "  warnings.warn(\"Random number generation appears to be \"\n",
      "/usr/local/lib/python3.7/site-packages/dynesty/sampling.py:238: UserWarning: Random walk proposals appear to be extremely inefficient. Adjusting the scale-factor accordingly.\n",
      "  warnings.warn(\"Random walk proposals appear to be \"\n",
      "108128it [5:12:18, 14.57it/s, batch: 0 | bound: 634 | nc: 25 | ncall: 5387401 | eff(%):  2.007 | loglstar:   -inf < 421.775 <    inf | logz: 317.158 +/-    nan | dlogz:  0.087 >  0.010]   /usr/local/lib/python3.7/site-packages/dynesty/sampling.py:216: UserWarning: Random number generation appears to be extremely inefficient. Adjusting the scale-factor accordingly.\n",
      "  warnings.warn(\"Random number generation appears to be \"\n",
      "/usr/local/lib/python3.7/site-packages/dynesty/sampling.py:238: UserWarning: Random walk proposals appear to be extremely inefficient. Adjusting the scale-factor accordingly.\n",
      "  warnings.warn(\"Random walk proposals appear to be \"\n",
      "108269it [5:14:27, 14.64it/s, batch: 0 | bound: 636 | nc: 25 | ncall: 5439883 | eff(%):  1.990 | loglstar:   -inf < 421.826 <    inf | logz: 317.162 +/-    nan | dlogz:  0.076 >  0.010]   /usr/local/lib/python3.7/site-packages/dynesty/sampling.py:216: UserWarning: Random number generation appears to be extremely inefficient. Adjusting the scale-factor accordingly.\n",
      "  warnings.warn(\"Random number generation appears to be \"\n",
      "/usr/local/lib/python3.7/site-packages/dynesty/sampling.py:238: UserWarning: Random walk proposals appear to be extremely inefficient. Adjusting the scale-factor accordingly.\n",
      "  warnings.warn(\"Random walk proposals appear to be \"\n",
      "108364it [5:16:17, 14.74it/s, batch: 0 | bound: 638 | nc: 25 | ncall: 5485576 | eff(%):  1.975 | loglstar:   -inf < 421.853 <    inf | logz: 317.165 +/-    nan | dlogz:  0.069 >  0.010]   /usr/local/lib/python3.7/site-packages/dynesty/sampling.py:238: UserWarning: Random walk proposals appear to be extremely inefficient. Adjusting the scale-factor accordingly.\n",
      "  warnings.warn(\"Random walk proposals appear to be \"\n",
      "/usr/local/lib/python3.7/site-packages/dynesty/sampling.py:216: UserWarning: Random number generation appears to be extremely inefficient. Adjusting the scale-factor accordingly.\n",
      "  warnings.warn(\"Random number generation appears to be \"\n",
      "108534it [5:18:23, 14.69it/s, batch: 0 | bound: 641 | nc: 25 | ncall: 5536505 | eff(%):  1.960 | loglstar:   -inf < 421.898 <    inf | logz: 317.169 +/-    nan | dlogz:  0.058 >  0.010]   /usr/local/lib/python3.7/site-packages/dynesty/sampling.py:216: UserWarning: Random number generation appears to be extremely inefficient. Adjusting the scale-factor accordingly.\n",
      "  warnings.warn(\"Random number generation appears to be \"\n",
      "/usr/local/lib/python3.7/site-packages/dynesty/sampling.py:238: UserWarning: Random walk proposals appear to be extremely inefficient. Adjusting the scale-factor accordingly.\n",
      "  warnings.warn(\"Random walk proposals appear to be \"\n"
     ]
    },
    {
     "name": "stderr",
     "output_type": "stream",
     "text": [
      "108914it [5:20:43, 14.57it/s, batch: 0 | bound: 645 | nc: 25 | ncall: 5593330 | eff(%):  1.947 | loglstar:   -inf < 422.005 <    inf | logz: 317.177 +/-    nan | dlogz:  0.041 >  0.010]   /usr/local/lib/python3.7/site-packages/dynesty/sampling.py:238: UserWarning: Random walk proposals appear to be extremely inefficient. Adjusting the scale-factor accordingly.\n",
      "  warnings.warn(\"Random walk proposals appear to be \"\n",
      "/usr/local/lib/python3.7/site-packages/dynesty/sampling.py:216: UserWarning: Random number generation appears to be extremely inefficient. Adjusting the scale-factor accordingly.\n",
      "  warnings.warn(\"Random number generation appears to be \"\n",
      "109437it [5:23:00, 14.67it/s, batch: 0 | bound: 650 | nc: 25 | ncall: 5648183 | eff(%):  1.937 | loglstar:   -inf < 422.139 <    inf | logz: 317.185 +/-    nan | dlogz:  0.031 >  0.010]   /usr/local/lib/python3.7/site-packages/dynesty/sampling.py:216: UserWarning: Random number generation appears to be extremely inefficient. Adjusting the scale-factor accordingly.\n",
      "  warnings.warn(\"Random number generation appears to be \"\n",
      "/usr/local/lib/python3.7/site-packages/dynesty/sampling.py:238: UserWarning: Random walk proposals appear to be extremely inefficient. Adjusting the scale-factor accordingly.\n",
      "  warnings.warn(\"Random walk proposals appear to be \"\n",
      "109556it [5:25:07, 14.60it/s, batch: 0 | bound: 652 | nc: 25 | ncall: 5699536 | eff(%):  1.922 | loglstar:   -inf < 422.169 <    inf | logz: 317.186 +/-    nan | dlogz:  0.029 >  0.010]   /usr/local/lib/python3.7/site-packages/dynesty/sampling.py:216: UserWarning: Random number generation appears to be extremely inefficient. Adjusting the scale-factor accordingly.\n",
      "  warnings.warn(\"Random number generation appears to be \"\n",
      "/usr/local/lib/python3.7/site-packages/dynesty/sampling.py:238: UserWarning: Random walk proposals appear to be extremely inefficient. Adjusting the scale-factor accordingly.\n",
      "  warnings.warn(\"Random walk proposals appear to be \"\n",
      "109755it [5:27:21, 14.72it/s, batch: 0 | bound: 655 | nc: 25 | ncall: 5754234 | eff(%):  1.907 | loglstar:   -inf < 422.215 <    inf | logz: 317.188 +/-    nan | dlogz:  0.023 >  0.010]   /usr/local/lib/python3.7/site-packages/dynesty/sampling.py:216: UserWarning: Random number generation appears to be extremely inefficient. Adjusting the scale-factor accordingly.\n",
      "  warnings.warn(\"Random number generation appears to be \"\n",
      "/usr/local/lib/python3.7/site-packages/dynesty/sampling.py:238: UserWarning: Random walk proposals appear to be extremely inefficient. Adjusting the scale-factor accordingly.\n",
      "  warnings.warn(\"Random walk proposals appear to be \"\n",
      "109892it [5:29:15, 14.63it/s, batch: 0 | bound: 657 | nc: 25 | ncall: 5801205 | eff(%):  1.894 | loglstar:   -inf < 422.244 <    inf | logz: 317.189 +/-    nan | dlogz:  0.020 >  0.010]   /usr/local/lib/python3.7/site-packages/dynesty/sampling.py:216: UserWarning: Random number generation appears to be extremely inefficient. Adjusting the scale-factor accordingly.\n",
      "  warnings.warn(\"Random number generation appears to be \"\n",
      "/usr/local/lib/python3.7/site-packages/dynesty/sampling.py:238: UserWarning: Random walk proposals appear to be extremely inefficient. Adjusting the scale-factor accordingly.\n",
      "  warnings.warn(\"Random walk proposals appear to be \"\n",
      "110140it [5:31:25, 14.70it/s, batch: 0 | bound: 660 | nc: 25 | ncall: 5854345 | eff(%):  1.881 | loglstar:   -inf < 422.287 <    inf | logz: 317.191 +/-    nan | dlogz:  0.016 >  0.010]   /usr/local/lib/python3.7/site-packages/dynesty/sampling.py:238: UserWarning: Random walk proposals appear to be extremely inefficient. Adjusting the scale-factor accordingly.\n",
      "  warnings.warn(\"Random walk proposals appear to be \"\n",
      "/usr/local/lib/python3.7/site-packages/dynesty/sampling.py:216: UserWarning: Random number generation appears to be extremely inefficient. Adjusting the scale-factor accordingly.\n",
      "  warnings.warn(\"Random number generation appears to be \"\n",
      "110425it [5:33:28, 14.66it/s, batch: 0 | bound: 663 | nc: 25 | ncall: 5903923 | eff(%):  1.870 | loglstar:   -inf < 422.340 <    inf | logz: 317.193 +/-    nan | dlogz:  0.012 >  0.010]   /usr/local/lib/python3.7/site-packages/dynesty/sampling.py:216: UserWarning: Random number generation appears to be extremely inefficient. Adjusting the scale-factor accordingly.\n",
      "  warnings.warn(\"Random number generation appears to be \"\n",
      "/usr/local/lib/python3.7/site-packages/dynesty/sampling.py:238: UserWarning: Random walk proposals appear to be extremely inefficient. Adjusting the scale-factor accordingly.\n",
      "  warnings.warn(\"Random walk proposals appear to be \"\n",
      "119579it [5:53:33,  8.72it/s, batch: 4 | bound: 758 | nc: 25 | ncall: 6155474 | eff(%):  1.943 | loglstar: 415.909 < 422.774 < 420.883 | logz: 317.220 +/-    nan | stop:  0.953]           \n"
     ]
    }
   ],
   "source": [
    "results = kepler36.retrieve()"
   ]
  },
  {
   "cell_type": "markdown",
   "metadata": {},
   "source": [
    "Let's check out our results. I'm not going to work out the Carter et al. (2012) posterior distribution on the eccentricity vectors since they use a different basis than I choose here. But it's probably worth converting their mass ratio constraints to what we should expect here. They get a mass ratio sum $q_+ = (M_1 + M_2)/M_\\star= 3.51\\times10^{-5}$. In ttvnest dynamical masses are normalized by $3\\times10^{-6} = M_\\mathrm{Earth}/M_\\mathrm{Sun}$, so this gives $q_+ = 11.7$ in our units. Their planetary mass ratio is $q_p = M_1/M_2 = 0.55$. Taken together, this gives dynamical masses of $M_1/M_\\star = 4.15$ and $M_2/M_\\star = 7.55$.\n",
    "\n",
    "Let's see if we get there..."
   ]
  },
  {
   "cell_type": "code",
   "execution_count": 5,
   "metadata": {},
   "outputs": [
    {
     "name": "stdout",
     "output_type": "stream",
     "text": [
      "Summary (middle 95 percentile): \n",
      "$M_1/M_\\star/3\\times10^{-6}$: $4.030686^{+0.125817}_{-0.136883}$\n",
      "$P_1\\ [\\mathrm{days}]$: $13.839197^{+0.000523}_{-0.000518}$\n",
      "$\\sqrt{e}_1\\cos(\\omega_1)$: $0.045735^{+0.048222}_{-0.030362}$\n",
      "$\\sqrt{e}_1\\sin(\\omega_1)$: $0.189233^{+0.020419}_{-0.010774}$\n",
      "$T_{0,1}\\ [\\mathrm{days}]$: $7.959119^{+0.008336}_{-0.008183}$\n",
      "$M_2/M_\\star/3\\times10^{-6}$: $7.309738^{+0.184197}_{-0.159146}$\n",
      "$P_2\\ [\\mathrm{days}]$: $16.239654^{+0.00036}_{-0.000403}$\n",
      "$\\sqrt{e}_2\\cos(\\omega_2)$: $0.036294^{+0.06204}_{-0.054425}$\n",
      "$\\sqrt{e}_2\\sin(\\omega_2)$: $0.09211^{+0.031831}_{-0.02035}$\n",
      "$T_{0,2}\\ [\\mathrm{days}]$: $2.913044^{+0.001673}_{-0.001708}$\n"
     ]
    }
   ],
   "source": [
    "kepler36.posterior_summary()\n",
    "ttvnest.plot_utils.plot_results(kepler36, uncertainty_curves = 100, \n",
    "                                sim_length = 365.25*10, outname = 'kepler36')"
   ]
  },
  {
   "cell_type": "markdown",
   "metadata": {},
   "source": [
    "We are a little on the low side, but that's apparently to be expected from other works like Hadden & Lithwick (2017). Let's make the dynesty plots for good measure:"
   ]
  },
  {
   "cell_type": "code",
   "execution_count": 6,
   "metadata": {},
   "outputs": [
    {
     "data": {
      "text/plain": [
       "['kepler36_cornerplot.png', 'kepler36_traceplot.png', 'kepler36_runplot.png']"
      ]
     },
     "execution_count": 6,
     "metadata": {},
     "output_type": "execute_result"
    }
   ],
   "source": [
    "ttvnest.plot_utils.dynesty_plots(kepler36, outname = 'kepler36')"
   ]
  },
  {
   "cell_type": "markdown",
   "metadata": {},
   "source": [
    "Wow, what a nice system. Let's save our results for later:"
   ]
  },
  {
   "cell_type": "code",
   "execution_count": 7,
   "metadata": {},
   "outputs": [
    {
     "data": {
      "text/plain": [
       "'kepler36.p'"
      ]
     },
     "execution_count": 7,
     "metadata": {},
     "output_type": "execute_result"
    }
   ],
   "source": [
    "ttvnest.io_utils.save_results(kepler36, 'kepler36.p')"
   ]
  },
  {
   "cell_type": "code",
   "execution_count": null,
   "metadata": {},
   "outputs": [],
   "source": []
  }
 ],
 "metadata": {
  "kernelspec": {
   "display_name": "Python 3",
   "language": "python",
   "name": "python3"
  },
  "language_info": {
   "codemirror_mode": {
    "name": "ipython",
    "version": 3
   },
   "file_extension": ".py",
   "mimetype": "text/x-python",
   "name": "python",
   "nbconvert_exporter": "python",
   "pygments_lexer": "ipython3",
   "version": "3.7.0"
  }
 },
 "nbformat": 4,
 "nbformat_minor": 2
}
