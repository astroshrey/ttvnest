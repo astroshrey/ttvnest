{
 "cells": [
  {
   "cell_type": "markdown",
   "metadata": {},
   "source": [
    "# TTV Retrieval for TOI-216 (a partially-sampled dynamically-interacting system from *TESS*)\n",
    "\n",
    "In this notebook, we will perform a dynamical retrieval for TOI-216. This is one of the first TTV systems from *TESS*, verified by two independent groups (Dawson et al. 2019, Kipping et al. 2019). Since Dawson et al. (2019) had follow-up data, I'll use their times here. First, let's import packages and download data:"
   ]
  },
  {
   "cell_type": "code",
   "execution_count": 1,
   "metadata": {},
   "outputs": [],
   "source": [
    "%matplotlib inline\n",
    "import ttvnest\n",
    "import numpy as np\n",
    "import pandas as pd\n",
    "\n",
    "data = []\n",
    "errs = []\n",
    "epochs = []\n",
    "\n",
    "fname = 'toi_216.dat'\n",
    "df = pd.read_csv(fname, sep=',')\n",
    "arr = np.array(df)\n",
    "for planet in [1, 2]:\n",
    "    subarr = arr[np.where(arr[:,0] == planet)]\n",
    "    data.append(np.array(subarr[:,2], dtype = 'float'))\n",
    "    errs.append(np.array(subarr[:,3], dtype = 'float'))\n",
    "    epochs.append(np.array(subarr[:,1], dtype = 'int'))"
   ]
  },
  {
   "cell_type": "markdown",
   "metadata": {},
   "source": [
    "Now, let's set up the ttvnest system:"
   ]
  },
  {
   "cell_type": "code",
   "execution_count": 2,
   "metadata": {},
   "outputs": [
    {
     "name": "stdout",
     "output_type": "stream",
     "text": [
      "Simulation start/reference time:  1323.0\n",
      "ttvnest timestep:  0.6836\n",
      "Simulation length:  218.0\n",
      "Simulation end time:  1541.0\n"
     ]
    }
   ],
   "source": [
    "toi216_b = ttvnest.TTVPlanet(data[0], errs[0], epochs[0], mass_prior = ('Uniform', 0, 500.), \n",
    "                               period_prior = ('Normal', 17.09, 0.01)\n",
    "                              )\n",
    "\n",
    "toi216_c = ttvnest.TTVPlanet(data[1], errs[1], epochs[1], mass_prior = ('Uniform', 0, 500.), \n",
    "                               period_prior = ('Normal', 34.56, 0.01)\n",
    "                              )\n",
    "\n",
    "toi216 = ttvnest.TTVSystem(toi216_b, toi216_c)"
   ]
  },
  {
   "cell_type": "markdown",
   "metadata": {},
   "source": [
    "Before retrieval, let's plot the data alone to see what they look like: "
   ]
  },
  {
   "cell_type": "code",
   "execution_count": 3,
   "metadata": {},
   "outputs": [
    {
     "data": {
      "image/png": "[encoded data removed]",
      "text/plain": [
       "<Figure size 864x576 with 1 Axes>"
      ]
     },
     "metadata": {},
     "output_type": "display_data"
    },
    {
     "data": {
      "image/png": "[encoded data removed]",
      "text/plain": [
       "<Figure size 864x576 with 1 Axes>"
      ]
     },
     "metadata": {},
     "output_type": "display_data"
    }
   ],
   "source": [
    "ttvnest.plot_utils.plot_ttv_data(toi216)"
   ]
  },
  {
   "cell_type": "markdown",
   "metadata": {},
   "source": [
    "Let's retrieve:"
   ]
  },
  {
   "cell_type": "code",
   "execution_count": 4,
   "metadata": {},
   "outputs": [
    {
     "name": "stderr",
     "output_type": "stream",
     "text": [
      "23567it [14:36, 18.68it/s, batch: 0 | bound: 111 | nc: 25 | ncall: 473199 | eff(%):  4.970 | loglstar:   -inf < -103.027 <    inf | logz: -130.527 +/-    nan | dlogz: 179.842 >  0.010]      /usr/local/lib/python3.7/site-packages/dynesty/sampling.py:238: UserWarning: Random walk proposals appear to be extremely inefficient. Adjusting the scale-factor accordingly.\n",
      "  warnings.warn(\"Random walk proposals appear to be \"\n",
      "25465it [16:46,  2.96it/s, batch: 0 | bound: 128 | nc: 827 | ncall: 532858 | eff(%):  4.770 | loglstar:   -inf < -19.328 <    inf | logz: -48.161 +/-    nan | dlogz: 105.795 >  0.010]   /usr/local/lib/python3.7/site-packages/dynesty/sampling.py:238: UserWarning: Random walk proposals appear to be extremely inefficient. Adjusting the scale-factor accordingly.\n",
      "  warnings.warn(\"Random walk proposals appear to be \"\n",
      "26058it [17:25,  2.90it/s, batch: 0 | bound: 133 | nc: 836 | ncall: 551296 | eff(%):  4.718 | loglstar:   -inf < -1.769 <    inf | logz: -31.140 +/-    nan | dlogz: 88.179 >  0.010]  /usr/local/lib/python3.7/site-packages/dynesty/sampling.py:238: UserWarning: Random walk proposals appear to be extremely inefficient. Adjusting the scale-factor accordingly.\n",
      "  warnings.warn(\"Random walk proposals appear to be \"\n",
      "26738it [18:13, 16.32it/s, batch: 0 | bound: 139 | nc: 25 | ncall: 574216 | eff(%):  4.648 | loglstar:   -inf < 17.790 <    inf | logz: -12.076 +/-    nan | dlogz: 68.430 >  0.010]  /usr/local/lib/python3.7/site-packages/dynesty/sampling.py:238: UserWarning: Random walk proposals appear to be extremely inefficient. Adjusting the scale-factor accordingly.\n",
      "  warnings.warn(\"Random walk proposals appear to be \"\n",
      "26992it [18:43, 11.95it/s, batch: 0 | bound: 142 | nc: 25 | ncall: 587076 | eff(%):  4.590 | loglstar:   -inf < 23.535 <    inf | logz: -6.423 +/-    nan | dlogz: 62.520 >  0.010]   /usr/local/lib/python3.7/site-packages/dynesty/sampling.py:238: UserWarning: Random walk proposals appear to be extremely inefficient. Adjusting the scale-factor accordingly.\n",
      "  warnings.warn(\"Random walk proposals appear to be \"\n",
      "27100it [19:00, 20.19it/s, batch: 0 | bound: 144 | nc: 25 | ncall: 595187 | eff(%):  4.546 | loglstar:   -inf < 25.932 <    inf | logz: -4.252 +/-    nan | dlogz: 60.243 >  0.010]  /usr/local/lib/python3.7/site-packages/dynesty/sampling.py:238: UserWarning: Random walk proposals appear to be extremely inefficient. Adjusting the scale-factor accordingly.\n",
      "  warnings.warn(\"Random walk proposals appear to be \"\n",
      "27699it [19:38, 21.27it/s, batch: 0 | bound: 149 | nc: 25 | ncall: 613642 | eff(%):  4.507 | loglstar:   -inf < 37.625 <    inf | logz:  7.214 +/-    nan | dlogz: 49.883 >  0.010]  /usr/local/lib/python3.7/site-packages/dynesty/sampling.py:238: UserWarning: Random walk proposals appear to be extremely inefficient. Adjusting the scale-factor accordingly.\n",
      "  warnings.warn(\"Random walk proposals appear to be \"\n",
      "27819it [19:51, 23.44it/s, batch: 0 | bound: 151 | nc: 25 | ncall: 620908 | eff(%):  4.473 | loglstar:   -inf < 39.532 <    inf | logz:  9.089 +/-    nan | dlogz: 48.943 >  0.010]/usr/local/lib/python3.7/site-packages/dynesty/sampling.py:238: UserWarning: Random walk proposals appear to be extremely inefficient. Adjusting the scale-factor accordingly.\n",
      "  warnings.warn(\"Random walk proposals appear to be \"\n",
      "/usr/local/lib/python3.7/site-packages/dynesty/sampling.py:216: UserWarning: Random number generation appears to be extremely inefficient. Adjusting the scale-factor accordingly.\n",
      "  warnings.warn(\"Random number generation appears to be \"\n",
      "28227it [20:28, 22.66it/s, batch: 0 | bound: 155 | nc: 25 | ncall: 637934 | eff(%):  4.418 | loglstar:   -inf < 45.616 <    inf | logz: 14.829 +/-    nan | dlogz: 42.794 >  0.010]  /usr/local/lib/python3.7/site-packages/dynesty/sampling.py:238: UserWarning: Random walk proposals appear to be extremely inefficient. Adjusting the scale-factor accordingly.\n",
      "  warnings.warn(\"Random walk proposals appear to be \"\n",
      "/usr/local/lib/python3.7/site-packages/dynesty/sampling.py:216: UserWarning: Random number generation appears to be extremely inefficient. Adjusting the scale-factor accordingly.\n",
      "  warnings.warn(\"Random number generation appears to be \"\n",
      "28275it [20:41, 17.30it/s, batch: 0 | bound: 157 | nc: 25 | ncall: 644348 | eff(%):  4.381 | loglstar:   -inf < 46.255 <    inf | logz: 15.454 +/-    nan | dlogz: 42.120 >  0.010]/usr/local/lib/python3.7/site-packages/dynesty/sampling.py:238: UserWarning: Random walk proposals appear to be extremely inefficient. Adjusting the scale-factor accordingly.\n",
      "  warnings.warn(\"Random walk proposals appear to be \"\n",
      "28402it [21:00, 22.55it/s, batch: 0 | bound: 159 | nc: 25 | ncall: 655118 | eff(%):  4.329 | loglstar:   -inf < 47.947 <    inf | logz: 17.013 +/-    nan | dlogz: 40.435 >  0.010]  /usr/local/lib/python3.7/site-packages/dynesty/sampling.py:238: UserWarning: Random walk proposals appear to be extremely inefficient. Adjusting the scale-factor accordingly.\n",
      "  warnings.warn(\"Random walk proposals appear to be \"\n",
      "28528it [21:17, 13.13it/s, batch: 0 | bound: 161 | nc: 25 | ncall: 662818 | eff(%):  4.298 | loglstar:   -inf < 49.316 <    inf | logz: 18.447 +/-    nan | dlogz: 38.872 >  0.010]  /usr/local/lib/python3.7/site-packages/dynesty/sampling.py:238: UserWarning: Random walk proposals appear to be extremely inefficient. Adjusting the scale-factor accordingly.\n",
      "  warnings.warn(\"Random walk proposals appear to be \"\n",
      "28950it [21:44, 21.83it/s, batch: 0 | bound: 165 | nc: 25 | ncall: 677217 | eff(%):  4.269 | loglstar:   -inf < 53.899 <    inf | logz: 22.703 +/-    nan | dlogz: 39.647 >  0.010]  /usr/local/lib/python3.7/site-packages/dynesty/sampling.py:238: UserWarning: Random walk proposals appear to be extremely inefficient. Adjusting the scale-factor accordingly.\n",
      "  warnings.warn(\"Random walk proposals appear to be \"\n",
      "29517it [22:18, 23.47it/s, batch: 0 | bound: 170 | nc: 25 | ncall: 695168 | eff(%):  4.240 | loglstar:   -inf < 59.891 <    inf | logz: 28.166 +/-    nan | dlogz: 33.617 >  0.010] /usr/local/lib/python3.7/site-packages/dynesty/sampling.py:238: UserWarning: Random walk proposals appear to be extremely inefficient. Adjusting the scale-factor accordingly.\n",
      "  warnings.warn(\"Random walk proposals appear to be \"\n",
      "29767it [22:41, 23.29it/s, batch: 0 | bound: 173 | nc: 25 | ncall: 708653 | eff(%):  4.195 | loglstar:   -inf < 62.418 <    inf | logz: 30.475 +/-    nan | dlogz: 31.058 >  0.010]  /usr/local/lib/python3.7/site-packages/dynesty/sampling.py:238: UserWarning: Random walk proposals appear to be extremely inefficient. Adjusting the scale-factor accordingly.\n",
      "  warnings.warn(\"Random walk proposals appear to be \"\n",
      "30845it [23:35, 23.06it/s, batch: 0 | bound: 182 | nc: 25 | ncall: 740437 | eff(%):  4.160 | loglstar:   -inf < 70.822 <    inf | logz: 38.289 +/-    nan | dlogz: 22.163 >  0.010]  /usr/local/lib/python3.7/site-packages/dynesty/sampling.py:238: UserWarning: Random walk proposals appear to be extremely inefficient. Adjusting the scale-factor accordingly.\n",
      "  warnings.warn(\"Random walk proposals appear to be \"\n",
      "30983it [23:48, 23.50it/s, batch: 0 | bound: 184 | nc: 25 | ncall: 747709 | eff(%):  4.138 | loglstar:   -inf < 71.684 <    inf | logz: 39.032 +/-    nan | dlogz: 21.282 >  0.010]/usr/local/lib/python3.7/site-packages/dynesty/sampling.py:238: UserWarning: Random walk proposals appear to be extremely inefficient. Adjusting the scale-factor accordingly.\n",
      "  warnings.warn(\"Random walk proposals appear to be \"\n",
      "30986it [23:52,  2.34it/s, batch: 0 | bound: 185 | nc: 1427 | ncall: 750100 | eff(%):  4.125 | loglstar:   -inf < 71.694 <    inf | logz: 39.048 +/-    nan | dlogz: 21.263 >  0.010]/usr/local/lib/python3.7/site-packages/dynesty/sampling.py:216: UserWarning: Random number generation appears to be extremely inefficient. Adjusting the scale-factor accordingly.\n",
      "  warnings.warn(\"Random number generation appears to be \"\n",
      "31141it [24:07, 20.92it/s, batch: 0 | bound: 187 | nc: 25 | ncall: 758841 | eff(%):  4.098 | loglstar:   -inf < 72.520 <    inf | logz: 39.844 +/-    nan | dlogz: 20.312 >  0.010]  /usr/local/lib/python3.7/site-packages/dynesty/sampling.py:238: UserWarning: Random walk proposals appear to be extremely inefficient. Adjusting the scale-factor accordingly.\n",
      "  warnings.warn(\"Random walk proposals appear to be \"\n"
     ]
    },
    {
     "name": "stderr",
     "output_type": "stream",
     "text": [
      "31709it [24:40, 23.39it/s, batch: 0 | bound: 192 | nc: 25 | ncall: 778520 | eff(%):  4.068 | loglstar:   -inf < 75.698 <    inf | logz: 42.508 +/-    nan | dlogz: 18.021 >  0.010]  /usr/local/lib/python3.7/site-packages/dynesty/sampling.py:238: UserWarning: Random walk proposals appear to be extremely inefficient. Adjusting the scale-factor accordingly.\n",
      "  warnings.warn(\"Random walk proposals appear to be \"\n",
      "31835it [24:58,  3.56it/s, batch: 0 | bound: 195 | nc: 369 | ncall: 789292 | eff(%):  4.028 | loglstar:   -inf < 76.368 <    inf | logz: 43.069 +/-    nan | dlogz: 17.334 >  0.010]/usr/local/lib/python3.7/site-packages/dynesty/sampling.py:238: UserWarning: Random walk proposals appear to be extremely inefficient. Adjusting the scale-factor accordingly.\n",
      "  warnings.warn(\"Random walk proposals appear to be \"\n",
      "32419it [25:28, 23.16it/s, batch: 0 | bound: 199 | nc: 25 | ncall: 806607 | eff(%):  4.014 | loglstar:   -inf < 79.114 <    inf | logz: 45.394 +/-    nan | dlogz: 14.810 >  0.010] /usr/local/lib/python3.7/site-packages/dynesty/sampling.py:238: UserWarning: Random walk proposals appear to be extremely inefficient. Adjusting the scale-factor accordingly.\n",
      "  warnings.warn(\"Random walk proposals appear to be \"\n",
      "32611it [25:44, 23.52it/s, batch: 0 | bound: 202 | nc: 25 | ncall: 815560 | eff(%):  3.994 | loglstar:   -inf < 79.852 <    inf | logz: 46.065 +/-    nan | dlogz: 13.946 >  0.010]/usr/local/lib/python3.7/site-packages/dynesty/sampling.py:238: UserWarning: Random walk proposals appear to be extremely inefficient. Adjusting the scale-factor accordingly.\n",
      "  warnings.warn(\"Random walk proposals appear to be \"\n",
      "32759it [26:07, 23.27it/s, batch: 0 | bound: 204 | nc: 25 | ncall: 829436 | eff(%):  3.945 | loglstar:   -inf < 80.464 <    inf | logz: 46.552 +/-    nan | dlogz: 13.311 >  0.010]  /usr/local/lib/python3.7/site-packages/dynesty/sampling.py:238: UserWarning: Random walk proposals appear to be extremely inefficient. Adjusting the scale-factor accordingly.\n",
      "  warnings.warn(\"Random walk proposals appear to be \"\n",
      "/usr/local/lib/python3.7/site-packages/dynesty/sampling.py:216: UserWarning: Random number generation appears to be extremely inefficient. Adjusting the scale-factor accordingly.\n",
      "  warnings.warn(\"Random number generation appears to be \"\n",
      "33239it [26:45, 21.05it/s, batch: 0 | bound: 209 | nc: 25 | ncall: 851511 | eff(%):  3.899 | loglstar:   -inf < 82.323 <    inf | logz: 48.022 +/-    nan | dlogz: 11.361 >  0.010]   /usr/local/lib/python3.7/site-packages/dynesty/sampling.py:238: UserWarning: Random walk proposals appear to be extremely inefficient. Adjusting the scale-factor accordingly.\n",
      "  warnings.warn(\"Random walk proposals appear to be \"\n",
      "/usr/local/lib/python3.7/site-packages/dynesty/sampling.py:216: UserWarning: Random number generation appears to be extremely inefficient. Adjusting the scale-factor accordingly.\n",
      "  warnings.warn(\"Random number generation appears to be \"\n",
      "33771it [27:23, 23.71it/s, batch: 0 | bound: 214 | nc: 25 | ncall: 873999 | eff(%):  3.860 | loglstar:   -inf < 83.981 <    inf | logz: 49.400 +/-    nan | dlogz:  9.639 >  0.010]  /usr/local/lib/python3.7/site-packages/dynesty/sampling.py:238: UserWarning: Random walk proposals appear to be extremely inefficient. Adjusting the scale-factor accordingly.\n",
      "  warnings.warn(\"Random walk proposals appear to be \"\n",
      "/usr/local/lib/python3.7/site-packages/dynesty/sampling.py:216: UserWarning: Random number generation appears to be extremely inefficient. Adjusting the scale-factor accordingly.\n",
      "  warnings.warn(\"Random number generation appears to be \"\n",
      "34121it [28:06, 18.65it/s, batch: 0 | bound: 218 | nc: 25 | ncall: 897399 | eff(%):  3.798 | loglstar:   -inf < 85.033 <    inf | logz: 50.165 +/-    nan | dlogz:  8.531 >  0.010]   /usr/local/lib/python3.7/site-packages/dynesty/sampling.py:238: UserWarning: Random walk proposals appear to be extremely inefficient. Adjusting the scale-factor accordingly.\n",
      "  warnings.warn(\"Random walk proposals appear to be \"\n",
      "35213it [29:28, 22.26it/s, batch: 0 | bound: 227 | nc: 25 | ncall: 940420 | eff(%):  3.740 | loglstar:   -inf < 87.575 <    inf | logz: 52.069 +/-    nan | dlogz:  6.170 >  0.010]   /usr/local/lib/python3.7/site-packages/dynesty/sampling.py:238: UserWarning: Random walk proposals appear to be extremely inefficient. Adjusting the scale-factor accordingly.\n",
      "  warnings.warn(\"Random walk proposals appear to be \"\n",
      "/usr/local/lib/python3.7/site-packages/dynesty/sampling.py:216: UserWarning: Random number generation appears to be extremely inefficient. Adjusting the scale-factor accordingly.\n",
      "  warnings.warn(\"Random number generation appears to be \"\n",
      "35338it [30:01, 21.48it/s, batch: 0 | bound: 229 | nc: 25 | ncall: 958610 | eff(%):  3.683 | loglstar:   -inf < 87.863 <    inf | logz: 52.240 +/-    nan | dlogz:  5.874 >  0.010]   /usr/local/lib/python3.7/site-packages/dynesty/sampling.py:238: UserWarning: Random walk proposals appear to be extremely inefficient. Adjusting the scale-factor accordingly.\n",
      "  warnings.warn(\"Random walk proposals appear to be \"\n",
      "/usr/local/lib/python3.7/site-packages/dynesty/sampling.py:216: UserWarning: Random number generation appears to be extremely inefficient. Adjusting the scale-factor accordingly.\n",
      "  warnings.warn(\"Random number generation appears to be \"\n",
      "35773it [30:48, 23.05it/s, batch: 0 | bound: 233 | nc: 25 | ncall: 983448 | eff(%):  3.634 | loglstar:   -inf < 88.588 <    inf | logz: 52.770 +/-    nan | dlogz:  5.790 >  0.010]   /usr/local/lib/python3.7/site-packages/dynesty/sampling.py:238: UserWarning: Random walk proposals appear to be extremely inefficient. Adjusting the scale-factor accordingly.\n",
      "  warnings.warn(\"Random walk proposals appear to be \"\n",
      "/usr/local/lib/python3.7/site-packages/dynesty/sampling.py:216: UserWarning: Random number generation appears to be extremely inefficient. Adjusting the scale-factor accordingly.\n",
      "  warnings.warn(\"Random number generation appears to be \"\n",
      "36146it [31:33, 23.42it/s, batch: 0 | bound: 237 | nc: 25 | ncall: 1008925 | eff(%):  3.579 | loglstar:   -inf < 89.154 <    inf | logz: 53.132 +/-    nan | dlogz:  5.081 >  0.010]  /usr/local/lib/python3.7/site-packages/dynesty/sampling.py:216: UserWarning: Random number generation appears to be extremely inefficient. Adjusting the scale-factor accordingly.\n",
      "  warnings.warn(\"Random number generation appears to be \"\n",
      "/usr/local/lib/python3.7/site-packages/dynesty/sampling.py:238: UserWarning: Random walk proposals appear to be extremely inefficient. Adjusting the scale-factor accordingly.\n",
      "  warnings.warn(\"Random walk proposals appear to be \"\n",
      "36291it [31:57, 19.99it/s, batch: 0 | bound: 239 | nc: 25 | ncall: 1022188 | eff(%):  3.547 | loglstar:   -inf < 89.339 <    inf | logz: 53.257 +/-    nan | dlogz:  4.813 >  0.010]/usr/local/lib/python3.7/site-packages/dynesty/sampling.py:238: UserWarning: Random walk proposals appear to be extremely inefficient. Adjusting the scale-factor accordingly.\n",
      "  warnings.warn(\"Random walk proposals appear to be \"\n",
      "/usr/local/lib/python3.7/site-packages/dynesty/sampling.py:216: UserWarning: Random number generation appears to be extremely inefficient. Adjusting the scale-factor accordingly.\n",
      "  warnings.warn(\"Random number generation appears to be \"\n",
      "36677it [32:48, 14.14it/s, batch: 0 | bound: 243 | nc: 25 | ncall: 1049956 | eff(%):  3.490 | loglstar:   -inf < 89.847 <    inf | logz: 53.550 +/-    nan | dlogz:  4.381 >  0.010]   /usr/local/lib/python3.7/site-packages/dynesty/sampling.py:238: UserWarning: Random walk proposals appear to be extremely inefficient. Adjusting the scale-factor accordingly.\n",
      "  warnings.warn(\"Random walk proposals appear to be \"\n",
      "/usr/local/lib/python3.7/site-packages/dynesty/sampling.py:216: UserWarning: Random number generation appears to be extremely inefficient. Adjusting the scale-factor accordingly.\n",
      "  warnings.warn(\"Random number generation appears to be \"\n",
      "36953it [33:30, 22.88it/s, batch: 0 | bound: 246 | nc: 25 | ncall: 1073160 | eff(%):  3.440 | loglstar:   -inf < 90.198 <    inf | logz: 53.731 +/-    nan | dlogz:  3.931 >  0.010]   /usr/local/lib/python3.7/site-packages/dynesty/sampling.py:238: UserWarning: Random walk proposals appear to be extremely inefficient. Adjusting the scale-factor accordingly.\n",
      "  warnings.warn(\"Random walk proposals appear to be \"\n"
     ]
    },
    {
     "name": "stderr",
     "output_type": "stream",
     "text": [
      "/usr/local/lib/python3.7/site-packages/dynesty/sampling.py:216: UserWarning: Random number generation appears to be extremely inefficient. Adjusting the scale-factor accordingly.\n",
      "  warnings.warn(\"Random number generation appears to be \"\n",
      "37245it [34:12, 23.89it/s, batch: 0 | bound: 249 | nc: 25 | ncall: 1099029 | eff(%):  3.386 | loglstar:   -inf < 90.555 <    inf | logz: 53.905 +/-    nan | dlogz:  3.476 >  0.010]   /usr/local/lib/python3.7/site-packages/dynesty/sampling.py:238: UserWarning: Random walk proposals appear to be extremely inefficient. Adjusting the scale-factor accordingly.\n",
      "  warnings.warn(\"Random walk proposals appear to be \"\n",
      "/usr/local/lib/python3.7/site-packages/dynesty/sampling.py:216: UserWarning: Random number generation appears to be extremely inefficient. Adjusting the scale-factor accordingly.\n",
      "  warnings.warn(\"Random number generation appears to be \"\n",
      "37287it [34:45, 11.07it/s, batch: 0 | bound: 251 | nc: 25 | ncall: 1116683 | eff(%):  3.336 | loglstar:   -inf < 90.602 <    inf | logz: 53.929 +/-    nan | dlogz:  3.413 >  0.010]   /usr/local/lib/python3.7/site-packages/dynesty/sampling.py:238: UserWarning: Random walk proposals appear to be extremely inefficient. Adjusting the scale-factor accordingly.\n",
      "  warnings.warn(\"Random walk proposals appear to be \"\n",
      "/usr/local/lib/python3.7/site-packages/dynesty/sampling.py:216: UserWarning: Random number generation appears to be extremely inefficient. Adjusting the scale-factor accordingly.\n",
      "  warnings.warn(\"Random number generation appears to be \"\n",
      "37382it [35:13, 20.99it/s, batch: 0 | bound: 253 | nc: 25 | ncall: 1131650 | eff(%):  3.300 | loglstar:   -inf < 90.683 <    inf | logz: 53.980 +/-    nan | dlogz:  3.272 >  0.010]   /usr/local/lib/python3.7/site-packages/dynesty/sampling.py:238: UserWarning: Random walk proposals appear to be extremely inefficient. Adjusting the scale-factor accordingly.\n",
      "  warnings.warn(\"Random walk proposals appear to be \"\n",
      "/usr/local/lib/python3.7/site-packages/dynesty/sampling.py:216: UserWarning: Random number generation appears to be extremely inefficient. Adjusting the scale-factor accordingly.\n",
      "  warnings.warn(\"Random number generation appears to be \"\n",
      "37744it [36:11, 21.79it/s, batch: 0 | bound: 257 | nc: 25 | ncall: 1163011 | eff(%):  3.243 | loglstar:   -inf < 91.094 <    inf | logz: 54.154 +/-    nan | dlogz:  2.762 >  0.010]   /usr/local/lib/python3.7/site-packages/dynesty/sampling.py:216: UserWarning: Random number generation appears to be extremely inefficient. Adjusting the scale-factor accordingly.\n",
      "  warnings.warn(\"Random number generation appears to be \"\n",
      "/usr/local/lib/python3.7/site-packages/dynesty/sampling.py:238: UserWarning: Random walk proposals appear to be extremely inefficient. Adjusting the scale-factor accordingly.\n",
      "  warnings.warn(\"Random walk proposals appear to be \"\n",
      "37761it [36:49,  1.35s/it, batch: 0 | bound: 259 | nc: 25 | ncall: 1182237 | eff(%):  3.191 | loglstar:   -inf < 91.110 <    inf | logz: 54.162 +/-    nan | dlogz:  2.739 >  0.010]   /usr/local/lib/python3.7/site-packages/dynesty/sampling.py:238: UserWarning: Random walk proposals appear to be extremely inefficient. Adjusting the scale-factor accordingly.\n",
      "  warnings.warn(\"Random walk proposals appear to be \"\n",
      "37763it [37:01,  1.35s/it, batch: 0 | bound: 259 | nc: 25 | ncall: 1182287 | eff(%):  3.191 | loglstar:   -inf < 91.111 <    inf | logz: 54.163 +/-    nan | dlogz:  2.737 >  0.010]/usr/local/lib/python3.7/site-packages/dynesty/sampling.py:216: UserWarning: Random number generation appears to be extremely inefficient. Adjusting the scale-factor accordingly.\n",
      "  warnings.warn(\"Random number generation appears to be \"\n",
      "37861it [37:22, 17.65it/s, batch: 0 | bound: 261 | nc: 25 | ncall: 1200525 | eff(%):  3.151 | loglstar:   -inf < 91.211 <    inf | logz: 54.206 +/-    nan | dlogz:  2.605 >  0.010]   /usr/local/lib/python3.7/site-packages/dynesty/sampling.py:238: UserWarning: Random walk proposals appear to be extremely inefficient. Adjusting the scale-factor accordingly.\n",
      "  warnings.warn(\"Random walk proposals appear to be \"\n",
      "/usr/local/lib/python3.7/site-packages/dynesty/sampling.py:216: UserWarning: Random number generation appears to be extremely inefficient. Adjusting the scale-factor accordingly.\n",
      "  warnings.warn(\"Random number generation appears to be \"\n",
      "38007it [37:51, 23.39it/s, batch: 0 | bound: 263 | nc: 25 | ncall: 1215834 | eff(%):  3.123 | loglstar:   -inf < 91.374 <    inf | logz: 54.268 +/-    nan | dlogz:  2.414 >  0.010]   /usr/local/lib/python3.7/site-packages/dynesty/sampling.py:216: UserWarning: Random number generation appears to be extremely inefficient. Adjusting the scale-factor accordingly.\n",
      "  warnings.warn(\"Random number generation appears to be \"\n",
      "/usr/local/lib/python3.7/site-packages/dynesty/sampling.py:238: UserWarning: Random walk proposals appear to be extremely inefficient. Adjusting the scale-factor accordingly.\n",
      "  warnings.warn(\"Random walk proposals appear to be \"\n",
      "38108it [38:09, 19.84it/s, batch: 0 | bound: 265 | nc: 25 | ncall: 1225967 | eff(%):  3.106 | loglstar:   -inf < 91.486 <    inf | logz: 54.309 +/-    nan | dlogz:  2.285 >  0.010]  /usr/local/lib/python3.7/site-packages/dynesty/sampling.py:238: UserWarning: Random walk proposals appear to be extremely inefficient. Adjusting the scale-factor accordingly.\n",
      "  warnings.warn(\"Random walk proposals appear to be \"\n",
      "/usr/local/lib/python3.7/site-packages/dynesty/sampling.py:216: UserWarning: Random number generation appears to be extremely inefficient. Adjusting the scale-factor accordingly.\n",
      "  warnings.warn(\"Random number generation appears to be \"\n",
      "38159it [38:47, 18.24it/s, batch: 0 | bound: 267 | nc: 25 | ncall: 1246010 | eff(%):  3.060 | loglstar:   -inf < 91.546 <    inf | logz: 54.330 +/-    nan | dlogz:  2.221 >  0.010]   /usr/local/lib/python3.7/site-packages/dynesty/sampling.py:238: UserWarning: Random walk proposals appear to be extremely inefficient. Adjusting the scale-factor accordingly.\n",
      "  warnings.warn(\"Random walk proposals appear to be \"\n",
      "/usr/local/lib/python3.7/site-packages/dynesty/sampling.py:216: UserWarning: Random number generation appears to be extremely inefficient. Adjusting the scale-factor accordingly.\n",
      "  warnings.warn(\"Random number generation appears to be \"\n",
      "38561it [39:30, 23.21it/s, batch: 0 | bound: 271 | nc: 25 | ncall: 1271376 | eff(%):  3.031 | loglstar:   -inf < 91.885 <    inf | logz: 54.473 +/-    nan | dlogz:  1.752 >  0.010]   /usr/local/lib/python3.7/site-packages/dynesty/sampling.py:238: UserWarning: Random walk proposals appear to be extremely inefficient. Adjusting the scale-factor accordingly.\n",
      "  warnings.warn(\"Random walk proposals appear to be \"\n",
      "/usr/local/lib/python3.7/site-packages/dynesty/sampling.py:216: UserWarning: Random number generation appears to be extremely inefficient. Adjusting the scale-factor accordingly.\n",
      "  warnings.warn(\"Random number generation appears to be \"\n",
      "38730it [40:08, 21.13it/s, batch: 0 | bound: 274 | nc: 25 | ncall: 1292727 | eff(%):  2.994 | loglstar:   -inf < 92.037 <    inf | logz: 54.526 +/-    nan | dlogz:  1.826 >  0.010]   /usr/local/lib/python3.7/site-packages/dynesty/sampling.py:216: UserWarning: Random number generation appears to be extremely inefficient. Adjusting the scale-factor accordingly.\n",
      "  warnings.warn(\"Random number generation appears to be \"\n",
      "/usr/local/lib/python3.7/site-packages/dynesty/sampling.py:238: UserWarning: Random walk proposals appear to be extremely inefficient. Adjusting the scale-factor accordingly.\n",
      "  warnings.warn(\"Random walk proposals appear to be \"\n",
      "38836it [40:33, 21.90it/s, batch: 0 | bound: 276 | nc: 25 | ncall: 1308044 | eff(%):  2.967 | loglstar:   -inf < 92.119 <    inf | logz: 54.557 +/-    nan | dlogz:  1.712 >  0.010]   /usr/local/lib/python3.7/site-packages/dynesty/sampling.py:238: UserWarning: Random walk proposals appear to be extremely inefficient. Adjusting the scale-factor accordingly.\n",
      "  warnings.warn(\"Random walk proposals appear to be \"\n",
      "/usr/local/lib/python3.7/site-packages/dynesty/sampling.py:216: UserWarning: Random number generation appears to be extremely inefficient. Adjusting the scale-factor accordingly.\n",
      "  warnings.warn(\"Random number generation appears to be \"\n"
     ]
    },
    {
     "name": "stderr",
     "output_type": "stream",
     "text": [
      "38986it [41:15, 17.30it/s, batch: 0 | bound: 278 | nc: 25 | ncall: 1331367 | eff(%):  2.926 | loglstar:   -inf < 92.232 <    inf | logz: 54.598 +/-    nan | dlogz:  1.558 >  0.010]   /usr/local/lib/python3.7/site-packages/dynesty/sampling.py:238: UserWarning: Random walk proposals appear to be extremely inefficient. Adjusting the scale-factor accordingly.\n",
      "  warnings.warn(\"Random walk proposals appear to be \"\n",
      "/usr/local/lib/python3.7/site-packages/dynesty/sampling.py:216: UserWarning: Random number generation appears to be extremely inefficient. Adjusting the scale-factor accordingly.\n",
      "  warnings.warn(\"Random number generation appears to be \"\n",
      "39059it [41:44, 22.41it/s, batch: 0 | bound: 280 | nc: 25 | ncall: 1348221 | eff(%):  2.895 | loglstar:   -inf < 92.280 <    inf | logz: 54.617 +/-    nan | dlogz:  1.487 >  0.010]   /usr/local/lib/python3.7/site-packages/dynesty/sampling.py:216: UserWarning: Random number generation appears to be extremely inefficient. Adjusting the scale-factor accordingly.\n",
      "  warnings.warn(\"Random number generation appears to be \"\n",
      "/usr/local/lib/python3.7/site-packages/dynesty/sampling.py:238: UserWarning: Random walk proposals appear to be extremely inefficient. Adjusting the scale-factor accordingly.\n",
      "  warnings.warn(\"Random walk proposals appear to be \"\n",
      "39343it [42:29, 22.17it/s, batch: 0 | bound: 283 | nc: 25 | ncall: 1375214 | eff(%):  2.859 | loglstar:   -inf < 92.482 <    inf | logz: 54.683 +/-    nan | dlogz:  1.227 >  0.010]   /usr/local/lib/python3.7/site-packages/dynesty/sampling.py:238: UserWarning: Random walk proposals appear to be extremely inefficient. Adjusting the scale-factor accordingly.\n",
      "  warnings.warn(\"Random walk proposals appear to be \"\n",
      "/usr/local/lib/python3.7/site-packages/dynesty/sampling.py:216: UserWarning: Random number generation appears to be extremely inefficient. Adjusting the scale-factor accordingly.\n",
      "  warnings.warn(\"Random number generation appears to be \"\n",
      "39473it [43:09, 21.68it/s, batch: 0 | bound: 285 | nc: 25 | ncall: 1399288 | eff(%):  2.819 | loglstar:   -inf < 92.576 <    inf | logz: 54.711 +/-    nan | dlogz:  1.118 >  0.010]   /usr/local/lib/python3.7/site-packages/dynesty/sampling.py:238: UserWarning: Random walk proposals appear to be extremely inefficient. Adjusting the scale-factor accordingly.\n",
      "  warnings.warn(\"Random walk proposals appear to be \"\n",
      "/usr/local/lib/python3.7/site-packages/dynesty/sampling.py:216: UserWarning: Random number generation appears to be extremely inefficient. Adjusting the scale-factor accordingly.\n",
      "  warnings.warn(\"Random number generation appears to be \"\n",
      "39714it [43:59, 22.09it/s, batch: 0 | bound: 288 | nc: 25 | ncall: 1427631 | eff(%):  2.780 | loglstar:   -inf < 92.756 <    inf | logz: 54.757 +/-    nan | dlogz:  0.934 >  0.010]   /usr/local/lib/python3.7/site-packages/dynesty/sampling.py:238: UserWarning: Random walk proposals appear to be extremely inefficient. Adjusting the scale-factor accordingly.\n",
      "  warnings.warn(\"Random walk proposals appear to be \"\n",
      "/usr/local/lib/python3.7/site-packages/dynesty/sampling.py:216: UserWarning: Random number generation appears to be extremely inefficient. Adjusting the scale-factor accordingly.\n",
      "  warnings.warn(\"Random number generation appears to be \"\n",
      "39897it [44:41, 23.05it/s, batch: 0 | bound: 291 | nc: 25 | ncall: 1452937 | eff(%):  2.744 | loglstar:   -inf < 92.875 <    inf | logz: 54.789 +/-    nan | dlogz:  0.809 >  0.010]   /usr/local/lib/python3.7/site-packages/dynesty/sampling.py:216: UserWarning: Random number generation appears to be extremely inefficient. Adjusting the scale-factor accordingly.\n",
      "  warnings.warn(\"Random number generation appears to be \"\n",
      "/usr/local/lib/python3.7/site-packages/dynesty/sampling.py:238: UserWarning: Random walk proposals appear to be extremely inefficient. Adjusting the scale-factor accordingly.\n",
      "  warnings.warn(\"Random walk proposals appear to be \"\n",
      "40624it [45:53, 22.80it/s, batch: 0 | bound: 297 | nc: 25 | ncall: 1495168 | eff(%):  2.715 | loglstar:   -inf < 93.278 <    inf | logz: 54.888 +/-    nan | dlogz:  0.436 >  0.010]   /usr/local/lib/python3.7/site-packages/dynesty/sampling.py:216: UserWarning: Random number generation appears to be extremely inefficient. Adjusting the scale-factor accordingly.\n",
      "  warnings.warn(\"Random number generation appears to be \"\n",
      "/usr/local/lib/python3.7/site-packages/dynesty/sampling.py:238: UserWarning: Random walk proposals appear to be extremely inefficient. Adjusting the scale-factor accordingly.\n",
      "  warnings.warn(\"Random walk proposals appear to be \"\n",
      "41175it [46:49, 22.81it/s, batch: 0 | bound: 302 | nc: 25 | ncall: 1528456 | eff(%):  2.692 | loglstar:   -inf < 93.547 <    inf | logz: 54.940 +/-    nan | dlogz:  0.305 >  0.010]   /usr/local/lib/python3.7/site-packages/dynesty/sampling.py:216: UserWarning: Random number generation appears to be extremely inefficient. Adjusting the scale-factor accordingly.\n",
      "  warnings.warn(\"Random number generation appears to be \"\n",
      "/usr/local/lib/python3.7/site-packages/dynesty/sampling.py:238: UserWarning: Random walk proposals appear to be extremely inefficient. Adjusting the scale-factor accordingly.\n",
      "  warnings.warn(\"Random walk proposals appear to be \"\n",
      "41320it [47:38, 22.52it/s, batch: 0 | bound: 304 | nc: 25 | ncall: 1558193 | eff(%):  2.650 | loglstar:   -inf < 93.619 <    inf | logz: 54.951 +/-    nan | dlogz:  0.279 >  0.010]   /usr/local/lib/python3.7/site-packages/dynesty/sampling.py:216: UserWarning: Random number generation appears to be extremely inefficient. Adjusting the scale-factor accordingly.\n",
      "  warnings.warn(\"Random number generation appears to be \"\n",
      "/usr/local/lib/python3.7/site-packages/dynesty/sampling.py:238: UserWarning: Random walk proposals appear to be extremely inefficient. Adjusting the scale-factor accordingly.\n",
      "  warnings.warn(\"Random walk proposals appear to be \"\n",
      "41420it [48:21, 22.32it/s, batch: 0 | bound: 306 | nc: 25 | ncall: 1584989 | eff(%):  2.612 | loglstar:   -inf < 93.657 <    inf | logz: 54.958 +/-    nan | dlogz:  0.254 >  0.010]   /usr/local/lib/python3.7/site-packages/dynesty/sampling.py:216: UserWarning: Random number generation appears to be extremely inefficient. Adjusting the scale-factor accordingly.\n",
      "  warnings.warn(\"Random number generation appears to be \"\n",
      "/usr/local/lib/python3.7/site-packages/dynesty/sampling.py:238: UserWarning: Random walk proposals appear to be extremely inefficient. Adjusting the scale-factor accordingly.\n",
      "  warnings.warn(\"Random walk proposals appear to be \"\n",
      "41563it [48:57, 22.83it/s, batch: 0 | bound: 308 | nc: 25 | ncall: 1608282 | eff(%):  2.583 | loglstar:   -inf < 93.725 <    inf | logz: 54.967 +/-    nan | dlogz:  0.222 >  0.010]   /usr/local/lib/python3.7/site-packages/dynesty/sampling.py:216: UserWarning: Random number generation appears to be extremely inefficient. Adjusting the scale-factor accordingly.\n",
      "  warnings.warn(\"Random number generation appears to be \"\n",
      "/usr/local/lib/python3.7/site-packages/dynesty/sampling.py:238: UserWarning: Random walk proposals appear to be extremely inefficient. Adjusting the scale-factor accordingly.\n",
      "  warnings.warn(\"Random walk proposals appear to be \"\n",
      "41658it [49:32, 22.90it/s, batch: 0 | bound: 310 | nc: 25 | ncall: 1629510 | eff(%):  2.555 | loglstar:   -inf < 93.764 <    inf | logz: 54.973 +/-    nan | dlogz:  0.203 >  0.010]   /usr/local/lib/python3.7/site-packages/dynesty/sampling.py:216: UserWarning: Random number generation appears to be extremely inefficient. Adjusting the scale-factor accordingly.\n",
      "  warnings.warn(\"Random number generation appears to be \"\n",
      "/usr/local/lib/python3.7/site-packages/dynesty/sampling.py:238: UserWarning: Random walk proposals appear to be extremely inefficient. Adjusting the scale-factor accordingly.\n",
      "  warnings.warn(\"Random walk proposals appear to be \"\n",
      "41924it [50:23, 22.55it/s, batch: 0 | bound: 313 | nc: 25 | ncall: 1660300 | eff(%):  2.524 | loglstar:   -inf < 93.878 <    inf | logz: 54.987 +/-    nan | dlogz:  0.157 >  0.010]   /usr/local/lib/python3.7/site-packages/dynesty/sampling.py:216: UserWarning: Random number generation appears to be extremely inefficient. Adjusting the scale-factor accordingly.\n",
      "  warnings.warn(\"Random number generation appears to be \"\n"
     ]
    },
    {
     "name": "stderr",
     "output_type": "stream",
     "text": [
      "/usr/local/lib/python3.7/site-packages/dynesty/sampling.py:238: UserWarning: Random walk proposals appear to be extremely inefficient. Adjusting the scale-factor accordingly.\n",
      "  warnings.warn(\"Random walk proposals appear to be \"\n",
      "42211it [51:08, 22.57it/s, batch: 0 | bound: 316 | nc: 25 | ncall: 1688086 | eff(%):  2.499 | loglstar:   -inf < 93.987 <    inf | logz: 55.000 +/-    nan | dlogz:  0.121 >  0.010]   /usr/local/lib/python3.7/site-packages/dynesty/sampling.py:216: UserWarning: Random number generation appears to be extremely inefficient. Adjusting the scale-factor accordingly.\n",
      "  warnings.warn(\"Random number generation appears to be \"\n",
      "/usr/local/lib/python3.7/site-packages/dynesty/sampling.py:238: UserWarning: Random walk proposals appear to be extremely inefficient. Adjusting the scale-factor accordingly.\n",
      "  warnings.warn(\"Random walk proposals appear to be \"\n",
      "42587it [52:10, 20.96it/s, batch: 0 | bound: 320 | nc: 25 | ncall: 1723774 | eff(%):  2.469 | loglstar:   -inf < 94.115 <    inf | logz: 55.013 +/-    nan | dlogz:  0.084 >  0.010]   /usr/local/lib/python3.7/site-packages/dynesty/sampling.py:216: UserWarning: Random number generation appears to be extremely inefficient. Adjusting the scale-factor accordingly.\n",
      "  warnings.warn(\"Random number generation appears to be \"\n",
      "/usr/local/lib/python3.7/site-packages/dynesty/sampling.py:238: UserWarning: Random walk proposals appear to be extremely inefficient. Adjusting the scale-factor accordingly.\n",
      "  warnings.warn(\"Random walk proposals appear to be \"\n",
      "42778it [52:55, 22.68it/s, batch: 0 | bound: 323 | nc: 25 | ncall: 1750297 | eff(%):  2.443 | loglstar:   -inf < 94.181 <    inf | logz: 55.019 +/-    nan | dlogz:  0.069 >  0.010]   /usr/local/lib/python3.7/site-packages/dynesty/sampling.py:216: UserWarning: Random number generation appears to be extremely inefficient. Adjusting the scale-factor accordingly.\n",
      "  warnings.warn(\"Random number generation appears to be \"\n",
      "/usr/local/lib/python3.7/site-packages/dynesty/sampling.py:238: UserWarning: Random walk proposals appear to be extremely inefficient. Adjusting the scale-factor accordingly.\n",
      "  warnings.warn(\"Random walk proposals appear to be \"\n",
      "42903it [53:36, 23.30it/s, batch: 0 | bound: 325 | nc: 25 | ncall: 1774235 | eff(%):  2.417 | loglstar:   -inf < 94.219 <    inf | logz: 55.022 +/-    nan | dlogz:  0.061 >  0.010]   /usr/local/lib/python3.7/site-packages/dynesty/sampling.py:216: UserWarning: Random number generation appears to be extremely inefficient. Adjusting the scale-factor accordingly.\n",
      "  warnings.warn(\"Random number generation appears to be \"\n",
      "/usr/local/lib/python3.7/site-packages/dynesty/sampling.py:238: UserWarning: Random walk proposals appear to be extremely inefficient. Adjusting the scale-factor accordingly.\n",
      "  warnings.warn(\"Random walk proposals appear to be \"\n",
      "43236it [54:21, 23.14it/s, batch: 0 | bound: 329 | nc: 25 | ncall: 1802908 | eff(%):  2.397 | loglstar:   -inf < 94.317 <    inf | logz: 55.029 +/-    nan | dlogz:  0.044 >  0.010]   /usr/local/lib/python3.7/site-packages/dynesty/sampling.py:216: UserWarning: Random number generation appears to be extremely inefficient. Adjusting the scale-factor accordingly.\n",
      "  warnings.warn(\"Random number generation appears to be \"\n",
      "/usr/local/lib/python3.7/site-packages/dynesty/sampling.py:238: UserWarning: Random walk proposals appear to be extremely inefficient. Adjusting the scale-factor accordingly.\n",
      "  warnings.warn(\"Random walk proposals appear to be \"\n",
      "43349it [55:14, 23.53it/s, batch: 0 | bound: 331 | nc: 25 | ncall: 1836215 | eff(%):  2.359 | loglstar:   -inf < 94.343 <    inf | logz: 55.032 +/-    nan | dlogz:  0.041 >  0.010]   /usr/local/lib/python3.7/site-packages/dynesty/sampling.py:216: UserWarning: Random number generation appears to be extremely inefficient. Adjusting the scale-factor accordingly.\n",
      "  warnings.warn(\"Random number generation appears to be \"\n",
      "/usr/local/lib/python3.7/site-packages/dynesty/sampling.py:238: UserWarning: Random walk proposals appear to be extremely inefficient. Adjusting the scale-factor accordingly.\n",
      "  warnings.warn(\"Random walk proposals appear to be \"\n",
      "43416it [56:01, 20.60it/s, batch: 0 | bound: 333 | nc: 25 | ncall: 1865562 | eff(%):  2.326 | loglstar:   -inf < 94.361 <    inf | logz: 55.033 +/-    nan | dlogz:  0.039 >  0.010]   /usr/local/lib/python3.7/site-packages/dynesty/sampling.py:216: UserWarning: Random number generation appears to be extremely inefficient. Adjusting the scale-factor accordingly.\n",
      "  warnings.warn(\"Random number generation appears to be \"\n",
      "/usr/local/lib/python3.7/site-packages/dynesty/sampling.py:238: UserWarning: Random walk proposals appear to be extremely inefficient. Adjusting the scale-factor accordingly.\n",
      "  warnings.warn(\"Random walk proposals appear to be \"\n",
      "43527it [56:46, 22.25it/s, batch: 0 | bound: 335 | nc: 25 | ncall: 1893723 | eff(%):  2.297 | loglstar:   -inf < 94.387 <    inf | logz: 55.035 +/-    nan | dlogz:  0.035 >  0.010]   /usr/local/lib/python3.7/site-packages/dynesty/sampling.py:216: UserWarning: Random number generation appears to be extremely inefficient. Adjusting the scale-factor accordingly.\n",
      "  warnings.warn(\"Random number generation appears to be \"\n",
      "/usr/local/lib/python3.7/site-packages/dynesty/sampling.py:238: UserWarning: Random walk proposals appear to be extremely inefficient. Adjusting the scale-factor accordingly.\n",
      "  warnings.warn(\"Random walk proposals appear to be \"\n",
      "43655it [57:09, 22.20it/s, batch: 0 | bound: 337 | nc: 25 | ncall: 1909070 | eff(%):  2.286 | loglstar:   -inf < 94.419 <    inf | logz: 55.037 +/-    nan | dlogz:  0.030 >  0.010]   /usr/local/lib/python3.7/site-packages/dynesty/sampling.py:216: UserWarning: Random number generation appears to be extremely inefficient. Adjusting the scale-factor accordingly.\n",
      "  warnings.warn(\"Random number generation appears to be \"\n",
      "/usr/local/lib/python3.7/site-packages/dynesty/sampling.py:238: UserWarning: Random walk proposals appear to be extremely inefficient. Adjusting the scale-factor accordingly.\n",
      "  warnings.warn(\"Random walk proposals appear to be \"\n",
      "43824it [58:00, 22.08it/s, batch: 0 | bound: 340 | nc: 25 | ncall: 1941190 | eff(%):  2.256 | loglstar:   -inf < 94.458 <    inf | logz: 55.039 +/-    nan | dlogz:  0.026 >  0.010]   /usr/local/lib/python3.7/site-packages/dynesty/sampling.py:216: UserWarning: Random number generation appears to be extremely inefficient. Adjusting the scale-factor accordingly.\n",
      "  warnings.warn(\"Random number generation appears to be \"\n",
      "/usr/local/lib/python3.7/site-packages/dynesty/sampling.py:238: UserWarning: Random walk proposals appear to be extremely inefficient. Adjusting the scale-factor accordingly.\n",
      "  warnings.warn(\"Random walk proposals appear to be \"\n",
      "43968it [58:44, 23.06it/s, batch: 0 | bound: 342 | nc: 25 | ncall: 1969103 | eff(%):  2.232 | loglstar:   -inf < 94.496 <    inf | logz: 55.040 +/-    nan | dlogz:  0.022 >  0.010]   /usr/local/lib/python3.7/site-packages/dynesty/sampling.py:216: UserWarning: Random number generation appears to be extremely inefficient. Adjusting the scale-factor accordingly.\n",
      "  warnings.warn(\"Random number generation appears to be \"\n",
      "/usr/local/lib/python3.7/site-packages/dynesty/sampling.py:238: UserWarning: Random walk proposals appear to be extremely inefficient. Adjusting the scale-factor accordingly.\n",
      "  warnings.warn(\"Random walk proposals appear to be \"\n",
      "44249it [59:36, 23.08it/s, batch: 0 | bound: 347 | nc: 25 | ncall: 2001486 | eff(%):  2.210 | loglstar:   -inf < 94.562 <    inf | logz: 55.043 +/-    nan | dlogz:  0.017 >  0.010]   /usr/local/lib/python3.7/site-packages/dynesty/sampling.py:216: UserWarning: Random number generation appears to be extremely inefficient. Adjusting the scale-factor accordingly.\n",
      "  warnings.warn(\"Random number generation appears to be \"\n",
      "/usr/local/lib/python3.7/site-packages/dynesty/sampling.py:238: UserWarning: Random walk proposals appear to be extremely inefficient. Adjusting the scale-factor accordingly.\n",
      "  warnings.warn(\"Random walk proposals appear to be \"\n"
     ]
    },
    {
     "name": "stderr",
     "output_type": "stream",
     "text": [
      "53394it [1:10:25, 11.38it/s, batch: 4 | bound: 438 | nc: 25 | ncall: 2233723 | eff(%):  2.390 | loglstar: 87.689 < 94.815 < 93.221 | logz: 55.070 +/-    nan | stop:  0.982]             \n"
     ]
    }
   ],
   "source": [
    "results = toi216.retrieve()"
   ]
  },
  {
   "cell_type": "markdown",
   "metadata": {},
   "source": [
    "Dawson et al. (2019) got a bimodal solution for planets {b, c} with mode peaks at {20.7, 107} and {41.3, 236} in dynamical mass. Kipping et al. (2019) got {33.8, 247} with larger error bars (and fitting only the *TESS*, nott the ground-based transits). Let's see what we get."
   ]
  },
  {
   "cell_type": "code",
   "execution_count": 5,
   "metadata": {},
   "outputs": [
    {
     "name": "stdout",
     "output_type": "stream",
     "text": [
      "Summary (middle 95 percentile): \n",
      "$M_1/M_\\star/3\\times10^{-6}$: $32.40569^{+26.480366}_{-14.944147}$\n",
      "$P_1\\ [\\mathrm{days}]$: $17.093725^{+0.005424}_{-0.007549}$\n",
      "$\\sqrt{e}_1\\cos(\\omega_1)$: $0.052098^{+0.171954}_{-0.397521}$\n",
      "$\\sqrt{e}_1\\sin(\\omega_1)$: $-0.284014^{+0.369713}_{-0.107045}$\n",
      "$T_{0,1}\\ [\\mathrm{days}]$: $2.325885^{+0.00535}_{-0.006074}$\n",
      "$M_2/M_\\star/3\\times10^{-6}$: $233.905727^{+250.787841}_{-115.507431}$\n",
      "$P_2\\ [\\mathrm{days}]$: $34.546407^{+0.004326}_{-0.00381}$\n",
      "$\\sqrt{e}_2\\cos(\\omega_2)$: $0.114376^{+0.217997}_{-0.213084}$\n",
      "$\\sqrt{e}_2\\sin(\\omega_2)$: $0.084404^{+0.067307}_{-0.110083}$\n",
      "$T_{0,2}\\ [\\mathrm{days}]$: $8.285478^{+0.001315}_{-0.00119}$\n"
     ]
    }
   ],
   "source": [
    "toi216.posterior_summary()\n",
    "ttvnest.plot_utils.plot_results(toi216, uncertainty_curves = 100, \n",
    "                                sim_length = 365.25*3, outname = 'toi216')"
   ]
  },
  {
   "cell_type": "markdown",
   "metadata": {},
   "source": [
    "Awesome! Seems like we agree well with the high-mass mode of Dawson+19 and the Kipping+19 fit (the latter one matches particularly well). From the saved TTV plots, it looks like the constraints from TESS three years out will be extremely useful in nailing down the masses. Let's make the dynesty plots for good measure:"
   ]
  },
  {
   "cell_type": "code",
   "execution_count": 6,
   "metadata": {},
   "outputs": [
    {
     "name": "stdout",
     "output_type": "stream",
     "text": [
      "Axis limits error on runplot; internal to dynesty\n"
     ]
    },
    {
     "name": "stderr",
     "output_type": "stream",
     "text": [
      "/usr/local/lib/python3.7/site-packages/dynesty/plotting.py:203: RuntimeWarning: overflow encountered in exp\n",
      "  zspan = (0., 1.05 * np.exp(logz[-1] + 3. * logzerr[-1]))\n"
     ]
    }
   ],
   "source": [
    "ttvnest.plot_utils.dynesty_plots(toi216, outname = 'toi216')"
   ]
  },
  {
   "cell_type": "markdown",
   "metadata": {},
   "source": [
    "And, let's save our results for later:"
   ]
  },
  {
   "cell_type": "code",
   "execution_count": 7,
   "metadata": {},
   "outputs": [
    {
     "data": {
      "text/plain": [
       "'toi216.p'"
      ]
     },
     "execution_count": 7,
     "metadata": {},
     "output_type": "execute_result"
    }
   ],
   "source": [
    "ttvnest.io_utils.save_results(toi216, 'toi216.p')"
   ]
  }
 ],
 "metadata": {
  "kernelspec": {
   "display_name": "Python 3",
   "language": "python",
   "name": "python3"
  },
  "language_info": {
   "codemirror_mode": {
    "name": "ipython",
    "version": 3
   },
   "file_extension": ".py",
   "mimetype": "text/x-python",
   "name": "python",
   "nbconvert_exporter": "python",
   "pygments_lexer": "ipython3",
   "version": "3.7.0"
  }
 },
 "nbformat": 4,
 "nbformat_minor": 2
}
