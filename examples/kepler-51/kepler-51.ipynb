{
 "cells": [
  {
   "cell_type": "markdown",
   "metadata": {},
   "source": [
    "# TTV Retrieval for Kepler-51\n",
    "\n",
    "In this notebook, we will perform a dynamical retrieval for Kepler-51 = KOI-620. This is a system with three \"super-puffs,\" planets with anomalously small densities, first analyzed by Masuda (2014). Hopefully, a three-planet system won't be too complex for us to handle. First, let's import packages and import data from the latest analysis of this system by Libby-Roberts et al. (2020):"
   ]
  },
  {
   "cell_type": "code",
   "execution_count": 1,
   "metadata": {},
   "outputs": [],
   "source": [
    "%matplotlib inline\n",
    "import ttvnest\n",
    "import numpy as np\n",
    "\n",
    "data = []\n",
    "errs = []\n",
    "epochs = []\n",
    "\n",
    "#reading in from Libby-Roberts+20\n",
    "fnames = ['k51b.txt', 'k51c.txt', 'k51d.txt']\n",
    "def read_data(fname):\n",
    "    dat = np.loadtxt(fname, skiprows = 5)\n",
    "    tempdat = np.array(dat[:,1], dtype = 'float')\n",
    "    tempep = np.array(dat[:,0], dtype = 'int')\n",
    "    temperr = np.maximum(np.array(dat[:,2], dtype = 'float'), np.array(dat[:,3], dtype = 'float'))\n",
    "    return tempdat, temperr, tempep\n",
    "\n",
    "for fname in fnames:\n",
    "    a, b, c = read_data(fname)\n",
    "    data.append(a)\n",
    "    errs.append(b)\n",
    "    epochs.append(c)\n",
    "    \n",
    "epochs[1] += 1 #first transit of K51c was not observed"
   ]
  },
  {
   "cell_type": "markdown",
   "metadata": {},
   "source": [
    "Let's set up the ttvnest system:"
   ]
  },
  {
   "cell_type": "code",
   "execution_count": 2,
   "metadata": {},
   "outputs": [
    {
     "name": "stdout",
     "output_type": "stream",
     "text": [
      "Simulation start/reference time:  157.0\n",
      "ttvnest timestep:  1.8059321200000003\n",
      "Simulation length:  2791.0\n",
      "Simulation end time:  2948.0\n"
     ]
    }
   ],
   "source": [
    "kepler51_b = ttvnest.TTVPlanet(data[0], errs[0], epochs[0], \n",
    "                               mass_prior = ('Uniform', 0, 100),\n",
    "                               period_prior = ('Uniform', 45.155503 - 100*0.000072, 45.155503 + 100*0.000072),\n",
    "                              )\n",
    "\n",
    "kepler51_c = ttvnest.TTVPlanet(data[1], errs[1], epochs[1], \n",
    "                               mass_prior = ('Uniform', 0, 100), \n",
    "                               period_prior = ('Uniform', 85.31287 - 100*0.00096, 85.31287 + 100*0.00096),\n",
    "                              )\n",
    "\n",
    "kepler51_d = ttvnest.TTVPlanet(data[2], errs[2], epochs[2], \n",
    "                               mass_prior = ('Uniform', 0, 100), \n",
    "                               period_prior = ('Uniform', 130.1831 - 100*0.00033, 130.1831 + 100*0.00033),\n",
    "                              )\n",
    "\n",
    "kepler51 = ttvnest.TTVSystem(kepler51_b, kepler51_c, kepler51_d)"
   ]
  },
  {
   "cell_type": "markdown",
   "metadata": {},
   "source": [
    "Before retrieval, let's plot the data alone to see what they look like: "
   ]
  },
  {
   "cell_type": "code",
   "execution_count": 3,
   "metadata": {},
   "outputs": [
    {
     "data": {
      "image/png": "[encoded data removed]",
      "text/plain": [
       "<Figure size 864x576 with 1 Axes>"
      ]
     },
     "metadata": {},
     "output_type": "display_data"
    },
    {
     "data": {
      "image/png": "[encoded data removed]",
      "text/plain": [
       "<Figure size 864x576 with 1 Axes>"
      ]
     },
     "metadata": {},
     "output_type": "display_data"
    },
    {
     "data": {
      "image/png": "[encoded data removed]",
      "text/plain": [
       "<Figure size 864x576 with 1 Axes>"
      ]
     },
     "metadata": {},
     "output_type": "display_data"
    }
   ],
   "source": [
    "ttvnest.plot_utils.plot_ttv_data(kepler51)"
   ]
  },
  {
   "cell_type": "markdown",
   "metadata": {},
   "source": [
    "Clear, anticorrelated signals! Now let's try to model it with ttvnest."
   ]
  },
  {
   "cell_type": "code",
   "execution_count": 4,
   "metadata": {},
   "outputs": [
    {
     "name": "stderr",
     "output_type": "stream",
     "text": [
      "40977it [14:15, 10.09it/s, batch: 0 | bound: 48 | nc: 25 | ncall: 515714 | eff(%):  7.930 | loglstar:   -inf < -258971.688 <    inf | logz: -259020.246 +/-    nan | dlogz: 246984.354 >  0.010] /usr/local/lib/python3.7/site-packages/dynesty/sampling.py:238: UserWarning: Random walk proposals appear to be extremely inefficient. Adjusting the scale-factor accordingly.\n",
      "  warnings.warn(\"Random walk proposals appear to be \"\n",
      "41615it [15:33, 10.60it/s, batch: 0 | bound: 53 | nc: 25 | ncall: 536822 | eff(%):  7.738 | loglstar:   -inf < -189526.075 <    inf | logz: -189575.270 +/-    nan | dlogz: 177571.134 >  0.010]  /usr/local/lib/python3.7/site-packages/dynesty/sampling.py:238: UserWarning: Random walk proposals appear to be extremely inefficient. Adjusting the scale-factor accordingly.\n",
      "  warnings.warn(\"Random walk proposals appear to be \"\n",
      "41842it [16:04,  8.75it/s, batch: 0 | bound: 55 | nc: 25 | ncall: 545381 | eff(%):  7.658 | loglstar:   -inf < -170114.961 <    inf | logz: -170164.383 +/-    nan | dlogz: 158068.443 >  0.010]  /usr/local/lib/python3.7/site-packages/dynesty/sampling.py:238: UserWarning: Random walk proposals appear to be extremely inefficient. Adjusting the scale-factor accordingly.\n",
      "  warnings.warn(\"Random walk proposals appear to be \"\n",
      "41861it [17:17,  3.25it/s, batch: 0 | bound: 56 | nc: 25 | ncall: 566257 | eff(%):  7.380 | loglstar:   -inf < -168432.189 <    inf | logz: -168481.630 +/-    nan | dlogz: 156496.869 >  0.010]   /usr/local/lib/python3.7/site-packages/dynesty/sampling.py:238: UserWarning: Random walk proposals appear to be extremely inefficient. Adjusting the scale-factor accordingly.\n",
      "  warnings.warn(\"Random walk proposals appear to be \"\n",
      "42287it [18:20, 11.32it/s, batch: 0 | bound: 60 | nc: 25 | ncall: 584072 | eff(%):  7.228 | loglstar:   -inf < -141452.113 <    inf | logz: -141501.979 +/-    nan | dlogz: 129428.606 >  0.010]  /usr/local/lib/python3.7/site-packages/dynesty/sampling.py:238: UserWarning: Random walk proposals appear to be extremely inefficient. Adjusting the scale-factor accordingly.\n",
      "  warnings.warn(\"Random walk proposals appear to be \"\n",
      "/usr/local/lib/python3.7/site-packages/dynesty/sampling.py:216: UserWarning: Random number generation appears to be extremely inefficient. Adjusting the scale-factor accordingly.\n",
      "  warnings.warn(\"Random number generation appears to be \"\n",
      "42470it [18:57, 10.18it/s, batch: 0 | bound: 62 | nc: 25 | ncall: 595112 | eff(%):  7.125 | loglstar:   -inf < -130548.052 <    inf | logz: -130598.102 +/-    nan | dlogz: 118483.098 >  0.010] /usr/local/lib/python3.7/site-packages/dynesty/sampling.py:238: UserWarning: Random walk proposals appear to be extremely inefficient. Adjusting the scale-factor accordingly.\n",
      "  warnings.warn(\"Random walk proposals appear to be \"\n",
      "43043it [20:15, 11.16it/s, batch: 0 | bound: 67 | nc: 25 | ncall: 616013 | eff(%):  6.976 | loglstar:   -inf < -103266.074 <    inf | logz: -103316.285 +/-    nan | dlogz: 93999.568 >  0.010]   /usr/local/lib/python3.7/site-packages/dynesty/sampling.py:238: UserWarning: Random walk proposals appear to be extremely inefficient. Adjusting the scale-factor accordingly.\n",
      "  warnings.warn(\"Random walk proposals appear to be \"\n",
      "52421it [37:17,  8.63it/s, batch: 0 | bound: 141 | nc: 25 | ncall: 880634 | eff(%):  5.946 | loglstar:   -inf < -6045.545 <    inf | logz: -6105.495 +/-    nan | dlogz: 5738.050 >  0.010]       /usr/local/lib/python3.7/site-packages/dynesty/sampling.py:216: UserWarning: Random number generation appears to be extremely inefficient. Adjusting the scale-factor accordingly.\n",
      "  warnings.warn(\"Random number generation appears to be \"\n",
      "53728it [39:53,  8.60it/s, batch: 0 | bound: 151 | nc: 25 | ncall: 915828 | eff(%):  5.860 | loglstar:   -inf < -4222.521 <    inf | logz: -4283.706 +/-    nan | dlogz: 3913.718 >  0.010]  /usr/local/lib/python3.7/site-packages/dynesty/sampling.py:216: UserWarning: Random number generation appears to be extremely inefficient. Adjusting the scale-factor accordingly.\n",
      "  warnings.warn(\"Random number generation appears to be \"\n",
      "/usr/local/lib/python3.7/site-packages/dynesty/sampling.py:238: UserWarning: Random walk proposals appear to be extremely inefficient. Adjusting the scale-factor accordingly.\n",
      "  warnings.warn(\"Random walk proposals appear to be \"\n",
      "54717it [42:01,  7.95it/s, batch: 0 | bound: 159 | nc: 25 | ncall: 943185 | eff(%):  5.795 | loglstar:   -inf < -3226.911 <    inf | logz: -3287.568 +/-    nan | dlogz: 2931.159 >  0.010]  /usr/local/lib/python3.7/site-packages/dynesty/sampling.py:238: UserWarning: Random walk proposals appear to be extremely inefficient. Adjusting the scale-factor accordingly.\n",
      "  warnings.warn(\"Random walk proposals appear to be \"\n",
      "61135it [54:34,  9.81it/s, batch: 0 | bound: 205 | nc: 25 | ncall: 1113755 | eff(%):  5.484 | loglstar:   -inf < -556.977 <    inf | logz: -623.400 +/-    nan | dlogz: 589.380 >  0.010]    /usr/local/lib/python3.7/site-packages/dynesty/sampling.py:238: UserWarning: Random walk proposals appear to be extremely inefficient. Adjusting the scale-factor accordingly.\n",
      "  warnings.warn(\"Random walk proposals appear to be \"\n",
      "63852it [59:46, 10.08it/s, batch: 0 | bound: 226 | nc: 25 | ncall: 1190138 | eff(%):  5.361 | loglstar:   -inf < -202.002 <    inf | logz: -270.362 +/-    nan | dlogz: 338.232 >  0.010]  /usr/local/lib/python3.7/site-packages/dynesty/sampling.py:238: UserWarning: Random walk proposals appear to be extremely inefficient. Adjusting the scale-factor accordingly.\n",
      "  warnings.warn(\"Random walk proposals appear to be \"\n",
      "/usr/local/lib/python3.7/site-packages/dynesty/sampling.py:216: UserWarning: Random number generation appears to be extremely inefficient. Adjusting the scale-factor accordingly.\n",
      "  warnings.warn(\"Random number generation appears to be \"\n",
      "63967it [1:00:16, 11.43it/s, batch: 0 | bound: 228 | nc: 25 | ncall: 1197897 | eff(%):  5.335 | loglstar:   -inf < -192.468 <    inf | logz: -260.467 +/-    nan | dlogz: 328.187 >  0.010]  /usr/local/lib/python3.7/site-packages/dynesty/sampling.py:238: UserWarning: Random walk proposals appear to be extremely inefficient. Adjusting the scale-factor accordingly.\n",
      "  warnings.warn(\"Random walk proposals appear to be \"\n",
      "64318it [1:01:34,  8.31it/s, batch: 0 | bound: 233 | nc: 25 | ncall: 1215164 | eff(%):  5.289 | loglstar:   -inf < -160.676 <    inf | logz: -229.204 +/-    nan | dlogz: 296.585 >  0.010]  /usr/local/lib/python3.7/site-packages/dynesty/sampling.py:238: UserWarning: Random walk proposals appear to be extremely inefficient. Adjusting the scale-factor accordingly.\n",
      "  warnings.warn(\"Random walk proposals appear to be \"\n",
      "65487it [1:04:00,  8.50it/s, batch: 0 | bound: 242 | nc: 25 | ncall: 1248902 | eff(%):  5.239 | loglstar:   -inf < -71.937 <    inf | logz: -141.597 +/-    nan | dlogz: 238.334 >  0.010]   /usr/local/lib/python3.7/site-packages/dynesty/sampling.py:238: UserWarning: Random walk proposals appear to be extremely inefficient. Adjusting the scale-factor accordingly.\n",
      "  warnings.warn(\"Random walk proposals appear to be \"\n",
      "65787it [1:04:51,  8.25it/s, batch: 0 | bound: 245 | nc: 25 | ncall: 1260987 | eff(%):  5.213 | loglstar:   -inf < -52.658 <    inf | logz: -122.471 +/-    nan | dlogz: 218.900 >  0.010]  /usr/local/lib/python3.7/site-packages/dynesty/sampling.py:238: UserWarning: Random walk proposals appear to be extremely inefficient. Adjusting the scale-factor accordingly.\n",
      "  warnings.warn(\"Random walk proposals appear to be \"\n",
      "/usr/local/lib/python3.7/site-packages/dynesty/sampling.py:216: UserWarning: Random number generation appears to be extremely inefficient. Adjusting the scale-factor accordingly.\n",
      "  warnings.warn(\"Random number generation appears to be \"\n",
      "67263it [1:07:58,  9.03it/s, batch: 0 | bound: 256 | nc: 25 | ncall: 1301714 | eff(%):  5.163 | loglstar:   -inf < 29.865 <    inf | logz: -41.286 +/-    nan | dlogz: 169.526 >  0.010]    /usr/local/lib/python3.7/site-packages/dynesty/sampling.py:238: UserWarning: Random walk proposals appear to be extremely inefficient. Adjusting the scale-factor accordingly.\n",
      "  warnings.warn(\"Random walk proposals appear to be \"\n"
     ]
    },
    {
     "name": "stderr",
     "output_type": "stream",
     "text": [
      "67585it [1:09:02,  9.17it/s, batch: 0 | bound: 260 | nc: 25 | ncall: 1316906 | eff(%):  5.128 | loglstar:   -inf < 44.728 <    inf | logz: -26.628 +/-    nan | dlogz: 164.619 >  0.010]  /usr/local/lib/python3.7/site-packages/dynesty/sampling.py:216: UserWarning: Random number generation appears to be extremely inefficient. Adjusting the scale-factor accordingly.\n",
      "  warnings.warn(\"Random number generation appears to be \"\n",
      "/usr/local/lib/python3.7/site-packages/dynesty/sampling.py:238: UserWarning: Random walk proposals appear to be extremely inefficient. Adjusting the scale-factor accordingly.\n",
      "  warnings.warn(\"Random walk proposals appear to be \"\n",
      "67717it [1:09:55,  8.45it/s, batch: 0 | bound: 262 | nc: 25 | ncall: 1328998 | eff(%):  5.092 | loglstar:   -inf < 50.842 <    inf | logz: -20.663 +/-    nan | dlogz: 158.523 >  0.010]  /usr/local/lib/python3.7/site-packages/dynesty/sampling.py:238: UserWarning: Random walk proposals appear to be extremely inefficient. Adjusting the scale-factor accordingly.\n",
      "  warnings.warn(\"Random walk proposals appear to be \"\n",
      "67718it [1:10:08,  3.99s/it, batch: 0 | bound: 263 | nc: 2797 | ncall: 1331795 | eff(%):  5.081 | loglstar:   -inf < 50.885 <    inf | logz: -20.617 +/-    nan | dlogz: 158.475 >  0.010]/usr/local/lib/python3.7/site-packages/dynesty/sampling.py:216: UserWarning: Random number generation appears to be extremely inefficient. Adjusting the scale-factor accordingly.\n",
      "  warnings.warn(\"Random number generation appears to be \"\n",
      "67786it [1:10:52, 11.57it/s, batch: 0 | bound: 264 | nc: 25 | ncall: 1343022 | eff(%):  5.044 | loglstar:   -inf < 53.583 <    inf | logz: -17.966 +/-    nan | dlogz: 155.756 >  0.010]  /usr/local/lib/python3.7/site-packages/dynesty/sampling.py:238: UserWarning: Random walk proposals appear to be extremely inefficient. Adjusting the scale-factor accordingly.\n",
      "  warnings.warn(\"Random walk proposals appear to be \"\n",
      "67786it [1:11:03, 11.57it/s, batch: 0 | bound: 264 | nc: 25 | ncall: 1343022 | eff(%):  5.044 | loglstar:   -inf < 53.583 <    inf | logz: -17.966 +/-    nan | dlogz: 155.756 >  0.010]/usr/local/lib/python3.7/site-packages/dynesty/sampling.py:216: UserWarning: Random number generation appears to be extremely inefficient. Adjusting the scale-factor accordingly.\n",
      "  warnings.warn(\"Random number generation appears to be \"\n",
      "71755it [1:18:00, 11.44it/s, batch: 0 | bound: 292 | nc: 25 | ncall: 1448092 | eff(%):  4.952 | loglstar:   -inf < 168.217 <    inf | logz: 93.523 +/-    nan | dlogz: 66.422 >  0.010]   /usr/local/lib/python3.7/site-packages/dynesty/sampling.py:216: UserWarning: Random number generation appears to be extremely inefficient. Adjusting the scale-factor accordingly.\n",
      "  warnings.warn(\"Random number generation appears to be \"\n",
      "/usr/local/lib/python3.7/site-packages/dynesty/sampling.py:238: UserWarning: Random walk proposals appear to be extremely inefficient. Adjusting the scale-factor accordingly.\n",
      "  warnings.warn(\"Random walk proposals appear to be \"\n",
      "72398it [1:19:29,  7.77it/s, batch: 0 | bound: 298 | nc: 25 | ncall: 1470813 | eff(%):  4.919 | loglstar:   -inf < 179.798 <    inf | logz: 104.496 +/-    nan | dlogz: 61.342 >  0.010] /usr/local/lib/python3.7/site-packages/dynesty/sampling.py:216: UserWarning: Random number generation appears to be extremely inefficient. Adjusting the scale-factor accordingly.\n",
      "  warnings.warn(\"Random number generation appears to be \"\n",
      "/usr/local/lib/python3.7/site-packages/dynesty/sampling.py:238: UserWarning: Random walk proposals appear to be extremely inefficient. Adjusting the scale-factor accordingly.\n",
      "  warnings.warn(\"Random walk proposals appear to be \"\n",
      "72764it [1:20:30, 10.48it/s, batch: 0 | bound: 302 | nc: 25 | ncall: 1485615 | eff(%):  4.895 | loglstar:   -inf < 186.295 <    inf | logz: 110.822 +/-    nan | dlogz: 54.647 >  0.010]  /usr/local/lib/python3.7/site-packages/dynesty/sampling.py:238: UserWarning: Random walk proposals appear to be extremely inefficient. Adjusting the scale-factor accordingly.\n",
      "  warnings.warn(\"Random walk proposals appear to be \"\n",
      "/usr/local/lib/python3.7/site-packages/dynesty/sampling.py:216: UserWarning: Random number generation appears to be extremely inefficient. Adjusting the scale-factor accordingly.\n",
      "  warnings.warn(\"Random number generation appears to be \"\n",
      "74798it [1:24:34,  8.54it/s, batch: 0 | bound: 317 | nc: 25 | ncall: 1547573 | eff(%):  4.830 | loglstar:   -inf < 211.899 <    inf | logz: 134.881 +/-    nan | dlogz: 32.240 >  0.010]   /usr/local/lib/python3.7/site-packages/dynesty/sampling.py:238: UserWarning: Random walk proposals appear to be extremely inefficient. Adjusting the scale-factor accordingly.\n",
      "  warnings.warn(\"Random walk proposals appear to be \"\n",
      "/usr/local/lib/python3.7/site-packages/dynesty/sampling.py:216: UserWarning: Random number generation appears to be extremely inefficient. Adjusting the scale-factor accordingly.\n",
      "  warnings.warn(\"Random number generation appears to be \"\n",
      "75574it [1:26:29,  9.52it/s, batch: 0 | bound: 324 | nc: 25 | ncall: 1574262 | eff(%):  4.798 | loglstar:   -inf < 218.879 <    inf | logz: 141.336 +/-    nan | dlogz: 35.595 >  0.010]  /usr/local/lib/python3.7/site-packages/dynesty/sampling.py:216: UserWarning: Random number generation appears to be extremely inefficient. Adjusting the scale-factor accordingly.\n",
      "  warnings.warn(\"Random number generation appears to be \"\n",
      "/usr/local/lib/python3.7/site-packages/dynesty/sampling.py:238: UserWarning: Random walk proposals appear to be extremely inefficient. Adjusting the scale-factor accordingly.\n",
      "  warnings.warn(\"Random walk proposals appear to be \"\n",
      "76015it [1:28:13, 10.08it/s, batch: 0 | bound: 328 | nc: 25 | ncall: 1599454 | eff(%):  4.750 | loglstar:   -inf < 222.576 <    inf | logz: 144.603 +/-    nan | dlogz: 31.886 >  0.010]   /usr/local/lib/python3.7/site-packages/dynesty/sampling.py:216: UserWarning: Random number generation appears to be extremely inefficient. Adjusting the scale-factor accordingly.\n",
      "  warnings.warn(\"Random number generation appears to be \"\n",
      "/usr/local/lib/python3.7/site-packages/dynesty/sampling.py:238: UserWarning: Random walk proposals appear to be extremely inefficient. Adjusting the scale-factor accordingly.\n",
      "  warnings.warn(\"Random walk proposals appear to be \"\n",
      "76709it [1:30:15, 11.31it/s, batch: 0 | bound: 334 | nc: 25 | ncall: 1632655 | eff(%):  4.696 | loglstar:   -inf < 227.625 <    inf | logz: 149.259 +/-    nan | dlogz: 26.535 >  0.010]   /usr/local/lib/python3.7/site-packages/dynesty/sampling.py:238: UserWarning: Random walk proposals appear to be extremely inefficient. Adjusting the scale-factor accordingly.\n",
      "  warnings.warn(\"Random walk proposals appear to be \"\n",
      "/usr/local/lib/python3.7/site-packages/dynesty/sampling.py:216: UserWarning: Random number generation appears to be extremely inefficient. Adjusting the scale-factor accordingly.\n",
      "  warnings.warn(\"Random number generation appears to be \"\n",
      "77233it [1:32:18, 11.47it/s, batch: 0 | bound: 339 | nc: 25 | ncall: 1663282 | eff(%):  4.641 | loglstar:   -inf < 231.127 <    inf | logz: 152.246 +/-    nan | dlogz: 28.553 >  0.010]   /usr/local/lib/python3.7/site-packages/dynesty/sampling.py:216: UserWarning: Random number generation appears to be extremely inefficient. Adjusting the scale-factor accordingly.\n",
      "  warnings.warn(\"Random number generation appears to be \"\n",
      "/usr/local/lib/python3.7/site-packages/dynesty/sampling.py:238: UserWarning: Random walk proposals appear to be extremely inefficient. Adjusting the scale-factor accordingly.\n",
      "  warnings.warn(\"Random walk proposals appear to be \"\n",
      "77513it [1:33:56, 11.86it/s, batch: 0 | bound: 342 | nc: 25 | ncall: 1689761 | eff(%):  4.585 | loglstar:   -inf < 232.848 <    inf | logz: 153.718 +/-    nan | dlogz: 26.800 >  0.010]   /usr/local/lib/python3.7/site-packages/dynesty/sampling.py:238: UserWarning: Random walk proposals appear to be extremely inefficient. Adjusting the scale-factor accordingly.\n",
      "  warnings.warn(\"Random walk proposals appear to be \"\n",
      "/usr/local/lib/python3.7/site-packages/dynesty/sampling.py:216: UserWarning: Random number generation appears to be extremely inefficient. Adjusting the scale-factor accordingly.\n",
      "  warnings.warn(\"Random number generation appears to be \"\n"
     ]
    },
    {
     "name": "stderr",
     "output_type": "stream",
     "text": [
      "78085it [1:36:23, 10.18it/s, batch: 0 | bound: 347 | nc: 25 | ncall: 1721760 | eff(%):  4.533 | loglstar:   -inf < 235.821 <    inf | logz: 156.366 +/-    nan | dlogz: 23.579 >  0.010]   /usr/local/lib/python3.7/site-packages/dynesty/sampling.py:238: UserWarning: Random walk proposals appear to be extremely inefficient. Adjusting the scale-factor accordingly.\n",
      "  warnings.warn(\"Random walk proposals appear to be \"\n",
      "/usr/local/lib/python3.7/site-packages/dynesty/sampling.py:216: UserWarning: Random number generation appears to be extremely inefficient. Adjusting the scale-factor accordingly.\n",
      "  warnings.warn(\"Random number generation appears to be \"\n",
      "78206it [1:38:06,  9.11it/s, batch: 0 | bound: 349 | nc: 25 | ncall: 1746193 | eff(%):  4.476 | loglstar:   -inf < 236.337 <    inf | logz: 156.846 +/-    nan | dlogz: 22.979 >  0.010]   /usr/local/lib/python3.7/site-packages/dynesty/sampling.py:216: UserWarning: Random number generation appears to be extremely inefficient. Adjusting the scale-factor accordingly.\n",
      "  warnings.warn(\"Random number generation appears to be \"\n",
      "/usr/local/lib/python3.7/site-packages/dynesty/sampling.py:238: UserWarning: Random walk proposals appear to be extremely inefficient. Adjusting the scale-factor accordingly.\n",
      "  warnings.warn(\"Random walk proposals appear to be \"\n",
      "78440it [1:39:52, 11.94it/s, batch: 0 | bound: 352 | nc: 25 | ncall: 1771667 | eff(%):  4.425 | loglstar:   -inf < 237.334 <    inf | logz: 157.679 +/-    nan | dlogz: 21.912 >  0.010]   /usr/local/lib/python3.7/site-packages/dynesty/sampling.py:216: UserWarning: Random number generation appears to be extremely inefficient. Adjusting the scale-factor accordingly.\n",
      "  warnings.warn(\"Random number generation appears to be \"\n",
      "/usr/local/lib/python3.7/site-packages/dynesty/sampling.py:238: UserWarning: Random walk proposals appear to be extremely inefficient. Adjusting the scale-factor accordingly.\n",
      "  warnings.warn(\"Random walk proposals appear to be \"\n",
      "78844it [1:41:46, 11.86it/s, batch: 0 | bound: 356 | nc: 25 | ncall: 1804806 | eff(%):  4.366 | loglstar:   -inf < 239.225 <    inf | logz: 159.147 +/-    nan | dlogz: 21.519 >  0.010]   /usr/local/lib/python3.7/site-packages/dynesty/sampling.py:216: UserWarning: Random number generation appears to be extremely inefficient. Adjusting the scale-factor accordingly.\n",
      "  warnings.warn(\"Random number generation appears to be \"\n",
      "/usr/local/lib/python3.7/site-packages/dynesty/sampling.py:238: UserWarning: Random walk proposals appear to be extremely inefficient. Adjusting the scale-factor accordingly.\n",
      "  warnings.warn(\"Random walk proposals appear to be \"\n",
      "79014it [1:43:41,  8.29it/s, batch: 0 | bound: 359 | nc: 25 | ncall: 1831148 | eff(%):  4.313 | loglstar:   -inf < 239.876 <    inf | logz: 159.725 +/-    nan | dlogz: 21.729 >  0.010]   /usr/local/lib/python3.7/site-packages/dynesty/sampling.py:216: UserWarning: Random number generation appears to be extremely inefficient. Adjusting the scale-factor accordingly.\n",
      "  warnings.warn(\"Random number generation appears to be \"\n",
      "/usr/local/lib/python3.7/site-packages/dynesty/sampling.py:238: UserWarning: Random walk proposals appear to be extremely inefficient. Adjusting the scale-factor accordingly.\n",
      "  warnings.warn(\"Random walk proposals appear to be \"\n",
      "79298it [1:45:27,  9.36it/s, batch: 0 | bound: 362 | nc: 25 | ncall: 1854638 | eff(%):  4.273 | loglstar:   -inf < 241.220 <    inf | logz: 160.685 +/-    nan | dlogz: 20.485 >  0.010]   /usr/local/lib/python3.7/site-packages/dynesty/sampling.py:238: UserWarning: Random walk proposals appear to be extremely inefficient. Adjusting the scale-factor accordingly.\n",
      "  warnings.warn(\"Random walk proposals appear to be \"\n",
      "/usr/local/lib/python3.7/site-packages/dynesty/sampling.py:216: UserWarning: Random number generation appears to be extremely inefficient. Adjusting the scale-factor accordingly.\n",
      "  warnings.warn(\"Random number generation appears to be \"\n",
      "79537it [1:47:53, 11.66it/s, batch: 0 | bound: 365 | nc: 25 | ncall: 1889324 | eff(%):  4.208 | loglstar:   -inf < 242.180 <    inf | logz: 161.503 +/-    nan | dlogz: 19.429 >  0.010]   /usr/local/lib/python3.7/site-packages/dynesty/sampling.py:216: UserWarning: Random number generation appears to be extremely inefficient. Adjusting the scale-factor accordingly.\n",
      "  warnings.warn(\"Random number generation appears to be \"\n",
      "/usr/local/lib/python3.7/site-packages/dynesty/sampling.py:238: UserWarning: Random walk proposals appear to be extremely inefficient. Adjusting the scale-factor accordingly.\n",
      "  warnings.warn(\"Random walk proposals appear to be \"\n",
      "79650it [1:49:13, 11.59it/s, batch: 0 | bound: 367 | nc: 25 | ncall: 1913217 | eff(%):  4.161 | loglstar:   -inf < 242.599 <    inf | logz: 161.863 +/-    nan | dlogz: 18.955 >  0.010]   /usr/local/lib/python3.7/site-packages/dynesty/sampling.py:216: UserWarning: Random number generation appears to be extremely inefficient. Adjusting the scale-factor accordingly.\n",
      "  warnings.warn(\"Random number generation appears to be \"\n",
      "/usr/local/lib/python3.7/site-packages/dynesty/sampling.py:238: UserWarning: Random walk proposals appear to be extremely inefficient. Adjusting the scale-factor accordingly.\n",
      "  warnings.warn(\"Random walk proposals appear to be \"\n",
      "80338it [1:51:12, 10.59it/s, batch: 0 | bound: 373 | nc: 25 | ncall: 1943765 | eff(%):  4.131 | loglstar:   -inf < 245.194 <    inf | logz: 163.911 +/-    nan | dlogz: 16.219 >  0.010]   /usr/local/lib/python3.7/site-packages/dynesty/sampling.py:216: UserWarning: Random number generation appears to be extremely inefficient. Adjusting the scale-factor accordingly.\n",
      "  warnings.warn(\"Random number generation appears to be \"\n",
      "/usr/local/lib/python3.7/site-packages/dynesty/sampling.py:238: UserWarning: Random walk proposals appear to be extremely inefficient. Adjusting the scale-factor accordingly.\n",
      "  warnings.warn(\"Random walk proposals appear to be \"\n",
      "80370it [1:53:00,  8.47it/s, batch: 0 | bound: 375 | nc: 25 | ncall: 1970856 | eff(%):  4.076 | loglstar:   -inf < 245.306 <    inf | logz: 163.997 +/-    nan | dlogz: 16.101 >  0.010]   /usr/local/lib/python3.7/site-packages/dynesty/sampling.py:238: UserWarning: Random walk proposals appear to be extremely inefficient. Adjusting the scale-factor accordingly.\n",
      "  warnings.warn(\"Random walk proposals appear to be \"\n",
      "/usr/local/lib/python3.7/site-packages/dynesty/sampling.py:216: UserWarning: Random number generation appears to be extremely inefficient. Adjusting the scale-factor accordingly.\n",
      "  warnings.warn(\"Random number generation appears to be \"\n",
      "80445it [1:54:21,  7.87it/s, batch: 0 | bound: 377 | nc: 25 | ncall: 1988177 | eff(%):  4.044 | loglstar:   -inf < 245.584 <    inf | logz: 164.197 +/-    nan | dlogz: 15.827 >  0.010]   /usr/local/lib/python3.7/site-packages/dynesty/sampling.py:216: UserWarning: Random number generation appears to be extremely inefficient. Adjusting the scale-factor accordingly.\n",
      "  warnings.warn(\"Random number generation appears to be \"\n",
      "/usr/local/lib/python3.7/site-packages/dynesty/sampling.py:238: UserWarning: Random walk proposals appear to be extremely inefficient. Adjusting the scale-factor accordingly.\n",
      "  warnings.warn(\"Random walk proposals appear to be \"\n",
      "80656it [1:56:36,  9.00it/s, batch: 0 | bound: 380 | nc: 25 | ncall: 2020054 | eff(%):  3.991 | loglstar:   -inf < 246.355 <    inf | logz: 164.762 +/-    nan | dlogz: 15.050 >  0.010]   /usr/local/lib/python3.7/site-packages/dynesty/sampling.py:216: UserWarning: Random number generation appears to be extremely inefficient. Adjusting the scale-factor accordingly.\n",
      "  warnings.warn(\"Random number generation appears to be \"\n",
      "/usr/local/lib/python3.7/site-packages/dynesty/sampling.py:238: UserWarning: Random walk proposals appear to be extremely inefficient. Adjusting the scale-factor accordingly.\n",
      "  warnings.warn(\"Random walk proposals appear to be \"\n",
      "80843it [1:58:26, 10.48it/s, batch: 0 | bound: 383 | nc: 25 | ncall: 2045627 | eff(%):  3.950 | loglstar:   -inf < 246.982 <    inf | logz: 165.253 +/-    nan | dlogz: 14.372 >  0.010]   /usr/local/lib/python3.7/site-packages/dynesty/sampling.py:216: UserWarning: Random number generation appears to be extremely inefficient. Adjusting the scale-factor accordingly.\n",
      "  warnings.warn(\"Random number generation appears to be \"\n"
     ]
    },
    {
     "name": "stderr",
     "output_type": "stream",
     "text": [
      "/usr/local/lib/python3.7/site-packages/dynesty/sampling.py:238: UserWarning: Random walk proposals appear to be extremely inefficient. Adjusting the scale-factor accordingly.\n",
      "  warnings.warn(\"Random walk proposals appear to be \"\n",
      "80967it [2:00:19, 11.55it/s, batch: 0 | bound: 385 | nc: 25 | ncall: 2074946 | eff(%):  3.900 | loglstar:   -inf < 247.403 <    inf | logz: 165.563 +/-    nan | dlogz: 13.938 >  0.010]   /usr/local/lib/python3.7/site-packages/dynesty/sampling.py:216: UserWarning: Random number generation appears to be extremely inefficient. Adjusting the scale-factor accordingly.\n",
      "  warnings.warn(\"Random number generation appears to be \"\n",
      "/usr/local/lib/python3.7/site-packages/dynesty/sampling.py:238: UserWarning: Random walk proposals appear to be extremely inefficient. Adjusting the scale-factor accordingly.\n",
      "  warnings.warn(\"Random walk proposals appear to be \"\n",
      "81378it [2:02:28,  8.40it/s, batch: 0 | bound: 389 | nc: 26 | ncall: 2108104 | eff(%):  3.858 | loglstar:   -inf < 248.815 <    inf | logz: 166.583 +/-    nan | dlogz: 13.329 >  0.010]   /usr/local/lib/python3.7/site-packages/dynesty/sampling.py:216: UserWarning: Random number generation appears to be extremely inefficient. Adjusting the scale-factor accordingly.\n",
      "  warnings.warn(\"Random number generation appears to be \"\n",
      "/usr/local/lib/python3.7/site-packages/dynesty/sampling.py:238: UserWarning: Random walk proposals appear to be extremely inefficient. Adjusting the scale-factor accordingly.\n",
      "  warnings.warn(\"Random walk proposals appear to be \"\n",
      "81641it [2:05:29,  8.76it/s, batch: 0 | bound: 392 | nc: 25 | ncall: 2148519 | eff(%):  3.798 | loglstar:   -inf < 249.680 <    inf | logz: 167.225 +/-    nan | dlogz: 13.141 >  0.010]   /usr/local/lib/python3.7/site-packages/dynesty/sampling.py:216: UserWarning: Random number generation appears to be extremely inefficient. Adjusting the scale-factor accordingly.\n",
      "  warnings.warn(\"Random number generation appears to be \"\n",
      "/usr/local/lib/python3.7/site-packages/dynesty/sampling.py:238: UserWarning: Random walk proposals appear to be extremely inefficient. Adjusting the scale-factor accordingly.\n",
      "  warnings.warn(\"Random walk proposals appear to be \"\n",
      "81768it [2:07:44,  8.96it/s, batch: 0 | bound: 394 | nc: 25 | ncall: 2179729 | eff(%):  3.750 | loglstar:   -inf < 250.070 <    inf | logz: 167.521 +/-    nan | dlogz: 12.718 >  0.010]   /usr/local/lib/python3.7/site-packages/dynesty/sampling.py:238: UserWarning: Random walk proposals appear to be extremely inefficient. Adjusting the scale-factor accordingly.\n",
      "  warnings.warn(\"Random walk proposals appear to be \"\n",
      "/usr/local/lib/python3.7/site-packages/dynesty/sampling.py:216: UserWarning: Random number generation appears to be extremely inefficient. Adjusting the scale-factor accordingly.\n",
      "  warnings.warn(\"Random number generation appears to be \"\n",
      "82300it [2:09:46,  9.87it/s, batch: 0 | bound: 399 | nc: 25 | ncall: 2210625 | eff(%):  3.721 | loglstar:   -inf < 251.668 <    inf | logz: 168.673 +/-    nan | dlogz: 11.035 >  0.010]   /usr/local/lib/python3.7/site-packages/dynesty/sampling.py:238: UserWarning: Random walk proposals appear to be extremely inefficient. Adjusting the scale-factor accordingly.\n",
      "  warnings.warn(\"Random walk proposals appear to be \"\n",
      "/usr/local/lib/python3.7/site-packages/dynesty/sampling.py:216: UserWarning: Random number generation appears to be extremely inefficient. Adjusting the scale-factor accordingly.\n",
      "  warnings.warn(\"Random number generation appears to be \"\n",
      "82582it [2:12:04, 10.11it/s, batch: 0 | bound: 402 | nc: 25 | ncall: 2245833 | eff(%):  3.675 | loglstar:   -inf < 252.419 <    inf | logz: 169.232 +/-    nan | dlogz: 10.194 >  0.010]   /usr/local/lib/python3.7/site-packages/dynesty/sampling.py:238: UserWarning: Random walk proposals appear to be extremely inefficient. Adjusting the scale-factor accordingly.\n",
      "  warnings.warn(\"Random walk proposals appear to be \"\n",
      "/usr/local/lib/python3.7/site-packages/dynesty/sampling.py:216: UserWarning: Random number generation appears to be extremely inefficient. Adjusting the scale-factor accordingly.\n",
      "  warnings.warn(\"Random number generation appears to be \"\n",
      "83533it [2:16:12,  8.78it/s, batch: 0 | bound: 410 | nc: 25 | ncall: 2304821 | eff(%):  3.623 | loglstar:   -inf < 254.711 <    inf | logz: 170.842 +/-    nan | dlogz:  9.854 >  0.010]   /usr/local/lib/python3.7/site-packages/dynesty/sampling.py:238: UserWarning: Random walk proposals appear to be extremely inefficient. Adjusting the scale-factor accordingly.\n",
      "  warnings.warn(\"Random walk proposals appear to be \"\n",
      "/usr/local/lib/python3.7/site-packages/dynesty/sampling.py:216: UserWarning: Random number generation appears to be extremely inefficient. Adjusting the scale-factor accordingly.\n",
      "  warnings.warn(\"Random number generation appears to be \"\n",
      "84009it [2:18:43, 11.59it/s, batch: 0 | bound: 415 | nc: 25 | ncall: 2347294 | eff(%):  3.577 | loglstar:   -inf < 255.711 <    inf | logz: 171.487 +/-    nan | dlogz:  8.732 >  0.010]   /usr/local/lib/python3.7/site-packages/dynesty/sampling.py:238: UserWarning: Random walk proposals appear to be extremely inefficient. Adjusting the scale-factor accordingly.\n",
      "  warnings.warn(\"Random walk proposals appear to be \"\n",
      "/usr/local/lib/python3.7/site-packages/dynesty/sampling.py:216: UserWarning: Random number generation appears to be extremely inefficient. Adjusting the scale-factor accordingly.\n",
      "  warnings.warn(\"Random number generation appears to be \"\n",
      "84258it [2:21:07,  9.25it/s, batch: 0 | bound: 418 | nc: 25 | ncall: 2385245 | eff(%):  3.531 | loglstar:   -inf < 256.257 <    inf | logz: 171.809 +/-    nan | dlogz:  8.161 >  0.010]   /usr/local/lib/python3.7/site-packages/dynesty/sampling.py:238: UserWarning: Random walk proposals appear to be extremely inefficient. Adjusting the scale-factor accordingly.\n",
      "  warnings.warn(\"Random walk proposals appear to be \"\n",
      "/usr/local/lib/python3.7/site-packages/dynesty/sampling.py:216: UserWarning: Random number generation appears to be extremely inefficient. Adjusting the scale-factor accordingly.\n",
      "  warnings.warn(\"Random number generation appears to be \"\n",
      "84552it [2:24:27,  8.27it/s, batch: 0 | bound: 421 | nc: 25 | ncall: 2430069 | eff(%):  3.478 | loglstar:   -inf < 256.855 <    inf | logz: 172.178 +/-    nan | dlogz:  7.499 >  0.010]   /usr/local/lib/python3.7/site-packages/dynesty/sampling.py:238: UserWarning: Random walk proposals appear to be extremely inefficient. Adjusting the scale-factor accordingly.\n",
      "  warnings.warn(\"Random walk proposals appear to be \"\n",
      "/usr/local/lib/python3.7/site-packages/dynesty/sampling.py:216: UserWarning: Random number generation appears to be extremely inefficient. Adjusting the scale-factor accordingly.\n",
      "  warnings.warn(\"Random number generation appears to be \"\n",
      "84907it [2:26:57,  8.89it/s, batch: 0 | bound: 425 | nc: 25 | ncall: 2464026 | eff(%):  3.444 | loglstar:   -inf < 257.560 <    inf | logz: 172.590 +/-    nan | dlogz:  7.474 >  0.010]   /usr/local/lib/python3.7/site-packages/dynesty/sampling.py:238: UserWarning: Random walk proposals appear to be extremely inefficient. Adjusting the scale-factor accordingly.\n",
      "  warnings.warn(\"Random walk proposals appear to be \"\n",
      "/usr/local/lib/python3.7/site-packages/dynesty/sampling.py:216: UserWarning: Random number generation appears to be extremely inefficient. Adjusting the scale-factor accordingly.\n",
      "  warnings.warn(\"Random number generation appears to be \"\n",
      "85624it [2:30:16,  8.59it/s, batch: 0 | bound: 431 | nc: 25 | ncall: 2509886 | eff(%):  3.410 | loglstar:   -inf < 258.792 <    inf | logz: 173.319 +/-    nan | dlogz:  6.295 >  0.010]   /usr/local/lib/python3.7/site-packages/dynesty/sampling.py:216: UserWarning: Random number generation appears to be extremely inefficient. Adjusting the scale-factor accordingly.\n",
      "  warnings.warn(\"Random number generation appears to be \"\n",
      "/usr/local/lib/python3.7/site-packages/dynesty/sampling.py:238: UserWarning: Random walk proposals appear to be extremely inefficient. Adjusting the scale-factor accordingly.\n",
      "  warnings.warn(\"Random walk proposals appear to be \"\n"
     ]
    },
    {
     "name": "stderr",
     "output_type": "stream",
     "text": [
      "86167it [2:33:23,  8.37it/s, batch: 0 | bound: 436 | nc: 25 | ncall: 2551518 | eff(%):  3.376 | loglstar:   -inf < 259.609 <    inf | logz: 173.761 +/-    nan | dlogz:  5.461 >  0.010]   /usr/local/lib/python3.7/site-packages/dynesty/sampling.py:238: UserWarning: Random walk proposals appear to be extremely inefficient. Adjusting the scale-factor accordingly.\n",
      "  warnings.warn(\"Random walk proposals appear to be \"\n",
      "/usr/local/lib/python3.7/site-packages/dynesty/sampling.py:216: UserWarning: Random number generation appears to be extremely inefficient. Adjusting the scale-factor accordingly.\n",
      "  warnings.warn(\"Random number generation appears to be \"\n",
      "86574it [2:36:59,  9.21it/s, batch: 0 | bound: 440 | nc: 25 | ncall: 2598939 | eff(%):  3.330 | loglstar:   -inf < 260.197 <    inf | logz: 174.052 +/-    nan | dlogz:  5.509 >  0.010]   /usr/local/lib/python3.7/site-packages/dynesty/sampling.py:216: UserWarning: Random number generation appears to be extremely inefficient. Adjusting the scale-factor accordingly.\n",
      "  warnings.warn(\"Random number generation appears to be \"\n",
      "/usr/local/lib/python3.7/site-packages/dynesty/sampling.py:238: UserWarning: Random walk proposals appear to be extremely inefficient. Adjusting the scale-factor accordingly.\n",
      "  warnings.warn(\"Random walk proposals appear to be \"\n",
      "86958it [2:39:30,  8.55it/s, batch: 0 | bound: 444 | nc: 25 | ncall: 2634872 | eff(%):  3.299 | loglstar:   -inf < 260.736 <    inf | logz: 174.303 +/-    nan | dlogz:  4.878 >  0.010]   /usr/local/lib/python3.7/site-packages/dynesty/sampling.py:216: UserWarning: Random number generation appears to be extremely inefficient. Adjusting the scale-factor accordingly.\n",
      "  warnings.warn(\"Random number generation appears to be \"\n",
      "/usr/local/lib/python3.7/site-packages/dynesty/sampling.py:238: UserWarning: Random walk proposals appear to be extremely inefficient. Adjusting the scale-factor accordingly.\n",
      "  warnings.warn(\"Random walk proposals appear to be \"\n",
      "87374it [2:42:50,  9.11it/s, batch: 0 | bound: 448 | nc: 25 | ncall: 2679856 | eff(%):  3.259 | loglstar:   -inf < 261.246 <    inf | logz: 174.543 +/-    nan | dlogz:  4.442 >  0.010]   /usr/local/lib/python3.7/site-packages/dynesty/sampling.py:238: UserWarning: Random walk proposals appear to be extremely inefficient. Adjusting the scale-factor accordingly.\n",
      "  warnings.warn(\"Random walk proposals appear to be \"\n",
      "/usr/local/lib/python3.7/site-packages/dynesty/sampling.py:216: UserWarning: Random number generation appears to be extremely inefficient. Adjusting the scale-factor accordingly.\n",
      "  warnings.warn(\"Random number generation appears to be \"\n",
      "88583it [2:46:58,  8.48it/s, batch: 0 | bound: 458 | nc: 25 | ncall: 2736276 | eff(%):  3.236 | loglstar:   -inf < 262.608 <    inf | logz: 175.080 +/-    nan | dlogz:  3.893 >  0.010]   /usr/local/lib/python3.7/site-packages/dynesty/sampling.py:238: UserWarning: Random walk proposals appear to be extremely inefficient. Adjusting the scale-factor accordingly.\n",
      "  warnings.warn(\"Random walk proposals appear to be \"\n",
      "/usr/local/lib/python3.7/site-packages/dynesty/sampling.py:216: UserWarning: Random number generation appears to be extremely inefficient. Adjusting the scale-factor accordingly.\n",
      "  warnings.warn(\"Random number generation appears to be \"\n",
      "89249it [2:50:28,  9.44it/s, batch: 0 | bound: 464 | nc: 25 | ncall: 2785045 | eff(%):  3.203 | loglstar:   -inf < 263.289 <    inf | logz: 175.299 +/-    nan | dlogz:  3.036 >  0.010]   /usr/local/lib/python3.7/site-packages/dynesty/sampling.py:238: UserWarning: Random walk proposals appear to be extremely inefficient. Adjusting the scale-factor accordingly.\n",
      "  warnings.warn(\"Random walk proposals appear to be \"\n",
      "/usr/local/lib/python3.7/site-packages/dynesty/sampling.py:216: UserWarning: Random number generation appears to be extremely inefficient. Adjusting the scale-factor accordingly.\n",
      "  warnings.warn(\"Random number generation appears to be \"\n",
      "89512it [2:53:23,  9.13it/s, batch: 0 | bound: 467 | nc: 25 | ncall: 2827970 | eff(%):  3.164 | loglstar:   -inf < 263.535 <    inf | logz: 175.374 +/-    nan | dlogz:  2.844 >  0.010]   /usr/local/lib/python3.7/site-packages/dynesty/sampling.py:238: UserWarning: Random walk proposals appear to be extremely inefficient. Adjusting the scale-factor accordingly.\n",
      "  warnings.warn(\"Random walk proposals appear to be \"\n",
      "/usr/local/lib/python3.7/site-packages/dynesty/sampling.py:216: UserWarning: Random number generation appears to be extremely inefficient. Adjusting the scale-factor accordingly.\n",
      "  warnings.warn(\"Random number generation appears to be \"\n",
      "89722it [2:55:11, 11.62it/s, batch: 0 | bound: 470 | nc: 25 | ncall: 2853504 | eff(%):  3.143 | loglstar:   -inf < 263.715 <    inf | logz: 175.428 +/-    nan | dlogz:  2.650 >  0.010]   /usr/local/lib/python3.7/site-packages/dynesty/sampling.py:216: UserWarning: Random number generation appears to be extremely inefficient. Adjusting the scale-factor accordingly.\n",
      "  warnings.warn(\"Random number generation appears to be \"\n",
      "/usr/local/lib/python3.7/site-packages/dynesty/sampling.py:238: UserWarning: Random walk proposals appear to be extremely inefficient. Adjusting the scale-factor accordingly.\n",
      "  warnings.warn(\"Random walk proposals appear to be \"\n",
      "89848it [2:57:39,  8.51it/s, batch: 0 | bound: 472 | nc: 25 | ncall: 2892723 | eff(%):  3.105 | loglstar:   -inf < 263.820 <    inf | logz: 175.459 +/-    nan | dlogz:  2.506 >  0.010]   /usr/local/lib/python3.7/site-packages/dynesty/sampling.py:238: UserWarning: Random walk proposals appear to be extremely inefficient. Adjusting the scale-factor accordingly.\n",
      "  warnings.warn(\"Random walk proposals appear to be \"\n",
      "/usr/local/lib/python3.7/site-packages/dynesty/sampling.py:216: UserWarning: Random number generation appears to be extremely inefficient. Adjusting the scale-factor accordingly.\n",
      "  warnings.warn(\"Random number generation appears to be \"\n",
      "90376it [3:01:35, 11.75it/s, batch: 0 | bound: 477 | nc: 25 | ncall: 2951954 | eff(%):  3.061 | loglstar:   -inf < 264.247 <    inf | logz: 175.571 +/-    nan | dlogz:  1.937 >  0.010]   /usr/local/lib/python3.7/site-packages/dynesty/sampling.py:216: UserWarning: Random number generation appears to be extremely inefficient. Adjusting the scale-factor accordingly.\n",
      "  warnings.warn(\"Random number generation appears to be \"\n",
      "/usr/local/lib/python3.7/site-packages/dynesty/sampling.py:238: UserWarning: Random walk proposals appear to be extremely inefficient. Adjusting the scale-factor accordingly.\n",
      "  warnings.warn(\"Random walk proposals appear to be \"\n",
      "90446it [3:03:54,  9.07it/s, batch: 0 | bound: 479 | nc: 25 | ncall: 2986134 | eff(%):  3.028 | loglstar:   -inf < 264.305 <    inf | logz: 175.584 +/-    nan | dlogz:  1.866 >  0.010]   /usr/local/lib/python3.7/site-packages/dynesty/sampling.py:238: UserWarning: Random walk proposals appear to be extremely inefficient. Adjusting the scale-factor accordingly.\n",
      "  warnings.warn(\"Random walk proposals appear to be \"\n",
      "/usr/local/lib/python3.7/site-packages/dynesty/sampling.py:216: UserWarning: Random number generation appears to be extremely inefficient. Adjusting the scale-factor accordingly.\n",
      "  warnings.warn(\"Random number generation appears to be \"\n",
      "90730it [3:06:33,  8.48it/s, batch: 0 | bound: 482 | nc: 25 | ncall: 3023824 | eff(%):  3.000 | loglstar:   -inf < 264.508 <    inf | logz: 175.633 +/-    nan | dlogz:  1.592 >  0.010]   /usr/local/lib/python3.7/site-packages/dynesty/sampling.py:216: UserWarning: Random number generation appears to be extremely inefficient. Adjusting the scale-factor accordingly.\n",
      "  warnings.warn(\"Random number generation appears to be \"\n",
      "/usr/local/lib/python3.7/site-packages/dynesty/sampling.py:238: UserWarning: Random walk proposals appear to be extremely inefficient. Adjusting the scale-factor accordingly.\n",
      "  warnings.warn(\"Random walk proposals appear to be \"\n",
      "91444it [3:10:39, 11.75it/s, batch: 0 | bound: 488 | nc: 25 | ncall: 3082145 | eff(%):  2.966 | loglstar:   -inf < 265.018 <    inf | logz: 175.735 +/-    nan | dlogz:  1.005 >  0.010]   /usr/local/lib/python3.7/site-packages/dynesty/sampling.py:216: UserWarning: Random number generation appears to be extremely inefficient. Adjusting the scale-factor accordingly.\n",
      "  warnings.warn(\"Random number generation appears to be \"\n"
     ]
    },
    {
     "name": "stderr",
     "output_type": "stream",
     "text": [
      "/usr/local/lib/python3.7/site-packages/dynesty/sampling.py:238: UserWarning: Random walk proposals appear to be extremely inefficient. Adjusting the scale-factor accordingly.\n",
      "  warnings.warn(\"Random walk proposals appear to be \"\n",
      "91497it [3:13:39,  8.71it/s, batch: 0 | bound: 490 | nc: 25 | ncall: 3127713 | eff(%):  2.924 | loglstar:   -inf < 265.053 <    inf | logz: 175.741 +/-    nan | dlogz:  0.968 >  0.010]   /usr/local/lib/python3.7/site-packages/dynesty/sampling.py:238: UserWarning: Random walk proposals appear to be extremely inefficient. Adjusting the scale-factor accordingly.\n",
      "  warnings.warn(\"Random walk proposals appear to be \"\n",
      "/usr/local/lib/python3.7/site-packages/dynesty/sampling.py:216: UserWarning: Random number generation appears to be extremely inefficient. Adjusting the scale-factor accordingly.\n",
      "  warnings.warn(\"Random number generation appears to be \"\n",
      "92038it [3:16:41,  8.97it/s, batch: 0 | bound: 495 | nc: 25 | ncall: 3170554 | eff(%):  2.902 | loglstar:   -inf < 265.403 <    inf | logz: 175.797 +/-    nan | dlogz:  0.990 >  0.010]   /usr/local/lib/python3.7/site-packages/dynesty/sampling.py:216: UserWarning: Random number generation appears to be extremely inefficient. Adjusting the scale-factor accordingly.\n",
      "  warnings.warn(\"Random number generation appears to be \"\n",
      "/usr/local/lib/python3.7/site-packages/dynesty/sampling.py:238: UserWarning: Random walk proposals appear to be extremely inefficient. Adjusting the scale-factor accordingly.\n",
      "  warnings.warn(\"Random walk proposals appear to be \"\n",
      "92202it [3:19:30,  9.36it/s, batch: 0 | bound: 498 | nc: 25 | ncall: 3209829 | eff(%):  2.872 | loglstar:   -inf < 265.523 <    inf | logz: 175.812 +/-    nan | dlogz:  1.397 >  0.010]   /usr/local/lib/python3.7/site-packages/dynesty/sampling.py:216: UserWarning: Random number generation appears to be extremely inefficient. Adjusting the scale-factor accordingly.\n",
      "  warnings.warn(\"Random number generation appears to be \"\n",
      "/usr/local/lib/python3.7/site-packages/dynesty/sampling.py:238: UserWarning: Random walk proposals appear to be extremely inefficient. Adjusting the scale-factor accordingly.\n",
      "  warnings.warn(\"Random walk proposals appear to be \"\n",
      "92485it [3:22:49, 11.45it/s, batch: 0 | bound: 501 | nc: 25 | ncall: 3257009 | eff(%):  2.839 | loglstar:   -inf < 265.682 <    inf | logz: 175.835 +/-    nan | dlogz:  1.176 >  0.010]   /usr/local/lib/python3.7/site-packages/dynesty/sampling.py:216: UserWarning: Random number generation appears to be extremely inefficient. Adjusting the scale-factor accordingly.\n",
      "  warnings.warn(\"Random number generation appears to be \"\n",
      "/usr/local/lib/python3.7/site-packages/dynesty/sampling.py:238: UserWarning: Random walk proposals appear to be extremely inefficient. Adjusting the scale-factor accordingly.\n",
      "  warnings.warn(\"Random walk proposals appear to be \"\n",
      "92633it [3:25:38, 10.17it/s, batch: 0 | bound: 503 | nc: 25 | ncall: 3299913 | eff(%):  2.806 | loglstar:   -inf < 265.777 <    inf | logz: 175.846 +/-    nan | dlogz:  1.069 >  0.010]   /usr/local/lib/python3.7/site-packages/dynesty/sampling.py:216: UserWarning: Random number generation appears to be extremely inefficient. Adjusting the scale-factor accordingly.\n",
      "  warnings.warn(\"Random number generation appears to be \"\n",
      "/usr/local/lib/python3.7/site-packages/dynesty/sampling.py:238: UserWarning: Random walk proposals appear to be extremely inefficient. Adjusting the scale-factor accordingly.\n",
      "  warnings.warn(\"Random walk proposals appear to be \"\n",
      "93207it [3:28:05, 14.09it/s, batch: 0 | bound: 508 | nc: 25 | ncall: 3344799 | eff(%):  2.786 | loglstar:   -inf < 266.104 <    inf | logz: 175.881 +/-    nan | dlogz:  0.713 >  0.010]   /usr/local/lib/python3.7/site-packages/dynesty/sampling.py:216: UserWarning: Random number generation appears to be extremely inefficient. Adjusting the scale-factor accordingly.\n",
      "  warnings.warn(\"Random number generation appears to be \"\n",
      "/usr/local/lib/python3.7/site-packages/dynesty/sampling.py:238: UserWarning: Random walk proposals appear to be extremely inefficient. Adjusting the scale-factor accordingly.\n",
      "  warnings.warn(\"Random walk proposals appear to be \"\n",
      "93340it [3:30:09, 15.14it/s, batch: 0 | bound: 510 | nc: 25 | ncall: 3390224 | eff(%):  2.752 | loglstar:   -inf < 266.176 <    inf | logz: 175.888 +/-    nan | dlogz:  0.644 >  0.010]   /usr/local/lib/python3.7/site-packages/dynesty/sampling.py:216: UserWarning: Random number generation appears to be extremely inefficient. Adjusting the scale-factor accordingly.\n",
      "  warnings.warn(\"Random number generation appears to be \"\n",
      "/usr/local/lib/python3.7/site-packages/dynesty/sampling.py:238: UserWarning: Random walk proposals appear to be extremely inefficient. Adjusting the scale-factor accordingly.\n",
      "  warnings.warn(\"Random walk proposals appear to be \"\n",
      "93576it [3:32:06, 16.54it/s, batch: 0 | bound: 513 | nc: 25 | ncall: 3436925 | eff(%):  2.722 | loglstar:   -inf < 266.297 <    inf | logz: 175.899 +/-    nan | dlogz:  0.534 >  0.010]   /usr/local/lib/python3.7/site-packages/dynesty/sampling.py:216: UserWarning: Random number generation appears to be extremely inefficient. Adjusting the scale-factor accordingly.\n",
      "  warnings.warn(\"Random number generation appears to be \"\n",
      "/usr/local/lib/python3.7/site-packages/dynesty/sampling.py:238: UserWarning: Random walk proposals appear to be extremely inefficient. Adjusting the scale-factor accordingly.\n",
      "  warnings.warn(\"Random walk proposals appear to be \"\n",
      "93757it [3:33:39, 16.56it/s, batch: 0 | bound: 516 | nc: 25 | ncall: 3475596 | eff(%):  2.697 | loglstar:   -inf < 266.395 <    inf | logz: 175.906 +/-    nan | dlogz:  0.460 >  0.010]   /usr/local/lib/python3.7/site-packages/dynesty/sampling.py:216: UserWarning: Random number generation appears to be extremely inefficient. Adjusting the scale-factor accordingly.\n",
      "  warnings.warn(\"Random number generation appears to be \"\n",
      "/usr/local/lib/python3.7/site-packages/dynesty/sampling.py:238: UserWarning: Random walk proposals appear to be extremely inefficient. Adjusting the scale-factor accordingly.\n",
      "  warnings.warn(\"Random walk proposals appear to be \"\n",
      "93986it [3:35:32, 16.66it/s, batch: 0 | bound: 519 | nc: 25 | ncall: 3521684 | eff(%):  2.668 | loglstar:   -inf < 266.515 <    inf | logz: 175.915 +/-    nan | dlogz:  0.379 >  0.010]   /usr/local/lib/python3.7/site-packages/dynesty/sampling.py:216: UserWarning: Random number generation appears to be extremely inefficient. Adjusting the scale-factor accordingly.\n",
      "  warnings.warn(\"Random number generation appears to be \"\n",
      "/usr/local/lib/python3.7/site-packages/dynesty/sampling.py:238: UserWarning: Random walk proposals appear to be extremely inefficient. Adjusting the scale-factor accordingly.\n",
      "  warnings.warn(\"Random walk proposals appear to be \"\n",
      "94198it [3:37:08, 16.60it/s, batch: 0 | bound: 522 | nc: 25 | ncall: 3561518 | eff(%):  2.644 | loglstar:   -inf < 266.615 <    inf | logz: 175.922 +/-    nan | dlogz:  0.315 >  0.010]   /usr/local/lib/python3.7/site-packages/dynesty/sampling.py:216: UserWarning: Random number generation appears to be extremely inefficient. Adjusting the scale-factor accordingly.\n",
      "  warnings.warn(\"Random number generation appears to be \"\n",
      "/usr/local/lib/python3.7/site-packages/dynesty/sampling.py:238: UserWarning: Random walk proposals appear to be extremely inefficient. Adjusting the scale-factor accordingly.\n",
      "  warnings.warn(\"Random walk proposals appear to be \"\n",
      "95049it [3:39:49, 16.20it/s, batch: 0 | bound: 529 | nc: 25 | ncall: 3627823 | eff(%):  2.619 | loglstar:   -inf < 267.018 <    inf | logz: 175.944 +/-    nan | dlogz:  0.144 >  0.010]   /usr/local/lib/python3.7/site-packages/dynesty/sampling.py:216: UserWarning: Random number generation appears to be extremely inefficient. Adjusting the scale-factor accordingly.\n",
      "  warnings.warn(\"Random number generation appears to be \"\n",
      "/usr/local/lib/python3.7/site-packages/dynesty/sampling.py:238: UserWarning: Random walk proposals appear to be extremely inefficient. Adjusting the scale-factor accordingly.\n",
      "  warnings.warn(\"Random walk proposals appear to be \"\n"
     ]
    },
    {
     "name": "stderr",
     "output_type": "stream",
     "text": [
      "95217it [3:41:23, 16.45it/s, batch: 0 | bound: 532 | nc: 25 | ncall: 3666330 | eff(%):  2.596 | loglstar:   -inf < 267.098 <    inf | logz: 175.947 +/-    nan | dlogz:  0.123 >  0.010]   /usr/local/lib/python3.7/site-packages/dynesty/sampling.py:216: UserWarning: Random number generation appears to be extremely inefficient. Adjusting the scale-factor accordingly.\n",
      "  warnings.warn(\"Random number generation appears to be \"\n",
      "/usr/local/lib/python3.7/site-packages/dynesty/sampling.py:238: UserWarning: Random walk proposals appear to be extremely inefficient. Adjusting the scale-factor accordingly.\n",
      "  warnings.warn(\"Random walk proposals appear to be \"\n",
      "95628it [3:43:24, 16.36it/s, batch: 0 | bound: 536 | nc: 25 | ncall: 3716663 | eff(%):  2.572 | loglstar:   -inf < 267.287 <    inf | logz: 175.953 +/-    nan | dlogz:  0.082 >  0.010]   /usr/local/lib/python3.7/site-packages/dynesty/sampling.py:216: UserWarning: Random number generation appears to be extremely inefficient. Adjusting the scale-factor accordingly.\n",
      "  warnings.warn(\"Random number generation appears to be \"\n",
      "/usr/local/lib/python3.7/site-packages/dynesty/sampling.py:238: UserWarning: Random walk proposals appear to be extremely inefficient. Adjusting the scale-factor accordingly.\n",
      "  warnings.warn(\"Random walk proposals appear to be \"\n",
      "95765it [3:45:19, 16.11it/s, batch: 0 | bound: 538 | nc: 25 | ncall: 3765011 | eff(%):  2.543 | loglstar:   -inf < 267.339 <    inf | logz: 175.955 +/-    nan | dlogz:  0.072 >  0.010]   /usr/local/lib/python3.7/site-packages/dynesty/sampling.py:216: UserWarning: Random number generation appears to be extremely inefficient. Adjusting the scale-factor accordingly.\n",
      "  warnings.warn(\"Random number generation appears to be \"\n",
      "/usr/local/lib/python3.7/site-packages/dynesty/sampling.py:238: UserWarning: Random walk proposals appear to be extremely inefficient. Adjusting the scale-factor accordingly.\n",
      "  warnings.warn(\"Random walk proposals appear to be \"\n",
      "95854it [3:46:58, 16.66it/s, batch: 0 | bound: 540 | nc: 25 | ncall: 3806758 | eff(%):  2.517 | loglstar:   -inf < 267.372 <    inf | logz: 175.956 +/-    nan | dlogz:  0.067 >  0.010]   /usr/local/lib/python3.7/site-packages/dynesty/sampling.py:216: UserWarning: Random number generation appears to be extremely inefficient. Adjusting the scale-factor accordingly.\n",
      "  warnings.warn(\"Random number generation appears to be \"\n",
      "/usr/local/lib/python3.7/site-packages/dynesty/sampling.py:238: UserWarning: Random walk proposals appear to be extremely inefficient. Adjusting the scale-factor accordingly.\n",
      "  warnings.warn(\"Random walk proposals appear to be \"\n",
      "95997it [3:48:37, 16.46it/s, batch: 0 | bound: 542 | nc: 25 | ncall: 3848730 | eff(%):  2.494 | loglstar:   -inf < 267.422 <    inf | logz: 175.958 +/-    nan | dlogz:  0.058 >  0.010]   /usr/local/lib/python3.7/site-packages/dynesty/sampling.py:216: UserWarning: Random number generation appears to be extremely inefficient. Adjusting the scale-factor accordingly.\n",
      "  warnings.warn(\"Random number generation appears to be \"\n",
      "/usr/local/lib/python3.7/site-packages/dynesty/sampling.py:238: UserWarning: Random walk proposals appear to be extremely inefficient. Adjusting the scale-factor accordingly.\n",
      "  warnings.warn(\"Random walk proposals appear to be \"\n",
      "96243it [3:50:27, 16.36it/s, batch: 0 | bound: 545 | nc: 25 | ncall: 3894733 | eff(%):  2.470 | loglstar:   -inf < 267.513 <    inf | logz: 175.961 +/-    nan | dlogz:  0.052 >  0.010]   /usr/local/lib/python3.7/site-packages/dynesty/sampling.py:216: UserWarning: Random number generation appears to be extremely inefficient. Adjusting the scale-factor accordingly.\n",
      "  warnings.warn(\"Random number generation appears to be \"\n",
      "/usr/local/lib/python3.7/site-packages/dynesty/sampling.py:238: UserWarning: Random walk proposals appear to be extremely inefficient. Adjusting the scale-factor accordingly.\n",
      "  warnings.warn(\"Random walk proposals appear to be \"\n",
      "96509it [3:52:17, 16.58it/s, batch: 0 | bound: 548 | nc: 25 | ncall: 3940868 | eff(%):  2.448 | loglstar:   -inf < 267.610 <    inf | logz: 175.963 +/-    nan | dlogz:  0.040 >  0.010]   /usr/local/lib/python3.7/site-packages/dynesty/sampling.py:216: UserWarning: Random number generation appears to be extremely inefficient. Adjusting the scale-factor accordingly.\n",
      "  warnings.warn(\"Random number generation appears to be \"\n",
      "/usr/local/lib/python3.7/site-packages/dynesty/sampling.py:238: UserWarning: Random walk proposals appear to be extremely inefficient. Adjusting the scale-factor accordingly.\n",
      "  warnings.warn(\"Random walk proposals appear to be \"\n",
      "96808it [3:54:19, 16.57it/s, batch: 0 | bound: 551 | nc: 25 | ncall: 3991939 | eff(%):  2.424 | loglstar:   -inf < 267.723 <    inf | logz: 175.965 +/-    nan | dlogz:  0.030 >  0.010]   /usr/local/lib/python3.7/site-packages/dynesty/sampling.py:216: UserWarning: Random number generation appears to be extremely inefficient. Adjusting the scale-factor accordingly.\n",
      "  warnings.warn(\"Random number generation appears to be \"\n",
      "/usr/local/lib/python3.7/site-packages/dynesty/sampling.py:238: UserWarning: Random walk proposals appear to be extremely inefficient. Adjusting the scale-factor accordingly.\n",
      "  warnings.warn(\"Random walk proposals appear to be \"\n",
      "97014it [3:56:06, 15.83it/s, batch: 0 | bound: 554 | nc: 25 | ncall: 4036677 | eff(%):  2.403 | loglstar:   -inf < 267.796 <    inf | logz: 175.967 +/-    nan | dlogz:  0.029 >  0.010]   /usr/local/lib/python3.7/site-packages/dynesty/sampling.py:216: UserWarning: Random number generation appears to be extremely inefficient. Adjusting the scale-factor accordingly.\n",
      "  warnings.warn(\"Random number generation appears to be \"\n",
      "/usr/local/lib/python3.7/site-packages/dynesty/sampling.py:238: UserWarning: Random walk proposals appear to be extremely inefficient. Adjusting the scale-factor accordingly.\n",
      "  warnings.warn(\"Random walk proposals appear to be \"\n",
      "97138it [3:58:01, 16.65it/s, batch: 0 | bound: 556 | nc: 25 | ncall: 4085268 | eff(%):  2.377 | loglstar:   -inf < 267.846 <    inf | logz: 175.967 +/-    nan | dlogz:  0.026 >  0.010]   /usr/local/lib/python3.7/site-packages/dynesty/sampling.py:216: UserWarning: Random number generation appears to be extremely inefficient. Adjusting the scale-factor accordingly.\n",
      "  warnings.warn(\"Random number generation appears to be \"\n",
      "/usr/local/lib/python3.7/site-packages/dynesty/sampling.py:238: UserWarning: Random walk proposals appear to be extremely inefficient. Adjusting the scale-factor accordingly.\n",
      "  warnings.warn(\"Random walk proposals appear to be \"\n",
      "97526it [4:00:18, 16.56it/s, batch: 0 | bound: 560 | nc: 25 | ncall: 4142755 | eff(%):  2.354 | loglstar:   -inf < 267.973 <    inf | logz: 175.969 +/-    nan | dlogz:  0.018 >  0.010]   /usr/local/lib/python3.7/site-packages/dynesty/sampling.py:216: UserWarning: Random number generation appears to be extremely inefficient. Adjusting the scale-factor accordingly.\n",
      "  warnings.warn(\"Random number generation appears to be \"\n",
      "/usr/local/lib/python3.7/site-packages/dynesty/sampling.py:238: UserWarning: Random walk proposals appear to be extremely inefficient. Adjusting the scale-factor accordingly.\n",
      "  warnings.warn(\"Random walk proposals appear to be \"\n",
      "98056it [4:02:41, 16.24it/s, batch: 0 | bound: 565 | nc: 25 | ncall: 4202806 | eff(%):  2.333 | loglstar:   -inf < 268.141 <    inf | logz: 175.971 +/-    nan | dlogz:  0.010 >  0.010]   /usr/local/lib/python3.7/site-packages/dynesty/sampling.py:216: UserWarning: Random number generation appears to be extremely inefficient. Adjusting the scale-factor accordingly.\n",
      "  warnings.warn(\"Random number generation appears to be \"\n",
      "/usr/local/lib/python3.7/site-packages/dynesty/sampling.py:238: UserWarning: Random walk proposals appear to be extremely inefficient. Adjusting the scale-factor accordingly.\n",
      "  warnings.warn(\"Random walk proposals appear to be \"\n",
      "103403it [4:13:48,  9.72it/s, batch: 2 | bound: 615 | nc: 25 | ncall: 4357045 | eff(%):  2.373 | loglstar: 260.131 < 267.062 < 263.617 | logz: 175.980 +/-    nan | stop:  0.896]          \n"
     ]
    }
   ],
   "source": [
    "results = kepler51.retrieve()"
   ]
  },
  {
   "cell_type": "markdown",
   "metadata": {},
   "source": [
    "Let's see if we reproduce the results from Libby-Roberts et al. (2020):"
   ]
  },
  {
   "cell_type": "code",
   "execution_count": 5,
   "metadata": {},
   "outputs": [
    {
     "name": "stdout",
     "output_type": "stream",
     "text": [
      "Summary (middle 95 percentile): \n",
      "$M_1/M_\\star/3\\times10^{-6}$: $5.810793^{+4.096672}_{-3.676496}$\n",
      "$P_1\\ [\\mathrm{days}]$: $45.154569^{+0.000333}_{-0.000352}$\n",
      "$\\sqrt{e}_1\\cos(\\omega_1)$: $-0.060879^{+0.069008}_{-0.0634}$\n",
      "$\\sqrt{e}_1\\sin(\\omega_1)$: $-0.139774^{+0.082858}_{-0.057323}$\n",
      "$T_{0,1}\\ [\\mathrm{days}]$: $2.110316^{+0.000944}_{-0.00102}$\n",
      "$M_2/M_\\star/3\\times10^{-6}$: $4.443571^{+0.871546}_{-0.758678}$\n",
      "$P_2\\ [\\mathrm{days}]$: $85.317561^{+0.005167}_{-0.005031}$\n",
      "$\\sqrt{e}_2\\cos(\\omega_2)$: $0.057908^{+0.038311}_{-0.076143}$\n",
      "$\\sqrt{e}_2\\sin(\\omega_2)$: $-0.058693^{+0.092786}_{-0.071857}$\n",
      "$T_{0,2}\\ [\\mathrm{days}]$: $53.005658^{+0.005816}_{-0.005257}$\n",
      "$M_3/M_\\star/3\\times10^{-6}$: $5.767087^{+2.150886}_{-1.801322}$\n",
      "$P_3\\ [\\mathrm{days}]$: $130.192643^{+0.004917}_{-0.003749}$\n",
      "$\\sqrt{e}_3\\cos(\\omega_3)$: $0.007374^{+0.059565}_{-0.070856}$\n",
      "$\\sqrt{e}_3\\sin(\\omega_3)$: $-0.052944^{+0.078813}_{-0.062119}$\n",
      "$T_{0,3}\\ [\\mathrm{days}]$: $55.026887^{+0.001529}_{-0.001634}$\n"
     ]
    }
   ],
   "source": [
    "kepler51.posterior_summary()\n",
    "ttvnest.plot_utils.plot_results(kepler51, uncertainty_curves = 100, sim_length = 365.25*10, outname = 'kepler_51')"
   ]
  },
  {
   "cell_type": "markdown",
   "metadata": {},
   "source": [
    "Looks alright! Let's make the suite of dynesty plots as well:"
   ]
  },
  {
   "cell_type": "code",
   "execution_count": 6,
   "metadata": {},
   "outputs": [
    {
     "data": {
      "text/plain": [
       "['kepler_51_cornerplot.png',\n",
       " 'kepler_51_traceplot.png',\n",
       " 'kepler_51_runplot.png']"
      ]
     },
     "execution_count": 6,
     "metadata": {},
     "output_type": "execute_result"
    }
   ],
   "source": [
    "ttvnest.plot_utils.dynesty_plots(kepler51, outname = 'kepler_51')"
   ]
  },
  {
   "cell_type": "markdown",
   "metadata": {},
   "source": [
    "And let's save our work:"
   ]
  },
  {
   "cell_type": "code",
   "execution_count": 7,
   "metadata": {},
   "outputs": [
    {
     "data": {
      "text/plain": [
       "'kepler_51.p'"
      ]
     },
     "execution_count": 7,
     "metadata": {},
     "output_type": "execute_result"
    }
   ],
   "source": [
    "ttvnest.io_utils.save_results(kepler51, outname = 'kepler_51.p')"
   ]
  }
 ],
 "metadata": {
  "kernelspec": {
   "display_name": "Python 3",
   "language": "python",
   "name": "python3"
  },
  "language_info": {
   "codemirror_mode": {
    "name": "ipython",
    "version": 3
   },
   "file_extension": ".py",
   "mimetype": "text/x-python",
   "name": "python",
   "nbconvert_exporter": "python",
   "pygments_lexer": "ipython3",
   "version": "3.7.0"
  }
 },
 "nbformat": 4,
 "nbformat_minor": 2
}
