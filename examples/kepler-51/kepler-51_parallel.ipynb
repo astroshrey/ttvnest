{
 "cells": [
  {
   "cell_type": "markdown",
   "metadata": {},
   "source": [
    "# TTV Retrieval for Kepler-51\n",
    "\n",
    "This notebook is the exact same as 'kepler-51.ipynb', but here we're testing the use of parallel proccessing (through dynesty).\n",
    "\n",
    "In this notebook, we will perform a dynamical retrieval for Kepler-51 = KOI-620. This is a system with three \"super-puffs,\" planets with anomalously small densities, first analyzed by Masuda (2014). Hopefully, a three-planet system won't be too complex for us to handle. First, let's import packages and import data from the latest analysis of this system by Libby-Roberts et al. (2020):"
   ]
  },
  {
   "cell_type": "code",
   "execution_count": 1,
   "metadata": {},
   "outputs": [],
   "source": [
    "%matplotlib inline\n",
    "import ttvnest\n",
    "import numpy as np\n",
    "from multiprocess import Pool\n",
    "\n",
    "data = []\n",
    "errs = []\n",
    "epochs = []\n",
    "\n",
    "#reading in from Libby-Roberts+20\n",
    "fnames = ['k51b.txt', 'k51c.txt', 'k51d.txt']\n",
    "def read_data(fname):\n",
    "    dat = np.loadtxt(fname, skiprows = 5)\n",
    "    tempdat = np.array(dat[:,1], dtype = 'float')\n",
    "    tempep = np.array(dat[:,0], dtype = 'int')\n",
    "    temperr = np.maximum(np.array(dat[:,2], dtype = 'float'), np.array(dat[:,3], dtype = 'float'))\n",
    "    return tempdat, temperr, tempep\n",
    "\n",
    "for fname in fnames:\n",
    "    a, b, c = read_data(fname)\n",
    "    data.append(a)\n",
    "    errs.append(b)\n",
    "    epochs.append(c)\n",
    "    \n",
    "epochs[1] += 1 #first transit of K51c was not observed"
   ]
  },
  {
   "cell_type": "markdown",
   "metadata": {},
   "source": [
    "Let's set up the ttvnest system:"
   ]
  },
  {
   "cell_type": "code",
   "execution_count": 2,
   "metadata": {},
   "outputs": [
    {
     "name": "stdout",
     "output_type": "stream",
     "text": [
      "Simulation start/reference time:  157.0\n",
      "ttvnest timestep:  1.8059321200000003\n",
      "Simulation length:  2791.0\n",
      "Simulation end time:  2948.0\n"
     ]
    }
   ],
   "source": [
    "kepler51_b = ttvnest.TTVPlanet(data[0], errs[0], epochs[0], \n",
    "                               mass_prior = ('Uniform', 0, 100),\n",
    "                               period_prior = ('Uniform', 45.155503 - 100*0.000072, 45.155503 + 100*0.000072),\n",
    "                               t0_prior = ('Uniform', (data[0][0] - epochs[0][0]*45.155503) - 100*errs[0][0],\n",
    "                                          (data[0][0] - epochs[0][0]*45.155503) + 100*errs[0][0])\n",
    "                              )\n",
    "\n",
    "kepler51_c = ttvnest.TTVPlanet(data[1], errs[1], epochs[1], \n",
    "                               mass_prior = ('Uniform', 0, 100), \n",
    "                               period_prior = ('Uniform', 85.31287 - 100*0.00096, 85.31287 + 100*0.00096),\n",
    "                               t0_prior = ('Uniform', (data[1][0] - epochs[1][0]*85.31287) - 100*errs[1][0],\n",
    "                                          (data[1][0] - epochs[1][0]*85.31287) + 100*errs[1][0])\n",
    "                              )\n",
    "\n",
    "kepler51_d = ttvnest.TTVPlanet(data[2], errs[2], epochs[2], \n",
    "                               mass_prior = ('Uniform', 0, 100), \n",
    "                               period_prior = ('Uniform', 130.1831 - 100*0.00033, 130.1831 + 100*0.00033),\n",
    "                               t0_prior = ('Uniform', (data[2][0] - epochs[2][0]*130.1831) - 100*errs[2][0],\n",
    "                               (data[2][0] - epochs[2][0]*130.1831) + 100*errs[2][0])\n",
    "                              )\n",
    "\n",
    "kepler51 = ttvnest.TTVSystem(kepler51_b, kepler51_c, kepler51_d)"
   ]
  },
  {
   "cell_type": "markdown",
   "metadata": {},
   "source": [
    "Before retrieval, let's plot the data alone to see what they look like: "
   ]
  },
  {
   "cell_type": "code",
   "execution_count": 3,
   "metadata": {},
   "outputs": [
    {
     "data": {
      "image/png": "[encoded data removed]",
      "text/plain": [
       "<Figure size 864x576 with 1 Axes>"
      ]
     },
     "metadata": {},
     "output_type": "display_data"
    },
    {
     "data": {
      "image/png": "[encoded data removed]",
      "text/plain": [
       "<Figure size 864x576 with 1 Axes>"
      ]
     },
     "metadata": {},
     "output_type": "display_data"
    },
    {
     "data": {
      "image/png": "[encoded data removed]",
      "text/plain": [
       "<Figure size 864x576 with 1 Axes>"
      ]
     },
     "metadata": {},
     "output_type": "display_data"
    }
   ],
   "source": [
    "ttvnest.plot_utils.plot_ttv_data(kepler51)"
   ]
  },
  {
   "cell_type": "markdown",
   "metadata": {},
   "source": [
    "Clear, anticorrelated signals! Now let's try to model it with ttvnest."
   ]
  },
  {
   "cell_type": "code",
   "execution_count": 4,
   "metadata": {},
   "outputs": [
    {
     "name": "stderr",
     "output_type": "stream",
     "text": [
      "36144it [32:37,  2.58s/it, batch: 0 | bound: 0 | nc: 739 | ncall: 361026 | eff(%):  9.984 | loglstar:   -inf <   -inf <    inf | logz:   -inf +/-    nan | dlogz:    inf >  0.010] /usr/local/lib/python3.7/site-packages/dynesty/sampling.py:216: UserWarning: Random number generation appears to be extremely inefficient. Adjusting the scale-factor accordingly.\n",
      "  warnings.warn(\"Random number generation appears to be \"\n",
      "37337it [33:18, 30.18it/s, batch: 0 | bound: 11 | nc: 25 | ncall: 392518 | eff(%):  9.488 | loglstar:   -inf <   -inf <    inf | logz:   -inf +/-    nan | dlogz:    inf >  0.010]/usr/local/lib/python3.7/site-packages/dynesty/sampling.py:238: UserWarning: Random walk proposals appear to be extremely inefficient. Adjusting the scale-factor accordingly.\n",
      "  warnings.warn(\"Random walk proposals appear to be \"\n",
      "/usr/local/lib/python3.7/site-packages/dynesty/sampling.py:216: UserWarning: Random number generation appears to be extremely inefficient. Adjusting the scale-factor accordingly.\n",
      "  warnings.warn(\"Random number generation appears to be \"\n",
      "42774it [36:59, 29.82it/s, batch: 0 | bound: 54 | nc: 25 | ncall: 544019 | eff(%):  7.848 | loglstar:   -inf < -204389.716 <    inf | logz: -204440.069 +/-    nan | dlogz: 188436.984 >  0.010] /usr/local/lib/python3.7/site-packages/dynesty/sampling.py:238: UserWarning: Random walk proposals appear to be extremely inefficient. Adjusting the scale-factor accordingly.\n",
      "  warnings.warn(\"Random walk proposals appear to be \"\n",
      "48582it [40:44, 27.83it/s, batch: 0 | bound: 97 | nc: 25 | ncall: 699402 | eff(%):  6.936 | loglstar:   -inf < -25500.341 <    inf | logz: -25556.468 +/-    nan | dlogz: 22807.009 >  0.010]    /usr/local/lib/python3.7/site-packages/dynesty/sampling.py:238: UserWarning: Random walk proposals appear to be extremely inefficient. Adjusting the scale-factor accordingly.\n",
      "  warnings.warn(\"Random walk proposals appear to be \"\n",
      "/usr/local/lib/python3.7/site-packages/dynesty/sampling.py:216: UserWarning: Random number generation appears to be extremely inefficient. Adjusting the scale-factor accordingly.\n",
      "  warnings.warn(\"Random number generation appears to be \"\n",
      "53912it [44:09, 29.19it/s, batch: 0 | bound: 140 | nc: 25 | ncall: 840881 | eff(%):  6.404 | loglstar:   -inf < -6240.277 <    inf | logz: -6301.548 +/-    nan | dlogz: 5170.118 >  0.010]    /usr/local/lib/python3.7/site-packages/dynesty/sampling.py:238: UserWarning: Random walk proposals appear to be extremely inefficient. Adjusting the scale-factor accordingly.\n",
      "  warnings.warn(\"Random walk proposals appear to be \"\n",
      "58571it [47:28, 30.97it/s, batch: 0 | bound: 177 | nc: 25 | ncall: 971602 | eff(%):  6.022 | loglstar:   -inf < -1871.962 <    inf | logz: -1935.909 +/-    nan | dlogz: 1436.817 >  0.010]  /usr/local/lib/python3.7/site-packages/dynesty/sampling.py:216: UserWarning: Random number generation appears to be extremely inefficient. Adjusting the scale-factor accordingly.\n",
      "  warnings.warn(\"Random number generation appears to be \"\n",
      "105112it [3:24:45,  7.85it/s, batch: 2 | bound: 716 | nc: 25 | ncall: 6761474 | eff(%):  1.555 | loglstar: 261.588 < 268.422 < 264.506 | logz: 173.651 +/-    nan | stop:  0.983]             \n"
     ]
    }
   ],
   "source": [
    "size = 4\n",
    "with Pool(size) as executor:\n",
    "    results = kepler51.retrieve(pool = executor, queue_size = size)"
   ]
  },
  {
   "cell_type": "markdown",
   "metadata": {},
   "source": [
    "Let's see if we reproduce the results from Libby-Roberts et al. (2020):"
   ]
  },
  {
   "cell_type": "code",
   "execution_count": 5,
   "metadata": {},
   "outputs": [
    {
     "name": "stdout",
     "output_type": "stream",
     "text": [
      "Summary (middle 95 percentile): \n",
      "$M_1/M_\\star/3\\times10^{-6}$: $5.227215^{+2.37266}_{-2.313988}$\n",
      "$P_1\\ [\\mathrm{days}]$: $45.154336^{+0.000496}_{-0.000175}$\n",
      "$\\sqrt{e}_1\\cos(\\omega_1)$: $-0.105913^{+0.083384}_{-0.027976}$\n",
      "$\\sqrt{e}_1\\sin(\\omega_1)$: $-0.100796^{+0.045266}_{-0.050439}$\n",
      "$T_{0,1}\\ [\\mathrm{days}]$: $2.110123^{+0.000964}_{-0.00083}$\n",
      "$M_2/M_\\star/3\\times10^{-6}$: $4.727099^{+0.589972}_{-0.634683}$\n",
      "$P_2\\ [\\mathrm{days}]$: $85.31681^{+0.002844}_{-0.002991}$\n",
      "$\\sqrt{e}_2\\cos(\\omega_2)$: $0.052245^{+0.02503}_{-0.091323}$\n",
      "$\\sqrt{e}_2\\sin(\\omega_2)$: $-0.038968^{+0.065169}_{-0.029758}$\n",
      "$T_{0,2}\\ [\\mathrm{days}]$: $53.00747^{+0.004918}_{-0.004493}$\n",
      "$M_3/M_\\star/3\\times10^{-6}$: $6.216251^{+1.887798}_{-1.639707}$\n",
      "$P_3\\ [\\mathrm{days}]$: $130.192759^{+0.002458}_{-0.002536}$\n",
      "$\\sqrt{e}_3\\cos(\\omega_3)$: $-0.005655^{+0.044567}_{-0.061271}$\n",
      "$\\sqrt{e}_3\\sin(\\omega_3)$: $-0.029765^{+0.072797}_{-0.028185}$\n",
      "$T_{0,3}\\ [\\mathrm{days}]$: $55.026515^{+0.00146}_{-0.001242}$\n"
     ]
    }
   ],
   "source": [
    "kepler51.posterior_summary()\n",
    "ttvnest.plot_utils.plot_results(kepler51, uncertainty_curves = 100, sim_length = 365.25*10, outname = 'kepler_51_parallel')"
   ]
  },
  {
   "cell_type": "markdown",
   "metadata": {},
   "source": [
    "Looks alright! Let's make the suite of dynesty plots as well:"
   ]
  },
  {
   "cell_type": "code",
   "execution_count": 6,
   "metadata": {},
   "outputs": [
    {
     "data": {
      "text/plain": [
       "['kepler_51_parallel_cornerplot.png',\n",
       " 'kepler_51_parallel_traceplot.png',\n",
       " 'kepler_51_parallel_runplot.png']"
      ]
     },
     "execution_count": 6,
     "metadata": {},
     "output_type": "execute_result"
    }
   ],
   "source": [
    "ttvnest.plot_utils.dynesty_plots(kepler51, outname = 'kepler_51_parallel')"
   ]
  },
  {
   "cell_type": "markdown",
   "metadata": {},
   "source": [
    "And let's save our work:"
   ]
  },
  {
   "cell_type": "code",
   "execution_count": 7,
   "metadata": {},
   "outputs": [
    {
     "data": {
      "text/plain": [
       "'kepler_51_parallel.p'"
      ]
     },
     "execution_count": 7,
     "metadata": {},
     "output_type": "execute_result"
    }
   ],
   "source": [
    "ttvnest.io_utils.save_results(kepler51, outname = 'kepler_51_parallel.p')"
   ]
  }
 ],
 "metadata": {
  "kernelspec": {
   "display_name": "Python 3",
   "language": "python",
   "name": "python3"
  },
  "language_info": {
   "codemirror_mode": {
    "name": "ipython",
    "version": 3
   },
   "file_extension": ".py",
   "mimetype": "text/x-python",
   "name": "python",
   "nbconvert_exporter": "python",
   "pygments_lexer": "ipython3",
   "version": "3.7.0"
  }
 },
 "nbformat": 4,
 "nbformat_minor": 2
}
