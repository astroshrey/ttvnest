{
 "cells": [
  {
   "cell_type": "markdown",
   "metadata": {},
   "source": [
    "# Loading saved results for Kepler-51\n",
    "\n",
    "Just a quick demo of how to load a system on which a retrieval has already been run."
   ]
  },
  {
   "cell_type": "code",
   "execution_count": 1,
   "metadata": {},
   "outputs": [],
   "source": [
    "%matplotlib inline\n",
    "import ttvnest\n",
    "import numpy as np\n",
    "\n",
    "kepler51 = ttvnest.io_utils.load_results('kepler_51.p')"
   ]
  },
  {
   "cell_type": "markdown",
   "metadata": {},
   "source": [
    "Let's check out the posterior summary and make plots:"
   ]
  },
  {
   "cell_type": "code",
   "execution_count": 2,
   "metadata": {},
   "outputs": [
    {
     "name": "stdout",
     "output_type": "stream",
     "text": [
      "Summary (middle 95 percentile): \n",
      "$M_1/M_\\star/3\\times10^{-6}$: $3.219716^{+5.213158}_{-1.982468}$\n",
      "$P_1\\ [\\mathrm{days}]$: $45.154229^{+0.000411}_{-0.000594}$\n",
      "$\\sqrt{e}_1\\cos(\\omega_1)$: $-0.117753^{+0.064237}_{-0.056213}$\n",
      "$\\sqrt{e}_1\\sin(\\omega_1)$: $-0.153206^{+0.070342}_{-0.073162}$\n",
      "$T_{0,1}\\ [\\mathrm{days}]$: $2.110637^{+0.001006}_{-0.000995}$\n",
      "$M_2/M_\\star/3\\times10^{-6}$: $3.984607^{+0.924906}_{-1.011757}$\n",
      "$P_2\\ [\\mathrm{days}]$: $85.315978^{+0.00557}_{-0.004138}$\n",
      "$\\sqrt{e}_2\\cos(\\omega_2)$: $0.036255^{+0.080888}_{-0.102779}$\n",
      "$\\sqrt{e}_2\\sin(\\omega_2)$: $-0.00147^{+0.06414}_{-0.088303}$\n",
      "$T_{0,2}\\ [\\mathrm{days}]$: $53.006988^{+0.005602}_{-0.005964}$\n",
      "$M_3/M_\\star/3\\times10^{-6}$: $5.477812^{+1.995634}_{-1.950415}$\n",
      "$P_3\\ [\\mathrm{days}]$: $130.189872^{+0.006165}_{-0.002534}$\n",
      "$\\sqrt{e}_3\\cos(\\omega_3)$: $-0.036909^{+0.114925}_{-0.049491}$\n",
      "$\\sqrt{e}_3\\sin(\\omega_3)$: $0.004252^{+0.049712}_{-0.100309}$\n",
      "$T_{0,3}\\ [\\mathrm{days}]$: $55.025755^{+0.001881}_{-0.00137}$\n"
     ]
    }
   ],
   "source": [
    "kepler51.posterior_summary()\n",
    "ttvnest.plot_utils.plot_results(kepler51, uncertainty_curves = 100, sim_length = 365.25*10, outname = 'kepler_51')"
   ]
  },
  {
   "cell_type": "markdown",
   "metadata": {},
   "source": [
    "Looks alright! Let's make the suite of dynesty plots as well. Sometimes runplot will fail due to an issue (that I believe is internal to dynesty) in how axis limits are set for large dynamic ranges in the evidence)."
   ]
  },
  {
   "cell_type": "code",
   "execution_count": 3,
   "metadata": {},
   "outputs": [
    {
     "name": "stdout",
     "output_type": "stream",
     "text": [
      "Axis limits error on runplot; internal to dynesty\n"
     ]
    },
    {
     "name": "stderr",
     "output_type": "stream",
     "text": [
      "/usr/local/lib/python3.7/site-packages/dynesty/plotting.py:203: RuntimeWarning: overflow encountered in exp\n",
      "  zspan = (0., 1.05 * np.exp(logz[-1] + 3. * logzerr[-1]))\n"
     ]
    }
   ],
   "source": [
    "ttvnest.plot_utils.dynesty_plots(kepler51, outname = 'kepler_51')"
   ]
  }
 ],
 "metadata": {
  "kernelspec": {
   "display_name": "Python 3",
   "language": "python",
   "name": "python3"
  },
  "language_info": {
   "codemirror_mode": {
    "name": "ipython",
    "version": 3
   },
   "file_extension": ".py",
   "mimetype": "text/x-python",
   "name": "python",
   "nbconvert_exporter": "python",
   "pygments_lexer": "ipython3",
   "version": "3.7.0"
  }
 },
 "nbformat": 4,
 "nbformat_minor": 2
}
